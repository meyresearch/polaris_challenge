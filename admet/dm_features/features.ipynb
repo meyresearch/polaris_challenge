{
 "cells": [
  {
   "cell_type": "code",
   "execution_count": 42,
   "metadata": {},
   "outputs": [],
   "source": [
    "import pandas as pd\n",
    "import polaris as po\n",
    "import seaborn as sns\n",
    "import yellowbrick\n",
    "import rdkit.Chem as Chem\n",
    "from admet_ai import ADMETModel\n",
    "import numpy as np\n",
    "import datamol as dm\n",
    "import matplotlib.pyplot as plt"
   ]
  },
  {
   "cell_type": "markdown",
   "metadata": {},
   "source": [
    "### Add in simple DM features "
   ]
  },
  {
   "cell_type": "code",
   "execution_count": 43,
   "metadata": {},
   "outputs": [],
   "source": [
    "ds_path = 'train_admet_all'\n",
    "\n",
    "\n",
    "df = pd.read_csv(f'../data/{ds_path}.csv')\n",
    "train_ix = np.load('../data/train_split2_idx.npy')\n",
    "df.loc[:, 'split'] = ['train' if x else 'val' for x in df.index.isin(train_ix)]"
   ]
  },
  {
   "cell_type": "markdown",
   "metadata": {},
   "source": [
    "### Add in simple features from RDKit "
   ]
  },
  {
   "cell_type": "code",
   "execution_count": 44,
   "metadata": {},
   "outputs": [
    {
     "name": "stderr",
     "output_type": "stream",
     "text": [
      "100%|██████████| 434/434 [00:06<00:00, 63.56it/s] \n"
     ]
    },
    {
     "data": {
      "text/plain": [
       "(434, 41)"
      ]
     },
     "execution_count": 44,
     "metadata": {},
     "output_type": "execute_result"
    }
   ],
   "source": [
    "def _preprocess(i, row):\n",
    "\n",
    "    dm.disable_rdkit_log()\n",
    "\n",
    "    mol = dm.to_mol(row['CXSMILES'], ordered=True)\n",
    "    mol = dm.fix_mol(mol)\n",
    "    mol = dm.sanitize_mol(mol, sanifix=True, charge_neutral=False)\n",
    "    mol = dm.standardize_mol(\n",
    "        mol, disconnect_metals=False, normalize=True, reionize=True, uncharge=False, stereo=True\n",
    "    )\n",
    "    feats = dm.descriptors.compute_many_descriptors(mol)\n",
    "    feats['Molecule Name'] = row['Molecule Name']\n",
    "    return feats\n",
    "    \n",
    "\n",
    "feats = dm.parallelized(_preprocess, df.iterrows(),arg_type=\"args\", progress=True, total=len(df))\n",
    "feats = pd.DataFrame(feats)\n",
    "\n",
    "df_all = pd.merge(left=df, right=feats, on='Molecule Name')\n",
    "df_all.shape\n"
   ]
  },
  {
   "cell_type": "code",
   "execution_count": 45,
   "metadata": {},
   "outputs": [
    {
     "data": {
      "text/html": [
       "<div>\n",
       "<style scoped>\n",
       "    .dataframe tbody tr th:only-of-type {\n",
       "        vertical-align: middle;\n",
       "    }\n",
       "\n",
       "    .dataframe tbody tr th {\n",
       "        vertical-align: top;\n",
       "    }\n",
       "\n",
       "    .dataframe thead th {\n",
       "        text-align: right;\n",
       "    }\n",
       "</style>\n",
       "<table border=\"1\" class=\"dataframe\">\n",
       "  <thead>\n",
       "    <tr style=\"text-align: right;\">\n",
       "      <th></th>\n",
       "      <th>CXSMILES</th>\n",
       "      <th>HLM</th>\n",
       "      <th>KSOL</th>\n",
       "      <th>LogD</th>\n",
       "      <th>MDR1-MDCKII</th>\n",
       "      <th>MLM</th>\n",
       "      <th>Molecule Name</th>\n",
       "      <th>n_missing</th>\n",
       "      <th>in-vitro_MLM_bienta: CLint (Num) (uL/min/mg)</th>\n",
       "      <th>in-vitro_MLM_bienta: CLint (Mod)</th>\n",
       "      <th>...</th>\n",
       "      <th>sas</th>\n",
       "      <th>n_aliphatic_carbocycles</th>\n",
       "      <th>n_aliphatic_heterocyles</th>\n",
       "      <th>n_aliphatic_rings</th>\n",
       "      <th>n_aromatic_carbocycles</th>\n",
       "      <th>n_aromatic_heterocyles</th>\n",
       "      <th>n_aromatic_rings</th>\n",
       "      <th>n_saturated_carbocycles</th>\n",
       "      <th>n_saturated_heterocyles</th>\n",
       "      <th>n_saturated_rings</th>\n",
       "    </tr>\n",
       "  </thead>\n",
       "  <tbody>\n",
       "    <tr>\n",
       "      <th>0</th>\n",
       "      <td>COC1=CC=CC(Cl)=C1NC(=O)N1CCC[C@H](C(N)=O)C1 |a...</td>\n",
       "      <td>10.0</td>\n",
       "      <td>400.0</td>\n",
       "      <td>0.3</td>\n",
       "      <td>2.0</td>\n",
       "      <td>10.0</td>\n",
       "      <td>ASAP-0032437</td>\n",
       "      <td>3</td>\n",
       "      <td>10.0</td>\n",
       "      <td>&lt;</td>\n",
       "      <td>...</td>\n",
       "      <td>2.548208</td>\n",
       "      <td>0</td>\n",
       "      <td>1</td>\n",
       "      <td>1</td>\n",
       "      <td>1</td>\n",
       "      <td>0</td>\n",
       "      <td>1</td>\n",
       "      <td>0</td>\n",
       "      <td>1</td>\n",
       "      <td>1</td>\n",
       "    </tr>\n",
       "    <tr>\n",
       "      <th>1</th>\n",
       "      <td>O=C(NCC(F)F)[C@H](NC1=CC2=C(C=C1Br)CNC2)C1=CC(...</td>\n",
       "      <td>NaN</td>\n",
       "      <td>333.0</td>\n",
       "      <td>2.9</td>\n",
       "      <td>0.2</td>\n",
       "      <td>NaN</td>\n",
       "      <td>ASAP-0031915</td>\n",
       "      <td>2</td>\n",
       "      <td>NaN</td>\n",
       "      <td>NaN</td>\n",
       "      <td>...</td>\n",
       "      <td>3.486159</td>\n",
       "      <td>1</td>\n",
       "      <td>1</td>\n",
       "      <td>2</td>\n",
       "      <td>2</td>\n",
       "      <td>0</td>\n",
       "      <td>2</td>\n",
       "      <td>1</td>\n",
       "      <td>0</td>\n",
       "      <td>1</td>\n",
       "    </tr>\n",
       "    <tr>\n",
       "      <th>2</th>\n",
       "      <td>O=C(NCC(F)F)[C@H](NC1=CC=C2CNCC2=C1)C1=CC(Br)=...</td>\n",
       "      <td>NaN</td>\n",
       "      <td>400.0</td>\n",
       "      <td>0.4</td>\n",
       "      <td>0.5</td>\n",
       "      <td>NaN</td>\n",
       "      <td>ASAP-0031884</td>\n",
       "      <td>3</td>\n",
       "      <td>NaN</td>\n",
       "      <td>NaN</td>\n",
       "      <td>...</td>\n",
       "      <td>3.608114</td>\n",
       "      <td>0</td>\n",
       "      <td>1</td>\n",
       "      <td>1</td>\n",
       "      <td>2</td>\n",
       "      <td>1</td>\n",
       "      <td>3</td>\n",
       "      <td>0</td>\n",
       "      <td>0</td>\n",
       "      <td>0</td>\n",
       "    </tr>\n",
       "    <tr>\n",
       "      <th>3</th>\n",
       "      <td>NC(=O)[C@H]1CCCN(C(=O)CC2=CC=CC3=C2C=CO3)C1 |&amp;...</td>\n",
       "      <td>10.0</td>\n",
       "      <td>376.0</td>\n",
       "      <td>1.0</td>\n",
       "      <td>8.5</td>\n",
       "      <td>10.0</td>\n",
       "      <td>ASAP-0031848</td>\n",
       "      <td>2</td>\n",
       "      <td>10.0</td>\n",
       "      <td>&lt;</td>\n",
       "      <td>...</td>\n",
       "      <td>2.646367</td>\n",
       "      <td>0</td>\n",
       "      <td>1</td>\n",
       "      <td>1</td>\n",
       "      <td>1</td>\n",
       "      <td>1</td>\n",
       "      <td>2</td>\n",
       "      <td>0</td>\n",
       "      <td>1</td>\n",
       "      <td>1</td>\n",
       "    </tr>\n",
       "    <tr>\n",
       "      <th>4</th>\n",
       "      <td>CC1=CC(CC(=O)N2CCC[C@H](C(N)=O)C2)=CC=N1 |&amp;1:11|</td>\n",
       "      <td>10.0</td>\n",
       "      <td>375.0</td>\n",
       "      <td>-0.3</td>\n",
       "      <td>0.9</td>\n",
       "      <td>10.0</td>\n",
       "      <td>ASAP-0031813</td>\n",
       "      <td>2</td>\n",
       "      <td>10.0</td>\n",
       "      <td>&lt;</td>\n",
       "      <td>...</td>\n",
       "      <td>2.587385</td>\n",
       "      <td>0</td>\n",
       "      <td>1</td>\n",
       "      <td>1</td>\n",
       "      <td>0</td>\n",
       "      <td>1</td>\n",
       "      <td>1</td>\n",
       "      <td>0</td>\n",
       "      <td>1</td>\n",
       "      <td>1</td>\n",
       "    </tr>\n",
       "  </tbody>\n",
       "</table>\n",
       "<p>5 rows × 41 columns</p>\n",
       "</div>"
      ],
      "text/plain": [
       "                                            CXSMILES   HLM   KSOL  LogD  \\\n",
       "0  COC1=CC=CC(Cl)=C1NC(=O)N1CCC[C@H](C(N)=O)C1 |a...  10.0  400.0   0.3   \n",
       "1  O=C(NCC(F)F)[C@H](NC1=CC2=C(C=C1Br)CNC2)C1=CC(...   NaN  333.0   2.9   \n",
       "2  O=C(NCC(F)F)[C@H](NC1=CC=C2CNCC2=C1)C1=CC(Br)=...   NaN  400.0   0.4   \n",
       "3  NC(=O)[C@H]1CCCN(C(=O)CC2=CC=CC3=C2C=CO3)C1 |&...  10.0  376.0   1.0   \n",
       "4   CC1=CC(CC(=O)N2CCC[C@H](C(N)=O)C2)=CC=N1 |&1:11|  10.0  375.0  -0.3   \n",
       "\n",
       "   MDR1-MDCKII   MLM Molecule Name  n_missing  \\\n",
       "0          2.0  10.0  ASAP-0032437          3   \n",
       "1          0.2   NaN  ASAP-0031915          2   \n",
       "2          0.5   NaN  ASAP-0031884          3   \n",
       "3          8.5  10.0  ASAP-0031848          2   \n",
       "4          0.9  10.0  ASAP-0031813          2   \n",
       "\n",
       "   in-vitro_MLM_bienta: CLint (Num) (uL/min/mg)  \\\n",
       "0                                          10.0   \n",
       "1                                           NaN   \n",
       "2                                           NaN   \n",
       "3                                          10.0   \n",
       "4                                          10.0   \n",
       "\n",
       "  in-vitro_MLM_bienta: CLint (Mod)  ...       sas n_aliphatic_carbocycles  \\\n",
       "0                                <  ...  2.548208                       0   \n",
       "1                              NaN  ...  3.486159                       1   \n",
       "2                              NaN  ...  3.608114                       0   \n",
       "3                                <  ...  2.646367                       0   \n",
       "4                                <  ...  2.587385                       0   \n",
       "\n",
       "   n_aliphatic_heterocyles n_aliphatic_rings  n_aromatic_carbocycles  \\\n",
       "0                        1                 1                       1   \n",
       "1                        1                 2                       2   \n",
       "2                        1                 1                       2   \n",
       "3                        1                 1                       1   \n",
       "4                        1                 1                       0   \n",
       "\n",
       "  n_aromatic_heterocyles  n_aromatic_rings  n_saturated_carbocycles  \\\n",
       "0                      0                 1                        0   \n",
       "1                      0                 2                        1   \n",
       "2                      1                 3                        0   \n",
       "3                      1                 2                        0   \n",
       "4                      1                 1                        0   \n",
       "\n",
       "  n_saturated_heterocyles  n_saturated_rings  \n",
       "0                       1                  1  \n",
       "1                       0                  1  \n",
       "2                       0                  0  \n",
       "3                       1                  1  \n",
       "4                       1                  1  \n",
       "\n",
       "[5 rows x 41 columns]"
      ]
     },
     "execution_count": 45,
     "metadata": {},
     "output_type": "execute_result"
    }
   ],
   "source": [
    "df_all.head()"
   ]
  },
  {
   "cell_type": "markdown",
   "metadata": {},
   "source": [
    "##  Scale Training targets"
   ]
  },
  {
   "cell_type": "code",
   "execution_count": 46,
   "metadata": {},
   "outputs": [
    {
     "data": {
      "text/plain": [
       "(434, 45)"
      ]
     },
     "execution_count": 46,
     "metadata": {},
     "output_type": "execute_result"
    }
   ],
   "source": [
    "epsilon = 1e-8\n",
    "for col in ['MLM', 'HLM', 'KSOL', 'MDR1-MDCKII']: \n",
    "    df_all.loc[:, f\"Log{col}\"] = np.log10(np.clip(df_all[col], a_min=epsilon, a_max=None))\n",
    "\n",
    "target_cols = list(df_all.filter(regex='^Log').columns)\n",
    "df_all.shape"
   ]
  },
  {
   "cell_type": "markdown",
   "metadata": {},
   "source": [
    "## Feature selection"
   ]
  },
  {
   "cell_type": "code",
   "execution_count": 47,
   "metadata": {},
   "outputs": [
    {
     "data": {
      "text/plain": [
       "['clogp',\n",
       " 'fsp3',\n",
       " 'mw',\n",
       " 'n_aliphatic_carbocycles',\n",
       " 'n_aliphatic_heterocyles',\n",
       " 'n_aliphatic_rings',\n",
       " 'n_aromatic_carbocycles',\n",
       " 'n_aromatic_heterocyles',\n",
       " 'n_aromatic_rings',\n",
       " 'n_heavy_atoms',\n",
       " 'n_hetero_atoms',\n",
       " 'n_lipinski_hba',\n",
       " 'n_lipinski_hbd',\n",
       " 'n_rings',\n",
       " 'n_rotatable_bonds',\n",
       " 'n_saturated_carbocycles',\n",
       " 'n_saturated_heterocyles',\n",
       " 'n_saturated_rings',\n",
       " 'qed',\n",
       " 'sas',\n",
       " 'tpsa']"
      ]
     },
     "execution_count": 47,
     "metadata": {},
     "output_type": "execute_result"
    }
   ],
   "source": [
    "X = df_all.loc[:, list(feats.columns.difference(['Molecule Name']))]\n",
    "std = np.std(X.values, axis=0)\n",
    "predictors = list(X.loc[:, std>0].columns)\n",
    "predictors"
   ]
  },
  {
   "cell_type": "code",
   "execution_count": 48,
   "metadata": {},
   "outputs": [],
   "source": [
    "allVars  =['split'] + predictors + target_cols + ['Molecule Name']\n",
    "df_all.loc[:, allVars].to_csv('train_admet_split2_features.csv', index=False)"
   ]
  },
  {
   "cell_type": "code",
   "execution_count": 49,
   "metadata": {},
   "outputs": [
    {
     "name": "stdout",
     "output_type": "stream",
     "text": [
      "allVars <- c('split', 'clogp', 'fsp3', 'mw', 'n_aliphatic_carbocycles', 'n_aliphatic_heterocyles', 'n_aliphatic_rings', 'n_aromatic_carbocycles', 'n_aromatic_heterocyles', 'n_aromatic_rings', 'n_heavy_atoms', 'n_hetero_atoms', 'n_lipinski_hba', 'n_lipinski_hbd', 'n_rings', 'n_rotatable_bonds', 'n_saturated_carbocycles', 'n_saturated_heterocyles', 'n_saturated_rings', 'qed', 'sas', 'tpsa', 'LogD', 'LogMLM', 'LogHLM', 'LogKSOL', 'LogMDR1.MDCKII', 'Molecule.Name')\n",
      "imputeVars <- c('LogD', 'LogMLM', 'LogHLM', 'LogKSOL', 'LogMDR1.MDCKII')\n",
      "nonImputeVars <- c('split', 'Molecule.Name', 'clogp', 'fsp3', 'mw', 'n_aliphatic_carbocycles', 'n_aliphatic_heterocyles', 'n_aliphatic_rings', 'n_aromatic_carbocycles', 'n_aromatic_heterocyles', 'n_aromatic_rings', 'n_heavy_atoms', 'n_hetero_atoms', 'n_lipinski_hba', 'n_lipinski_hbd', 'n_rings', 'n_rotatable_bonds', 'n_saturated_carbocycles', 'n_saturated_heterocyles', 'n_saturated_rings', 'qed', 'sas', 'tpsa')\n",
      "\n",
      "predictors <- c('clogp', 'fsp3', 'mw', 'n_aliphatic_carbocycles', 'n_aliphatic_heterocyles', 'n_aliphatic_rings', 'n_aromatic_carbocycles', 'n_aromatic_heterocyles', 'n_aromatic_rings', 'n_heavy_atoms', 'n_hetero_atoms', 'n_lipinski_hba', 'n_lipinski_hbd', 'n_rings', 'n_rotatable_bonds', 'n_saturated_carbocycles', 'n_saturated_heterocyles', 'n_saturated_rings', 'qed', 'sas', 'tpsa')\n"
     ]
    }
   ],
   "source": [
    "allVars = [x.replace('-', '.') for x in allVars]\n",
    "allVars = [x.replace(' ', '.') for x in allVars]\n",
    "\n",
    "imputeVars = [x.replace('-', '.').replace(' ', '.') for x in target_cols]\n",
    "nonImputeVars = [x.replace('-', '.').replace(' ', '.') for x in ['split', 'Molecule Name'] + predictors] \n",
    "predictors = [x.replace('-', '.').replace(' ', '.') for x in predictors] \n",
    "\n",
    "print(f\"allVars <- c('{\"', '\".join(allVars)}')\")\n",
    "print(f\"imputeVars <- c('{\"', '\".join(imputeVars)}')\")\n",
    "print(f\"nonImputeVars <- c('{\"', '\".join(nonImputeVars)}')\")\n",
    "print()\n",
    "print(f\"predictors <- c('{\"', '\".join(predictors)}')\")"
   ]
  },
  {
   "cell_type": "code",
   "execution_count": null,
   "metadata": {},
   "outputs": [],
   "source": []
  }
 ],
 "metadata": {
  "kernelspec": {
   "display_name": "polaris",
   "language": "python",
   "name": "python3"
  },
  "language_info": {
   "codemirror_mode": {
    "name": "ipython",
    "version": 3
   },
   "file_extension": ".py",
   "mimetype": "text/x-python",
   "name": "python",
   "nbconvert_exporter": "python",
   "pygments_lexer": "ipython3",
   "version": "3.12.8"
  }
 },
 "nbformat": 4,
 "nbformat_minor": 2
}
