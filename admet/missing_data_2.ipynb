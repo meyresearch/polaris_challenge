{
 "cells": [
  {
   "cell_type": "code",
   "execution_count": 1,
   "metadata": {},
   "outputs": [
    {
     "name": "stderr",
     "output_type": "stream",
     "text": [
      "/Users/robertarbon/mamba/envs/polaris/lib/python3.12/site-packages/tqdm/auto.py:21: TqdmWarning: IProgress not found. Please update jupyter and ipywidgets. See https://ipywidgets.readthedocs.io/en/stable/user_install.html\n",
      "  from .autonotebook import tqdm as notebook_tqdm\n"
     ]
    }
   ],
   "source": [
    "import polaris as po\n",
    "import pandas as pd\n",
    "import matplotlib.pyplot as plt\n",
    "import seaborn as sns\n",
    "import sklearn as sk\n",
    "import numpy as np\n",
    "from stepmix.stepmix import StepMix\n",
    "import re\n"
   ]
  },
  {
   "cell_type": "markdown",
   "metadata": {},
   "source": [
    "# ADMET"
   ]
  },
  {
   "cell_type": "markdown",
   "metadata": {},
   "source": [
    "\n",
    "## Summary of missingness"
   ]
  },
  {
   "cell_type": "markdown",
   "metadata": {},
   "source": [
    "Let's first look at the state of the training data and see how many missing there are for each target. "
   ]
  },
  {
   "cell_type": "code",
   "execution_count": 24,
   "metadata": {},
   "outputs": [
    {
     "data": {
      "text/html": [
       "<pre style=\"white-space:pre;overflow-x:auto;line-height:normal;font-family:Menlo,'DejaVu Sans Mono',consolas,'Courier New',monospace\"><span style=\"color: #7fbfbf; text-decoration-color: #7fbfbf\">[2025-02-22 18:17:44] </span><span style=\"color: #000080; text-decoration-color: #000080\">INFO    </span> The version of Polaris that was used to create the artifact <span style=\"font-weight: bold\">(</span><span style=\"color: #008080; text-decoration-color: #008080; font-weight: bold\">0.11</span>.<span style=\"color: #008080; text-decoration-color: #008080; font-weight: bold\">0</span><span style=\"font-weight: bold\">)</span> <a href=\"file:///Users/robertarbon/mamba/envs/polaris/lib/python3.12/site-packages/polaris/_artifact.py\" target=\"_blank\"><span style=\"color: #7f7f7f; text-decoration-color: #7f7f7f\">_artifact.py</span></a><span style=\"color: #7f7f7f; text-decoration-color: #7f7f7f\">:</span><a href=\"file:///Users/robertarbon/mamba/envs/polaris/lib/python3.12/site-packages/polaris/_artifact.py#92\" target=\"_blank\"><span style=\"color: #7f7f7f; text-decoration-color: #7f7f7f\">92</span></a>\n",
       "<span style=\"color: #7fbfbf; text-decoration-color: #7fbfbf\">                      </span>         is different from the currently installed version of Polaris         <span style=\"color: #7f7f7f; text-decoration-color: #7f7f7f\">               </span>\n",
       "<span style=\"color: #7fbfbf; text-decoration-color: #7fbfbf\">                      </span>         <span style=\"font-weight: bold\">(</span><span style=\"color: #008080; text-decoration-color: #008080; font-weight: bold\">0.11</span>.<span style=\"color: #008080; text-decoration-color: #008080; font-weight: bold\">8</span><span style=\"font-weight: bold\">)</span>.                                                            <span style=\"color: #7f7f7f; text-decoration-color: #7f7f7f\">               </span>\n",
       "</pre>\n"
      ],
      "text/plain": [
       "\u001b[2;36m[2025-02-22 18:17:44]\u001b[0m\u001b[2;36m \u001b[0m\u001b[34mINFO    \u001b[0m The version of Polaris that was used to create the artifact \u001b[1m(\u001b[0m\u001b[1;36m0.11\u001b[0m.\u001b[1;36m0\u001b[0m\u001b[1m)\u001b[0m \u001b]8;id=969057;file:///Users/robertarbon/mamba/envs/polaris/lib/python3.12/site-packages/polaris/_artifact.py\u001b\\\u001b[2m_artifact.py\u001b[0m\u001b]8;;\u001b\\\u001b[2m:\u001b[0m\u001b]8;id=671482;file:///Users/robertarbon/mamba/envs/polaris/lib/python3.12/site-packages/polaris/_artifact.py#92\u001b\\\u001b[2m92\u001b[0m\u001b]8;;\u001b\\\n",
       "\u001b[2;36m                      \u001b[0m         is different from the currently installed version of Polaris         \u001b[2m               \u001b[0m\n",
       "\u001b[2;36m                      \u001b[0m         \u001b[1m(\u001b[0m\u001b[1;36m0.11\u001b[0m.\u001b[1;36m8\u001b[0m\u001b[1m)\u001b[0m.                                                            \u001b[2m               \u001b[0m\n"
      ]
     },
     "metadata": {},
     "output_type": "display_data"
    },
    {
     "data": {
      "text/html": [
       "<pre style=\"white-space:pre;overflow-x:auto;line-height:normal;font-family:Menlo,'DejaVu Sans Mono',consolas,'Courier New',monospace\"><span style=\"color: #7fbfbf; text-decoration-color: #7fbfbf\">                      </span><span style=\"color: #808000; text-decoration-color: #808000\">WARNING </span> You're loading data from a remote location. If the dataset is small     <a href=\"file:///Users/robertarbon/mamba/envs/polaris/lib/python3.12/site-packages/polaris/dataset/_base.py\" target=\"_blank\"><span style=\"color: #7f7f7f; text-decoration-color: #7f7f7f\">_base.py</span></a><span style=\"color: #7f7f7f; text-decoration-color: #7f7f7f\">:</span><a href=\"file:///Users/robertarbon/mamba/envs/polaris/lib/python3.12/site-packages/polaris/dataset/_base.py#181\" target=\"_blank\"><span style=\"color: #7f7f7f; text-decoration-color: #7f7f7f\">181</span></a>\n",
       "<span style=\"color: #7fbfbf; text-decoration-color: #7fbfbf\">                      </span>         enough, consider caching the dataset first using                        <span style=\"color: #7f7f7f; text-decoration-color: #7f7f7f\">            </span>\n",
       "<span style=\"color: #7fbfbf; text-decoration-color: #7fbfbf\">                      </span>         <span style=\"color: #800080; text-decoration-color: #800080; font-weight: bold\">CompetitionSpecification.cache</span><span style=\"font-weight: bold\">()</span> for more performant data access.       <span style=\"color: #7f7f7f; text-decoration-color: #7f7f7f\">            </span>\n",
       "</pre>\n"
      ],
      "text/plain": [
       "\u001b[2;36m                     \u001b[0m\u001b[2;36m \u001b[0m\u001b[33mWARNING \u001b[0m You're loading data from a remote location. If the dataset is small     \u001b]8;id=579036;file:///Users/robertarbon/mamba/envs/polaris/lib/python3.12/site-packages/polaris/dataset/_base.py\u001b\\\u001b[2m_base.py\u001b[0m\u001b]8;;\u001b\\\u001b[2m:\u001b[0m\u001b]8;id=928242;file:///Users/robertarbon/mamba/envs/polaris/lib/python3.12/site-packages/polaris/dataset/_base.py#181\u001b\\\u001b[2m181\u001b[0m\u001b]8;;\u001b\\\n",
       "\u001b[2;36m                      \u001b[0m         enough, consider caching the dataset first using                        \u001b[2m            \u001b[0m\n",
       "\u001b[2;36m                      \u001b[0m         \u001b[1;35mCompetitionSpecification.cache\u001b[0m\u001b[1m(\u001b[0m\u001b[1m)\u001b[0m for more performant data access.       \u001b[2m            \u001b[0m\n"
      ]
     },
     "metadata": {},
     "output_type": "display_data"
    },
    {
     "data": {
      "text/html": [
       "<pre style=\"white-space:pre;overflow-x:auto;line-height:normal;font-family:Menlo,'DejaVu Sans Mono',consolas,'Courier New',monospace\">/Users/robertarbon/mamba/envs/polaris/lib/python3.12/site-packages/rich/live.py:231: UserWarning: install \n",
       "\"ipywidgets\" for Jupyter support\n",
       "  warnings.warn('install \"ipywidgets\" for Jupyter support')\n",
       "</pre>\n"
      ],
      "text/plain": [
       "/Users/robertarbon/mamba/envs/polaris/lib/python3.12/site-packages/rich/live.py:231: UserWarning: install \n",
       "\"ipywidgets\" for Jupyter support\n",
       "  warnings.warn('install \"ipywidgets\" for Jupyter support')\n"
      ]
     },
     "metadata": {},
     "output_type": "display_data"
    },
    {
     "data": {
      "text/html": [
       "<pre style=\"white-space:pre;overflow-x:auto;line-height:normal;font-family:Menlo,'DejaVu Sans Mono',consolas,'Courier New',monospace\"><span style=\"color: #7fbfbf; text-decoration-color: #7fbfbf\">[18:17:45] </span><span style=\"color: #008000; text-decoration-color: #008000\">Copying to destination </span>                                                                     <a href=\"file:///Users/robertarbon/mamba/envs/polaris/lib/python3.12/site-packages/polaris/dataset/_base.py\" target=\"_blank\"><span style=\"color: #7f7f7f; text-decoration-color: #7f7f7f\">_base.py</span></a><span style=\"color: #7f7f7f; text-decoration-color: #7f7f7f\">:</span><a href=\"file:///Users/robertarbon/mamba/envs/polaris/lib/python3.12/site-packages/polaris/dataset/_base.py#380\" target=\"_blank\"><span style=\"color: #7f7f7f; text-decoration-color: #7f7f7f\">380</span></a>\n",
       "<span style=\"color: #7fbfbf; text-decoration-color: #7fbfbf\">           </span><span style=\"color: #008000; text-decoration-color: #008000\">/Users/robertarbon/Library/Caches/polaris/datasets/0e9f9d49-cb35-46ed-a664-583ba91ae450/dat</span> <span style=\"color: #7f7f7f; text-decoration-color: #7f7f7f\">            </span>\n",
       "<span style=\"color: #7fbfbf; text-decoration-color: #7fbfbf\">           </span><span style=\"color: #008000; text-decoration-color: #008000\">a.zarr</span>                                                                                      <span style=\"color: #7f7f7f; text-decoration-color: #7f7f7f\">            </span>\n",
       "</pre>\n"
      ],
      "text/plain": [
       "\u001b[2;36m[18:17:45]\u001b[0m\u001b[2;36m \u001b[0m\u001b[32mCopying to destination \u001b[0m                                                                     \u001b]8;id=902186;file:///Users/robertarbon/mamba/envs/polaris/lib/python3.12/site-packages/polaris/dataset/_base.py\u001b\\\u001b[2m_base.py\u001b[0m\u001b]8;;\u001b\\\u001b[2m:\u001b[0m\u001b]8;id=188698;file:///Users/robertarbon/mamba/envs/polaris/lib/python3.12/site-packages/polaris/dataset/_base.py#380\u001b\\\u001b[2m380\u001b[0m\u001b]8;;\u001b\\\n",
       "\u001b[2;36m           \u001b[0m\u001b[32m/Users/robertarbon/Library/Caches/polaris/datasets/0e9f9d49-cb35-46ed-a664-583ba91ae450/\u001b[0m\u001b[32mdat\u001b[0m \u001b[2m            \u001b[0m\n",
       "\u001b[2;36m           \u001b[0m\u001b[32ma.zarr\u001b[0m                                                                                      \u001b[2m            \u001b[0m\n"
      ]
     },
     "metadata": {},
     "output_type": "display_data"
    },
    {
     "data": {
      "text/html": [
       "<pre style=\"white-space:pre;overflow-x:auto;line-height:normal;font-family:Menlo,'DejaVu Sans Mono',consolas,'Courier New',monospace\"><span style=\"color: #7fbfbf; text-decoration-color: #7fbfbf\">           </span><span style=\"color: #808000; text-decoration-color: #808000\">For large Zarr archives, this may take a while.</span>                                             <a href=\"file:///Users/robertarbon/mamba/envs/polaris/lib/python3.12/site-packages/polaris/dataset/_base.py\" target=\"_blank\"><span style=\"color: #7f7f7f; text-decoration-color: #7f7f7f\">_base.py</span></a><span style=\"color: #7f7f7f; text-decoration-color: #7f7f7f\">:</span><a href=\"file:///Users/robertarbon/mamba/envs/polaris/lib/python3.12/site-packages/polaris/dataset/_base.py#381\" target=\"_blank\"><span style=\"color: #7f7f7f; text-decoration-color: #7f7f7f\">381</span></a>\n",
       "</pre>\n"
      ],
      "text/plain": [
       "\u001b[2;36m          \u001b[0m\u001b[2;36m \u001b[0m\u001b[33mFor large Zarr archives, this may take a while.\u001b[0m                                             \u001b]8;id=8931;file:///Users/robertarbon/mamba/envs/polaris/lib/python3.12/site-packages/polaris/dataset/_base.py\u001b\\\u001b[2m_base.py\u001b[0m\u001b]8;;\u001b\\\u001b[2m:\u001b[0m\u001b]8;id=752921;file:///Users/robertarbon/mamba/envs/polaris/lib/python3.12/site-packages/polaris/dataset/_base.py#381\u001b\\\u001b[2m381\u001b[0m\u001b]8;;\u001b\\\n"
      ]
     },
     "metadata": {},
     "output_type": "display_data"
    },
    {
     "data": {
      "text/html": [
       "<pre style=\"white-space:pre;overflow-x:auto;line-height:normal;font-family:Menlo,'DejaVu Sans Mono',consolas,'Courier New',monospace\"><span style=\"color: #7fbfbf; text-decoration-color: #7fbfbf\">           </span><span style=\"color: #008000; text-decoration-color: #008000\"> Success: Copying Zarr keys</span>                                                                <a href=\"file:///Users/robertarbon/mamba/envs/polaris/lib/python3.12/site-packages/polaris/utils/context.py\" target=\"_blank\"><span style=\"color: #7f7f7f; text-decoration-color: #7f7f7f\">context.py</span></a><span style=\"color: #7f7f7f; text-decoration-color: #7f7f7f\">:</span><a href=\"file:///Users/robertarbon/mamba/envs/polaris/lib/python3.12/site-packages/polaris/utils/context.py#53\" target=\"_blank\"><span style=\"color: #7f7f7f; text-decoration-color: #7f7f7f\">53</span></a>\n",
       "</pre>\n"
      ],
      "text/plain": [
       "\u001b[2;36m          \u001b[0m\u001b[2;36m \u001b[0m\u001b[32m Success: Copying Zarr keys\u001b[0m                                                                \u001b]8;id=919556;file:///Users/robertarbon/mamba/envs/polaris/lib/python3.12/site-packages/polaris/utils/context.py\u001b\\\u001b[2mcontext.py\u001b[0m\u001b]8;;\u001b\\\u001b[2m:\u001b[0m\u001b]8;id=961355;file:///Users/robertarbon/mamba/envs/polaris/lib/python3.12/site-packages/polaris/utils/context.py#53\u001b\\\u001b[2m53\u001b[0m\u001b]8;;\u001b\\\n"
      ]
     },
     "metadata": {},
     "output_type": "display_data"
    },
    {
     "data": {
      "text/html": [
       "<pre style=\"white-space:pre;overflow-x:auto;line-height:normal;font-family:Menlo,'DejaVu Sans Mono',consolas,'Courier New',monospace\"><span style=\"color: #7fbfbf; text-decoration-color: #7fbfbf\">           </span><span style=\"color: #008000; text-decoration-color: #008000\"> Success: Copying Zarr archive</span>                                                             <a href=\"file:///Users/robertarbon/mamba/envs/polaris/lib/python3.12/site-packages/polaris/utils/context.py\" target=\"_blank\"><span style=\"color: #7f7f7f; text-decoration-color: #7f7f7f\">context.py</span></a><span style=\"color: #7f7f7f; text-decoration-color: #7f7f7f\">:</span><a href=\"file:///Users/robertarbon/mamba/envs/polaris/lib/python3.12/site-packages/polaris/utils/context.py#53\" target=\"_blank\"><span style=\"color: #7f7f7f; text-decoration-color: #7f7f7f\">53</span></a>\n",
       "</pre>\n"
      ],
      "text/plain": [
       "\u001b[2;36m          \u001b[0m\u001b[2;36m \u001b[0m\u001b[32m Success: Copying Zarr archive\u001b[0m                                                             \u001b]8;id=541099;file:///Users/robertarbon/mamba/envs/polaris/lib/python3.12/site-packages/polaris/utils/context.py\u001b\\\u001b[2mcontext.py\u001b[0m\u001b]8;;\u001b\\\u001b[2m:\u001b[0m\u001b]8;id=917819;file:///Users/robertarbon/mamba/envs/polaris/lib/python3.12/site-packages/polaris/utils/context.py#53\u001b\\\u001b[2m53\u001b[0m\u001b]8;;\u001b\\\n"
      ]
     },
     "metadata": {},
     "output_type": "display_data"
    },
    {
     "data": {
      "text/html": [
       "<pre style=\"white-space:pre;overflow-x:auto;line-height:normal;font-family:Menlo,'DejaVu Sans Mono',consolas,'Courier New',monospace\"></pre>\n"
      ],
      "text/plain": []
     },
     "metadata": {},
     "output_type": "display_data"
    }
   ],
   "source": [
    "challenge = \"antiviral-admet-2025\"\n",
    "\n",
    "competition = po.load_competition(f\"asap-discovery/antiviral-admet-2025\")\n",
    "competition.cache()\n",
    "train, test = competition.get_train_test_split()\n"
   ]
  },
  {
   "cell_type": "code",
   "execution_count": 25,
   "metadata": {},
   "outputs": [
    {
     "data": {
      "text/plain": [
       "CXSMILES         0\n",
       "HLM            133\n",
       "MDR1-MDCKII      9\n",
       "MLM            131\n",
       "KSOL            69\n",
       "LogD            82\n",
       "dtype: int64"
      ]
     },
     "execution_count": 25,
     "metadata": {},
     "output_type": "execute_result"
    }
   ],
   "source": [
    "train_df = train.as_dataframe()\n",
    "train_df.isna().sum(axis=0)"
   ]
  },
  {
   "cell_type": "markdown",
   "metadata": {},
   "source": [
    "The missing values represent either assays that haven't been run (true missing) or are above or below the assay detection limits (censored). \n",
    "With the correct model (e.g., ordinal regression) censored data can be utilised.  So I'm gonna get the censored values back in.  Unfortunately we can't use the SMILES strings because they aren't unique, as there are unknown stereochemistries: "
   ]
  },
  {
   "cell_type": "code",
   "execution_count": 26,
   "metadata": {},
   "outputs": [
    {
     "name": "stdout",
     "output_type": "stream",
     "text": [
      "num obs: 434, num unique smiles: 404\n",
      "num mols with 2 enantiomers: 30\n"
     ]
    }
   ],
   "source": [
    "print(f\"num obs: {train_df.shape[0]}, num unique smiles: {len(set(train_df['CXSMILES']))}\")\n",
    "\n",
    "vals, idx, counts = np.unique(train_df['CXSMILES'].values, return_counts=True, return_index=True)\n",
    "print(f\"num mols with 2 enantiomers: {vals[counts==2].shape[0]}\")"
   ]
  },
  {
   "cell_type": "markdown",
   "metadata": {},
   "source": [
    "These are labelled with the 'OR' stereochemistry in CXSMILES: "
   ]
  },
  {
   "cell_type": "code",
   "execution_count": 27,
   "metadata": {},
   "outputs": [
    {
     "data": {
      "text/plain": [
       "array(['CC(C)(C)[C@H](NC1=NC=NC2=C1C=C(C1=CN(CC(N)=O)N=C1)N2)C1=CC=C2OCCOC2=C1 |o1:4|',\n",
       "       'CC(C)(C)[C@H](NC1=NC=NC2=C1C=C(C1=CN(CC(N)=O)N=C1)N2)C1=CC=C2OCCOC2=N1 |o1:4|'],\n",
       "      dtype=object)"
      ]
     },
     "execution_count": 27,
     "metadata": {},
     "output_type": "execute_result"
    }
   ],
   "source": [
    "vals[counts==2][:2]"
   ]
  },
  {
   "cell_type": "markdown",
   "metadata": {},
   "source": [
    "So we will need to use the molecule name. while we're here, we'll do the potentency as well  "
   ]
  },
  {
   "cell_type": "markdown",
   "metadata": {},
   "source": [
    "## Add in censored values"
   ]
  },
  {
   "cell_type": "code",
   "execution_count": 6,
   "metadata": {},
   "outputs": [],
   "source": [
    "def get_all_data(ds) -> pd.DataFrame: \n",
    "    columns = ds.columns    \n",
    "    n_rows = ds.n_rows\n",
    "\n",
    "    data = {k: [ds.get_data(i, k) for i in range(n_rows)] for k in columns}\n",
    "    df = pd.DataFrame(data) \n",
    "    return df"
   ]
  },
  {
   "cell_type": "code",
   "execution_count": 28,
   "metadata": {},
   "outputs": [],
   "source": [
    "all_df = get_all_data(train.dataset) # This is all data including the test set. \n",
    "df = all_df.loc[competition.split[0], : ]\n",
    "test_df = all_df.loc[competition.split[1]['test'], :]\n"
   ]
  },
  {
   "cell_type": "code",
   "execution_count": 29,
   "metadata": {},
   "outputs": [
    {
     "data": {
      "text/html": [
       "<div>\n",
       "<style scoped>\n",
       "    .dataframe tbody tr th:only-of-type {\n",
       "        vertical-align: middle;\n",
       "    }\n",
       "\n",
       "    .dataframe tbody tr th {\n",
       "        vertical-align: top;\n",
       "    }\n",
       "\n",
       "    .dataframe thead th {\n",
       "        text-align: right;\n",
       "    }\n",
       "</style>\n",
       "<table border=\"1\" class=\"dataframe\">\n",
       "  <thead>\n",
       "    <tr style=\"text-align: right;\">\n",
       "      <th></th>\n",
       "      <th>CXSMILES</th>\n",
       "      <th>HLM</th>\n",
       "      <th>KSOL</th>\n",
       "      <th>LogD</th>\n",
       "      <th>MDR1-MDCKII</th>\n",
       "      <th>MLM</th>\n",
       "      <th>Molecule Name</th>\n",
       "    </tr>\n",
       "  </thead>\n",
       "  <tbody>\n",
       "    <tr>\n",
       "      <th>434</th>\n",
       "      <td>CC(C)[C@H]1C2=C(CCN1C(=O)CC1=CN=CC3=CC=CC=C13)...</td>\n",
       "      <td>NaN</td>\n",
       "      <td>NaN</td>\n",
       "      <td>NaN</td>\n",
       "      <td>NaN</td>\n",
       "      <td>NaN</td>\n",
       "      <td>ASAP-0031558</td>\n",
       "    </tr>\n",
       "    <tr>\n",
       "      <th>435</th>\n",
       "      <td>CC(C)C1(C)CCN(C(=O)CC2=CN=CC3=CC=CC=C23)CC1</td>\n",
       "      <td>NaN</td>\n",
       "      <td>NaN</td>\n",
       "      <td>NaN</td>\n",
       "      <td>NaN</td>\n",
       "      <td>NaN</td>\n",
       "      <td>ASAP-0031372</td>\n",
       "    </tr>\n",
       "    <tr>\n",
       "      <th>436</th>\n",
       "      <td>O=C(CC1=CN=CC2=CC=CC=C12)N1CCC2=C(C=CS2)C12CCC2</td>\n",
       "      <td>NaN</td>\n",
       "      <td>NaN</td>\n",
       "      <td>NaN</td>\n",
       "      <td>NaN</td>\n",
       "      <td>NaN</td>\n",
       "      <td>ASAP-0031411</td>\n",
       "    </tr>\n",
       "    <tr>\n",
       "      <th>437</th>\n",
       "      <td>CC1(CC(F)(F)F)CCN(C(=O)CC2=CN=CC3=CC=CC=C23)CC1</td>\n",
       "      <td>NaN</td>\n",
       "      <td>NaN</td>\n",
       "      <td>NaN</td>\n",
       "      <td>NaN</td>\n",
       "      <td>NaN</td>\n",
       "      <td>ASAP-0031442</td>\n",
       "    </tr>\n",
       "    <tr>\n",
       "      <th>438</th>\n",
       "      <td>CCC1=CC=C([C@H]2C[C@H](C)CCN2C(=O)CC2=CN=CC3=C...</td>\n",
       "      <td>NaN</td>\n",
       "      <td>NaN</td>\n",
       "      <td>NaN</td>\n",
       "      <td>NaN</td>\n",
       "      <td>NaN</td>\n",
       "      <td>ASAP-0031187</td>\n",
       "    </tr>\n",
       "  </tbody>\n",
       "</table>\n",
       "</div>"
      ],
      "text/plain": [
       "                                              CXSMILES  HLM  KSOL  LogD  \\\n",
       "434  CC(C)[C@H]1C2=C(CCN1C(=O)CC1=CN=CC3=CC=CC=C13)...  NaN   NaN   NaN   \n",
       "435        CC(C)C1(C)CCN(C(=O)CC2=CN=CC3=CC=CC=C23)CC1  NaN   NaN   NaN   \n",
       "436    O=C(CC1=CN=CC2=CC=CC=C12)N1CCC2=C(C=CS2)C12CCC2  NaN   NaN   NaN   \n",
       "437    CC1(CC(F)(F)F)CCN(C(=O)CC2=CN=CC3=CC=CC=C23)CC1  NaN   NaN   NaN   \n",
       "438  CCC1=CC=C([C@H]2C[C@H](C)CCN2C(=O)CC2=CN=CC3=C...  NaN   NaN   NaN   \n",
       "\n",
       "     MDR1-MDCKII  MLM Molecule Name  \n",
       "434          NaN  NaN  ASAP-0031558  \n",
       "435          NaN  NaN  ASAP-0031372  \n",
       "436          NaN  NaN  ASAP-0031411  \n",
       "437          NaN  NaN  ASAP-0031442  \n",
       "438          NaN  NaN  ASAP-0031187  "
      ]
     },
     "execution_count": 29,
     "metadata": {},
     "output_type": "execute_result"
    }
   ],
   "source": [
    "test_df.head()"
   ]
  },
  {
   "cell_type": "markdown",
   "metadata": {},
   "source": [
    "We don't need to do anything more with the test data so just save it (with the molecule name)"
   ]
  },
  {
   "cell_type": "code",
   "execution_count": 30,
   "metadata": {},
   "outputs": [],
   "source": [
    "test_df.loc[:, ['Molecule Name', 'CXSMILES']].to_csv('data/test_admet_all.csv', index=False)"
   ]
  },
  {
   "cell_type": "code",
   "execution_count": 31,
   "metadata": {},
   "outputs": [
    {
     "data": {
      "text/plain": [
       "(434, 8)"
      ]
     },
     "execution_count": 31,
     "metadata": {},
     "output_type": "execute_result"
    }
   ],
   "source": [
    "df['n_missing'] = df.isna().sum(axis=1)\n",
    "df.loc[df.n_missing < 5, :].shape"
   ]
  },
  {
   "cell_type": "markdown",
   "metadata": {},
   "source": [
    "Now we can fetch all the censored values from the raw data"
   ]
  },
  {
   "cell_type": "code",
   "execution_count": 32,
   "metadata": {},
   "outputs": [],
   "source": [
    "target_to_raw = {'MLM': \n",
    "                    {'measurement_col': 'in-vitro_MLM_bienta: CLint (Num) (uL/min/mg)', \n",
    "                     'mod_col': 'in-vitro_MLM_bienta: CLint (Mod)', \n",
    "                     'train_name': 'MLM'},\n",
    "                  'HLM':\n",
    "                     {'measurement_col': 'in-vitro_HLM_bienta: CLint (Num) (uL/min/mg)', \n",
    "                      'mod_col': 'in-vitro_HLM_bienta: CLint (Mod)', \n",
    "                      'train_name': 'HLM'}, \n",
    "                  'KSOL':\n",
    "                     {'measurement_col': 'in-vitro_KSOL-PBS_bienta: mean_solubility (Num) (uM)', \n",
    "                     'mod_col': 'in-vitro_KSOL-PBS_bienta: mean_solubility (Mod)', \n",
    "                     'train_name': 'KSOL'},   \n",
    "                  'LogD':\n",
    "                     {'measurement_col': 'in-vitro_LogD_bienta: LogD (Num)', \n",
    "                     'mod_col': 'in-vitro_LogD_bienta: LogD (Mod)', \n",
    "                     'train_name': 'LogD'}, \n",
    "                  'MDR1-MDCK2':\n",
    "                     {'measurement_col': 'in-vitro_MDR1-MDCKII-Papp_bienta: mean_Papp_A_to_B (Num) (10^-6 cm/s)', \n",
    "                     'mod_col': 'in-vitro_MDR1-MDCKII-Papp_bienta: mean_Papp_A_to_B (Mod)', \n",
    "                     'train_name': 'MDR1-MDCKII'},   \n",
    "                 }\n",
    "\n",
    "\n"
   ]
  },
  {
   "cell_type": "code",
   "execution_count": 33,
   "metadata": {},
   "outputs": [
    {
     "name": "stdout",
     "output_type": "stream",
     "text": [
      "WARNING: MLM: 0.0<10.0, 2380.0>10.0..\n",
      "MLM clipping values: \n",
      "in-vitro_MLM_bienta: CLint (Mod)\n",
      "<    [10.0]\n",
      "Name: in-vitro_MLM_bienta: CLint (Num) (uL/min/mg), dtype: object\n",
      "\n",
      "WARNING: HLM: 0.0<10.0, 1620.0>10.0..\n",
      "HLM clipping values: \n",
      "in-vitro_HLM_bienta: CLint (Mod)\n",
      "<    [10.0]\n",
      "Name: in-vitro_HLM_bienta: CLint (Num) (uL/min/mg), dtype: object\n",
      "\n",
      "KSOL clipping values: \n",
      "in-vitro_KSOL-PBS_bienta: mean_solubility (Mod)\n",
      ">=    [400.0]\n",
      "≤       [2.0]\n",
      "≥     [400.0]\n",
      "Name: in-vitro_KSOL-PBS_bienta: mean_solubility (Num) (uM), dtype: object\n",
      "\n",
      "LogD clipping values: \n",
      "in-vitro_LogD_bienta: LogD (Mod)\n",
      "≤        [-1.0]\n",
      "≥    [4.5, 1.9]\n",
      "Name: in-vitro_LogD_bienta: LogD (Num), dtype: object\n",
      "\n",
      "MDR1-MDCK2 clipping values: \n",
      "Series([], Name: in-vitro_MDR1-MDCKII-Papp_bienta: mean_Papp_A_to_B (Num) (10^-6 cm/s), dtype: float64)\n",
      "\n",
      "Replaced 168, only 256 or 11.80% missing\n"
     ]
    },
    {
     "data": {
      "text/plain": [
       "(434, 18)"
      ]
     },
     "execution_count": 33,
     "metadata": {},
     "output_type": "execute_result"
    }
   ],
   "source": [
    "\n",
    "old_n_missing = df.loc[:, list(train.target_cols)].isna().sum(axis=1)\n",
    "\n",
    "dupes_to_check = {}\n",
    "\n",
    "for target in target_to_raw.keys():\n",
    "\n",
    "    raw = pd.read_csv(f'raw_data_package/admet/ADMET_{target}_CONFIDENTIAL.csv')\n",
    "\n",
    "    to_merge = raw.loc[:, ['Molecule Name', target_to_raw[target]['measurement_col'],target_to_raw[target]['mod_col'], 'CXSMILES (CDD Compatible)']]\n",
    "\n",
    "\n",
    "    not_eqs_symbs = to_merge[target_to_raw[target]['mod_col']].unique()\n",
    "    not_eqs_symbs = [x for x in not_eqs_symbs if x !='=']\n",
    "\n",
    "    to_merge = to_merge.loc[to_merge[target_to_raw[target]['mod_col']].isin(not_eqs_symbs), :]\n",
    "\n",
    "    duplicates = to_merge.duplicated(keep=False)\n",
    "\n",
    "    to_merge = to_merge.drop_duplicates()\n",
    "\n",
    "    dupes_to_check[target] = duplicates\n",
    "\n",
    "    # Check whether 'censored' value really is out of the range of the other values\n",
    "    min_cval, max_cval = to_merge[target_to_raw[target]['measurement_col']].min(), to_merge[target_to_raw[target]['measurement_col']].max()\n",
    "    min_val, max_val = df[target_to_raw[target]['train_name']].min(), df[target_to_raw[target]['train_name']].max()\n",
    "\n",
    "    if (min_val < min_cval) or (max_val > max_cval): \n",
    "        print(f\"WARNING: {target}: {min_val}<{min_cval}, {max_val}>{max_cval}..\")\n",
    "    \n",
    "    clip_vals = to_merge.groupby(target_to_raw[target]['mod_col'])[target_to_raw[target]['measurement_col']].unique()\n",
    "    print(f'{target} clipping values: \\n{clip_vals}\\n')\n",
    "\n",
    "\n",
    "    # Check merging process\n",
    "    old_n = df.shape[0]\n",
    "\n",
    "    tmp = df.merge(right=to_merge, on='Molecule Name', how='left')\n",
    "    new_n = tmp.shape[0]\n",
    "    ix = tmp['CXSMILES (CDD Compatible)'].isna()\n",
    "    tmp.loc[ix, 'CXSMILES (CDD Compatible)'] = tmp.loc[ix, 'CXSMILES']\n",
    "\n",
    "    smiles_matching = np.all(tmp['CXSMILES (CDD Compatible)'].values == tmp['CXSMILES'].values)\n",
    "\n",
    "    if (old_n == new_n) and smiles_matching: \n",
    "        df = tmp\n",
    "        target_na = df[target_to_raw[target]['train_name']].isna()\n",
    "        \n",
    "        # update missing values\n",
    "        df.loc[target_na, target_to_raw[target]['train_name']] = df.loc[target_na, target_to_raw[target]['measurement_col']].values\n",
    "        del df['CXSMILES (CDD Compatible)']\n",
    "\n",
    "    else: \n",
    "        print('ERROR', old_n, new_n, smiles_matching, target)\n",
    "        print(target,' not added to dataset')\n",
    "        pass \n",
    "\n",
    "\n",
    "\n",
    "new_n_missing =  df.loc[:, list(train.target_cols)].isna().sum(axis=1)\n",
    "print(f'Replaced {old_n_missing.sum() - new_n_missing.sum()}, only {new_n_missing.sum()} or {new_n_missing.sum()/(5*new_n_missing.shape[0]):4.2%} missing')\n",
    "df.shape\n"
   ]
  },
  {
   "cell_type": "markdown",
   "metadata": {},
   "source": [
    "The >=1.9 in the LogD measurements occurs only once.  I'm going to leave that in there - I don't think it will make much of a difference.  \n",
    "\n",
    "There are '=' values that are lower than the lower bound for MLM and HLM. I will clip these manually because according to the experimenters they think these are wrong anyway. "
   ]
  },
  {
   "cell_type": "code",
   "execution_count": 34,
   "metadata": {},
   "outputs": [],
   "source": [
    "df.loc[:, \"MLM\"] = df['MLM'].clip(lower=10)\n",
    "df.loc[:, 'HLM'] = df['HLM'].clip(lower=10)"
   ]
  },
  {
   "cell_type": "code",
   "execution_count": null,
   "metadata": {},
   "outputs": [],
   "source": []
  },
  {
   "cell_type": "code",
   "execution_count": 37,
   "metadata": {},
   "outputs": [
    {
     "data": {
      "text/plain": [
       "<seaborn.axisgrid.FacetGrid at 0x18e11b710>"
      ]
     },
     "execution_count": 37,
     "metadata": {},
     "output_type": "execute_result"
    },
    {
     "data": {
      "image/png": "[encoded data removed]",
      "text/plain": [
       "<Figure size 2601.74x1000 with 10 Axes>"
      ]
     },
     "metadata": {},
     "output_type": "display_data"
    }
   ],
   "source": [
    "to_plot = df.loc[:, ['HLM', 'KSOL', 'MDR1-MDCKII', 'MLM', 'LogD']]\n",
    "to_plot['inc_censored'] = True\n",
    "tmp = train_df.copy(deep=True)\n",
    "\n",
    "tmp['inc_censored'] = False\n",
    "\n",
    "to_plot = pd.concat([tmp.loc[:,['HLM', 'KSOL', 'MDR1-MDCKII', 'MLM', 'LogD', 'inc_censored'] ], to_plot], axis=0)\n",
    "\n",
    "\n",
    "to_plot.loc[:, ['HLM', 'KSOL', 'MDR1-MDCKII', 'MLM']] = np.log(to_plot.loc[:, ['HLM', 'KSOL', 'MDR1-MDCKII', 'MLM']] + 1e-6)\n",
    "\n",
    "\n",
    "sns.displot(data=to_plot.melt(id_vars='inc_censored'), x='value', col='variable', hue='inc_censored',  row='inc_censored', facet_kws=dict(sharex='col', sharey='col'))"
   ]
  },
  {
   "cell_type": "code",
   "execution_count": 38,
   "metadata": {},
   "outputs": [],
   "source": [
    "df.to_csv('data/train_admet_all.csv', index=False)"
   ]
  },
  {
   "cell_type": "markdown",
   "metadata": {},
   "source": [
    "# Potency"
   ]
  },
  {
   "cell_type": "code",
   "execution_count": 40,
   "metadata": {},
   "outputs": [
    {
     "data": {
      "text/html": [
       "<pre style=\"white-space:pre;overflow-x:auto;line-height:normal;font-family:Menlo,'DejaVu Sans Mono',consolas,'Courier New',monospace\"><span style=\"color: #7fbfbf; text-decoration-color: #7fbfbf\">[2025-02-22 18:20:55] </span><span style=\"color: #000080; text-decoration-color: #000080\">INFO    </span> The version of Polaris that was used to create the artifact <span style=\"font-weight: bold\">(</span><span style=\"color: #008080; text-decoration-color: #008080; font-weight: bold\">0.11</span>.<span style=\"color: #008080; text-decoration-color: #008080; font-weight: bold\">0</span><span style=\"font-weight: bold\">)</span> <a href=\"file:///Users/robertarbon/mamba/envs/polaris/lib/python3.12/site-packages/polaris/_artifact.py\" target=\"_blank\"><span style=\"color: #7f7f7f; text-decoration-color: #7f7f7f\">_artifact.py</span></a><span style=\"color: #7f7f7f; text-decoration-color: #7f7f7f\">:</span><a href=\"file:///Users/robertarbon/mamba/envs/polaris/lib/python3.12/site-packages/polaris/_artifact.py#92\" target=\"_blank\"><span style=\"color: #7f7f7f; text-decoration-color: #7f7f7f\">92</span></a>\n",
       "<span style=\"color: #7fbfbf; text-decoration-color: #7fbfbf\">                      </span>         is different from the currently installed version of Polaris         <span style=\"color: #7f7f7f; text-decoration-color: #7f7f7f\">               </span>\n",
       "<span style=\"color: #7fbfbf; text-decoration-color: #7fbfbf\">                      </span>         <span style=\"font-weight: bold\">(</span><span style=\"color: #008080; text-decoration-color: #008080; font-weight: bold\">0.11</span>.<span style=\"color: #008080; text-decoration-color: #008080; font-weight: bold\">8</span><span style=\"font-weight: bold\">)</span>.                                                            <span style=\"color: #7f7f7f; text-decoration-color: #7f7f7f\">               </span>\n",
       "</pre>\n"
      ],
      "text/plain": [
       "\u001b[2;36m[2025-02-22 18:20:55]\u001b[0m\u001b[2;36m \u001b[0m\u001b[34mINFO    \u001b[0m The version of Polaris that was used to create the artifact \u001b[1m(\u001b[0m\u001b[1;36m0.11\u001b[0m.\u001b[1;36m0\u001b[0m\u001b[1m)\u001b[0m \u001b]8;id=988597;file:///Users/robertarbon/mamba/envs/polaris/lib/python3.12/site-packages/polaris/_artifact.py\u001b\\\u001b[2m_artifact.py\u001b[0m\u001b]8;;\u001b\\\u001b[2m:\u001b[0m\u001b]8;id=697488;file:///Users/robertarbon/mamba/envs/polaris/lib/python3.12/site-packages/polaris/_artifact.py#92\u001b\\\u001b[2m92\u001b[0m\u001b]8;;\u001b\\\n",
       "\u001b[2;36m                      \u001b[0m         is different from the currently installed version of Polaris         \u001b[2m               \u001b[0m\n",
       "\u001b[2;36m                      \u001b[0m         \u001b[1m(\u001b[0m\u001b[1;36m0.11\u001b[0m.\u001b[1;36m8\u001b[0m\u001b[1m)\u001b[0m.                                                            \u001b[2m               \u001b[0m\n"
      ]
     },
     "metadata": {},
     "output_type": "display_data"
    },
    {
     "data": {
      "text/html": [
       "<pre style=\"white-space:pre;overflow-x:auto;line-height:normal;font-family:Menlo,'DejaVu Sans Mono',consolas,'Courier New',monospace\"><span style=\"color: #7fbfbf; text-decoration-color: #7fbfbf\">                      </span><span style=\"color: #808000; text-decoration-color: #808000\">WARNING </span> You're loading data from a remote location. If the dataset is small     <a href=\"file:///Users/robertarbon/mamba/envs/polaris/lib/python3.12/site-packages/polaris/dataset/_base.py\" target=\"_blank\"><span style=\"color: #7f7f7f; text-decoration-color: #7f7f7f\">_base.py</span></a><span style=\"color: #7f7f7f; text-decoration-color: #7f7f7f\">:</span><a href=\"file:///Users/robertarbon/mamba/envs/polaris/lib/python3.12/site-packages/polaris/dataset/_base.py#181\" target=\"_blank\"><span style=\"color: #7f7f7f; text-decoration-color: #7f7f7f\">181</span></a>\n",
       "<span style=\"color: #7fbfbf; text-decoration-color: #7fbfbf\">                      </span>         enough, consider caching the dataset first using                        <span style=\"color: #7f7f7f; text-decoration-color: #7f7f7f\">            </span>\n",
       "<span style=\"color: #7fbfbf; text-decoration-color: #7fbfbf\">                      </span>         <span style=\"color: #800080; text-decoration-color: #800080; font-weight: bold\">CompetitionSpecification.cache</span><span style=\"font-weight: bold\">()</span> for more performant data access.       <span style=\"color: #7f7f7f; text-decoration-color: #7f7f7f\">            </span>\n",
       "</pre>\n"
      ],
      "text/plain": [
       "\u001b[2;36m                     \u001b[0m\u001b[2;36m \u001b[0m\u001b[33mWARNING \u001b[0m You're loading data from a remote location. If the dataset is small     \u001b]8;id=786379;file:///Users/robertarbon/mamba/envs/polaris/lib/python3.12/site-packages/polaris/dataset/_base.py\u001b\\\u001b[2m_base.py\u001b[0m\u001b]8;;\u001b\\\u001b[2m:\u001b[0m\u001b]8;id=42362;file:///Users/robertarbon/mamba/envs/polaris/lib/python3.12/site-packages/polaris/dataset/_base.py#181\u001b\\\u001b[2m181\u001b[0m\u001b]8;;\u001b\\\n",
       "\u001b[2;36m                      \u001b[0m         enough, consider caching the dataset first using                        \u001b[2m            \u001b[0m\n",
       "\u001b[2;36m                      \u001b[0m         \u001b[1;35mCompetitionSpecification.cache\u001b[0m\u001b[1m(\u001b[0m\u001b[1m)\u001b[0m for more performant data access.       \u001b[2m            \u001b[0m\n"
      ]
     },
     "metadata": {},
     "output_type": "display_data"
    },
    {
     "data": {
      "text/html": [
       "<pre style=\"white-space:pre;overflow-x:auto;line-height:normal;font-family:Menlo,'DejaVu Sans Mono',consolas,'Courier New',monospace\">/Users/robertarbon/mamba/envs/polaris/lib/python3.12/site-packages/rich/live.py:231: UserWarning: install \n",
       "\"ipywidgets\" for Jupyter support\n",
       "  warnings.warn('install \"ipywidgets\" for Jupyter support')\n",
       "</pre>\n"
      ],
      "text/plain": [
       "/Users/robertarbon/mamba/envs/polaris/lib/python3.12/site-packages/rich/live.py:231: UserWarning: install \n",
       "\"ipywidgets\" for Jupyter support\n",
       "  warnings.warn('install \"ipywidgets\" for Jupyter support')\n"
      ]
     },
     "metadata": {},
     "output_type": "display_data"
    },
    {
     "data": {
      "text/html": [
       "<pre style=\"white-space:pre;overflow-x:auto;line-height:normal;font-family:Menlo,'DejaVu Sans Mono',consolas,'Courier New',monospace\"><span style=\"color: #7fbfbf; text-decoration-color: #7fbfbf\">[18:20:55] </span><span style=\"color: #008000; text-decoration-color: #008000\">Copying to destination </span>                                                                     <a href=\"file:///Users/robertarbon/mamba/envs/polaris/lib/python3.12/site-packages/polaris/dataset/_base.py\" target=\"_blank\"><span style=\"color: #7f7f7f; text-decoration-color: #7f7f7f\">_base.py</span></a><span style=\"color: #7f7f7f; text-decoration-color: #7f7f7f\">:</span><a href=\"file:///Users/robertarbon/mamba/envs/polaris/lib/python3.12/site-packages/polaris/dataset/_base.py#380\" target=\"_blank\"><span style=\"color: #7f7f7f; text-decoration-color: #7f7f7f\">380</span></a>\n",
       "<span style=\"color: #7fbfbf; text-decoration-color: #7fbfbf\">           </span><span style=\"color: #008000; text-decoration-color: #008000\">/Users/robertarbon/Library/Caches/polaris/datasets/ac1779b4-4d41-4267-892f-ae4995409bcf/dat</span> <span style=\"color: #7f7f7f; text-decoration-color: #7f7f7f\">            </span>\n",
       "<span style=\"color: #7fbfbf; text-decoration-color: #7fbfbf\">           </span><span style=\"color: #008000; text-decoration-color: #008000\">a.zarr</span>                                                                                      <span style=\"color: #7f7f7f; text-decoration-color: #7f7f7f\">            </span>\n",
       "</pre>\n"
      ],
      "text/plain": [
       "\u001b[2;36m[18:20:55]\u001b[0m\u001b[2;36m \u001b[0m\u001b[32mCopying to destination \u001b[0m                                                                     \u001b]8;id=924219;file:///Users/robertarbon/mamba/envs/polaris/lib/python3.12/site-packages/polaris/dataset/_base.py\u001b\\\u001b[2m_base.py\u001b[0m\u001b]8;;\u001b\\\u001b[2m:\u001b[0m\u001b]8;id=264228;file:///Users/robertarbon/mamba/envs/polaris/lib/python3.12/site-packages/polaris/dataset/_base.py#380\u001b\\\u001b[2m380\u001b[0m\u001b]8;;\u001b\\\n",
       "\u001b[2;36m           \u001b[0m\u001b[32m/Users/robertarbon/Library/Caches/polaris/datasets/ac1779b4-4d41-4267-892f-ae4995409bcf/\u001b[0m\u001b[32mdat\u001b[0m \u001b[2m            \u001b[0m\n",
       "\u001b[2;36m           \u001b[0m\u001b[32ma.zarr\u001b[0m                                                                                      \u001b[2m            \u001b[0m\n"
      ]
     },
     "metadata": {},
     "output_type": "display_data"
    },
    {
     "data": {
      "text/html": [
       "<pre style=\"white-space:pre;overflow-x:auto;line-height:normal;font-family:Menlo,'DejaVu Sans Mono',consolas,'Courier New',monospace\"><span style=\"color: #7fbfbf; text-decoration-color: #7fbfbf\">           </span><span style=\"color: #808000; text-decoration-color: #808000\">For large Zarr archives, this may take a while.</span>                                             <a href=\"file:///Users/robertarbon/mamba/envs/polaris/lib/python3.12/site-packages/polaris/dataset/_base.py\" target=\"_blank\"><span style=\"color: #7f7f7f; text-decoration-color: #7f7f7f\">_base.py</span></a><span style=\"color: #7f7f7f; text-decoration-color: #7f7f7f\">:</span><a href=\"file:///Users/robertarbon/mamba/envs/polaris/lib/python3.12/site-packages/polaris/dataset/_base.py#381\" target=\"_blank\"><span style=\"color: #7f7f7f; text-decoration-color: #7f7f7f\">381</span></a>\n",
       "</pre>\n"
      ],
      "text/plain": [
       "\u001b[2;36m          \u001b[0m\u001b[2;36m \u001b[0m\u001b[33mFor large Zarr archives, this may take a while.\u001b[0m                                             \u001b]8;id=216408;file:///Users/robertarbon/mamba/envs/polaris/lib/python3.12/site-packages/polaris/dataset/_base.py\u001b\\\u001b[2m_base.py\u001b[0m\u001b]8;;\u001b\\\u001b[2m:\u001b[0m\u001b]8;id=124704;file:///Users/robertarbon/mamba/envs/polaris/lib/python3.12/site-packages/polaris/dataset/_base.py#381\u001b\\\u001b[2m381\u001b[0m\u001b]8;;\u001b\\\n"
      ]
     },
     "metadata": {},
     "output_type": "display_data"
    },
    {
     "data": {
      "text/html": [
       "<pre style=\"white-space:pre;overflow-x:auto;line-height:normal;font-family:Menlo,'DejaVu Sans Mono',consolas,'Courier New',monospace\"><span style=\"color: #7fbfbf; text-decoration-color: #7fbfbf\">[18:20:56] </span><span style=\"color: #008000; text-decoration-color: #008000\"> Success: Copying Zarr keys</span>                                                                <a href=\"file:///Users/robertarbon/mamba/envs/polaris/lib/python3.12/site-packages/polaris/utils/context.py\" target=\"_blank\"><span style=\"color: #7f7f7f; text-decoration-color: #7f7f7f\">context.py</span></a><span style=\"color: #7f7f7f; text-decoration-color: #7f7f7f\">:</span><a href=\"file:///Users/robertarbon/mamba/envs/polaris/lib/python3.12/site-packages/polaris/utils/context.py#53\" target=\"_blank\"><span style=\"color: #7f7f7f; text-decoration-color: #7f7f7f\">53</span></a>\n",
       "</pre>\n"
      ],
      "text/plain": [
       "\u001b[2;36m[18:20:56]\u001b[0m\u001b[2;36m \u001b[0m\u001b[32m Success: Copying Zarr keys\u001b[0m                                                                \u001b]8;id=185582;file:///Users/robertarbon/mamba/envs/polaris/lib/python3.12/site-packages/polaris/utils/context.py\u001b\\\u001b[2mcontext.py\u001b[0m\u001b]8;;\u001b\\\u001b[2m:\u001b[0m\u001b]8;id=126900;file:///Users/robertarbon/mamba/envs/polaris/lib/python3.12/site-packages/polaris/utils/context.py#53\u001b\\\u001b[2m53\u001b[0m\u001b]8;;\u001b\\\n"
      ]
     },
     "metadata": {},
     "output_type": "display_data"
    },
    {
     "data": {
      "text/html": [
       "<pre style=\"white-space:pre;overflow-x:auto;line-height:normal;font-family:Menlo,'DejaVu Sans Mono',consolas,'Courier New',monospace\"><span style=\"color: #7fbfbf; text-decoration-color: #7fbfbf\">           </span><span style=\"color: #008000; text-decoration-color: #008000\"> Success: Copying Zarr archive</span>                                                             <a href=\"file:///Users/robertarbon/mamba/envs/polaris/lib/python3.12/site-packages/polaris/utils/context.py\" target=\"_blank\"><span style=\"color: #7f7f7f; text-decoration-color: #7f7f7f\">context.py</span></a><span style=\"color: #7f7f7f; text-decoration-color: #7f7f7f\">:</span><a href=\"file:///Users/robertarbon/mamba/envs/polaris/lib/python3.12/site-packages/polaris/utils/context.py#53\" target=\"_blank\"><span style=\"color: #7f7f7f; text-decoration-color: #7f7f7f\">53</span></a>\n",
       "</pre>\n"
      ],
      "text/plain": [
       "\u001b[2;36m          \u001b[0m\u001b[2;36m \u001b[0m\u001b[32m Success: Copying Zarr archive\u001b[0m                                                             \u001b]8;id=675634;file:///Users/robertarbon/mamba/envs/polaris/lib/python3.12/site-packages/polaris/utils/context.py\u001b\\\u001b[2mcontext.py\u001b[0m\u001b]8;;\u001b\\\u001b[2m:\u001b[0m\u001b]8;id=215736;file:///Users/robertarbon/mamba/envs/polaris/lib/python3.12/site-packages/polaris/utils/context.py#53\u001b\\\u001b[2m53\u001b[0m\u001b]8;;\u001b\\\n"
      ]
     },
     "metadata": {},
     "output_type": "display_data"
    },
    {
     "data": {
      "text/html": [
       "<pre style=\"white-space:pre;overflow-x:auto;line-height:normal;font-family:Menlo,'DejaVu Sans Mono',consolas,'Courier New',monospace\"></pre>\n"
      ],
      "text/plain": []
     },
     "metadata": {},
     "output_type": "display_data"
    }
   ],
   "source": [
    "competition = po.load_competition(f\"asap-discovery/antiviral-potency-2025\")\n",
    "competition.cache()\n",
    "train, test = competition.get_train_test_split()"
   ]
  },
  {
   "cell_type": "code",
   "execution_count": 41,
   "metadata": {},
   "outputs": [
    {
     "data": {
      "text/plain": [
       "CXSMILES                     0\n",
       "pIC50 (MERS-CoV Mpro)      130\n",
       "pIC50 (SARS-CoV-2 Mpro)    189\n",
       "dtype: int64"
      ]
     },
     "execution_count": 41,
     "metadata": {},
     "output_type": "execute_result"
    }
   ],
   "source": [
    "train_df = train.as_dataframe()\n",
    "train_df.isna().sum(axis=0)"
   ]
  },
  {
   "cell_type": "markdown",
   "metadata": {},
   "source": [
    "Get the data with the molecule name. "
   ]
  },
  {
   "cell_type": "code",
   "execution_count": 42,
   "metadata": {},
   "outputs": [],
   "source": [
    "all_df = get_all_data(train.dataset) # This is all data including the test set. \n",
    "df = all_df.loc[competition.split[0], : ]\n",
    "test_df = all_df.loc[competition.split[1]['test'], :]"
   ]
  },
  {
   "cell_type": "markdown",
   "metadata": {},
   "source": [
    "Save the test set - don't need it any more. "
   ]
  },
  {
   "cell_type": "code",
   "execution_count": 44,
   "metadata": {},
   "outputs": [],
   "source": [
    "test_df.to_csv('data/test_potency_all.csv', index=False)"
   ]
  },
  {
   "cell_type": "markdown",
   "metadata": {},
   "source": [
    "We need to check whether any of the values have been censored - we first need to match up the reported values with the column in the raw data (its not totally obvious)"
   ]
  },
  {
   "cell_type": "code",
   "execution_count": 50,
   "metadata": {},
   "outputs": [
    {
     "data": {
      "text/html": [
       "<div>\n",
       "<style scoped>\n",
       "    .dataframe tbody tr th:only-of-type {\n",
       "        vertical-align: middle;\n",
       "    }\n",
       "\n",
       "    .dataframe tbody tr th {\n",
       "        vertical-align: top;\n",
       "    }\n",
       "\n",
       "    .dataframe thead th {\n",
       "        text-align: right;\n",
       "    }\n",
       "</style>\n",
       "<table border=\"1\" class=\"dataframe\">\n",
       "  <thead>\n",
       "    <tr style=\"text-align: right;\">\n",
       "      <th></th>\n",
       "      <th>CXSMILES</th>\n",
       "      <th>Molecule Name</th>\n",
       "      <th>pIC50 (MERS-CoV Mpro)</th>\n",
       "      <th>pIC50 (SARS-CoV-2 Mpro)</th>\n",
       "    </tr>\n",
       "  </thead>\n",
       "  <tbody>\n",
       "    <tr>\n",
       "      <th>0</th>\n",
       "      <td>COC[C@]1(C)C(=O)N(C2=CN=CC3=CC=CC=C23)C(=O)N1C...</td>\n",
       "      <td>ASAP-0000141</td>\n",
       "      <td>4.19</td>\n",
       "      <td>NaN</td>\n",
       "    </tr>\n",
       "    <tr>\n",
       "      <th>1</th>\n",
       "      <td>C=C(CN1CCC2=C(C=C(Cl)C=C2)C1C(=O)NC1=CN=CC2=CC...</td>\n",
       "      <td>ASAP-0000142</td>\n",
       "      <td>4.92</td>\n",
       "      <td>5.29</td>\n",
       "    </tr>\n",
       "    <tr>\n",
       "      <th>2</th>\n",
       "      <td>CNC(=O)CN1C[C@]2(C[C@H](C)N(C3=CN=CC=C3C3CC3)C...</td>\n",
       "      <td>ASAP-0000143</td>\n",
       "      <td>4.73</td>\n",
       "      <td>NaN</td>\n",
       "    </tr>\n",
       "    <tr>\n",
       "      <th>3</th>\n",
       "      <td>C=C(CN1CCC2=C(C=C(Cl)C=C2)C1C(=O)NC1=CN=CC2=CC...</td>\n",
       "      <td>ASAP-0000144</td>\n",
       "      <td>4.90</td>\n",
       "      <td>6.11</td>\n",
       "    </tr>\n",
       "    <tr>\n",
       "      <th>4</th>\n",
       "      <td>C=C(CN1CCC2=C(C=C(Cl)C=C2)C1C(=O)NC1=CN=CC2=CC...</td>\n",
       "      <td>ASAP-0000145</td>\n",
       "      <td>4.81</td>\n",
       "      <td>5.62</td>\n",
       "    </tr>\n",
       "  </tbody>\n",
       "</table>\n",
       "</div>"
      ],
      "text/plain": [
       "                                            CXSMILES Molecule Name  \\\n",
       "0  COC[C@]1(C)C(=O)N(C2=CN=CC3=CC=CC=C23)C(=O)N1C...  ASAP-0000141   \n",
       "1  C=C(CN1CCC2=C(C=C(Cl)C=C2)C1C(=O)NC1=CN=CC2=CC...  ASAP-0000142   \n",
       "2  CNC(=O)CN1C[C@]2(C[C@H](C)N(C3=CN=CC=C3C3CC3)C...  ASAP-0000143   \n",
       "3  C=C(CN1CCC2=C(C=C(Cl)C=C2)C1C(=O)NC1=CN=CC2=CC...  ASAP-0000144   \n",
       "4  C=C(CN1CCC2=C(C=C(Cl)C=C2)C1C(=O)NC1=CN=CC2=CC...  ASAP-0000145   \n",
       "\n",
       "   pIC50 (MERS-CoV Mpro)  pIC50 (SARS-CoV-2 Mpro)  \n",
       "0                   4.19                      NaN  \n",
       "1                   4.92                     5.29  \n",
       "2                   4.73                      NaN  \n",
       "3                   4.90                     6.11  \n",
       "4                   4.81                     5.62  "
      ]
     },
     "execution_count": 50,
     "metadata": {},
     "output_type": "execute_result"
    }
   ],
   "source": [
    "df.sort_values(by=['Molecule Name']).head()"
   ]
  },
  {
   "cell_type": "code",
   "execution_count": 51,
   "metadata": {},
   "outputs": [
    {
     "data": {
      "text/html": [
       "<div>\n",
       "<style scoped>\n",
       "    .dataframe tbody tr th:only-of-type {\n",
       "        vertical-align: middle;\n",
       "    }\n",
       "\n",
       "    .dataframe tbody tr th {\n",
       "        vertical-align: top;\n",
       "    }\n",
       "\n",
       "    .dataframe thead th {\n",
       "        text-align: right;\n",
       "    }\n",
       "</style>\n",
       "<table border=\"1\" class=\"dataframe\">\n",
       "  <thead>\n",
       "    <tr style=\"text-align: right;\">\n",
       "      <th></th>\n",
       "      <th>MERS-CoV-MPro_fluorescence-dose-response_weizmann: IC50 (µM)</th>\n",
       "      <th>MERS-CoV-MPro_fluorescence-dose-response_weizmann: IC50 CI (Lower) (µM)</th>\n",
       "      <th>MERS-CoV-MPro_fluorescence-dose-response_weizmann: IC50 CI (Upper) (µM)</th>\n",
       "      <th>MERS-CoV-MPro_fluorescence-dose-response_weizmann: Curve class</th>\n",
       "      <th>MERS-CoV-MPro_fluorescence-dose-response_weizmann: Hill slope</th>\n",
       "      <th>MERS-CoV-MPro_fluorescence-dose-response_weizmann: pIC50</th>\n",
       "      <th>MERS-CoV-MPro_fluorescence-dose-response_weizmann: Minh_Protease_MERS_Mpro_pIC50 (calc) (uM)</th>\n",
       "      <th>MERS-CoV-MPro_fluorescence-dose-response_weizmann: Minh_Protease_MERS_Mpro_pIC50 (calc) (uM) Standard Deviation (±)</th>\n",
       "      <th>MERS-CoV-MPro_fluorescence-dose-response_weizmann: Minh_Protease_MERS_Mpro_pIC50 (calc) (uM) Count</th>\n",
       "      <th>Molecule Name</th>\n",
       "      <th>CXSMILES (CDD Compatible)</th>\n",
       "      <th>Batch Created Date</th>\n",
       "    </tr>\n",
       "  </thead>\n",
       "  <tbody>\n",
       "    <tr>\n",
       "      <th>944</th>\n",
       "      <td>&gt; 9.990</td>\n",
       "      <td>NaN</td>\n",
       "      <td>NaN</td>\n",
       "      <td>NaN</td>\n",
       "      <td>NaN</td>\n",
       "      <td>&lt; 5.0</td>\n",
       "      <td>4.19</td>\n",
       "      <td>NaN</td>\n",
       "      <td>1.0</td>\n",
       "      <td>ASAP-0000141</td>\n",
       "      <td>COC[C@]1(C)C(=O)N(C2=CN=CC3=CC=CC=C23)C(=O)N1C...</td>\n",
       "      <td>2022-08-09</td>\n",
       "    </tr>\n",
       "    <tr>\n",
       "      <th>943</th>\n",
       "      <td>&gt; 99.500</td>\n",
       "      <td>NaN</td>\n",
       "      <td>NaN</td>\n",
       "      <td>NaN</td>\n",
       "      <td>NaN</td>\n",
       "      <td>&lt; 4.0</td>\n",
       "      <td>4.19</td>\n",
       "      <td>NaN</td>\n",
       "      <td>1.0</td>\n",
       "      <td>ASAP-0000141</td>\n",
       "      <td>COC[C@]1(C)C(=O)N(C2=CN=CC3=CC=CC=C23)C(=O)N1C...</td>\n",
       "      <td>2022-08-09</td>\n",
       "    </tr>\n",
       "    <tr>\n",
       "      <th>942</th>\n",
       "      <td>&gt; 9.990</td>\n",
       "      <td>NaN</td>\n",
       "      <td>NaN</td>\n",
       "      <td>NaN</td>\n",
       "      <td>NaN</td>\n",
       "      <td>&lt; 5.0</td>\n",
       "      <td>4.92</td>\n",
       "      <td>0.842</td>\n",
       "      <td>2.0</td>\n",
       "      <td>ASAP-0000142</td>\n",
       "      <td>C=C(CN1CCC2=C(C=C(Cl)C=C2)C1C(=O)NC1=CN=CC2=CC...</td>\n",
       "      <td>2022-08-09</td>\n",
       "    </tr>\n",
       "    <tr>\n",
       "      <th>941</th>\n",
       "      <td>&gt; 99.500</td>\n",
       "      <td>NaN</td>\n",
       "      <td>NaN</td>\n",
       "      <td>NaN</td>\n",
       "      <td>NaN</td>\n",
       "      <td>&lt; 4.0</td>\n",
       "      <td>4.92</td>\n",
       "      <td>0.842</td>\n",
       "      <td>2.0</td>\n",
       "      <td>ASAP-0000142</td>\n",
       "      <td>C=C(CN1CCC2=C(C=C(Cl)C=C2)C1C(=O)NC1=CN=CC2=CC...</td>\n",
       "      <td>2022-08-09</td>\n",
       "    </tr>\n",
       "    <tr>\n",
       "      <th>940</th>\n",
       "      <td>&gt; 9.990</td>\n",
       "      <td>NaN</td>\n",
       "      <td>NaN</td>\n",
       "      <td>NaN</td>\n",
       "      <td>NaN</td>\n",
       "      <td>&lt; 5.0</td>\n",
       "      <td>4.73</td>\n",
       "      <td>0.655</td>\n",
       "      <td>2.0</td>\n",
       "      <td>ASAP-0000143</td>\n",
       "      <td>CNC(=O)CN1C[C@]2(C[C@H](C)N(C3=CN=CC=C3C3CC3)C...</td>\n",
       "      <td>2022-08-09</td>\n",
       "    </tr>\n",
       "  </tbody>\n",
       "</table>\n",
       "</div>"
      ],
      "text/plain": [
       "    MERS-CoV-MPro_fluorescence-dose-response_weizmann: IC50 (µM)  \\\n",
       "944                                            > 9.990             \n",
       "943                                           > 99.500             \n",
       "942                                            > 9.990             \n",
       "941                                           > 99.500             \n",
       "940                                            > 9.990             \n",
       "\n",
       "    MERS-CoV-MPro_fluorescence-dose-response_weizmann: IC50 CI (Lower) (µM)  \\\n",
       "944                                                NaN                        \n",
       "943                                                NaN                        \n",
       "942                                                NaN                        \n",
       "941                                                NaN                        \n",
       "940                                                NaN                        \n",
       "\n",
       "    MERS-CoV-MPro_fluorescence-dose-response_weizmann: IC50 CI (Upper) (µM)  \\\n",
       "944                                                NaN                        \n",
       "943                                                NaN                        \n",
       "942                                                NaN                        \n",
       "941                                                NaN                        \n",
       "940                                                NaN                        \n",
       "\n",
       "     MERS-CoV-MPro_fluorescence-dose-response_weizmann: Curve class  \\\n",
       "944                                                NaN                \n",
       "943                                                NaN                \n",
       "942                                                NaN                \n",
       "941                                                NaN                \n",
       "940                                                NaN                \n",
       "\n",
       "     MERS-CoV-MPro_fluorescence-dose-response_weizmann: Hill slope  \\\n",
       "944                                                NaN               \n",
       "943                                                NaN               \n",
       "942                                                NaN               \n",
       "941                                                NaN               \n",
       "940                                                NaN               \n",
       "\n",
       "    MERS-CoV-MPro_fluorescence-dose-response_weizmann: pIC50  \\\n",
       "944                                              < 5.0         \n",
       "943                                              < 4.0         \n",
       "942                                              < 5.0         \n",
       "941                                              < 4.0         \n",
       "940                                              < 5.0         \n",
       "\n",
       "     MERS-CoV-MPro_fluorescence-dose-response_weizmann: Minh_Protease_MERS_Mpro_pIC50 (calc) (uM)  \\\n",
       "944                                               4.19                                              \n",
       "943                                               4.19                                              \n",
       "942                                               4.92                                              \n",
       "941                                               4.92                                              \n",
       "940                                               4.73                                              \n",
       "\n",
       "     MERS-CoV-MPro_fluorescence-dose-response_weizmann: Minh_Protease_MERS_Mpro_pIC50 (calc) (uM) Standard Deviation (±)  \\\n",
       "944                                                NaN                                                                     \n",
       "943                                                NaN                                                                     \n",
       "942                                              0.842                                                                     \n",
       "941                                              0.842                                                                     \n",
       "940                                              0.655                                                                     \n",
       "\n",
       "     MERS-CoV-MPro_fluorescence-dose-response_weizmann: Minh_Protease_MERS_Mpro_pIC50 (calc) (uM) Count  \\\n",
       "944                                                1.0                                                    \n",
       "943                                                1.0                                                    \n",
       "942                                                2.0                                                    \n",
       "941                                                2.0                                                    \n",
       "940                                                2.0                                                    \n",
       "\n",
       "    Molecule Name                          CXSMILES (CDD Compatible)  \\\n",
       "944  ASAP-0000141  COC[C@]1(C)C(=O)N(C2=CN=CC3=CC=CC=C23)C(=O)N1C...   \n",
       "943  ASAP-0000141  COC[C@]1(C)C(=O)N(C2=CN=CC3=CC=CC=C23)C(=O)N1C...   \n",
       "942  ASAP-0000142  C=C(CN1CCC2=C(C=C(Cl)C=C2)C1C(=O)NC1=CN=CC2=CC...   \n",
       "941  ASAP-0000142  C=C(CN1CCC2=C(C=C(Cl)C=C2)C1C(=O)NC1=CN=CC2=CC...   \n",
       "940  ASAP-0000143  CNC(=O)CN1C[C@]2(C[C@H](C)N(C3=CN=CC=C3C3CC3)C...   \n",
       "\n",
       "    Batch Created Date  \n",
       "944         2022-08-09  \n",
       "943         2022-08-09  \n",
       "942         2022-08-09  \n",
       "941         2022-08-09  \n",
       "940         2022-08-09  "
      ]
     },
     "execution_count": 51,
     "metadata": {},
     "output_type": "execute_result"
    }
   ],
   "source": [
    "raw_mers = pd.read_csv(f'raw_data_package/potency/MERS-CoV-Mpro_potencies_CONFIDENTIAL.csv')\n",
    "raw_mers.sort_values(by=['Molecule Name']).head()"
   ]
  },
  {
   "cell_type": "markdown",
   "metadata": {},
   "source": [
    "The column used is: `MERS-CoV-MPro_fluorescence-dose-response_weizmann: Minh_Protease_MERS_Mpro_pIC50 (calc) (uM)` there is no column for the  '=' or '<', so assume it happens in the fields. "
   ]
  },
  {
   "cell_type": "code",
   "execution_count": 55,
   "metadata": {},
   "outputs": [
    {
     "data": {
      "text/plain": [
       "(dtype('float64'), dtype('O'))"
      ]
     },
     "execution_count": 55,
     "metadata": {},
     "output_type": "execute_result"
    }
   ],
   "source": [
    "raw_mers['MERS-CoV-MPro_fluorescence-dose-response_weizmann: Minh_Protease_MERS_Mpro_pIC50 (calc) (uM)'].dtype, raw_mers['MERS-CoV-MPro_fluorescence-dose-response_weizmann: pIC50'].dtype"
   ]
  },
  {
   "cell_type": "markdown",
   "metadata": {},
   "source": [
    "Double check all the molecule names in the raw data are all in the training data"
   ]
  },
  {
   "cell_type": "code",
   "execution_count": 132,
   "metadata": {},
   "outputs": [
    {
     "data": {
      "text/plain": [
       "(0, 130)"
      ]
     },
     "execution_count": 132,
     "metadata": {},
     "output_type": "execute_result"
    }
   ],
   "source": [
    "len(set(raw_mers['Molecule Name'].values) - set(df['Molecule Name'].values)), len(set(df['Molecule Name'].values)-set(raw_mers['Molecule Name'].values))"
   ]
  },
  {
   "cell_type": "markdown",
   "metadata": {},
   "source": [
    "So there are 130 molecules that did have a SARS measurement but not a MERS measurement. But there are no values in the raw data that are not in the training data. "
   ]
  },
  {
   "cell_type": "markdown",
   "metadata": {},
   "source": [
    "So we can assume that there are no censored values in the raw 'MERS' data. "
   ]
  },
  {
   "cell_type": "code",
   "execution_count": 147,
   "metadata": {},
   "outputs": [
    {
     "data": {
      "text/html": [
       "<div>\n",
       "<style scoped>\n",
       "    .dataframe tbody tr th:only-of-type {\n",
       "        vertical-align: middle;\n",
       "    }\n",
       "\n",
       "    .dataframe tbody tr th {\n",
       "        vertical-align: top;\n",
       "    }\n",
       "\n",
       "    .dataframe thead th {\n",
       "        text-align: right;\n",
       "    }\n",
       "</style>\n",
       "<table border=\"1\" class=\"dataframe\">\n",
       "  <thead>\n",
       "    <tr style=\"text-align: right;\">\n",
       "      <th></th>\n",
       "      <th>SARS-CoV-2-MPro_fluorescence-dose-response_weizmann: IC50 (µM)</th>\n",
       "      <th>SARS-CoV-2-MPro_fluorescence-dose-response_weizmann: IC50 CI (Lower) (µM)</th>\n",
       "      <th>SARS-CoV-2-MPro_fluorescence-dose-response_weizmann: IC50 CI (Upper) (µM)</th>\n",
       "      <th>SARS-CoV-2-MPro_fluorescence-dose-response_weizmann: Hill slope</th>\n",
       "      <th>SARS-CoV-2-MPro_fluorescence-dose-response_weizmann: pIC50 (log10M)</th>\n",
       "      <th>Molecule Name</th>\n",
       "      <th>CXSMILES (CDD Compatible)</th>\n",
       "      <th>Batch Created Date</th>\n",
       "    </tr>\n",
       "  </thead>\n",
       "  <tbody>\n",
       "    <tr>\n",
       "      <th>995</th>\n",
       "      <td>&gt; 9.990</td>\n",
       "      <td>NaN</td>\n",
       "      <td>NaN</td>\n",
       "      <td>NaN</td>\n",
       "      <td>&lt; 5.00</td>\n",
       "      <td>ASAP-0000141</td>\n",
       "      <td>COC[C@]1(C)C(=O)N(C2=CN=CC3=CC=CC=C23)C(=O)N1C...</td>\n",
       "      <td>2022-08-09</td>\n",
       "    </tr>\n",
       "    <tr>\n",
       "      <th>994</th>\n",
       "      <td>5.157</td>\n",
       "      <td>4.849</td>\n",
       "      <td>5.485</td>\n",
       "      <td>1.194</td>\n",
       "      <td>5.29</td>\n",
       "      <td>ASAP-0000142</td>\n",
       "      <td>C=C(CN1CCC2=C(C=C(Cl)C=C2)C1C(=O)NC1=CN=CC2=CC...</td>\n",
       "      <td>2022-08-09</td>\n",
       "    </tr>\n",
       "    <tr>\n",
       "      <th>993</th>\n",
       "      <td>&gt; 9.990</td>\n",
       "      <td>NaN</td>\n",
       "      <td>NaN</td>\n",
       "      <td>1.463</td>\n",
       "      <td>&lt; 5.00</td>\n",
       "      <td>ASAP-0000143</td>\n",
       "      <td>CNC(=O)CN1C[C@]2(C[C@H](C)N(C3=CN=CC=C3C3CC3)C...</td>\n",
       "      <td>2022-08-09</td>\n",
       "    </tr>\n",
       "    <tr>\n",
       "      <th>992</th>\n",
       "      <td>0.774</td>\n",
       "      <td>0.737</td>\n",
       "      <td>0.813</td>\n",
       "      <td>1.021</td>\n",
       "      <td>6.11</td>\n",
       "      <td>ASAP-0000144</td>\n",
       "      <td>C=C(CN1CCC2=C(C=C(Cl)C=C2)C1C(=O)NC1=CN=CC2=CC...</td>\n",
       "      <td>2022-08-09</td>\n",
       "    </tr>\n",
       "    <tr>\n",
       "      <th>991</th>\n",
       "      <td>2.388</td>\n",
       "      <td>2.197</td>\n",
       "      <td>2.595</td>\n",
       "      <td>1.289</td>\n",
       "      <td>5.62</td>\n",
       "      <td>ASAP-0000145</td>\n",
       "      <td>C=C(CN1CCC2=C(C=C(Cl)C=C2)C1C(=O)NC1=CN=CC2=CC...</td>\n",
       "      <td>2022-08-09</td>\n",
       "    </tr>\n",
       "  </tbody>\n",
       "</table>\n",
       "</div>"
      ],
      "text/plain": [
       "    SARS-CoV-2-MPro_fluorescence-dose-response_weizmann: IC50 (µM)  \\\n",
       "995                                            > 9.990               \n",
       "994                                              5.157               \n",
       "993                                            > 9.990               \n",
       "992                                              0.774               \n",
       "991                                              2.388               \n",
       "\n",
       "     SARS-CoV-2-MPro_fluorescence-dose-response_weizmann: IC50 CI (Lower) (µM)  \\\n",
       "995                                                NaN                           \n",
       "994                                              4.849                           \n",
       "993                                                NaN                           \n",
       "992                                              0.737                           \n",
       "991                                              2.197                           \n",
       "\n",
       "     SARS-CoV-2-MPro_fluorescence-dose-response_weizmann: IC50 CI (Upper) (µM)  \\\n",
       "995                                                NaN                           \n",
       "994                                              5.485                           \n",
       "993                                                NaN                           \n",
       "992                                              0.813                           \n",
       "991                                              2.595                           \n",
       "\n",
       "     SARS-CoV-2-MPro_fluorescence-dose-response_weizmann: Hill slope  \\\n",
       "995                                                NaN                 \n",
       "994                                              1.194                 \n",
       "993                                              1.463                 \n",
       "992                                              1.021                 \n",
       "991                                              1.289                 \n",
       "\n",
       "    SARS-CoV-2-MPro_fluorescence-dose-response_weizmann: pIC50 (log10M)  \\\n",
       "995                                             < 5.00                    \n",
       "994                                               5.29                    \n",
       "993                                             < 5.00                    \n",
       "992                                               6.11                    \n",
       "991                                               5.62                    \n",
       "\n",
       "    Molecule Name                          CXSMILES (CDD Compatible)  \\\n",
       "995  ASAP-0000141  COC[C@]1(C)C(=O)N(C2=CN=CC3=CC=CC=C23)C(=O)N1C...   \n",
       "994  ASAP-0000142  C=C(CN1CCC2=C(C=C(Cl)C=C2)C1C(=O)NC1=CN=CC2=CC...   \n",
       "993  ASAP-0000143  CNC(=O)CN1C[C@]2(C[C@H](C)N(C3=CN=CC=C3C3CC3)C...   \n",
       "992  ASAP-0000144  C=C(CN1CCC2=C(C=C(Cl)C=C2)C1C(=O)NC1=CN=CC2=CC...   \n",
       "991  ASAP-0000145  C=C(CN1CCC2=C(C=C(Cl)C=C2)C1C(=O)NC1=CN=CC2=CC...   \n",
       "\n",
       "    Batch Created Date  \n",
       "995         2022-08-09  \n",
       "994         2022-08-09  \n",
       "993         2022-08-09  \n",
       "992         2022-08-09  \n",
       "991         2022-08-09  "
      ]
     },
     "execution_count": 147,
     "metadata": {},
     "output_type": "execute_result"
    }
   ],
   "source": [
    "raw_sars = pd.read_csv(f'raw_data_package/potency/SARS-CoV-2-Mpro_potencies_CONFIDENTIAL.csv') #'SARS-CoV-2-Mpro_potencies_CONFIDENTIAL'\n",
    "raw_sars.sort_values(by=['Molecule Name']).head()"
   ]
  },
  {
   "cell_type": "markdown",
   "metadata": {},
   "source": [
    "Clearly there are censored values. Let's check what they're censoring to. "
   ]
  },
  {
   "cell_type": "code",
   "execution_count": 148,
   "metadata": {},
   "outputs": [
    {
     "data": {
      "text/html": [
       "<div>\n",
       "<style scoped>\n",
       "    .dataframe tbody tr th:only-of-type {\n",
       "        vertical-align: middle;\n",
       "    }\n",
       "\n",
       "    .dataframe tbody tr th {\n",
       "        vertical-align: top;\n",
       "    }\n",
       "\n",
       "    .dataframe thead th {\n",
       "        text-align: right;\n",
       "    }\n",
       "</style>\n",
       "<table border=\"1\" class=\"dataframe\">\n",
       "  <thead>\n",
       "    <tr style=\"text-align: right;\">\n",
       "      <th></th>\n",
       "      <th>value</th>\n",
       "      <th>count</th>\n",
       "    </tr>\n",
       "  </thead>\n",
       "  <tbody>\n",
       "    <tr>\n",
       "      <th>0</th>\n",
       "      <td>&lt; 4.00</td>\n",
       "      <td>246</td>\n",
       "    </tr>\n",
       "    <tr>\n",
       "      <th>1</th>\n",
       "      <td>&lt; 4.49</td>\n",
       "      <td>1</td>\n",
       "    </tr>\n",
       "    <tr>\n",
       "      <th>2</th>\n",
       "      <td>&lt; 5.00</td>\n",
       "      <td>9</td>\n",
       "    </tr>\n",
       "    <tr>\n",
       "      <th>3</th>\n",
       "      <td>&lt; 6.40</td>\n",
       "      <td>7</td>\n",
       "    </tr>\n",
       "    <tr>\n",
       "      <th>4</th>\n",
       "      <td>&lt; 6.70</td>\n",
       "      <td>8</td>\n",
       "    </tr>\n",
       "    <tr>\n",
       "      <th>5</th>\n",
       "      <td>&gt; 7.30</td>\n",
       "      <td>36</td>\n",
       "    </tr>\n",
       "    <tr>\n",
       "      <th>6</th>\n",
       "      <td>&gt; 7.34</td>\n",
       "      <td>2</td>\n",
       "    </tr>\n",
       "    <tr>\n",
       "      <th>7</th>\n",
       "      <td>&gt; 8.00</td>\n",
       "      <td>1</td>\n",
       "    </tr>\n",
       "    <tr>\n",
       "      <th>8</th>\n",
       "      <td>&gt; 8.30</td>\n",
       "      <td>1</td>\n",
       "    </tr>\n",
       "  </tbody>\n",
       "</table>\n",
       "</div>"
      ],
      "text/plain": [
       "    value  count\n",
       "0  < 4.00    246\n",
       "1  < 4.49      1\n",
       "2  < 5.00      9\n",
       "3  < 6.40      7\n",
       "4  < 6.70      8\n",
       "5  > 7.30     36\n",
       "6  > 7.34      2\n",
       "7  > 8.00      1\n",
       "8  > 8.30      1"
      ]
     },
     "execution_count": 148,
     "metadata": {},
     "output_type": "execute_result"
    }
   ],
   "source": [
    "measurement_col = 'SARS-CoV-2-MPro_fluorescence-dose-response_weizmann: pIC50 (log10M)'\n",
    "\n",
    "raw_sars = raw_sars.loc[~raw_sars[measurement_col].isna(), :] # 4 of the rows contain all nans\n",
    "\n",
    "vals, counts = np.unique(raw_sars.loc[raw_sars[measurement_col].str.contains('<|>'), measurement_col].values, return_counts=True)\n",
    "pd.DataFrame({'value': vals, 'count': counts})"
   ]
  },
  {
   "cell_type": "code",
   "execution_count": 149,
   "metadata": {},
   "outputs": [
    {
     "data": {
      "text/plain": [
       "(0.7012609117361784, 0.3773035887487876, 0.0)"
      ]
     },
     "execution_count": 149,
     "metadata": {},
     "output_type": "execute_result"
    }
   ],
   "source": [
    "(df['pIC50 (SARS-CoV-2 Mpro)']<6.7).mean(), (df['pIC50 (SARS-CoV-2 Mpro)']<5.00).mean(),  (df['pIC50 (SARS-CoV-2 Mpro)']<4.00).mean()"
   ]
  },
  {
   "cell_type": "code",
   "execution_count": 150,
   "metadata": {},
   "outputs": [
    {
     "data": {
      "image/png": "[encoded data removed]",
      "text/plain": [
       "<Figure size 500x500 with 1 Axes>"
      ]
     },
     "metadata": {},
     "output_type": "display_data"
    }
   ],
   "source": [
    "g = sns.displot(df['pIC50 (SARS-CoV-2 Mpro)'], kind='ecdf')\n",
    "plt.gca().grid(True)"
   ]
  },
  {
   "cell_type": "markdown",
   "metadata": {},
   "source": [
    "- The minimum target value of pIC50 for SARS is 7.69 so I don't think we can censore all the values above 7.3 to make one large 'very active' category. I think we can get away with censoring all those above 8.0 however. \n",
    "- 70% of the observations are below 6.7, so we can use that as the cutoff for the 'very inactive' class. We can put in the values below 4.0 back into the training data though. \n",
    "\n",
    "multiple values in the raw data might correspond to the same molecule however, so we need to filter out that. "
   ]
  },
  {
   "cell_type": "code",
   "execution_count": 204,
   "metadata": {},
   "outputs": [
    {
     "data": {
      "text/html": [
       "<div>\n",
       "<style scoped>\n",
       "    .dataframe tbody tr th:only-of-type {\n",
       "        vertical-align: middle;\n",
       "    }\n",
       "\n",
       "    .dataframe tbody tr th {\n",
       "        vertical-align: top;\n",
       "    }\n",
       "\n",
       "    .dataframe thead th {\n",
       "        text-align: right;\n",
       "    }\n",
       "</style>\n",
       "<table border=\"1\" class=\"dataframe\">\n",
       "  <thead>\n",
       "    <tr style=\"text-align: right;\">\n",
       "      <th></th>\n",
       "      <th>SARS-CoV-2-MPro_fluorescence-dose-response_weizmann: pIC50 (log10M)</th>\n",
       "      <th>Molecule Name</th>\n",
       "      <th>CXSMILES (CDD Compatible)</th>\n",
       "      <th>Batch Created Date</th>\n",
       "    </tr>\n",
       "  </thead>\n",
       "  <tbody>\n",
       "    <tr>\n",
       "      <th>399</th>\n",
       "      <td>&lt; 4.00</td>\n",
       "      <td>ASAP-0011351</td>\n",
       "      <td>CC1=CC(O[C@H]2CCN(C(=O)CC3=CN=CC4=CC=CC=C34)C2...</td>\n",
       "      <td>2023-06-13</td>\n",
       "    </tr>\n",
       "    <tr>\n",
       "      <th>400</th>\n",
       "      <td>&lt; 4.00</td>\n",
       "      <td>ASAP-0011351</td>\n",
       "      <td>CC1=CC(O[C@H]2CCN(C(=O)CC3=CN=CC4=CC=CC=C34)C2...</td>\n",
       "      <td>2023-06-13</td>\n",
       "    </tr>\n",
       "    <tr>\n",
       "      <th>403</th>\n",
       "      <td>&lt; 4.00</td>\n",
       "      <td>ASAP-0011342</td>\n",
       "      <td>O=C(CC1=CN=CC2=CC=CC=C12)N1CC[C@H](OCC2=CC=CC=...</td>\n",
       "      <td>2023-06-13</td>\n",
       "    </tr>\n",
       "    <tr>\n",
       "      <th>404</th>\n",
       "      <td>&lt; 4.00</td>\n",
       "      <td>ASAP-0011342</td>\n",
       "      <td>O=C(CC1=CN=CC2=CC=CC=C12)N1CC[C@H](OCC2=CC=CC=...</td>\n",
       "      <td>2023-06-13</td>\n",
       "    </tr>\n",
       "  </tbody>\n",
       "</table>\n",
       "</div>"
      ],
      "text/plain": [
       "    SARS-CoV-2-MPro_fluorescence-dose-response_weizmann: pIC50 (log10M)  \\\n",
       "399                                             < 4.00                    \n",
       "400                                             < 4.00                    \n",
       "403                                             < 4.00                    \n",
       "404                                             < 4.00                    \n",
       "\n",
       "    Molecule Name                          CXSMILES (CDD Compatible)  \\\n",
       "399  ASAP-0011351  CC1=CC(O[C@H]2CCN(C(=O)CC3=CN=CC4=CC=CC=C34)C2...   \n",
       "400  ASAP-0011351  CC1=CC(O[C@H]2CCN(C(=O)CC3=CN=CC4=CC=CC=C34)C2...   \n",
       "403  ASAP-0011342  O=C(CC1=CN=CC2=CC=CC=C12)N1CC[C@H](OCC2=CC=CC=...   \n",
       "404  ASAP-0011342  O=C(CC1=CN=CC2=CC=CC=C12)N1CC[C@H](OCC2=CC=CC=...   \n",
       "\n",
       "    Batch Created Date  \n",
       "399         2023-06-13  \n",
       "400         2023-06-13  \n",
       "403         2023-06-13  \n",
       "404         2023-06-13  "
      ]
     },
     "execution_count": 204,
     "metadata": {},
     "output_type": "execute_result"
    }
   ],
   "source": [
    "to_merge = raw_sars.loc[raw_sars[measurement_col].str.contains('< 4.00|> 8.'), [measurement_col, 'Molecule Name', 'CXSMILES (CDD Compatible)', 'Batch Created Date']]\n",
    "dupes = to_merge.duplicated(keep=False, subset=['Molecule Name'])\n",
    "to_merge.loc[dupes, :]"
   ]
  },
  {
   "cell_type": "markdown",
   "metadata": {},
   "source": [
    "We can safely drop the duplicates. "
   ]
  },
  {
   "cell_type": "code",
   "execution_count": 205,
   "metadata": {},
   "outputs": [
    {
     "data": {
      "text/html": [
       "<div>\n",
       "<style scoped>\n",
       "    .dataframe tbody tr th:only-of-type {\n",
       "        vertical-align: middle;\n",
       "    }\n",
       "\n",
       "    .dataframe tbody tr th {\n",
       "        vertical-align: top;\n",
       "    }\n",
       "\n",
       "    .dataframe thead th {\n",
       "        text-align: right;\n",
       "    }\n",
       "</style>\n",
       "<table border=\"1\" class=\"dataframe\">\n",
       "  <thead>\n",
       "    <tr style=\"text-align: right;\">\n",
       "      <th></th>\n",
       "      <th>SARS-CoV-2-MPro_fluorescence-dose-response_weizmann: pIC50 (log10M)</th>\n",
       "      <th>Molecule Name</th>\n",
       "      <th>CXSMILES (CDD Compatible)</th>\n",
       "      <th>Batch Created Date</th>\n",
       "      <th>pIC50</th>\n",
       "    </tr>\n",
       "  </thead>\n",
       "  <tbody>\n",
       "    <tr>\n",
       "      <th>15</th>\n",
       "      <td>&lt; 4.00</td>\n",
       "      <td>ASAP-0029383</td>\n",
       "      <td>CCCS(=O)(=O)N[C@H]1CCN(C(=O)CC2=CN=CC3=CC=CC=C...</td>\n",
       "      <td>2024-07-08</td>\n",
       "      <td>4.0</td>\n",
       "    </tr>\n",
       "    <tr>\n",
       "      <th>16</th>\n",
       "      <td>&lt; 4.00</td>\n",
       "      <td>ASAP-0029428</td>\n",
       "      <td>O=C(CC1=CN=CC2=CC=CC=C12)N1CCC(C2=NC3=CC=C(F)C...</td>\n",
       "      <td>2024-07-08</td>\n",
       "      <td>4.0</td>\n",
       "    </tr>\n",
       "    <tr>\n",
       "      <th>18</th>\n",
       "      <td>&lt; 4.00</td>\n",
       "      <td>ASAP-0029453</td>\n",
       "      <td>CCC1=NC(COC2CCN(C(=O)CC3=CN=CC4=CC=CC=C34)CC2)...</td>\n",
       "      <td>2024-07-08</td>\n",
       "      <td>4.0</td>\n",
       "    </tr>\n",
       "    <tr>\n",
       "      <th>24</th>\n",
       "      <td>&lt; 4.00</td>\n",
       "      <td>ASAP-0029456</td>\n",
       "      <td>O=C(CC1=CN=CC2=CC=CC=C12)N1CCC[C@H](CN2C=NC=N2...</td>\n",
       "      <td>2024-07-08</td>\n",
       "      <td>4.0</td>\n",
       "    </tr>\n",
       "    <tr>\n",
       "      <th>27</th>\n",
       "      <td>&lt; 4.00</td>\n",
       "      <td>ASAP-0029437</td>\n",
       "      <td>CN1C=C([C@H]2CCCN(C(=O)CC3=CN=CC4=CC=CC=C34)C2...</td>\n",
       "      <td>2024-07-08</td>\n",
       "      <td>4.0</td>\n",
       "    </tr>\n",
       "    <tr>\n",
       "      <th>...</th>\n",
       "      <td>...</td>\n",
       "      <td>...</td>\n",
       "      <td>...</td>\n",
       "      <td>...</td>\n",
       "      <td>...</td>\n",
       "    </tr>\n",
       "    <tr>\n",
       "      <th>1320</th>\n",
       "      <td>&lt; 4.00</td>\n",
       "      <td>ASAP-0029511</td>\n",
       "      <td>O=C(CC1=CN=CC2=CC=CC=C12)N1CC2=CON=C2C1</td>\n",
       "      <td>2024-07-08</td>\n",
       "      <td>4.0</td>\n",
       "    </tr>\n",
       "    <tr>\n",
       "      <th>1325</th>\n",
       "      <td>&lt; 4.00</td>\n",
       "      <td>ASAP-0029523</td>\n",
       "      <td>O=C(CC1=CN=CC2=CC=CC=C12)N1CC[C@H](COCC2=CC=CC...</td>\n",
       "      <td>2024-07-08</td>\n",
       "      <td>4.0</td>\n",
       "    </tr>\n",
       "    <tr>\n",
       "      <th>1326</th>\n",
       "      <td>&lt; 4.00</td>\n",
       "      <td>ASAP-0029461</td>\n",
       "      <td>CN(C)[C@H]1CC[C@H]2CN(C(=O)CC3=CN=CC4=CC=CC=C3...</td>\n",
       "      <td>2024-07-08</td>\n",
       "      <td>4.0</td>\n",
       "    </tr>\n",
       "    <tr>\n",
       "      <th>1327</th>\n",
       "      <td>&lt; 4.00</td>\n",
       "      <td>ASAP-0029481</td>\n",
       "      <td>O=C(CC1=CN=CC2=CC=CC=C12)N1C[C@H]2COC[C@H](C2)...</td>\n",
       "      <td>2024-07-08</td>\n",
       "      <td>4.0</td>\n",
       "    </tr>\n",
       "    <tr>\n",
       "      <th>1329</th>\n",
       "      <td>&lt; 4.00</td>\n",
       "      <td>ASAP-0029420</td>\n",
       "      <td>O=C(CC1=CN=CC2=CC=CC=C12)N1CCC[C@@H]1C1=NN=C2C...</td>\n",
       "      <td>2024-07-08</td>\n",
       "      <td>4.0</td>\n",
       "    </tr>\n",
       "  </tbody>\n",
       "</table>\n",
       "<p>246 rows × 5 columns</p>\n",
       "</div>"
      ],
      "text/plain": [
       "     SARS-CoV-2-MPro_fluorescence-dose-response_weizmann: pIC50 (log10M)  \\\n",
       "15                                               < 4.00                    \n",
       "16                                               < 4.00                    \n",
       "18                                               < 4.00                    \n",
       "24                                               < 4.00                    \n",
       "27                                               < 4.00                    \n",
       "...                                                 ...                    \n",
       "1320                                             < 4.00                    \n",
       "1325                                             < 4.00                    \n",
       "1326                                             < 4.00                    \n",
       "1327                                             < 4.00                    \n",
       "1329                                             < 4.00                    \n",
       "\n",
       "     Molecule Name                          CXSMILES (CDD Compatible)  \\\n",
       "15    ASAP-0029383  CCCS(=O)(=O)N[C@H]1CCN(C(=O)CC2=CN=CC3=CC=CC=C...   \n",
       "16    ASAP-0029428  O=C(CC1=CN=CC2=CC=CC=C12)N1CCC(C2=NC3=CC=C(F)C...   \n",
       "18    ASAP-0029453  CCC1=NC(COC2CCN(C(=O)CC3=CN=CC4=CC=CC=C34)CC2)...   \n",
       "24    ASAP-0029456  O=C(CC1=CN=CC2=CC=CC=C12)N1CCC[C@H](CN2C=NC=N2...   \n",
       "27    ASAP-0029437  CN1C=C([C@H]2CCCN(C(=O)CC3=CN=CC4=CC=CC=C34)C2...   \n",
       "...            ...                                                ...   \n",
       "1320  ASAP-0029511            O=C(CC1=CN=CC2=CC=CC=C12)N1CC2=CON=C2C1   \n",
       "1325  ASAP-0029523  O=C(CC1=CN=CC2=CC=CC=C12)N1CC[C@H](COCC2=CC=CC...   \n",
       "1326  ASAP-0029461  CN(C)[C@H]1CC[C@H]2CN(C(=O)CC3=CN=CC4=CC=CC=C3...   \n",
       "1327  ASAP-0029481  O=C(CC1=CN=CC2=CC=CC=C12)N1C[C@H]2COC[C@H](C2)...   \n",
       "1329  ASAP-0029420  O=C(CC1=CN=CC2=CC=CC=C12)N1CCC[C@@H]1C1=NN=C2C...   \n",
       "\n",
       "     Batch Created Date  pIC50  \n",
       "15           2024-07-08    4.0  \n",
       "16           2024-07-08    4.0  \n",
       "18           2024-07-08    4.0  \n",
       "24           2024-07-08    4.0  \n",
       "27           2024-07-08    4.0  \n",
       "...                 ...    ...  \n",
       "1320         2024-07-08    4.0  \n",
       "1325         2024-07-08    4.0  \n",
       "1326         2024-07-08    4.0  \n",
       "1327         2024-07-08    4.0  \n",
       "1329         2024-07-08    4.0  \n",
       "\n",
       "[246 rows x 5 columns]"
      ]
     },
     "execution_count": 205,
     "metadata": {},
     "output_type": "execute_result"
    }
   ],
   "source": [
    "to_merge = to_merge.drop_duplicates(subset=['Molecule Name'])\n",
    "to_merge.loc[:, 'pIC50'] = to_merge[measurement_col].str.extract('([0-9].[0-9]+)').astype(float)\n",
    "to_merge"
   ]
  },
  {
   "cell_type": "markdown",
   "metadata": {},
   "source": [
    "We only want to replace *missing* values in the training data so let's filter out the molecules in this set that have actual values in the training data. e.g., from a measurement that was at first censored, subsequently not censored. "
   ]
  },
  {
   "cell_type": "code",
   "execution_count": 206,
   "metadata": {},
   "outputs": [
    {
     "name": "stdout",
     "output_type": "stream",
     "text": [
      "(246, 5)\n"
     ]
    },
    {
     "data": {
      "text/plain": [
       "(243, 5)"
      ]
     },
     "execution_count": 206,
     "metadata": {},
     "output_type": "execute_result"
    }
   ],
   "source": [
    "not_missing = df.loc[~df['pIC50 (SARS-CoV-2 Mpro)'].isna(), 'Molecule Name'].values\n",
    "print(to_merge.shape)\n",
    "to_merge = to_merge.loc[~to_merge['Molecule Name'].isin(not_missing), :].copy()\n",
    "to_merge.shape"
   ]
  },
  {
   "cell_type": "code",
   "execution_count": 207,
   "metadata": {},
   "outputs": [
    {
     "data": {
      "text/plain": [
       "(68, 856)"
      ]
     },
     "execution_count": 207,
     "metadata": {},
     "output_type": "execute_result"
    }
   ],
   "source": [
    "len(set(to_merge['Molecule Name'].values) - set(df['Molecule Name'].values)), len(set(df['Molecule Name'].values)-set(to_merge['Molecule Name'].values))"
   ]
  },
  {
   "cell_type": "markdown",
   "metadata": {},
   "source": [
    "So there are 68 new values to put in the training data. Presumably all under pIC50 < 4. "
   ]
  },
  {
   "cell_type": "code",
   "execution_count": 208,
   "metadata": {},
   "outputs": [],
   "source": [
    "to_merge.rename(columns={'CXSMILES (CDD Compatible)':'CXSMILES', 'pIC50': 'pIC50 (SARS-CoV-2 Mpro)' }, inplace=True)\n",
    "# to_merge['pIC50 (MERS-CoV Mpro)'] = np.nan\n"
   ]
  },
  {
   "cell_type": "code",
   "execution_count": 209,
   "metadata": {},
   "outputs": [
    {
     "data": {
      "text/html": [
       "<div>\n",
       "<style scoped>\n",
       "    .dataframe tbody tr th:only-of-type {\n",
       "        vertical-align: middle;\n",
       "    }\n",
       "\n",
       "    .dataframe tbody tr th {\n",
       "        vertical-align: top;\n",
       "    }\n",
       "\n",
       "    .dataframe thead th {\n",
       "        text-align: right;\n",
       "    }\n",
       "</style>\n",
       "<table border=\"1\" class=\"dataframe\">\n",
       "  <thead>\n",
       "    <tr style=\"text-align: right;\">\n",
       "      <th></th>\n",
       "      <th>CXSMILES</th>\n",
       "      <th>pIC50 (SARS-CoV-2 Mpro)</th>\n",
       "      <th>Molecule Name</th>\n",
       "      <th>pIC50 (MERS-CoV Mpro)</th>\n",
       "    </tr>\n",
       "  </thead>\n",
       "  <tbody>\n",
       "    <tr>\n",
       "      <th>15</th>\n",
       "      <td>CCCS(=O)(=O)N[C@H]1CCN(C(=O)CC2=CN=CC3=CC=CC=C...</td>\n",
       "      <td>4.0</td>\n",
       "      <td>ASAP-0029383</td>\n",
       "      <td>NaN</td>\n",
       "    </tr>\n",
       "    <tr>\n",
       "      <th>16</th>\n",
       "      <td>O=C(CC1=CN=CC2=CC=CC=C12)N1CCC(C2=NC3=CC=C(F)C...</td>\n",
       "      <td>4.0</td>\n",
       "      <td>ASAP-0029428</td>\n",
       "      <td>NaN</td>\n",
       "    </tr>\n",
       "    <tr>\n",
       "      <th>18</th>\n",
       "      <td>CCC1=NC(COC2CCN(C(=O)CC3=CN=CC4=CC=CC=C34)CC2)...</td>\n",
       "      <td>4.0</td>\n",
       "      <td>ASAP-0029453</td>\n",
       "      <td>NaN</td>\n",
       "    </tr>\n",
       "    <tr>\n",
       "      <th>24</th>\n",
       "      <td>O=C(CC1=CN=CC2=CC=CC=C12)N1CCC[C@H](CN2C=NC=N2...</td>\n",
       "      <td>4.0</td>\n",
       "      <td>ASAP-0029456</td>\n",
       "      <td>NaN</td>\n",
       "    </tr>\n",
       "    <tr>\n",
       "      <th>27</th>\n",
       "      <td>CN1C=C([C@H]2CCCN(C(=O)CC3=CN=CC4=CC=CC=C34)C2...</td>\n",
       "      <td>4.0</td>\n",
       "      <td>ASAP-0029437</td>\n",
       "      <td>NaN</td>\n",
       "    </tr>\n",
       "  </tbody>\n",
       "</table>\n",
       "</div>"
      ],
      "text/plain": [
       "                                             CXSMILES  \\\n",
       "15  CCCS(=O)(=O)N[C@H]1CCN(C(=O)CC2=CN=CC3=CC=CC=C...   \n",
       "16  O=C(CC1=CN=CC2=CC=CC=C12)N1CCC(C2=NC3=CC=C(F)C...   \n",
       "18  CCC1=NC(COC2CCN(C(=O)CC3=CN=CC4=CC=CC=C34)CC2)...   \n",
       "24  O=C(CC1=CN=CC2=CC=CC=C12)N1CCC[C@H](CN2C=NC=N2...   \n",
       "27  CN1C=C([C@H]2CCCN(C(=O)CC3=CN=CC4=CC=CC=C34)C2...   \n",
       "\n",
       "    pIC50 (SARS-CoV-2 Mpro) Molecule Name  pIC50 (MERS-CoV Mpro)  \n",
       "15                      4.0  ASAP-0029383                    NaN  \n",
       "16                      4.0  ASAP-0029428                    NaN  \n",
       "18                      4.0  ASAP-0029453                    NaN  \n",
       "24                      4.0  ASAP-0029456                    NaN  \n",
       "27                      4.0  ASAP-0029437                    NaN  "
      ]
     },
     "execution_count": 209,
     "metadata": {},
     "output_type": "execute_result"
    }
   ],
   "source": [
    "\n",
    "all_df = pd.concat([to_merge.loc[:, ['CXSMILES', 'pIC50 (SARS-CoV-2 Mpro)', 'Molecule Name']],\n",
    "                    df], axis=0)\n",
    "all_df.head()\n"
   ]
  },
  {
   "cell_type": "code",
   "execution_count": 210,
   "metadata": {},
   "outputs": [
    {
     "data": {
      "text/html": [
       "<div>\n",
       "<style scoped>\n",
       "    .dataframe tbody tr th:only-of-type {\n",
       "        vertical-align: middle;\n",
       "    }\n",
       "\n",
       "    .dataframe tbody tr th {\n",
       "        vertical-align: top;\n",
       "    }\n",
       "\n",
       "    .dataframe thead th {\n",
       "        text-align: right;\n",
       "    }\n",
       "</style>\n",
       "<table border=\"1\" class=\"dataframe\">\n",
       "  <thead>\n",
       "    <tr style=\"text-align: right;\">\n",
       "      <th></th>\n",
       "      <th>CXSMILES</th>\n",
       "      <th>pIC50 (SARS-CoV-2 Mpro)</th>\n",
       "      <th>Molecule Name</th>\n",
       "      <th>pIC50 (MERS-CoV Mpro)</th>\n",
       "    </tr>\n",
       "  </thead>\n",
       "  <tbody>\n",
       "    <tr>\n",
       "      <th>942</th>\n",
       "      <td>O=C1[C@H]2CCCCN2C(=O)N1C1=CN=CC2=CC=CC=C12</td>\n",
       "      <td>4.0</td>\n",
       "      <td>ASAP-0000178</td>\n",
       "      <td>NaN</td>\n",
       "    </tr>\n",
       "    <tr>\n",
       "      <th>35</th>\n",
       "      <td>O=C1[C@H]2CCCCN2C(=O)N1C1=CN=CC2=CC=CC=C12</td>\n",
       "      <td>NaN</td>\n",
       "      <td>ASAP-0000178</td>\n",
       "      <td>4.26</td>\n",
       "    </tr>\n",
       "    <tr>\n",
       "      <th>40</th>\n",
       "      <td>C[C@H]1CC[C@H]2C(=O)N(C3=CN=CC4=CC=CC=C34)C(=O...</td>\n",
       "      <td>NaN</td>\n",
       "      <td>ASAP-0000183</td>\n",
       "      <td>4.76</td>\n",
       "    </tr>\n",
       "    <tr>\n",
       "      <th>937</th>\n",
       "      <td>C[C@H]1CC[C@H]2C(=O)N(C3=CN=CC4=CC=CC=C34)C(=O...</td>\n",
       "      <td>4.0</td>\n",
       "      <td>ASAP-0000183</td>\n",
       "      <td>NaN</td>\n",
       "    </tr>\n",
       "    <tr>\n",
       "      <th>873</th>\n",
       "      <td>CO[C@H]1CC[C@H]2C(=O)N(C3=CN=CC4=CC=CC=C34)C(=...</td>\n",
       "      <td>4.0</td>\n",
       "      <td>ASAP-0000230</td>\n",
       "      <td>NaN</td>\n",
       "    </tr>\n",
       "    <tr>\n",
       "      <th>...</th>\n",
       "      <td>...</td>\n",
       "      <td>...</td>\n",
       "      <td>...</td>\n",
       "      <td>...</td>\n",
       "    </tr>\n",
       "    <tr>\n",
       "      <th>1025</th>\n",
       "      <td>O=C(CC1=CN=CC2=CC=CC=C12)N1CCC[C@@H](CCO)C1 |a...</td>\n",
       "      <td>NaN</td>\n",
       "      <td>ASAP-0031894</td>\n",
       "      <td>4.27</td>\n",
       "    </tr>\n",
       "    <tr>\n",
       "      <th>1028</th>\n",
       "      <td>CNC(=O)[C@H]1CCCN(C(=O)CC2=CN=CC3=CC=CC=C23)C1...</td>\n",
       "      <td>NaN</td>\n",
       "      <td>ASAP-0031918</td>\n",
       "      <td>4.22</td>\n",
       "    </tr>\n",
       "    <tr>\n",
       "      <th>283</th>\n",
       "      <td>CNC(=O)[C@H]1CCCN(C(=O)CC2=CN=CC3=CC=CC=C23)C1...</td>\n",
       "      <td>4.0</td>\n",
       "      <td>ASAP-0031918</td>\n",
       "      <td>NaN</td>\n",
       "    </tr>\n",
       "    <tr>\n",
       "      <th>286</th>\n",
       "      <td>O=C(O)C[C@H]1CCCN(C(=O)CC2=CN=CC3=CC=CC=C23)C1...</td>\n",
       "      <td>4.0</td>\n",
       "      <td>ASAP-0031932</td>\n",
       "      <td>NaN</td>\n",
       "    </tr>\n",
       "    <tr>\n",
       "      <th>1030</th>\n",
       "      <td>O=C(O)C[C@H]1CCCN(C(=O)CC2=CN=CC3=CC=CC=C23)C1...</td>\n",
       "      <td>NaN</td>\n",
       "      <td>ASAP-0031932</td>\n",
       "      <td>4.22</td>\n",
       "    </tr>\n",
       "  </tbody>\n",
       "</table>\n",
       "<p>350 rows × 4 columns</p>\n",
       "</div>"
      ],
      "text/plain": [
       "                                               CXSMILES  \\\n",
       "942          O=C1[C@H]2CCCCN2C(=O)N1C1=CN=CC2=CC=CC=C12   \n",
       "35           O=C1[C@H]2CCCCN2C(=O)N1C1=CN=CC2=CC=CC=C12   \n",
       "40    C[C@H]1CC[C@H]2C(=O)N(C3=CN=CC4=CC=CC=C34)C(=O...   \n",
       "937   C[C@H]1CC[C@H]2C(=O)N(C3=CN=CC4=CC=CC=C34)C(=O...   \n",
       "873   CO[C@H]1CC[C@H]2C(=O)N(C3=CN=CC4=CC=CC=C34)C(=...   \n",
       "...                                                 ...   \n",
       "1025  O=C(CC1=CN=CC2=CC=CC=C12)N1CCC[C@@H](CCO)C1 |a...   \n",
       "1028  CNC(=O)[C@H]1CCCN(C(=O)CC2=CN=CC3=CC=CC=C23)C1...   \n",
       "283   CNC(=O)[C@H]1CCCN(C(=O)CC2=CN=CC3=CC=CC=C23)C1...   \n",
       "286   O=C(O)C[C@H]1CCCN(C(=O)CC2=CN=CC3=CC=CC=C23)C1...   \n",
       "1030  O=C(O)C[C@H]1CCCN(C(=O)CC2=CN=CC3=CC=CC=C23)C1...   \n",
       "\n",
       "      pIC50 (SARS-CoV-2 Mpro) Molecule Name  pIC50 (MERS-CoV Mpro)  \n",
       "942                       4.0  ASAP-0000178                    NaN  \n",
       "35                        NaN  ASAP-0000178                   4.26  \n",
       "40                        NaN  ASAP-0000183                   4.76  \n",
       "937                       4.0  ASAP-0000183                    NaN  \n",
       "873                       4.0  ASAP-0000230                    NaN  \n",
       "...                       ...           ...                    ...  \n",
       "1025                      NaN  ASAP-0031894                   4.27  \n",
       "1028                      NaN  ASAP-0031918                   4.22  \n",
       "283                       4.0  ASAP-0031918                    NaN  \n",
       "286                       4.0  ASAP-0031932                    NaN  \n",
       "1030                      NaN  ASAP-0031932                   4.22  \n",
       "\n",
       "[350 rows x 4 columns]"
      ]
     },
     "execution_count": 210,
     "metadata": {},
     "output_type": "execute_result"
    }
   ],
   "source": [
    "dupes = all_df.duplicated(keep=False, subset=['Molecule Name'])\n",
    "all_df.loc[dupes, :].sort_values(by='Molecule Name')"
   ]
  },
  {
   "cell_type": "code",
   "execution_count": 211,
   "metadata": {},
   "outputs": [
    {
     "data": {
      "text/html": [
       "<div>\n",
       "<style scoped>\n",
       "    .dataframe tbody tr th:only-of-type {\n",
       "        vertical-align: middle;\n",
       "    }\n",
       "\n",
       "    .dataframe tbody tr th {\n",
       "        vertical-align: top;\n",
       "    }\n",
       "\n",
       "    .dataframe thead th {\n",
       "        text-align: right;\n",
       "    }\n",
       "</style>\n",
       "<table border=\"1\" class=\"dataframe\">\n",
       "  <thead>\n",
       "    <tr style=\"text-align: right;\">\n",
       "      <th></th>\n",
       "      <th>CXSMILES</th>\n",
       "      <th>pIC50 (SARS-CoV-2 Mpro)</th>\n",
       "      <th>Molecule Name</th>\n",
       "      <th>pIC50 (MERS-CoV Mpro)</th>\n",
       "    </tr>\n",
       "  </thead>\n",
       "  <tbody>\n",
       "    <tr>\n",
       "      <th>15</th>\n",
       "      <td>CCCS(=O)(=O)N[C@H]1CCN(C(=O)CC2=CN=CC3=CC=CC=C...</td>\n",
       "      <td>4.0</td>\n",
       "      <td>ASAP-0029383</td>\n",
       "      <td>NaN</td>\n",
       "    </tr>\n",
       "    <tr>\n",
       "      <th>16</th>\n",
       "      <td>O=C(CC1=CN=CC2=CC=CC=C12)N1CCC(C2=NC3=CC=C(F)C...</td>\n",
       "      <td>4.0</td>\n",
       "      <td>ASAP-0029428</td>\n",
       "      <td>NaN</td>\n",
       "    </tr>\n",
       "    <tr>\n",
       "      <th>18</th>\n",
       "      <td>CCC1=NC(COC2CCN(C(=O)CC3=CN=CC4=CC=CC=C34)CC2)...</td>\n",
       "      <td>4.0</td>\n",
       "      <td>ASAP-0029453</td>\n",
       "      <td>NaN</td>\n",
       "    </tr>\n",
       "    <tr>\n",
       "      <th>24</th>\n",
       "      <td>O=C(CC1=CN=CC2=CC=CC=C12)N1CCC[C@H](CN2C=NC=N2...</td>\n",
       "      <td>4.0</td>\n",
       "      <td>ASAP-0029456</td>\n",
       "      <td>NaN</td>\n",
       "    </tr>\n",
       "    <tr>\n",
       "      <th>27</th>\n",
       "      <td>CN1C=C([C@H]2CCCN(C(=O)CC3=CN=CC4=CC=CC=C34)C2...</td>\n",
       "      <td>4.0</td>\n",
       "      <td>ASAP-0029437</td>\n",
       "      <td>NaN</td>\n",
       "    </tr>\n",
       "  </tbody>\n",
       "</table>\n",
       "</div>"
      ],
      "text/plain": [
       "                                             CXSMILES  \\\n",
       "15  CCCS(=O)(=O)N[C@H]1CCN(C(=O)CC2=CN=CC3=CC=CC=C...   \n",
       "16  O=C(CC1=CN=CC2=CC=CC=C12)N1CCC(C2=NC3=CC=C(F)C...   \n",
       "18  CCC1=NC(COC2CCN(C(=O)CC3=CN=CC4=CC=CC=C34)CC2)...   \n",
       "24  O=C(CC1=CN=CC2=CC=CC=C12)N1CCC[C@H](CN2C=NC=N2...   \n",
       "27  CN1C=C([C@H]2CCCN(C(=O)CC3=CN=CC4=CC=CC=C34)C2...   \n",
       "\n",
       "    pIC50 (SARS-CoV-2 Mpro) Molecule Name  pIC50 (MERS-CoV Mpro)  \n",
       "15                      4.0  ASAP-0029383                    NaN  \n",
       "16                      4.0  ASAP-0029428                    NaN  \n",
       "18                      4.0  ASAP-0029453                    NaN  \n",
       "24                      4.0  ASAP-0029456                    NaN  \n",
       "27                      4.0  ASAP-0029437                    NaN  "
      ]
     },
     "execution_count": 211,
     "metadata": {},
     "output_type": "execute_result"
    }
   ],
   "source": [
    "all_df.head()"
   ]
  },
  {
   "cell_type": "code",
   "execution_count": 213,
   "metadata": {},
   "outputs": [
    {
     "name": "stdout",
     "output_type": "stream",
     "text": [
      "pIC50 (SARS-CoV-2 Mpro)\n",
      "pIC50 (MERS-CoV Mpro)\n"
     ]
    }
   ],
   "source": [
    "\n",
    "for col in all_df.filter(regex='pIC50.*').columns:\n",
    "    print(col)\n",
    "    all_df.sort_values(by=['Molecule Name', col], inplace=True)\n",
    "\n",
    "\n",
    "    all_df.loc[:, [col]] = all_df.groupby('Molecule Name')[col].ffill()"
   ]
  },
  {
   "cell_type": "code",
   "execution_count": 214,
   "metadata": {},
   "outputs": [
    {
     "data": {
      "text/plain": [
       "CXSMILES                     0\n",
       "pIC50 (SARS-CoV-2 Mpro)     14\n",
       "Molecule Name                0\n",
       "pIC50 (MERS-CoV Mpro)      198\n",
       "dtype: int64"
      ]
     },
     "execution_count": 214,
     "metadata": {},
     "output_type": "execute_result"
    }
   ],
   "source": [
    "all_df.isna().sum()"
   ]
  },
  {
   "cell_type": "code",
   "execution_count": 215,
   "metadata": {},
   "outputs": [
    {
     "data": {
      "text/plain": [
       "CXSMILES                     0\n",
       "Molecule Name                0\n",
       "pIC50 (MERS-CoV Mpro)      130\n",
       "pIC50 (SARS-CoV-2 Mpro)    189\n",
       "dtype: int64"
      ]
     },
     "execution_count": 215,
     "metadata": {},
     "output_type": "execute_result"
    }
   ],
   "source": [
    "df.isna().sum()"
   ]
  },
  {
   "cell_type": "code",
   "execution_count": 216,
   "metadata": {},
   "outputs": [],
   "source": [
    "all_df.to_csv('data/train_potency_all.csv', index=False)"
   ]
  },
  {
   "cell_type": "markdown",
   "metadata": {},
   "source": []
  }
 ],
 "metadata": {
  "kernelspec": {
   "display_name": "polaris",
   "language": "python",
   "name": "python3"
  },
  "language_info": {
   "codemirror_mode": {
    "name": "ipython",
    "version": 3
   },
   "file_extension": ".py",
   "mimetype": "text/x-python",
   "name": "python",
   "nbconvert_exporter": "python",
   "pygments_lexer": "ipython3",
   "version": "3.12.8"
  }
 },
 "nbformat": 4,
 "nbformat_minor": 2
}
