{
 "cells": [
  {
   "cell_type": "code",
   "execution_count": 14,
   "metadata": {},
   "outputs": [],
   "source": [
    "from collections import defaultdict\n",
    "from typing import Tuple\n",
    "import logging\n",
    "import sys\n",
    "\n",
    "\n",
    "import polaris as po\n",
    "import pandas as pd\n",
    "import matplotlib.pyplot as plt\n",
    "import seaborn as sns\n",
    "import sklearn as sk\n",
    "import numpy as np\n",
    "import datamol as dm\n",
    "import splito\n",
    "import optuna\n",
    "from yellowbrick.regressor import ResidualsPlot, PredictionError\n",
    "\n",
    "\n",
    "from sklearn.metrics import mean_absolute_error, r2_score"
   ]
  },
  {
   "cell_type": "code",
   "execution_count": 2,
   "metadata": {},
   "outputs": [],
   "source": [
    "def mask_nan(y_true, y_pred):\n",
    "    mask = ~np.isnan(y_true)\n",
    "    y_true = np.array(y_true)[mask]\n",
    "    y_pred = np.array(y_pred)[mask]\n",
    "    return y_true, y_pred\n",
    "\n",
    "def eval_admet(preds: dict[str, list], refs: dict[str, list]) -> Tuple[dict[str, float], np.ndarray]:\n",
    "    \"\"\"\n",
    "    Eval ADMET targets with MAE for pre-log10 transformed targets (LogD) and MALE  (MAE on log10 transformed dataset) on non-transformed data\n",
    "\n",
    "    This provides a \"relative\" error metric that will not be as sensitive to the large outliers with huge errors. This is sometimes known as MALE.\n",
    "\n",
    "    Parameters\n",
    "    ----------\n",
    "    preds : dict[str, list]\n",
    "        Dictionary of predicted ADMET values.\n",
    "    refs : dict[str, list]\n",
    "        Dictionary of reference ADMET values.\n",
    "\n",
    "    Returns\n",
    "    -------\n",
    "    dict[str, float]\n",
    "        Returns a dictonary of summary statistics\n",
    "    \"\"\"\n",
    "    keys = {\n",
    "        \"MLM\",\n",
    "        \"HLM\",\n",
    "        \"KSOL\",\n",
    "        \"LogD\",\n",
    "        \"MDR1-MDCKII\",\n",
    "    }\n",
    "    # will be treated as is\n",
    "    logscale_endpts = {\"LogD\"}\n",
    "\n",
    "    collect = defaultdict(dict)\n",
    "\n",
    "    for k in keys:\n",
    "        if k not in preds.keys() or k not in refs.keys():\n",
    "            raise ValueError(\"required key not present\")\n",
    "\n",
    "        ref, pred = mask_nan(refs[k], preds[k])\n",
    "\n",
    "        if k in logscale_endpts:\n",
    "            # already log10scaled\n",
    "            mae = mean_absolute_error(ref, pred)\n",
    "            r2 = r2_score(ref, pred)\n",
    "        else:\n",
    "            # clip to a detection limit\n",
    "            epsilon = 1e-8\n",
    "            pred = np.clip(pred, a_min=epsilon, a_max=None)\n",
    "            ref = np.clip(ref, a_min=epsilon, a_max=None)\n",
    "\n",
    "            # transform both log10scale\n",
    "            pred_log10s = np.log10(pred)\n",
    "            ref_log10s = np.log10(ref)\n",
    "\n",
    "            # compute MALE and R2 in log space\n",
    "            mae = mean_absolute_error(ref_log10s, pred_log10s)\n",
    "            r2 = r2_score(ref_log10s, pred_log10s)\n",
    "\n",
    "        collect[k][\"mean_absolute_error\"] = mae\n",
    "        collect[k][\"r2\"] = r2\n",
    "\n",
    "    # compute macro average MAE\n",
    "    macro_mae = np.mean([collect[k][\"mean_absolute_error\"] for k in keys])\n",
    "    collect[\"aggregated\"][\"macro_mean_absolute_error\"] = macro_mae\n",
    "\n",
    "    # compute macro average R2\n",
    "    macro_r2 = np.mean([collect[k][\"r2\"] for k in keys])\n",
    "    collect[\"aggregated\"][\"macro_r2\"] = macro_r2\n",
    "\n",
    "    return collect"
   ]
  },
  {
   "cell_type": "code",
   "execution_count": 4,
   "metadata": {},
   "outputs": [
    {
     "data": {
      "text/plain": [
       "((348, 6), (86, 6))"
      ]
     },
     "execution_count": 4,
     "metadata": {},
     "output_type": "execute_result"
    }
   ],
   "source": [
    "train_idx = np.load('data/train_idx.npy')\n",
    "test_idx = np.load('data/test_idx.npy')\n",
    "data = pd.read_csv('data/train_data.csv')\n",
    "train = data.iloc[train_idx, :].copy()\n",
    "test = data.iloc[test_idx, :].copy()\n",
    "\n",
    "train.shape, test.shape"
   ]
  },
  {
   "cell_type": "code",
   "execution_count": 5,
   "metadata": {},
   "outputs": [],
   "source": [
    "class YTransform:\n",
    "    def __init__(self):\n",
    "        self.scaler = sk.preprocessing.MinMaxScaler(feature_range=(1, 100))\n",
    "        self.cols = ['MLM', 'HLM', 'D', 'KSOL', 'MDR1-MDCKII']\n",
    "        self.missing_ix_by_col = {}\n",
    "\n",
    "    def fit(self,df_train_Y):\n",
    "        Y = self._col_select(df_train_Y)\n",
    "        self.scaler.fit(Y)\n",
    "\n",
    "    \n",
    "    def _col_select(self, Y):\n",
    "        Y.loc[:, 'D'] = np.exp(Y['LogD'].values)\n",
    "        return Y.loc[:,self.cols].values\n",
    "\n",
    "    def transform(self, df_Y): \n",
    "        Y = self._col_select(df_Y)\n",
    "        df = pd.DataFrame(np.log(self.scaler.transform(Y)), columns=self.cols)\n",
    "        return df\n",
    "    \n",
    "    def inverse_transform(self, trans_Y, col):\n",
    "        shape= (trans_Y.shape[0], len(self.cols))\n",
    "        ix = np.where(np.array(self.cols)==col)[0]\n",
    "\n",
    "\n",
    "        df = pd.DataFrame(np.zeros(shape), columns=self.cols)\n",
    "        df.loc[:, col] = trans_Y\n",
    "        Y =  self.scaler.inverse_transform(np.exp(df.values))\n",
    "        \n",
    "        return pd.DataFrame({col: Y[:, ix].flatten()})\n",
    "        \n",
    "    \n",
    "    def not_nan(self, X, df_Y, col):\n",
    "        ix = ~df_Y[col].isna()\n",
    "        \n",
    "        return X[ix, :], df_Y.loc[ix, col].values\n",
    "        \n",
    "\n",
    "    \n",
    "class FPTransform:\n",
    "    def __init__(self):\n",
    "        self.fps = None\n",
    "        self.fps_std = None\n",
    "        self.std_to_ix = {} \n",
    "\n",
    "    def fit(self, X): \n",
    "        self.fps = self._fps(X)\n",
    "        self.fps_std = np.std(self.fps,axis=0)\n",
    "\n",
    "    def _fps(self, X):\n",
    "        return np.array([dm.to_fp(dm.to_mol(smi)) for smi in X.CXSMILES])\n",
    "\n",
    "    def transform(self, X, std_cutoff=0): \n",
    "        informative_ix = np.where(self.fps_std > std_cutoff )[0]\n",
    "        fps = self._fps(X)\n",
    "        self.std_to_ix[std_cutoff] = informative_ix\n",
    "        return fps[:, informative_ix]\n",
    "\n",
    "\n"
   ]
  },
  {
   "cell_type": "code",
   "execution_count": 7,
   "metadata": {},
   "outputs": [],
   "source": [
    "xtrans = FPTransform()\n",
    "cutoff = 0\n",
    "\n",
    "xtrans.fit(train)\n",
    "train_X = xtrans.transform(train, std_cutoff=cutoff)\n",
    "test_X = xtrans.transform(test, std_cutoff=cutoff)\n",
    "\n",
    "ytrans = YTransform()\n",
    "ytrans.fit(train)\n",
    "train_Y_df = ytrans.transform(train)\n",
    "test_Y_df = ytrans.transform(test)"
   ]
  },
  {
   "cell_type": "code",
   "execution_count": 8,
   "metadata": {},
   "outputs": [],
   "source": [
    "random_state = 92038745\n",
    "\n",
    "def objective(trial, target='KSOL'):\n",
    "    learning_rate = trial.suggest_float(\"learning_rate\", low=1e-3, high=1, log=True)\n",
    "    max_iter = trial.suggest_int(\"max_iter\", 50, 500, step=10)\n",
    "    max_leaf_nodes = trial.suggest_int(\"max_leaf_nodes\", 2, 256, step=2)\n",
    "    max_depth = trial.suggest_int(\"max_depth\", 3, 16)\n",
    "    min_samples_leaf = trial.suggest_int(\"min_samples_leaf\", 1, 20)\n",
    "    l2_regularization = trial.suggest_float(\"l2_regularization\", 1e-6, 1.0, log=True)\n",
    "    max_bins = trial.suggest_int(\"max_bins\", 32, 255)\n",
    "\n",
    "\n",
    "    # Define the model\n",
    "    model = sk.ensemble.HistGradientBoostingRegressor(\n",
    "        learning_rate=learning_rate,\n",
    "        max_iter=max_iter,\n",
    "        max_leaf_nodes=max_leaf_nodes,\n",
    "        max_depth=max_depth,\n",
    "        min_samples_leaf=min_samples_leaf,\n",
    "        l2_regularization=l2_regularization,\n",
    "        max_bins=max_bins,\n",
    "        random_state=random_state\n",
    "    )\n",
    "    train_X_target, train_Y_target = ytrans.not_nan(train_X, train_Y_df, col=target)\n",
    "    test_X_target, test_Y_target = ytrans.not_nan(test_X, test_Y_df, col=target)\n",
    "\n",
    "    # Evaluate using cross-validation\n",
    "    model.fit(train_X_target, train_Y_target)\n",
    "    predict_Y_target = model.predict(test_X_target)\n",
    "    score = mean_absolute_error(predict_Y_target, test_Y_target)\n",
    "    return score\n"
   ]
  },
  {
   "cell_type": "code",
   "execution_count": 9,
   "metadata": {},
   "outputs": [
    {
     "name": "stderr",
     "output_type": "stream",
     "text": [
      "[I 2025-02-14 20:17:17,429] A new study created in RDB with name: KSOL\n",
      "[I 2025-02-14 20:17:20,958] Trial 0 finished with value: 1.0000407359333474 and parameters: {'learning_rate': 0.001864783444688107, 'max_iter': 270, 'max_leaf_nodes': 12, 'max_depth': 10, 'min_samples_leaf': 15, 'l2_regularization': 8.59013670469001e-06, 'max_bins': 245}. Best is trial 0 with value: 1.0000407359333474.\n",
      "[I 2025-02-14 20:17:22,133] Trial 1 finished with value: 1.1645477583549875 and parameters: {'learning_rate': 0.001227648276301505, 'max_iter': 90, 'max_leaf_nodes': 54, 'max_depth': 11, 'min_samples_leaf': 15, 'l2_regularization': 0.00027566066293610857, 'max_bins': 54}. Best is trial 0 with value: 1.0000407359333474.\n",
      "[I 2025-02-14 20:18:05,141] Trial 2 finished with value: 0.7866560958363359 and parameters: {'learning_rate': 0.0037229569129277433, 'max_iter': 280, 'max_leaf_nodes': 214, 'max_depth': 13, 'min_samples_leaf': 1, 'l2_regularization': 0.02200166746285564, 'max_bins': 235}. Best is trial 2 with value: 0.7866560958363359.\n",
      "[I 2025-02-14 20:18:08,994] Trial 3 finished with value: 1.018221438464832 and parameters: {'learning_rate': 0.0013961599899328108, 'max_iter': 340, 'max_leaf_nodes': 244, 'max_depth': 13, 'min_samples_leaf': 17, 'l2_regularization': 0.0030949287792010507, 'max_bins': 78}. Best is trial 2 with value: 0.7866560958363359.\n",
      "[I 2025-02-14 20:18:10,919] Trial 4 finished with value: 0.6173842466672858 and parameters: {'learning_rate': 0.021041200210170193, 'max_iter': 120, 'max_leaf_nodes': 218, 'max_depth': 14, 'min_samples_leaf': 15, 'l2_regularization': 1.2867054515168816e-06, 'max_bins': 203}. Best is trial 4 with value: 0.6173842466672858.\n",
      "[I 2025-02-14 20:18:11,747] Trial 5 finished with value: 0.6061401838646566 and parameters: {'learning_rate': 0.07372251206274145, 'max_iter': 120, 'max_leaf_nodes': 18, 'max_depth': 3, 'min_samples_leaf': 12, 'l2_regularization': 8.436448698946306e-05, 'max_bins': 239}. Best is trial 5 with value: 0.6061401838646566.\n",
      "[I 2025-02-14 20:18:15,980] Trial 6 finished with value: 0.9028742798991986 and parameters: {'learning_rate': 0.7873176781976207, 'max_iter': 480, 'max_leaf_nodes': 150, 'max_depth': 6, 'min_samples_leaf': 19, 'l2_regularization': 0.0005574018679369373, 'max_bins': 127}. Best is trial 5 with value: 0.6061401838646566.\n",
      "[I 2025-02-14 20:18:19,319] Trial 7 finished with value: 0.7230602619587759 and parameters: {'learning_rate': 0.1824356319913819, 'max_iter': 440, 'max_leaf_nodes': 106, 'max_depth': 5, 'min_samples_leaf': 16, 'l2_regularization': 0.3352581535308322, 'max_bins': 250}. Best is trial 5 with value: 0.6061401838646566.\n",
      "[I 2025-02-14 20:18:22,586] Trial 8 finished with value: 0.6549542930059906 and parameters: {'learning_rate': 0.01648565153107953, 'max_iter': 120, 'max_leaf_nodes': 158, 'max_depth': 13, 'min_samples_leaf': 7, 'l2_regularization': 0.31394651299041165, 'max_bins': 174}. Best is trial 5 with value: 0.6061401838646566.\n",
      "[I 2025-02-14 20:18:24,435] Trial 9 finished with value: 0.6187907421811536 and parameters: {'learning_rate': 0.2929134158581269, 'max_iter': 270, 'max_leaf_nodes': 6, 'max_depth': 13, 'min_samples_leaf': 2, 'l2_regularization': 0.0038711268175215135, 'max_bins': 172}. Best is trial 5 with value: 0.6061401838646566.\n",
      "[I 2025-02-14 20:18:25,366] Trial 10 finished with value: 0.616016460347342 and parameters: {'learning_rate': 0.07308542121000894, 'max_iter': 190, 'max_leaf_nodes': 82, 'max_depth': 3, 'min_samples_leaf': 10, 'l2_regularization': 2.7356885599416646e-05, 'max_bins': 99}. Best is trial 5 with value: 0.6061401838646566.\n",
      "[I 2025-02-14 20:18:26,239] Trial 11 finished with value: 0.6192768851199999 and parameters: {'learning_rate': 0.07683365117779532, 'max_iter': 170, 'max_leaf_nodes': 74, 'max_depth': 3, 'min_samples_leaf': 10, 'l2_regularization': 4.7318868516998205e-05, 'max_bins': 108}. Best is trial 5 with value: 0.6061401838646566.\n",
      "[I 2025-02-14 20:18:28,414] Trial 12 finished with value: 0.6149409026947988 and parameters: {'learning_rate': 0.05463150206257815, 'max_iter': 200, 'max_leaf_nodes': 60, 'max_depth': 7, 'min_samples_leaf': 10, 'l2_regularization': 4.030966884805674e-05, 'max_bins': 106}. Best is trial 5 with value: 0.6061401838646566.\n",
      "[I 2025-02-14 20:18:29,791] Trial 13 finished with value: 0.9780914864971866 and parameters: {'learning_rate': 0.008318797567849359, 'max_iter': 60, 'max_leaf_nodes': 40, 'max_depth': 7, 'min_samples_leaf': 6, 'l2_regularization': 0.00011012153761039847, 'max_bins': 146}. Best is trial 5 with value: 0.6061401838646566.\n",
      "[I 2025-02-14 20:18:31,938] Trial 14 finished with value: 0.609056127135053 and parameters: {'learning_rate': 0.05174317359479467, 'max_iter': 200, 'max_leaf_nodes': 44, 'max_depth': 8, 'min_samples_leaf': 11, 'l2_regularization': 2.922404283271033e-06, 'max_bins': 55}. Best is trial 5 with value: 0.6061401838646566.\n",
      "[I 2025-02-14 20:18:35,416] Trial 15 finished with value: 0.677767702005721 and parameters: {'learning_rate': 0.18336690316603416, 'max_iter': 360, 'max_leaf_nodes': 32, 'max_depth': 9, 'min_samples_leaf': 12, 'l2_regularization': 1.1118405614640959e-06, 'max_bins': 33}. Best is trial 5 with value: 0.6061401838646566.\n",
      "[I 2025-02-14 20:18:37,139] Trial 16 finished with value: 0.7115353872316311 and parameters: {'learning_rate': 0.00973445198464791, 'max_iter': 160, 'max_leaf_nodes': 116, 'max_depth': 5, 'min_samples_leaf': 12, 'l2_regularization': 4.076574000718285e-06, 'max_bins': 214}. Best is trial 5 with value: 0.6061401838646566.\n",
      "[I 2025-02-14 20:18:41,040] Trial 17 finished with value: 0.6109836209647018 and parameters: {'learning_rate': 0.03917413956683183, 'max_iter': 230, 'max_leaf_nodes': 90, 'max_depth': 8, 'min_samples_leaf': 7, 'l2_regularization': 7.4645297355461e-06, 'max_bins': 154}. Best is trial 5 with value: 0.6061401838646566.\n",
      "[I 2025-02-14 20:18:41,528] Trial 18 finished with value: 0.6556250113470271 and parameters: {'learning_rate': 0.9677176719347399, 'max_iter': 50, 'max_leaf_nodes': 4, 'max_depth': 16, 'min_samples_leaf': 5, 'l2_regularization': 0.0001924831083920229, 'max_bins': 70}. Best is trial 5 with value: 0.6061401838646566.\n",
      "[I 2025-02-14 20:18:42,929] Trial 19 finished with value: 0.6140180399631819 and parameters: {'learning_rate': 0.11675009029548576, 'max_iter': 140, 'max_leaf_nodes': 146, 'max_depth': 4, 'min_samples_leaf': 12, 'l2_regularization': 0.001742346417576274, 'max_bins': 197}. Best is trial 5 with value: 0.6061401838646566.\n",
      "[I 2025-02-14 20:18:45,443] Trial 20 finished with value: 0.7927326645568127 and parameters: {'learning_rate': 0.420528687264614, 'max_iter': 220, 'max_leaf_nodes': 32, 'max_depth': 11, 'min_samples_leaf': 20, 'l2_regularization': 1.4654704172293513e-05, 'max_bins': 33}. Best is trial 5 with value: 0.6061401838646566.\n",
      "[I 2025-02-14 20:18:49,234] Trial 21 finished with value: 0.5910525171643253 and parameters: {'learning_rate': 0.03712398554072233, 'max_iter': 230, 'max_leaf_nodes': 90, 'max_depth': 8, 'min_samples_leaf': 8, 'l2_regularization': 4.271045704444868e-06, 'max_bins': 154}. Best is trial 21 with value: 0.5910525171643253.\n",
      "[I 2025-02-14 20:18:54,426] Trial 22 finished with value: 0.5734501097320376 and parameters: {'learning_rate': 0.028104745531336826, 'max_iter': 330, 'max_leaf_nodes': 58, 'max_depth': 9, 'min_samples_leaf': 9, 'l2_regularization': 2.8682022346243922e-06, 'max_bins': 129}. Best is trial 22 with value: 0.5734501097320376.\n",
      "[I 2025-02-14 20:18:59,728] Trial 23 finished with value: 0.578354786763749 and parameters: {'learning_rate': 0.01906408344336514, 'max_iter': 320, 'max_leaf_nodes': 106, 'max_depth': 10, 'min_samples_leaf': 8, 'l2_regularization': 7.077862856333074e-05, 'max_bins': 128}. Best is trial 22 with value: 0.5734501097320376.\n",
      "[I 2025-02-14 20:19:05,131] Trial 24 finished with value: 0.6137637077301181 and parameters: {'learning_rate': 0.025254428448715362, 'max_iter': 350, 'max_leaf_nodes': 178, 'max_depth': 10, 'min_samples_leaf': 8, 'l2_regularization': 1.6814984677149404e-05, 'max_bins': 126}. Best is trial 22 with value: 0.5734501097320376.\n",
      "[I 2025-02-14 20:19:14,931] Trial 25 finished with value: 0.6076641812949323 and parameters: {'learning_rate': 0.009530439194798715, 'max_iter': 400, 'max_leaf_nodes': 106, 'max_depth': 9, 'min_samples_leaf': 4, 'l2_regularization': 3.0270576922874343e-06, 'max_bins': 168}. Best is trial 22 with value: 0.5734501097320376.\n",
      "[I 2025-02-14 20:19:20,593] Trial 26 finished with value: 0.6025045872178195 and parameters: {'learning_rate': 0.014426834353156474, 'max_iter': 310, 'max_leaf_nodes': 128, 'max_depth': 11, 'min_samples_leaf': 8, 'l2_regularization': 1.045445446734399e-06, 'max_bins': 126}. Best is trial 22 with value: 0.5734501097320376.\n",
      "[I 2025-02-14 20:19:30,980] Trial 27 finished with value: 0.7154620964697985 and parameters: {'learning_rate': 0.004270635398107324, 'max_iter': 380, 'max_leaf_nodes': 90, 'max_depth': 8, 'min_samples_leaf': 4, 'l2_regularization': 7.411670753751842e-06, 'max_bins': 141}. Best is trial 22 with value: 0.5734501097320376.\n",
      "[I 2025-02-14 20:19:33,934] Trial 28 finished with value: 0.6039027106758051 and parameters: {'learning_rate': 0.030328774573389162, 'max_iter': 310, 'max_leaf_nodes': 68, 'max_depth': 7, 'min_samples_leaf': 9, 'l2_regularization': 0.0005026239144234761, 'max_bins': 86}. Best is trial 22 with value: 0.5734501097320376.\n",
      "[I 2025-02-14 20:19:37,899] Trial 29 finished with value: 0.8145046037639836 and parameters: {'learning_rate': 0.004288708302632493, 'max_iter': 250, 'max_leaf_nodes': 126, 'max_depth': 10, 'min_samples_leaf': 14, 'l2_regularization': 7.569247113333438e-06, 'max_bins': 185}. Best is trial 22 with value: 0.5734501097320376.\n",
      "[I 2025-02-14 20:19:45,429] Trial 30 finished with value: 0.6433086324723499 and parameters: {'learning_rate': 0.033485529956889075, 'max_iter': 300, 'max_leaf_nodes': 96, 'max_depth': 12, 'min_samples_leaf': 3, 'l2_regularization': 1.868870543135859e-05, 'max_bins': 155}. Best is trial 22 with value: 0.5734501097320376.\n",
      "[I 2025-02-14 20:19:51,968] Trial 31 finished with value: 0.5994659593306003 and parameters: {'learning_rate': 0.01395282748287296, 'max_iter': 320, 'max_leaf_nodes': 130, 'max_depth': 11, 'min_samples_leaf': 8, 'l2_regularization': 1.2429921994176162e-06, 'max_bins': 125}. Best is trial 22 with value: 0.5734501097320376.\n",
      "[I 2025-02-14 20:19:58,744] Trial 32 finished with value: 0.6133982828238274 and parameters: {'learning_rate': 0.014123117944802794, 'max_iter': 400, 'max_leaf_nodes': 182, 'max_depth': 9, 'min_samples_leaf': 6, 'l2_regularization': 2.573287854584797e-06, 'max_bins': 118}. Best is trial 22 with value: 0.5734501097320376.\n",
      "[I 2025-02-14 20:20:05,628] Trial 33 finished with value: 0.6542505863525379 and parameters: {'learning_rate': 0.006513413982632553, 'max_iter': 320, 'max_leaf_nodes': 136, 'max_depth': 11, 'min_samples_leaf': 8, 'l2_regularization': 4.822148798839158e-06, 'max_bins': 139}. Best is trial 22 with value: 0.5734501097320376.\n",
      "[I 2025-02-14 20:20:10,227] Trial 34 finished with value: 0.9199279364806378 and parameters: {'learning_rate': 0.0023365853064743762, 'max_iter': 270, 'max_leaf_nodes': 60, 'max_depth': 12, 'min_samples_leaf': 9, 'l2_regularization': 1.9602227545068692e-06, 'max_bins': 92}. Best is trial 22 with value: 0.5734501097320376.\n",
      "[I 2025-02-14 20:20:16,831] Trial 35 finished with value: 0.6278667564846758 and parameters: {'learning_rate': 0.020755774889438194, 'max_iter': 330, 'max_leaf_nodes': 172, 'max_depth': 10, 'min_samples_leaf': 7, 'l2_regularization': 7.45181960322904e-05, 'max_bins': 161}. Best is trial 22 with value: 0.5734501097320376.\n",
      "[I 2025-02-14 20:20:21,174] Trial 36 finished with value: 0.653892236138442 and parameters: {'learning_rate': 0.04296533717860131, 'max_iter': 290, 'max_leaf_nodes': 110, 'max_depth': 12, 'min_samples_leaf': 14, 'l2_regularization': 0.01615366319216931, 'max_bins': 115}. Best is trial 22 with value: 0.5734501097320376.\n",
      "[I 2025-02-14 20:20:26,310] Trial 37 finished with value: 0.6827382343708428 and parameters: {'learning_rate': 0.006477994911787191, 'max_iter': 240, 'max_leaf_nodes': 72, 'max_depth': 15, 'min_samples_leaf': 9, 'l2_regularization': 1.3328932504108385e-05, 'max_bins': 136}. Best is trial 22 with value: 0.5734501097320376.\n",
      "[I 2025-02-14 20:20:33,743] Trial 38 finished with value: 0.6481072678615405 and parameters: {'learning_rate': 0.018571794242016715, 'max_iter': 450, 'max_leaf_nodes': 120, 'max_depth': 9, 'min_samples_leaf': 5, 'l2_regularization': 1.7910651402640158e-06, 'max_bins': 185}. Best is trial 22 with value: 0.5734501097320376.\n",
      "[I 2025-02-14 20:20:40,457] Trial 39 finished with value: 0.8151506010609234 and parameters: {'learning_rate': 0.002551790576124398, 'max_iter': 370, 'max_leaf_nodes': 96, 'max_depth': 11, 'min_samples_leaf': 11, 'l2_regularization': 0.00021620340663227846, 'max_bins': 150}. Best is trial 22 with value: 0.5734501097320376.\n",
      "[I 2025-02-14 20:20:45,697] Trial 40 finished with value: 0.619858375172198 and parameters: {'learning_rate': 0.013161666172480503, 'max_iter': 260, 'max_leaf_nodes': 246, 'max_depth': 6, 'min_samples_leaf': 1, 'l2_regularization': 5.504144445376329e-06, 'max_bins': 74}. Best is trial 22 with value: 0.5734501097320376.\n",
      "[I 2025-02-14 20:20:51,642] Trial 41 finished with value: 0.591574144332044 and parameters: {'learning_rate': 0.012272160271838622, 'max_iter': 330, 'max_leaf_nodes': 142, 'max_depth': 11, 'min_samples_leaf': 8, 'l2_regularization': 2.109921994605883e-06, 'max_bins': 127}. Best is trial 22 with value: 0.5734501097320376.\n",
      "[I 2025-02-14 20:20:56,927] Trial 42 finished with value: 0.644492380987234 and parameters: {'learning_rate': 0.027137958428929507, 'max_iter': 340, 'max_leaf_nodes': 198, 'max_depth': 10, 'min_samples_leaf': 6, 'l2_regularization': 1.886560617602659e-06, 'max_bins': 130}. Best is trial 22 with value: 0.5734501097320376.\n",
      "[I 2025-02-14 20:21:02,676] Trial 43 finished with value: 0.5920908243699413 and parameters: {'learning_rate': 0.012496343634916578, 'max_iter': 280, 'max_leaf_nodes': 162, 'max_depth': 12, 'min_samples_leaf': 8, 'l2_regularization': 2.9738126350877537e-05, 'max_bins': 116}. Best is trial 22 with value: 0.5734501097320376.\n",
      "[I 2025-02-14 20:21:10,460] Trial 44 finished with value: 0.6636489140727126 and parameters: {'learning_rate': 0.006233126837621887, 'max_iter': 290, 'max_leaf_nodes': 162, 'max_depth': 12, 'min_samples_leaf': 7, 'l2_regularization': 4.445179506322966e-05, 'max_bins': 105}. Best is trial 22 with value: 0.5734501097320376.\n",
      "[I 2025-02-14 20:21:17,350] Trial 45 finished with value: 0.6621259270060063 and parameters: {'learning_rate': 0.09293236971901224, 'max_iter': 390, 'max_leaf_nodes': 140, 'max_depth': 13, 'min_samples_leaf': 9, 'l2_regularization': 2.652821289680492e-05, 'max_bins': 116}. Best is trial 22 with value: 0.5734501097320376.\n",
      "[I 2025-02-14 20:21:22,722] Trial 46 finished with value: 0.9809154619694505 and parameters: {'learning_rate': 0.0011597420209878769, 'max_iter': 430, 'max_leaf_nodes': 208, 'max_depth': 8, 'min_samples_leaf': 10, 'l2_regularization': 1.106971013585281e-05, 'max_bins': 90}. Best is trial 22 with value: 0.5734501097320376.\n",
      "[I 2025-02-14 20:21:27,313] Trial 47 finished with value: 0.6463506599530504 and parameters: {'learning_rate': 0.053099984656724705, 'max_iter': 280, 'max_leaf_nodes': 156, 'max_depth': 14, 'min_samples_leaf': 11, 'l2_regularization': 9.577612025718187e-05, 'max_bins': 139}. Best is trial 22 with value: 0.5734501097320376.\n",
      "[I 2025-02-14 20:21:30,939] Trial 48 finished with value: 0.5922984902568413 and parameters: {'learning_rate': 0.02318447778851319, 'max_iter': 220, 'max_leaf_nodes': 80, 'max_depth': 14, 'min_samples_leaf': 13, 'l2_regularization': 0.0006358257437021043, 'max_bins': 163}. Best is trial 22 with value: 0.5734501097320376.\n",
      "[I 2025-02-14 20:21:35,768] Trial 49 finished with value: 0.622212244723632 and parameters: {'learning_rate': 0.011554575909595504, 'max_iter': 350, 'max_leaf_nodes': 50, 'max_depth': 6, 'min_samples_leaf': 5, 'l2_regularization': 2.721247927163025e-05, 'max_bins': 97}. Best is trial 22 with value: 0.5734501097320376.\n",
      "[I 2025-02-14 20:21:38,974] Trial 50 finished with value: 0.600233566912414 and parameters: {'learning_rate': 0.017528561029908567, 'max_iter': 260, 'max_leaf_nodes': 226, 'max_depth': 9, 'min_samples_leaf': 17, 'l2_regularization': 0.05782764512490606, 'max_bins': 180}. Best is trial 22 with value: 0.5734501097320376.\n",
      "[I 2025-02-14 20:21:43,689] Trial 51 finished with value: 0.6291369362365306 and parameters: {'learning_rate': 0.019919065798151135, 'max_iter': 230, 'max_leaf_nodes': 78, 'max_depth': 14, 'min_samples_leaf': 7, 'l2_regularization': 0.00042339670592846774, 'max_bins': 161}. Best is trial 22 with value: 0.5734501097320376.\n",
      "[I 2025-02-14 20:21:47,409] Trial 52 finished with value: 0.5351312462916565 and parameters: {'learning_rate': 0.024578311975184713, 'max_iter': 210, 'max_leaf_nodes': 104, 'max_depth': 15, 'min_samples_leaf': 9, 'l2_regularization': 0.0011213479754984001, 'max_bins': 147}. Best is trial 52 with value: 0.5351312462916565.\n",
      "[I 2025-02-14 20:21:50,497] Trial 53 finished with value: 0.724047470104675 and parameters: {'learning_rate': 0.008063272311234975, 'max_iter': 170, 'max_leaf_nodes': 104, 'max_depth': 16, 'min_samples_leaf': 9, 'l2_regularization': 0.004575831124704805, 'max_bins': 147}. Best is trial 52 with value: 0.5351312462916565.\n",
      "[I 2025-02-14 20:21:53,821] Trial 54 finished with value: 0.5955993860830067 and parameters: {'learning_rate': 0.03696325522349576, 'max_iter': 210, 'max_leaf_nodes': 116, 'max_depth': 15, 'min_samples_leaf': 10, 'l2_regularization': 0.0012470207894094147, 'max_bins': 114}. Best is trial 52 with value: 0.5351312462916565.\n",
      "[I 2025-02-14 20:21:55,571] Trial 55 finished with value: 0.6320879571935247 and parameters: {'learning_rate': 0.07318531791080801, 'max_iter': 180, 'max_leaf_nodes': 148, 'max_depth': 7, 'min_samples_leaf': 8, 'l2_regularization': 0.005978894608790022, 'max_bins': 133}. Best is trial 52 with value: 0.5351312462916565.\n",
      "[I 2025-02-14 20:21:57,933] Trial 56 finished with value: 0.6407947233660864 and parameters: {'learning_rate': 0.04733700311135988, 'max_iter': 140, 'max_leaf_nodes': 24, 'max_depth': 13, 'min_samples_leaf': 6, 'l2_regularization': 3.3092123603877195e-06, 'max_bins': 107}. Best is trial 52 with value: 0.5351312462916565.\n",
      "[I 2025-02-14 20:22:00,765] Trial 57 finished with value: 0.6334804639999079 and parameters: {'learning_rate': 0.1365335184934257, 'max_iter': 250, 'max_leaf_nodes': 88, 'max_depth': 8, 'min_samples_leaf': 10, 'l2_regularization': 0.002421694700805071, 'max_bins': 229}. Best is trial 52 with value: 0.5351312462916565.\n",
      "[I 2025-02-14 20:22:04,548] Trial 58 finished with value: 0.5833609442443364 and parameters: {'learning_rate': 0.010847849196385595, 'max_iter': 280, 'max_leaf_nodes': 62, 'max_depth': 10, 'min_samples_leaf': 11, 'l2_regularization': 6.868510629704468e-05, 'max_bins': 123}. Best is trial 52 with value: 0.5351312462916565.\n",
      "[I 2025-02-14 20:22:10,544] Trial 59 finished with value: 0.6125855539507676 and parameters: {'learning_rate': 0.02736422913275582, 'max_iter': 330, 'max_leaf_nodes': 62, 'max_depth': 10, 'min_samples_leaf': 11, 'l2_regularization': 0.0001240287613005383, 'max_bins': 143}. Best is trial 52 with value: 0.5351312462916565.\n",
      "[I 2025-02-14 20:22:12,258] Trial 60 finished with value: 0.8915930379243533 and parameters: {'learning_rate': 0.009951225987647723, 'max_iter': 80, 'max_leaf_nodes': 44, 'max_depth': 8, 'min_samples_leaf': 13, 'l2_regularization': 0.0069769436135344795, 'max_bins': 153}. Best is trial 52 with value: 0.5351312462916565.\n",
      "[I 2025-02-14 20:22:17,491] Trial 61 finished with value: 0.7010374860294191 and parameters: {'learning_rate': 0.005370728614665993, 'max_iter': 290, 'max_leaf_nodes': 166, 'max_depth': 9, 'min_samples_leaf': 8, 'l2_regularization': 0.0008605159403204104, 'max_bins': 123}. Best is trial 52 with value: 0.5351312462916565.\n",
      "[I 2025-02-14 20:22:21,361] Trial 62 finished with value: 0.6320282634685339 and parameters: {'learning_rate': 0.011323503743726553, 'max_iter': 200, 'max_leaf_nodes': 100, 'max_depth': 10, 'min_samples_leaf': 7, 'l2_regularization': 0.00027403730438347657, 'max_bins': 133}. Best is trial 52 with value: 0.5351312462916565.\n",
      "[I 2025-02-14 20:22:26,154] Trial 63 finished with value: 0.5760367338351029 and parameters: {'learning_rate': 0.03122707648055365, 'max_iter': 310, 'max_leaf_nodes': 52, 'max_depth': 12, 'min_samples_leaf': 9, 'l2_regularization': 0.00016194095737760806, 'max_bins': 101}. Best is trial 52 with value: 0.5351312462916565.\n",
      "[I 2025-02-14 20:22:31,043] Trial 64 finished with value: 0.6003668093312968 and parameters: {'learning_rate': 0.0628663752184511, 'max_iter': 360, 'max_leaf_nodes': 52, 'max_depth': 11, 'min_samples_leaf': 9, 'l2_regularization': 6.252664413394946e-05, 'max_bins': 102}. Best is trial 52 with value: 0.5351312462916565.\n",
      "[I 2025-02-14 20:22:36,284] Trial 65 finished with value: 0.6233912754959068 and parameters: {'learning_rate': 0.03373989564027557, 'max_iter': 320, 'max_leaf_nodes': 36, 'max_depth': 9, 'min_samples_leaf': 10, 'l2_regularization': 0.0003790888035285438, 'max_bins': 61}. Best is trial 52 with value: 0.5351312462916565.\n",
      "[I 2025-02-14 20:22:41,628] Trial 66 finished with value: 0.5888232487553187 and parameters: {'learning_rate': 0.01726226513928556, 'max_iter': 310, 'max_leaf_nodes': 68, 'max_depth': 15, 'min_samples_leaf': 12, 'l2_regularization': 0.00013232806582936913, 'max_bins': 81}. Best is trial 52 with value: 0.5351312462916565.\n",
      "[I 2025-02-14 20:22:46,509] Trial 67 finished with value: 0.5908938021707356 and parameters: {'learning_rate': 0.01622317463228646, 'max_iter': 310, 'max_leaf_nodes': 66, 'max_depth': 15, 'min_samples_leaf': 12, 'l2_regularization': 0.00013514607228579684, 'max_bins': 80}. Best is trial 52 with value: 0.5351312462916565.\n",
      "[I 2025-02-14 20:22:51,413] Trial 68 finished with value: 0.5793210309731881 and parameters: {'learning_rate': 0.016287211752041703, 'max_iter': 300, 'max_leaf_nodes': 20, 'max_depth': 15, 'min_samples_leaf': 12, 'l2_regularization': 0.00016152373175863866, 'max_bins': 87}. Best is trial 52 with value: 0.5351312462916565.\n",
      "[I 2025-02-14 20:22:56,459] Trial 69 finished with value: 0.6282337692285986 and parameters: {'learning_rate': 0.02269080546216361, 'max_iter': 300, 'max_leaf_nodes': 24, 'max_depth': 16, 'min_samples_leaf': 14, 'l2_regularization': 0.00020106339381891346, 'max_bins': 44}. Best is trial 52 with value: 0.5351312462916565.\n",
      "[I 2025-02-14 20:23:01,711] Trial 70 finished with value: 0.6130470825833138 and parameters: {'learning_rate': 0.00769400080973916, 'max_iter': 350, 'max_leaf_nodes': 54, 'max_depth': 15, 'min_samples_leaf': 13, 'l2_regularization': 0.0014200585158002932, 'max_bins': 64}. Best is trial 52 with value: 0.5351312462916565.\n",
      "[I 2025-02-14 20:23:06,314] Trial 71 finished with value: 0.579956753981606 and parameters: {'learning_rate': 0.016098204671678086, 'max_iter': 310, 'max_leaf_nodes': 14, 'max_depth': 15, 'min_samples_leaf': 12, 'l2_regularization': 0.00014961437319583741, 'max_bins': 82}. Best is trial 52 with value: 0.5351312462916565.\n",
      "[I 2025-02-14 20:23:08,792] Trial 72 finished with value: 0.5917369222859651 and parameters: {'learning_rate': 0.016751878368911573, 'max_iter': 300, 'max_leaf_nodes': 10, 'max_depth': 16, 'min_samples_leaf': 11, 'l2_regularization': 0.00015486373510475082, 'max_bins': 83}. Best is trial 52 with value: 0.5351312462916565.\n",
      "[I 2025-02-14 20:23:12,353] Trial 73 finished with value: 0.5898592637582053 and parameters: {'learning_rate': 0.022581530813409027, 'max_iter': 270, 'max_leaf_nodes': 18, 'max_depth': 15, 'min_samples_leaf': 12, 'l2_regularization': 6.827976837186309e-05, 'max_bins': 93}. Best is trial 52 with value: 0.5351312462916565.\n",
      "[I 2025-02-14 20:23:13,023] Trial 74 finished with value: 0.6708512834272836 and parameters: {'learning_rate': 0.030995034635894293, 'max_iter': 310, 'max_leaf_nodes': 2, 'max_depth': 14, 'min_samples_leaf': 15, 'l2_regularization': 0.000842645892382264, 'max_bins': 72}. Best is trial 52 with value: 0.5351312462916565.\n",
      "[I 2025-02-14 20:23:17,086] Trial 75 finished with value: 0.648758079158194 and parameters: {'learning_rate': 0.04148024627719518, 'max_iter': 330, 'max_leaf_nodes': 26, 'max_depth': 15, 'min_samples_leaf': 13, 'l2_regularization': 0.00037222442304689357, 'max_bins': 86}. Best is trial 52 with value: 0.5351312462916565.\n",
      "[I 2025-02-14 20:23:22,909] Trial 76 finished with value: 0.6283103141375119 and parameters: {'learning_rate': 0.027036779235357494, 'max_iter': 340, 'max_leaf_nodes': 40, 'max_depth': 16, 'min_samples_leaf': 12, 'l2_regularization': 5.1604318235425204e-05, 'max_bins': 99}. Best is trial 52 with value: 0.5351312462916565.\n",
      "[I 2025-02-14 20:23:27,516] Trial 77 finished with value: 0.5827429129635112 and parameters: {'learning_rate': 0.009195588840467684, 'max_iter': 370, 'max_leaf_nodes': 16, 'max_depth': 14, 'min_samples_leaf': 16, 'l2_regularization': 0.00024831749647670037, 'max_bins': 110}. Best is trial 52 with value: 0.5351312462916565.\n",
      "[I 2025-02-14 20:23:31,945] Trial 78 finished with value: 0.601608679669837 and parameters: {'learning_rate': 0.009701253801135427, 'max_iter': 420, 'max_leaf_nodes': 12, 'max_depth': 13, 'min_samples_leaf': 17, 'l2_regularization': 0.7079864713361154, 'max_bins': 112}. Best is trial 52 with value: 0.5351312462916565.\n",
      "[I 2025-02-14 20:23:36,917] Trial 79 finished with value: 0.7071961527080975 and parameters: {'learning_rate': 0.0050930732901459394, 'max_iter': 370, 'max_leaf_nodes': 30, 'max_depth': 14, 'min_samples_leaf': 18, 'l2_regularization': 0.00028634695503039313, 'max_bins': 122}. Best is trial 52 with value: 0.5351312462916565.\n",
      "[I 2025-02-14 20:23:40,835] Trial 80 finished with value: 0.5810037906893465 and parameters: {'learning_rate': 0.0145059880200957, 'max_iter': 370, 'max_leaf_nodes': 16, 'max_depth': 13, 'min_samples_leaf': 16, 'l2_regularization': 0.000626086672955654, 'max_bins': 120}. Best is trial 52 with value: 0.5351312462916565.\n",
      "[I 2025-02-14 20:23:44,903] Trial 81 finished with value: 0.6422933539579829 and parameters: {'learning_rate': 0.01554077311596373, 'max_iter': 370, 'max_leaf_nodes': 14, 'max_depth': 13, 'min_samples_leaf': 19, 'l2_regularization': 0.000559495511665933, 'max_bins': 109}. Best is trial 52 with value: 0.5351312462916565.\n",
      "[I 2025-02-14 20:23:49,748] Trial 82 finished with value: 0.6174631194020049 and parameters: {'learning_rate': 0.020239963730324963, 'max_iter': 390, 'max_leaf_nodes': 16, 'max_depth': 14, 'min_samples_leaf': 16, 'l2_regularization': 0.002400409451877562, 'max_bins': 122}. Best is trial 52 with value: 0.5351312462916565.\n",
      "[I 2025-02-14 20:23:54,132] Trial 83 finished with value: 0.5854822264082716 and parameters: {'learning_rate': 0.009140896856386813, 'max_iter': 350, 'max_leaf_nodes': 46, 'max_depth': 13, 'min_samples_leaf': 15, 'l2_regularization': 0.00025329036576299176, 'max_bins': 102}. Best is trial 52 with value: 0.5351312462916565.\n",
      "[I 2025-02-14 20:23:57,450] Trial 84 finished with value: 0.5750218854725335 and parameters: {'learning_rate': 0.014095030443574862, 'max_iter': 290, 'max_leaf_nodes': 20, 'max_depth': 14, 'min_samples_leaf': 16, 'l2_regularization': 9.146111433341178e-05, 'max_bins': 97}. Best is trial 52 with value: 0.5351312462916565.\n",
      "[I 2025-02-14 20:24:00,999] Trial 85 finished with value: 0.6054644416864472 and parameters: {'learning_rate': 0.013961965344250453, 'max_iter': 480, 'max_leaf_nodes': 8, 'max_depth': 14, 'min_samples_leaf': 16, 'l2_regularization': 9.508404746825205e-05, 'max_bins': 94}. Best is trial 52 with value: 0.5351312462916565.\n",
      "[I 2025-02-14 20:24:05,169] Trial 86 finished with value: 0.5950441793096125 and parameters: {'learning_rate': 0.007777003371323575, 'max_iter': 360, 'max_leaf_nodes': 20, 'max_depth': 14, 'min_samples_leaf': 16, 'l2_regularization': 0.0007422974787661333, 'max_bins': 88}. Best is trial 52 with value: 0.5351312462916565.\n",
      "[I 2025-02-14 20:24:07,995] Trial 87 finished with value: 0.6477688149213949 and parameters: {'learning_rate': 0.02458813599337325, 'max_iter': 260, 'max_leaf_nodes': 36, 'max_depth': 15, 'min_samples_leaf': 20, 'l2_regularization': 0.0001688854221838709, 'max_bins': 76}. Best is trial 52 with value: 0.5351312462916565.\n",
      "[I 2025-02-14 20:24:11,735] Trial 88 finished with value: 0.6670172795723978 and parameters: {'learning_rate': 0.029886729942529184, 'max_iter': 290, 'max_leaf_nodes': 32, 'max_depth': 12, 'min_samples_leaf': 18, 'l2_regularization': 0.0011045642877174533, 'max_bins': 98}. Best is trial 52 with value: 0.5351312462916565.\n",
      "[I 2025-02-14 20:24:13,026] Trial 89 finished with value: 0.7303485451585013 and parameters: {'learning_rate': 0.019016182504152063, 'max_iter': 340, 'max_leaf_nodes': 2, 'max_depth': 13, 'min_samples_leaf': 14, 'l2_regularization': 3.7531176431275667e-05, 'max_bins': 68}. Best is trial 52 with value: 0.5351312462916565.\n",
      "[I 2025-02-14 20:24:17,427] Trial 90 finished with value: 0.7975134568330845 and parameters: {'learning_rate': 0.003401816200430336, 'max_iter': 380, 'max_leaf_nodes': 24, 'max_depth': 14, 'min_samples_leaf': 18, 'l2_regularization': 0.0003310250925452229, 'max_bins': 108}. Best is trial 52 with value: 0.5351312462916565.\n",
      "[I 2025-02-14 20:24:21,437] Trial 91 finished with value: 0.578898530014189 and parameters: {'learning_rate': 0.012552344125662066, 'max_iter': 300, 'max_leaf_nodes': 38, 'max_depth': 15, 'min_samples_leaf': 15, 'l2_regularization': 8.64269614808364e-05, 'max_bins': 119}. Best is trial 52 with value: 0.5351312462916565.\n",
      "[I 2025-02-14 20:24:24,953] Trial 92 finished with value: 0.5677565811767961 and parameters: {'learning_rate': 0.014150945762757829, 'max_iter': 320, 'max_leaf_nodes': 8, 'max_depth': 15, 'min_samples_leaf': 15, 'l2_regularization': 0.00010016641056530945, 'max_bins': 118}. Best is trial 52 with value: 0.5351312462916565.\n",
      "[I 2025-02-14 20:24:29,383] Trial 93 finished with value: 0.6044315718260092 and parameters: {'learning_rate': 0.0136417736523853, 'max_iter': 320, 'max_leaf_nodes': 40, 'max_depth': 16, 'min_samples_leaf': 17, 'l2_regularization': 9.44365027886115e-05, 'max_bins': 134}. Best is trial 52 with value: 0.5351312462916565.\n",
      "[I 2025-02-14 20:24:31,652] Trial 94 finished with value: 0.5740489758707391 and parameters: {'learning_rate': 0.015557779744116615, 'max_iter': 300, 'max_leaf_nodes': 6, 'max_depth': 15, 'min_samples_leaf': 15, 'l2_regularization': 2.0965402388589222e-05, 'max_bins': 118}. Best is trial 52 with value: 0.5351312462916565.\n",
      "[I 2025-02-14 20:24:34,414] Trial 95 finished with value: 0.6239947860338629 and parameters: {'learning_rate': 0.03502944213170171, 'max_iter': 290, 'max_leaf_nodes': 8, 'max_depth': 15, 'min_samples_leaf': 15, 'l2_regularization': 3.5697071736679836e-05, 'max_bins': 129}. Best is trial 52 with value: 0.5351312462916565.\n",
      "[I 2025-02-14 20:24:41,190] Trial 96 finished with value: 0.5483535178629413 and parameters: {'learning_rate': 0.020412704745440855, 'max_iter': 300, 'max_leaf_nodes': 28, 'max_depth': 16, 'min_samples_leaf': 9, 'l2_regularization': 1.930749589756305e-05, 'max_bins': 139}. Best is trial 52 with value: 0.5351312462916565.\n",
      "[I 2025-02-14 20:24:46,881] Trial 97 finished with value: 0.5703992879187658 and parameters: {'learning_rate': 0.045836653383601, 'max_iter': 250, 'max_leaf_nodes': 30, 'max_depth': 16, 'min_samples_leaf': 9, 'l2_regularization': 1.8872908176141642e-05, 'max_bins': 146}. Best is trial 52 with value: 0.5351312462916565.\n",
      "[I 2025-02-14 20:24:52,238] Trial 98 finished with value: 0.5842028950197035 and parameters: {'learning_rate': 0.05076684884595546, 'max_iter': 260, 'max_leaf_nodes': 28, 'max_depth': 16, 'min_samples_leaf': 9, 'l2_regularization': 1.759651731318565e-05, 'max_bins': 141}. Best is trial 52 with value: 0.5351312462916565.\n",
      "[I 2025-02-14 20:24:57,580] Trial 99 finished with value: 0.5646180218417266 and parameters: {'learning_rate': 0.06328871036373418, 'max_iter': 240, 'max_leaf_nodes': 56, 'max_depth': 16, 'min_samples_leaf': 9, 'l2_regularization': 9.706979944522158e-06, 'max_bins': 138}. Best is trial 52 with value: 0.5351312462916565.\n",
      "[I 2025-02-14 20:25:02,416] Trial 100 finished with value: 0.6396141168063092 and parameters: {'learning_rate': 0.060484970662501816, 'max_iter': 240, 'max_leaf_nodes': 48, 'max_depth': 16, 'min_samples_leaf': 10, 'l2_regularization': 1.1013670344078487e-05, 'max_bins': 150}. Best is trial 52 with value: 0.5351312462916565.\n",
      "[I 2025-02-14 20:25:08,181] Trial 101 finished with value: 0.6084963729003449 and parameters: {'learning_rate': 0.08798746295291274, 'max_iter': 250, 'max_leaf_nodes': 56, 'max_depth': 16, 'min_samples_leaf': 9, 'l2_regularization': 2.351774942031951e-05, 'max_bins': 146}. Best is trial 52 with value: 0.5351312462916565.\n",
      "[I 2025-02-14 20:25:12,994] Trial 102 finished with value: 0.5380708303001049 and parameters: {'learning_rate': 0.038071976773897696, 'max_iter': 220, 'max_leaf_nodes': 256, 'max_depth': 16, 'min_samples_leaf': 9, 'l2_regularization': 5.505782420816003e-06, 'max_bins': 157}. Best is trial 52 with value: 0.5351312462916565.\n",
      "[I 2025-02-14 20:25:17,448] Trial 103 finished with value: 0.5580575448455606 and parameters: {'learning_rate': 0.04454160103642352, 'max_iter': 220, 'max_leaf_nodes': 238, 'max_depth': 16, 'min_samples_leaf': 9, 'l2_regularization': 6.464974666773959e-06, 'max_bins': 172}. Best is trial 52 with value: 0.5351312462916565.\n",
      "[I 2025-02-14 20:25:21,915] Trial 104 finished with value: 0.552648952366058 and parameters: {'learning_rate': 0.045539356346955974, 'max_iter': 220, 'max_leaf_nodes': 230, 'max_depth': 16, 'min_samples_leaf': 9, 'l2_regularization': 5.928312356353393e-06, 'max_bins': 176}. Best is trial 52 with value: 0.5351312462916565.\n",
      "[I 2025-02-14 20:25:26,634] Trial 105 finished with value: 0.594677626443165 and parameters: {'learning_rate': 0.04200722219136285, 'max_iter': 210, 'max_leaf_nodes': 236, 'max_depth': 16, 'min_samples_leaf': 10, 'l2_regularization': 5.623267640859503e-06, 'max_bins': 173}. Best is trial 52 with value: 0.5351312462916565.\n",
      "[I 2025-02-14 20:25:31,253] Trial 106 finished with value: 0.6173356980591831 and parameters: {'learning_rate': 0.06078677428395467, 'max_iter': 190, 'max_leaf_nodes': 252, 'max_depth': 16, 'min_samples_leaf': 8, 'l2_regularization': 1.0386522361428667e-05, 'max_bins': 167}. Best is trial 52 with value: 0.5351312462916565.\n",
      "[I 2025-02-14 20:25:35,668] Trial 107 finished with value: 0.5420913969449377 and parameters: {'learning_rate': 0.04472594376751122, 'max_iter': 220, 'max_leaf_nodes': 236, 'max_depth': 16, 'min_samples_leaf': 9, 'l2_regularization': 6.956889364669725e-06, 'max_bins': 196}. Best is trial 52 with value: 0.5351312462916565.\n",
      "[I 2025-02-14 20:25:39,966] Trial 108 finished with value: 0.6040371125069981 and parameters: {'learning_rate': 0.1041087098608705, 'max_iter': 220, 'max_leaf_nodes': 238, 'max_depth': 16, 'min_samples_leaf': 9, 'l2_regularization': 6.7391079829458045e-06, 'max_bins': 199}. Best is trial 52 with value: 0.5351312462916565.\n",
      "[I 2025-02-14 20:25:44,339] Trial 109 finished with value: 0.6128510914078519 and parameters: {'learning_rate': 0.06564460559145387, 'max_iter': 210, 'max_leaf_nodes': 256, 'max_depth': 16, 'min_samples_leaf': 10, 'l2_regularization': 3.4755122251686877e-06, 'max_bins': 210}. Best is trial 52 with value: 0.5351312462916565.\n",
      "[I 2025-02-14 20:25:49,985] Trial 110 finished with value: 0.5863882613239999 and parameters: {'learning_rate': 0.047017316929098225, 'max_iter': 230, 'max_leaf_nodes': 226, 'max_depth': 16, 'min_samples_leaf': 8, 'l2_regularization': 1.4618544143478925e-06, 'max_bins': 190}. Best is trial 52 with value: 0.5351312462916565.\n",
      "[I 2025-02-14 20:25:55,137] Trial 111 finished with value: 0.6189927529450056 and parameters: {'learning_rate': 0.08251873335956399, 'max_iter': 240, 'max_leaf_nodes': 244, 'max_depth': 16, 'min_samples_leaf': 9, 'l2_regularization': 8.983547157848354e-06, 'max_bins': 178}. Best is trial 52 with value: 0.5351312462916565.\n",
      "[I 2025-02-14 20:25:59,371] Trial 112 finished with value: 0.5961986885373778 and parameters: {'learning_rate': 0.037876592325215654, 'max_iter': 190, 'max_leaf_nodes': 232, 'max_depth': 15, 'min_samples_leaf': 8, 'l2_regularization': 1.3885951550688489e-05, 'max_bins': 157}. Best is trial 52 with value: 0.5351312462916565.\n",
      "[I 2025-02-14 20:26:05,117] Trial 113 finished with value: 0.6216062711911016 and parameters: {'learning_rate': 0.02760489656882577, 'max_iter': 230, 'max_leaf_nodes': 208, 'max_depth': 16, 'min_samples_leaf': 7, 'l2_regularization': 4.577109009298661e-06, 'max_bins': 169}. Best is trial 52 with value: 0.5351312462916565.\n",
      "[I 2025-02-14 20:26:09,410] Trial 114 finished with value: 0.5957349806244842 and parameters: {'learning_rate': 0.055109735201329384, 'max_iter': 220, 'max_leaf_nodes': 252, 'max_depth': 15, 'min_samples_leaf': 10, 'l2_regularization': 2.5647716980865647e-06, 'max_bins': 161}. Best is trial 52 with value: 0.5351312462916565.\n",
      "[I 2025-02-14 20:26:14,052] Trial 115 finished with value: 0.5667083434328615 and parameters: {'learning_rate': 0.04536464973092602, 'max_iter': 200, 'max_leaf_nodes': 222, 'max_depth': 16, 'min_samples_leaf': 9, 'l2_regularization': 6.258104706809494e-06, 'max_bins': 189}. Best is trial 52 with value: 0.5351312462916565.\n",
      "[I 2025-02-14 20:26:18,474] Trial 116 finished with value: 0.6162957322679657 and parameters: {'learning_rate': 0.15323032414700358, 'max_iter': 170, 'max_leaf_nodes': 216, 'max_depth': 16, 'min_samples_leaf': 9, 'l2_regularization': 6.435245448178096e-06, 'max_bins': 188}. Best is trial 52 with value: 0.5351312462916565.\n",
      "[I 2025-02-14 20:26:22,990] Trial 117 finished with value: 0.5477380151787423 and parameters: {'learning_rate': 0.04642095810537284, 'max_iter': 190, 'max_leaf_nodes': 228, 'max_depth': 16, 'min_samples_leaf': 9, 'l2_regularization': 2.0608654050207928e-05, 'max_bins': 179}. Best is trial 52 with value: 0.5351312462916565.\n",
      "[I 2025-02-14 20:26:26,825] Trial 118 finished with value: 0.6361522334131366 and parameters: {'learning_rate': 0.046600645491757624, 'max_iter': 180, 'max_leaf_nodes': 226, 'max_depth': 16, 'min_samples_leaf': 11, 'l2_regularization': 8.553762705942307e-06, 'max_bins': 179}. Best is trial 52 with value: 0.5351312462916565.\n",
      "[I 2025-02-14 20:26:30,685] Trial 119 finished with value: 0.6368776254275633 and parameters: {'learning_rate': 0.06667520629136717, 'max_iter': 150, 'max_leaf_nodes': 246, 'max_depth': 16, 'min_samples_leaf': 7, 'l2_regularization': 3.792540159827058e-06, 'max_bins': 192}. Best is trial 52 with value: 0.5351312462916565.\n",
      "[I 2025-02-14 20:26:35,266] Trial 120 finished with value: 0.6244592047511223 and parameters: {'learning_rate': 0.07539794580499515, 'max_iter': 200, 'max_leaf_nodes': 220, 'max_depth': 16, 'min_samples_leaf': 10, 'l2_regularization': 1.5004660665548128e-05, 'max_bins': 204}. Best is trial 52 with value: 0.5351312462916565.\n",
      "[I 2025-02-14 20:26:39,470] Trial 121 finished with value: 0.549243778819752 and parameters: {'learning_rate': 0.04006033026557062, 'max_iter': 210, 'max_leaf_nodes': 234, 'max_depth': 15, 'min_samples_leaf': 9, 'l2_regularization': 2.0302627884275324e-05, 'max_bins': 137}. Best is trial 52 with value: 0.5351312462916565.\n",
      "[I 2025-02-14 20:26:43,838] Trial 122 finished with value: 0.5580818376151393 and parameters: {'learning_rate': 0.04180768382416475, 'max_iter': 210, 'max_leaf_nodes': 238, 'max_depth': 15, 'min_samples_leaf': 9, 'l2_regularization': 4.978983184223616e-06, 'max_bins': 183}. Best is trial 52 with value: 0.5351312462916565.\n",
      "[I 2025-02-14 20:26:48,166] Trial 123 finished with value: 0.5706847510552575 and parameters: {'learning_rate': 0.04055819073528914, 'max_iter': 190, 'max_leaf_nodes': 194, 'max_depth': 15, 'min_samples_leaf': 9, 'l2_regularization': 1.1516480343637746e-05, 'max_bins': 196}. Best is trial 52 with value: 0.5351312462916565.\n",
      "[I 2025-02-14 20:26:52,949] Trial 124 finished with value: 0.6336867797840608 and parameters: {'learning_rate': 0.05470660248796374, 'max_iter': 210, 'max_leaf_nodes': 232, 'max_depth': 15, 'min_samples_leaf': 8, 'l2_regularization': 4.490900478479227e-06, 'max_bins': 183}. Best is trial 52 with value: 0.5351312462916565.\n",
      "[I 2025-02-14 20:26:57,498] Trial 125 finished with value: 0.5335395829349219 and parameters: {'learning_rate': 0.044123203866582576, 'max_iter': 210, 'max_leaf_nodes': 222, 'max_depth': 16, 'min_samples_leaf': 9, 'l2_regularization': 7.333822006717672e-06, 'max_bins': 176}. Best is trial 125 with value: 0.5335395829349219.\n",
      "[I 2025-02-14 20:27:01,457] Trial 126 finished with value: 0.6004399683325143 and parameters: {'learning_rate': 0.034206401395216635, 'max_iter': 200, 'max_leaf_nodes': 238, 'max_depth': 16, 'min_samples_leaf': 10, 'l2_regularization': 8.037501081037163e-06, 'max_bins': 176}. Best is trial 125 with value: 0.5335395829349219.\n",
      "[I 2025-02-14 20:27:05,670] Trial 127 finished with value: 0.6165494599061971 and parameters: {'learning_rate': 0.03757847900021541, 'max_iter': 180, 'max_leaf_nodes': 210, 'max_depth': 15, 'min_samples_leaf': 8, 'l2_regularization': 5.8721422780402556e-06, 'max_bins': 171}. Best is trial 125 with value: 0.5335395829349219.\n",
      "[I 2025-02-14 20:27:10,790] Trial 128 finished with value: 0.599412344837008 and parameters: {'learning_rate': 0.05401560849341817, 'max_iter': 220, 'max_leaf_nodes': 244, 'max_depth': 16, 'min_samples_leaf': 9, 'l2_regularization': 2.7304494206212663e-06, 'max_bins': 185}. Best is trial 125 with value: 0.5335395829349219.\n",
      "[I 2025-02-14 20:27:14,124] Trial 129 finished with value: 0.5712528464984401 and parameters: {'learning_rate': 0.03220395528126512, 'max_iter': 160, 'max_leaf_nodes': 222, 'max_depth': 15, 'min_samples_leaf': 10, 'l2_regularization': 1.4569065686709682e-05, 'max_bins': 165}. Best is trial 125 with value: 0.5335395829349219.\n",
      "[I 2025-02-14 20:27:18,479] Trial 130 finished with value: 0.638346838932308 and parameters: {'learning_rate': 0.09879868007682319, 'max_iter': 210, 'max_leaf_nodes': 232, 'max_depth': 16, 'min_samples_leaf': 8, 'l2_regularization': 9.293295947871233e-06, 'max_bins': 156}. Best is trial 125 with value: 0.5335395829349219.\n",
      "[I 2025-02-14 20:27:23,253] Trial 131 finished with value: 0.560874664802504 and parameters: {'learning_rate': 0.043930250901729806, 'max_iter': 230, 'max_leaf_nodes': 202, 'max_depth': 16, 'min_samples_leaf': 9, 'l2_regularization': 3.0448703977999803e-05, 'max_bins': 149}. Best is trial 125 with value: 0.5335395829349219.\n",
      "[I 2025-02-14 20:27:28,179] Trial 132 finished with value: 0.5810243154480094 and parameters: {'learning_rate': 0.043446902942750935, 'max_iter': 230, 'max_leaf_nodes': 212, 'max_depth': 16, 'min_samples_leaf': 9, 'l2_regularization': 3.2099412454944424e-05, 'max_bins': 151}. Best is trial 125 with value: 0.5335395829349219.\n",
      "[I 2025-02-14 20:27:32,755] Trial 133 finished with value: 0.5625004196802716 and parameters: {'learning_rate': 0.023804576227036297, 'max_iter': 240, 'max_leaf_nodes': 198, 'max_depth': 15, 'min_samples_leaf': 9, 'l2_regularization': 2.329684616617742e-05, 'max_bins': 137}. Best is trial 125 with value: 0.5335395829349219.\n",
      "[I 2025-02-14 20:27:38,435] Trial 134 finished with value: 0.5505644547613616 and parameters: {'learning_rate': 0.03865698999006544, 'max_iter': 240, 'max_leaf_nodes': 240, 'max_depth': 16, 'min_samples_leaf': 9, 'l2_regularization': 5.379966602496335e-06, 'max_bins': 138}. Best is trial 125 with value: 0.5335395829349219.\n",
      "[I 2025-02-14 20:27:43,768] Trial 135 finished with value: 0.5873197576569571 and parameters: {'learning_rate': 0.024155685700119518, 'max_iter': 240, 'max_leaf_nodes': 240, 'max_depth': 15, 'min_samples_leaf': 10, 'l2_regularization': 2.3814460967408697e-05, 'max_bins': 141}. Best is trial 125 with value: 0.5335395829349219.\n",
      "[I 2025-02-14 20:27:49,178] Trial 136 finished with value: 0.5656711985312535 and parameters: {'learning_rate': 0.038896816371777256, 'max_iter': 240, 'max_leaf_nodes': 204, 'max_depth': 16, 'min_samples_leaf': 9, 'l2_regularization': 1.1834962411093398e-05, 'max_bins': 138}. Best is trial 125 with value: 0.5335395829349219.\n",
      "[I 2025-02-14 20:27:51,154] Trial 137 finished with value: 0.5906649828713593 and parameters: {'learning_rate': 0.028574566299540024, 'max_iter': 220, 'max_leaf_nodes': 194, 'max_depth': 4, 'min_samples_leaf': 8, 'l2_regularization': 4.300548488661553e-06, 'max_bins': 135}. Best is trial 125 with value: 0.5335395829349219.\n",
      "[I 2025-02-14 20:27:55,475] Trial 138 finished with value: 0.6280029679496306 and parameters: {'learning_rate': 0.06750372785318523, 'max_iter': 210, 'max_leaf_nodes': 228, 'max_depth': 15, 'min_samples_leaf': 11, 'l2_regularization': 5.116041402995387e-05, 'max_bins': 159}. Best is trial 125 with value: 0.5335395829349219.\n",
      "[I 2025-02-14 20:28:00,788] Trial 139 finished with value: 0.6442327768521057 and parameters: {'learning_rate': 0.3128682167019072, 'max_iter': 230, 'max_leaf_nodes': 252, 'max_depth': 16, 'min_samples_leaf': 7, 'l2_regularization': 7.806210767315276e-06, 'max_bins': 173}. Best is trial 125 with value: 0.5335395829349219.\n",
      "[I 2025-02-14 20:28:05,734] Trial 140 finished with value: 0.6134899569750564 and parameters: {'learning_rate': 0.03408609202139306, 'max_iter': 250, 'max_leaf_nodes': 202, 'max_depth': 15, 'min_samples_leaf': 10, 'l2_regularization': 1.9865520744407854e-05, 'max_bins': 144}. Best is trial 125 with value: 0.5335395829349219.\n",
      "[I 2025-02-14 20:28:10,959] Trial 141 finished with value: 0.5896108306441135 and parameters: {'learning_rate': 0.05209694052173034, 'max_iter': 240, 'max_leaf_nodes': 184, 'max_depth': 16, 'min_samples_leaf': 9, 'l2_regularization': 1.1781002985385328e-05, 'max_bins': 136}. Best is trial 125 with value: 0.5335395829349219.\n",
      "[I 2025-02-14 20:28:15,399] Trial 142 finished with value: 0.5502057344444314 and parameters: {'learning_rate': 0.03785090427631945, 'max_iter': 230, 'max_leaf_nodes': 216, 'max_depth': 16, 'min_samples_leaf': 9, 'l2_regularization': 5.778131747782801e-06, 'max_bins': 137}. Best is trial 125 with value: 0.5335395829349219.\n",
      "[I 2025-02-14 20:28:18,861] Trial 143 finished with value: 0.5495333795023145 and parameters: {'learning_rate': 0.03024082778465713, 'max_iter': 190, 'max_leaf_nodes': 218, 'max_depth': 16, 'min_samples_leaf': 9, 'l2_regularization': 2.055159246742587e-06, 'max_bins': 151}. Best is trial 125 with value: 0.5335395829349219.\n",
      "[I 2025-02-14 20:28:23,142] Trial 144 finished with value: 0.58948286014803 and parameters: {'learning_rate': 0.021575338290574845, 'max_iter': 200, 'max_leaf_nodes': 216, 'max_depth': 16, 'min_samples_leaf': 8, 'l2_regularization': 1.8435145426461684e-06, 'max_bins': 149}. Best is trial 125 with value: 0.5335395829349219.\n",
      "[I 2025-02-14 20:28:26,256] Trial 145 finished with value: 0.5830981812572296 and parameters: {'learning_rate': 0.02464930861739195, 'max_iter': 170, 'max_leaf_nodes': 234, 'max_depth': 16, 'min_samples_leaf': 10, 'l2_regularization': 2.649815597243236e-06, 'max_bins': 154}. Best is trial 125 with value: 0.5335395829349219.\n",
      "[I 2025-02-14 20:28:30,320] Trial 146 finished with value: 0.5747360787842664 and parameters: {'learning_rate': 0.03062655731204169, 'max_iter': 180, 'max_leaf_nodes': 242, 'max_depth': 15, 'min_samples_leaf': 8, 'l2_regularization': 5.214431606496493e-06, 'max_bins': 166}. Best is trial 125 with value: 0.5335395829349219.\n",
      "[I 2025-02-14 20:28:35,191] Trial 147 finished with value: 0.5300339841562219 and parameters: {'learning_rate': 0.03801495032521906, 'max_iter': 220, 'max_leaf_nodes': 228, 'max_depth': 16, 'min_samples_leaf': 9, 'l2_regularization': 1.3455887584781092e-06, 'max_bins': 181}. Best is trial 147 with value: 0.5300339841562219.\n",
      "[I 2025-02-14 20:28:39,825] Trial 148 finished with value: 0.5900792629370005 and parameters: {'learning_rate': 0.03961463834710053, 'max_iter': 190, 'max_leaf_nodes': 248, 'max_depth': 16, 'min_samples_leaf': 8, 'l2_regularization': 2.141910842095567e-06, 'max_bins': 179}. Best is trial 147 with value: 0.5300339841562219.\n",
      "[I 2025-02-14 20:28:44,268] Trial 149 finished with value: 0.5401219025927334 and parameters: {'learning_rate': 0.03580626808937618, 'max_iter': 220, 'max_leaf_nodes': 228, 'max_depth': 16, 'min_samples_leaf': 9, 'l2_regularization': 1.3292158164585992e-06, 'max_bins': 185}. Best is trial 147 with value: 0.5300339841562219.\n"
     ]
    }
   ],
   "source": [
    "# Add stream handler of stdout to show the messages\n",
    "# optuna.logging.get_logger(\"optuna\").addHandler(logging.StreamHandler(sys.stdout))\n",
    "study_name = \"fp_gbm\"  # Unique identifier of the study.\n",
    "storage_name = \"sqlite:///{}.db\".format(study_name)\n",
    "\n",
    "target = 'KSOL'\n",
    "\n",
    "from optuna.samplers import TPESampler\n",
    "\n",
    "sampler = TPESampler(n_startup_trials=100, seed=random_state)\n",
    "study = optuna.create_study(study_name=target, \n",
    "                            storage=storage_name, \n",
    "                            direction='minimize', \n",
    "                            load_if_exists=True)\n",
    "study.optimize(objective, n_trials=150)"
   ]
  },
  {
   "cell_type": "code",
   "execution_count": 11,
   "metadata": {},
   "outputs": [
    {
     "data": {
      "application/vnd.plotly.v1+json": {
       "config": {
        "plotlyServerURL": "https://plot.ly"
       },
       "data": [
        {
         "mode": "markers",
         "name": "Objective Value",
         "type": "scatter",
         "x": [
          0,
          1,
          2,
          3,
          4,
          5,
          6,
          7,
          8,
          9,
          10,
          11,
          12,
          13,
          14,
          15,
          16,
          17,
          18,
          19,
          20,
          21,
          22,
          23,
          24,
          25,
          26,
          27,
          28,
          29,
          30,
          31,
          32,
          33,
          34,
          35,
          36,
          37,
          38,
          39,
          40,
          41,
          42,
          43,
          44,
          45,
          46,
          47,
          48,
          49,
          50,
          51,
          52,
          53,
          54,
          55,
          56,
          57,
          58,
          59,
          60,
          61,
          62,
          63,
          64,
          65,
          66,
          67,
          68,
          69,
          70,
          71,
          72,
          73,
          74,
          75,
          76,
          77,
          78,
          79,
          80,
          81,
          82,
          83,
          84,
          85,
          86,
          87,
          88,
          89,
          90,
          91,
          92,
          93,
          94,
          95,
          96,
          97,
          98,
          99,
          100,
          101,
          102,
          103,
          104,
          105,
          106,
          107,
          108,
          109,
          110,
          111,
          112,
          113,
          114,
          115,
          116,
          117,
          118,
          119,
          120,
          121,
          122,
          123,
          124,
          125,
          126,
          127,
          128,
          129,
          130,
          131,
          132,
          133,
          134,
          135,
          136,
          137,
          138,
          139,
          140,
          141,
          142,
          143,
          144,
          145,
          146,
          147,
          148,
          149
         ],
         "y": [
          1.0000407359333474,
          1.1645477583549875,
          0.7866560958363359,
          1.018221438464832,
          0.6173842466672858,
          0.6061401838646566,
          0.9028742798991986,
          0.7230602619587759,
          0.6549542930059906,
          0.6187907421811536,
          0.616016460347342,
          0.6192768851199999,
          0.6149409026947988,
          0.9780914864971866,
          0.609056127135053,
          0.677767702005721,
          0.7115353872316311,
          0.6109836209647018,
          0.6556250113470271,
          0.6140180399631819,
          0.7927326645568127,
          0.5910525171643253,
          0.5734501097320376,
          0.578354786763749,
          0.6137637077301181,
          0.6076641812949323,
          0.6025045872178195,
          0.7154620964697985,
          0.6039027106758051,
          0.8145046037639836,
          0.6433086324723499,
          0.5994659593306003,
          0.6133982828238274,
          0.6542505863525379,
          0.9199279364806378,
          0.6278667564846758,
          0.653892236138442,
          0.6827382343708428,
          0.6481072678615405,
          0.8151506010609234,
          0.619858375172198,
          0.591574144332044,
          0.644492380987234,
          0.5920908243699413,
          0.6636489140727126,
          0.6621259270060063,
          0.9809154619694505,
          0.6463506599530504,
          0.5922984902568413,
          0.622212244723632,
          0.600233566912414,
          0.6291369362365306,
          0.5351312462916565,
          0.724047470104675,
          0.5955993860830067,
          0.6320879571935247,
          0.6407947233660864,
          0.6334804639999079,
          0.5833609442443364,
          0.6125855539507676,
          0.8915930379243533,
          0.7010374860294191,
          0.6320282634685339,
          0.5760367338351029,
          0.6003668093312968,
          0.6233912754959068,
          0.5888232487553187,
          0.5908938021707356,
          0.5793210309731881,
          0.6282337692285986,
          0.6130470825833138,
          0.579956753981606,
          0.5917369222859651,
          0.5898592637582053,
          0.6708512834272836,
          0.648758079158194,
          0.6283103141375119,
          0.5827429129635112,
          0.601608679669837,
          0.7071961527080975,
          0.5810037906893465,
          0.6422933539579829,
          0.6174631194020049,
          0.5854822264082716,
          0.5750218854725335,
          0.6054644416864472,
          0.5950441793096125,
          0.6477688149213949,
          0.6670172795723978,
          0.7303485451585013,
          0.7975134568330845,
          0.578898530014189,
          0.5677565811767961,
          0.6044315718260092,
          0.5740489758707391,
          0.6239947860338629,
          0.5483535178629413,
          0.5703992879187658,
          0.5842028950197035,
          0.5646180218417266,
          0.6396141168063092,
          0.6084963729003449,
          0.5380708303001049,
          0.5580575448455606,
          0.552648952366058,
          0.594677626443165,
          0.6173356980591831,
          0.5420913969449377,
          0.6040371125069981,
          0.6128510914078519,
          0.5863882613239999,
          0.6189927529450056,
          0.5961986885373778,
          0.6216062711911016,
          0.5957349806244842,
          0.5667083434328615,
          0.6162957322679657,
          0.5477380151787423,
          0.6361522334131366,
          0.6368776254275633,
          0.6244592047511223,
          0.549243778819752,
          0.5580818376151393,
          0.5706847510552575,
          0.6336867797840608,
          0.5335395829349219,
          0.6004399683325143,
          0.6165494599061971,
          0.599412344837008,
          0.5712528464984401,
          0.638346838932308,
          0.560874664802504,
          0.5810243154480094,
          0.5625004196802716,
          0.5505644547613616,
          0.5873197576569571,
          0.5656711985312535,
          0.5906649828713593,
          0.6280029679496306,
          0.6442327768521057,
          0.6134899569750564,
          0.5896108306441135,
          0.5502057344444314,
          0.5495333795023145,
          0.58948286014803,
          0.5830981812572296,
          0.5747360787842664,
          0.5300339841562219,
          0.5900792629370005,
          0.5401219025927334
         ]
        },
        {
         "mode": "lines",
         "name": "Best Value",
         "type": "scatter",
         "x": [
          0,
          1,
          2,
          3,
          4,
          5,
          6,
          7,
          8,
          9,
          10,
          11,
          12,
          13,
          14,
          15,
          16,
          17,
          18,
          19,
          20,
          21,
          22,
          23,
          24,
          25,
          26,
          27,
          28,
          29,
          30,
          31,
          32,
          33,
          34,
          35,
          36,
          37,
          38,
          39,
          40,
          41,
          42,
          43,
          44,
          45,
          46,
          47,
          48,
          49,
          50,
          51,
          52,
          53,
          54,
          55,
          56,
          57,
          58,
          59,
          60,
          61,
          62,
          63,
          64,
          65,
          66,
          67,
          68,
          69,
          70,
          71,
          72,
          73,
          74,
          75,
          76,
          77,
          78,
          79,
          80,
          81,
          82,
          83,
          84,
          85,
          86,
          87,
          88,
          89,
          90,
          91,
          92,
          93,
          94,
          95,
          96,
          97,
          98,
          99,
          100,
          101,
          102,
          103,
          104,
          105,
          106,
          107,
          108,
          109,
          110,
          111,
          112,
          113,
          114,
          115,
          116,
          117,
          118,
          119,
          120,
          121,
          122,
          123,
          124,
          125,
          126,
          127,
          128,
          129,
          130,
          131,
          132,
          133,
          134,
          135,
          136,
          137,
          138,
          139,
          140,
          141,
          142,
          143,
          144,
          145,
          146,
          147,
          148,
          149
         ],
         "y": [
          1.0000407359333474,
          1.0000407359333474,
          0.7866560958363359,
          0.7866560958363359,
          0.6173842466672858,
          0.6061401838646566,
          0.6061401838646566,
          0.6061401838646566,
          0.6061401838646566,
          0.6061401838646566,
          0.6061401838646566,
          0.6061401838646566,
          0.6061401838646566,
          0.6061401838646566,
          0.6061401838646566,
          0.6061401838646566,
          0.6061401838646566,
          0.6061401838646566,
          0.6061401838646566,
          0.6061401838646566,
          0.6061401838646566,
          0.5910525171643253,
          0.5734501097320376,
          0.5734501097320376,
          0.5734501097320376,
          0.5734501097320376,
          0.5734501097320376,
          0.5734501097320376,
          0.5734501097320376,
          0.5734501097320376,
          0.5734501097320376,
          0.5734501097320376,
          0.5734501097320376,
          0.5734501097320376,
          0.5734501097320376,
          0.5734501097320376,
          0.5734501097320376,
          0.5734501097320376,
          0.5734501097320376,
          0.5734501097320376,
          0.5734501097320376,
          0.5734501097320376,
          0.5734501097320376,
          0.5734501097320376,
          0.5734501097320376,
          0.5734501097320376,
          0.5734501097320376,
          0.5734501097320376,
          0.5734501097320376,
          0.5734501097320376,
          0.5734501097320376,
          0.5734501097320376,
          0.5351312462916565,
          0.5351312462916565,
          0.5351312462916565,
          0.5351312462916565,
          0.5351312462916565,
          0.5351312462916565,
          0.5351312462916565,
          0.5351312462916565,
          0.5351312462916565,
          0.5351312462916565,
          0.5351312462916565,
          0.5351312462916565,
          0.5351312462916565,
          0.5351312462916565,
          0.5351312462916565,
          0.5351312462916565,
          0.5351312462916565,
          0.5351312462916565,
          0.5351312462916565,
          0.5351312462916565,
          0.5351312462916565,
          0.5351312462916565,
          0.5351312462916565,
          0.5351312462916565,
          0.5351312462916565,
          0.5351312462916565,
          0.5351312462916565,
          0.5351312462916565,
          0.5351312462916565,
          0.5351312462916565,
          0.5351312462916565,
          0.5351312462916565,
          0.5351312462916565,
          0.5351312462916565,
          0.5351312462916565,
          0.5351312462916565,
          0.5351312462916565,
          0.5351312462916565,
          0.5351312462916565,
          0.5351312462916565,
          0.5351312462916565,
          0.5351312462916565,
          0.5351312462916565,
          0.5351312462916565,
          0.5351312462916565,
          0.5351312462916565,
          0.5351312462916565,
          0.5351312462916565,
          0.5351312462916565,
          0.5351312462916565,
          0.5351312462916565,
          0.5351312462916565,
          0.5351312462916565,
          0.5351312462916565,
          0.5351312462916565,
          0.5351312462916565,
          0.5351312462916565,
          0.5351312462916565,
          0.5351312462916565,
          0.5351312462916565,
          0.5351312462916565,
          0.5351312462916565,
          0.5351312462916565,
          0.5351312462916565,
          0.5351312462916565,
          0.5351312462916565,
          0.5351312462916565,
          0.5351312462916565,
          0.5351312462916565,
          0.5351312462916565,
          0.5351312462916565,
          0.5351312462916565,
          0.5351312462916565,
          0.5335395829349219,
          0.5335395829349219,
          0.5335395829349219,
          0.5335395829349219,
          0.5335395829349219,
          0.5335395829349219,
          0.5335395829349219,
          0.5335395829349219,
          0.5335395829349219,
          0.5335395829349219,
          0.5335395829349219,
          0.5335395829349219,
          0.5335395829349219,
          0.5335395829349219,
          0.5335395829349219,
          0.5335395829349219,
          0.5335395829349219,
          0.5335395829349219,
          0.5335395829349219,
          0.5335395829349219,
          0.5335395829349219,
          0.5335395829349219,
          0.5300339841562219,
          0.5300339841562219,
          0.5300339841562219
         ]
        },
        {
         "marker": {
          "color": "#cccccc"
         },
         "mode": "markers",
         "name": "Infeasible Trial",
         "showlegend": false,
         "type": "scatter",
         "x": [],
         "y": []
        }
       ],
       "layout": {
        "template": {
         "data": {
          "bar": [
           {
            "error_x": {
             "color": "#2a3f5f"
            },
            "error_y": {
             "color": "#2a3f5f"
            },
            "marker": {
             "line": {
              "color": "#E5ECF6",
              "width": 0.5
             },
             "pattern": {
              "fillmode": "overlay",
              "size": 10,
              "solidity": 0.2
             }
            },
            "type": "bar"
           }
          ],
          "barpolar": [
           {
            "marker": {
             "line": {
              "color": "#E5ECF6",
              "width": 0.5
             },
             "pattern": {
              "fillmode": "overlay",
              "size": 10,
              "solidity": 0.2
             }
            },
            "type": "barpolar"
           }
          ],
          "carpet": [
           {
            "aaxis": {
             "endlinecolor": "#2a3f5f",
             "gridcolor": "white",
             "linecolor": "white",
             "minorgridcolor": "white",
             "startlinecolor": "#2a3f5f"
            },
            "baxis": {
             "endlinecolor": "#2a3f5f",
             "gridcolor": "white",
             "linecolor": "white",
             "minorgridcolor": "white",
             "startlinecolor": "#2a3f5f"
            },
            "type": "carpet"
           }
          ],
          "choropleth": [
           {
            "colorbar": {
             "outlinewidth": 0,
             "ticks": ""
            },
            "type": "choropleth"
           }
          ],
          "contour": [
           {
            "colorbar": {
             "outlinewidth": 0,
             "ticks": ""
            },
            "colorscale": [
             [
              0,
              "#0d0887"
             ],
             [
              0.1111111111111111,
              "#46039f"
             ],
             [
              0.2222222222222222,
              "#7201a8"
             ],
             [
              0.3333333333333333,
              "#9c179e"
             ],
             [
              0.4444444444444444,
              "#bd3786"
             ],
             [
              0.5555555555555556,
              "#d8576b"
             ],
             [
              0.6666666666666666,
              "#ed7953"
             ],
             [
              0.7777777777777778,
              "#fb9f3a"
             ],
             [
              0.8888888888888888,
              "#fdca26"
             ],
             [
              1,
              "#f0f921"
             ]
            ],
            "type": "contour"
           }
          ],
          "contourcarpet": [
           {
            "colorbar": {
             "outlinewidth": 0,
             "ticks": ""
            },
            "type": "contourcarpet"
           }
          ],
          "heatmap": [
           {
            "colorbar": {
             "outlinewidth": 0,
             "ticks": ""
            },
            "colorscale": [
             [
              0,
              "#0d0887"
             ],
             [
              0.1111111111111111,
              "#46039f"
             ],
             [
              0.2222222222222222,
              "#7201a8"
             ],
             [
              0.3333333333333333,
              "#9c179e"
             ],
             [
              0.4444444444444444,
              "#bd3786"
             ],
             [
              0.5555555555555556,
              "#d8576b"
             ],
             [
              0.6666666666666666,
              "#ed7953"
             ],
             [
              0.7777777777777778,
              "#fb9f3a"
             ],
             [
              0.8888888888888888,
              "#fdca26"
             ],
             [
              1,
              "#f0f921"
             ]
            ],
            "type": "heatmap"
           }
          ],
          "histogram": [
           {
            "marker": {
             "pattern": {
              "fillmode": "overlay",
              "size": 10,
              "solidity": 0.2
             }
            },
            "type": "histogram"
           }
          ],
          "histogram2d": [
           {
            "colorbar": {
             "outlinewidth": 0,
             "ticks": ""
            },
            "colorscale": [
             [
              0,
              "#0d0887"
             ],
             [
              0.1111111111111111,
              "#46039f"
             ],
             [
              0.2222222222222222,
              "#7201a8"
             ],
             [
              0.3333333333333333,
              "#9c179e"
             ],
             [
              0.4444444444444444,
              "#bd3786"
             ],
             [
              0.5555555555555556,
              "#d8576b"
             ],
             [
              0.6666666666666666,
              "#ed7953"
             ],
             [
              0.7777777777777778,
              "#fb9f3a"
             ],
             [
              0.8888888888888888,
              "#fdca26"
             ],
             [
              1,
              "#f0f921"
             ]
            ],
            "type": "histogram2d"
           }
          ],
          "histogram2dcontour": [
           {
            "colorbar": {
             "outlinewidth": 0,
             "ticks": ""
            },
            "colorscale": [
             [
              0,
              "#0d0887"
             ],
             [
              0.1111111111111111,
              "#46039f"
             ],
             [
              0.2222222222222222,
              "#7201a8"
             ],
             [
              0.3333333333333333,
              "#9c179e"
             ],
             [
              0.4444444444444444,
              "#bd3786"
             ],
             [
              0.5555555555555556,
              "#d8576b"
             ],
             [
              0.6666666666666666,
              "#ed7953"
             ],
             [
              0.7777777777777778,
              "#fb9f3a"
             ],
             [
              0.8888888888888888,
              "#fdca26"
             ],
             [
              1,
              "#f0f921"
             ]
            ],
            "type": "histogram2dcontour"
           }
          ],
          "mesh3d": [
           {
            "colorbar": {
             "outlinewidth": 0,
             "ticks": ""
            },
            "type": "mesh3d"
           }
          ],
          "parcoords": [
           {
            "line": {
             "colorbar": {
              "outlinewidth": 0,
              "ticks": ""
             }
            },
            "type": "parcoords"
           }
          ],
          "pie": [
           {
            "automargin": true,
            "type": "pie"
           }
          ],
          "scatter": [
           {
            "fillpattern": {
             "fillmode": "overlay",
             "size": 10,
             "solidity": 0.2
            },
            "type": "scatter"
           }
          ],
          "scatter3d": [
           {
            "line": {
             "colorbar": {
              "outlinewidth": 0,
              "ticks": ""
             }
            },
            "marker": {
             "colorbar": {
              "outlinewidth": 0,
              "ticks": ""
             }
            },
            "type": "scatter3d"
           }
          ],
          "scattercarpet": [
           {
            "marker": {
             "colorbar": {
              "outlinewidth": 0,
              "ticks": ""
             }
            },
            "type": "scattercarpet"
           }
          ],
          "scattergeo": [
           {
            "marker": {
             "colorbar": {
              "outlinewidth": 0,
              "ticks": ""
             }
            },
            "type": "scattergeo"
           }
          ],
          "scattergl": [
           {
            "marker": {
             "colorbar": {
              "outlinewidth": 0,
              "ticks": ""
             }
            },
            "type": "scattergl"
           }
          ],
          "scattermap": [
           {
            "marker": {
             "colorbar": {
              "outlinewidth": 0,
              "ticks": ""
             }
            },
            "type": "scattermap"
           }
          ],
          "scattermapbox": [
           {
            "marker": {
             "colorbar": {
              "outlinewidth": 0,
              "ticks": ""
             }
            },
            "type": "scattermapbox"
           }
          ],
          "scatterpolar": [
           {
            "marker": {
             "colorbar": {
              "outlinewidth": 0,
              "ticks": ""
             }
            },
            "type": "scatterpolar"
           }
          ],
          "scatterpolargl": [
           {
            "marker": {
             "colorbar": {
              "outlinewidth": 0,
              "ticks": ""
             }
            },
            "type": "scatterpolargl"
           }
          ],
          "scatterternary": [
           {
            "marker": {
             "colorbar": {
              "outlinewidth": 0,
              "ticks": ""
             }
            },
            "type": "scatterternary"
           }
          ],
          "surface": [
           {
            "colorbar": {
             "outlinewidth": 0,
             "ticks": ""
            },
            "colorscale": [
             [
              0,
              "#0d0887"
             ],
             [
              0.1111111111111111,
              "#46039f"
             ],
             [
              0.2222222222222222,
              "#7201a8"
             ],
             [
              0.3333333333333333,
              "#9c179e"
             ],
             [
              0.4444444444444444,
              "#bd3786"
             ],
             [
              0.5555555555555556,
              "#d8576b"
             ],
             [
              0.6666666666666666,
              "#ed7953"
             ],
             [
              0.7777777777777778,
              "#fb9f3a"
             ],
             [
              0.8888888888888888,
              "#fdca26"
             ],
             [
              1,
              "#f0f921"
             ]
            ],
            "type": "surface"
           }
          ],
          "table": [
           {
            "cells": {
             "fill": {
              "color": "#EBF0F8"
             },
             "line": {
              "color": "white"
             }
            },
            "header": {
             "fill": {
              "color": "#C8D4E3"
             },
             "line": {
              "color": "white"
             }
            },
            "type": "table"
           }
          ]
         },
         "layout": {
          "annotationdefaults": {
           "arrowcolor": "#2a3f5f",
           "arrowhead": 0,
           "arrowwidth": 1
          },
          "autotypenumbers": "strict",
          "coloraxis": {
           "colorbar": {
            "outlinewidth": 0,
            "ticks": ""
           }
          },
          "colorscale": {
           "diverging": [
            [
             0,
             "#8e0152"
            ],
            [
             0.1,
             "#c51b7d"
            ],
            [
             0.2,
             "#de77ae"
            ],
            [
             0.3,
             "#f1b6da"
            ],
            [
             0.4,
             "#fde0ef"
            ],
            [
             0.5,
             "#f7f7f7"
            ],
            [
             0.6,
             "#e6f5d0"
            ],
            [
             0.7,
             "#b8e186"
            ],
            [
             0.8,
             "#7fbc41"
            ],
            [
             0.9,
             "#4d9221"
            ],
            [
             1,
             "#276419"
            ]
           ],
           "sequential": [
            [
             0,
             "#0d0887"
            ],
            [
             0.1111111111111111,
             "#46039f"
            ],
            [
             0.2222222222222222,
             "#7201a8"
            ],
            [
             0.3333333333333333,
             "#9c179e"
            ],
            [
             0.4444444444444444,
             "#bd3786"
            ],
            [
             0.5555555555555556,
             "#d8576b"
            ],
            [
             0.6666666666666666,
             "#ed7953"
            ],
            [
             0.7777777777777778,
             "#fb9f3a"
            ],
            [
             0.8888888888888888,
             "#fdca26"
            ],
            [
             1,
             "#f0f921"
            ]
           ],
           "sequentialminus": [
            [
             0,
             "#0d0887"
            ],
            [
             0.1111111111111111,
             "#46039f"
            ],
            [
             0.2222222222222222,
             "#7201a8"
            ],
            [
             0.3333333333333333,
             "#9c179e"
            ],
            [
             0.4444444444444444,
             "#bd3786"
            ],
            [
             0.5555555555555556,
             "#d8576b"
            ],
            [
             0.6666666666666666,
             "#ed7953"
            ],
            [
             0.7777777777777778,
             "#fb9f3a"
            ],
            [
             0.8888888888888888,
             "#fdca26"
            ],
            [
             1,
             "#f0f921"
            ]
           ]
          },
          "colorway": [
           "#636efa",
           "#EF553B",
           "#00cc96",
           "#ab63fa",
           "#FFA15A",
           "#19d3f3",
           "#FF6692",
           "#B6E880",
           "#FF97FF",
           "#FECB52"
          ],
          "font": {
           "color": "#2a3f5f"
          },
          "geo": {
           "bgcolor": "white",
           "lakecolor": "white",
           "landcolor": "#E5ECF6",
           "showlakes": true,
           "showland": true,
           "subunitcolor": "white"
          },
          "hoverlabel": {
           "align": "left"
          },
          "hovermode": "closest",
          "mapbox": {
           "style": "light"
          },
          "paper_bgcolor": "white",
          "plot_bgcolor": "#E5ECF6",
          "polar": {
           "angularaxis": {
            "gridcolor": "white",
            "linecolor": "white",
            "ticks": ""
           },
           "bgcolor": "#E5ECF6",
           "radialaxis": {
            "gridcolor": "white",
            "linecolor": "white",
            "ticks": ""
           }
          },
          "scene": {
           "xaxis": {
            "backgroundcolor": "#E5ECF6",
            "gridcolor": "white",
            "gridwidth": 2,
            "linecolor": "white",
            "showbackground": true,
            "ticks": "",
            "zerolinecolor": "white"
           },
           "yaxis": {
            "backgroundcolor": "#E5ECF6",
            "gridcolor": "white",
            "gridwidth": 2,
            "linecolor": "white",
            "showbackground": true,
            "ticks": "",
            "zerolinecolor": "white"
           },
           "zaxis": {
            "backgroundcolor": "#E5ECF6",
            "gridcolor": "white",
            "gridwidth": 2,
            "linecolor": "white",
            "showbackground": true,
            "ticks": "",
            "zerolinecolor": "white"
           }
          },
          "shapedefaults": {
           "line": {
            "color": "#2a3f5f"
           }
          },
          "ternary": {
           "aaxis": {
            "gridcolor": "white",
            "linecolor": "white",
            "ticks": ""
           },
           "baxis": {
            "gridcolor": "white",
            "linecolor": "white",
            "ticks": ""
           },
           "bgcolor": "#E5ECF6",
           "caxis": {
            "gridcolor": "white",
            "linecolor": "white",
            "ticks": ""
           }
          },
          "title": {
           "x": 0.05
          },
          "xaxis": {
           "automargin": true,
           "gridcolor": "white",
           "linecolor": "white",
           "ticks": "",
           "title": {
            "standoff": 15
           },
           "zerolinecolor": "white",
           "zerolinewidth": 2
          },
          "yaxis": {
           "automargin": true,
           "gridcolor": "white",
           "linecolor": "white",
           "ticks": "",
           "title": {
            "standoff": 15
           },
           "zerolinecolor": "white",
           "zerolinewidth": 2
          }
         }
        },
        "title": {
         "text": "Optimization History Plot"
        },
        "xaxis": {
         "title": {
          "text": "Trial"
         }
        },
        "yaxis": {
         "title": {
          "text": "Objective Value"
         }
        }
       }
      }
     },
     "metadata": {},
     "output_type": "display_data"
    }
   ],
   "source": [
    "from optuna.visualization import plot_optimization_history, plot_param_importances\n",
    "\n",
    "plot_optimization_history(study)\n"
   ]
  },
  {
   "cell_type": "code",
   "execution_count": 12,
   "metadata": {},
   "outputs": [
    {
     "data": {
      "application/vnd.plotly.v1+json": {
       "config": {
        "plotlyServerURL": "https://plot.ly"
       },
       "data": [
        {
         "cliponaxis": false,
         "hovertemplate": [
          "max_leaf_nodes (IntDistribution): 0.016770569717873187<extra></extra>",
          "l2_regularization (FloatDistribution): 0.01684902127896488<extra></extra>",
          "max_depth (IntDistribution): 0.03832105051748537<extra></extra>",
          "max_bins (IntDistribution): 0.044683694975165306<extra></extra>",
          "min_samples_leaf (IntDistribution): 0.17688719837301756<extra></extra>",
          "max_iter (IntDistribution): 0.2804875314655588<extra></extra>",
          "learning_rate (FloatDistribution): 0.4260009336719349<extra></extra>"
         ],
         "name": "Objective Value",
         "orientation": "h",
         "text": [
          "0.02",
          "0.02",
          "0.04",
          "0.04",
          "0.18",
          "0.28",
          "0.43"
         ],
         "textposition": "outside",
         "type": "bar",
         "x": [
          0.016770569717873187,
          0.01684902127896488,
          0.03832105051748537,
          0.044683694975165306,
          0.17688719837301756,
          0.2804875314655588,
          0.4260009336719349
         ],
         "y": [
          "max_leaf_nodes",
          "l2_regularization",
          "max_depth",
          "max_bins",
          "min_samples_leaf",
          "max_iter",
          "learning_rate"
         ]
        }
       ],
       "layout": {
        "template": {
         "data": {
          "bar": [
           {
            "error_x": {
             "color": "#2a3f5f"
            },
            "error_y": {
             "color": "#2a3f5f"
            },
            "marker": {
             "line": {
              "color": "#E5ECF6",
              "width": 0.5
             },
             "pattern": {
              "fillmode": "overlay",
              "size": 10,
              "solidity": 0.2
             }
            },
            "type": "bar"
           }
          ],
          "barpolar": [
           {
            "marker": {
             "line": {
              "color": "#E5ECF6",
              "width": 0.5
             },
             "pattern": {
              "fillmode": "overlay",
              "size": 10,
              "solidity": 0.2
             }
            },
            "type": "barpolar"
           }
          ],
          "carpet": [
           {
            "aaxis": {
             "endlinecolor": "#2a3f5f",
             "gridcolor": "white",
             "linecolor": "white",
             "minorgridcolor": "white",
             "startlinecolor": "#2a3f5f"
            },
            "baxis": {
             "endlinecolor": "#2a3f5f",
             "gridcolor": "white",
             "linecolor": "white",
             "minorgridcolor": "white",
             "startlinecolor": "#2a3f5f"
            },
            "type": "carpet"
           }
          ],
          "choropleth": [
           {
            "colorbar": {
             "outlinewidth": 0,
             "ticks": ""
            },
            "type": "choropleth"
           }
          ],
          "contour": [
           {
            "colorbar": {
             "outlinewidth": 0,
             "ticks": ""
            },
            "colorscale": [
             [
              0,
              "#0d0887"
             ],
             [
              0.1111111111111111,
              "#46039f"
             ],
             [
              0.2222222222222222,
              "#7201a8"
             ],
             [
              0.3333333333333333,
              "#9c179e"
             ],
             [
              0.4444444444444444,
              "#bd3786"
             ],
             [
              0.5555555555555556,
              "#d8576b"
             ],
             [
              0.6666666666666666,
              "#ed7953"
             ],
             [
              0.7777777777777778,
              "#fb9f3a"
             ],
             [
              0.8888888888888888,
              "#fdca26"
             ],
             [
              1,
              "#f0f921"
             ]
            ],
            "type": "contour"
           }
          ],
          "contourcarpet": [
           {
            "colorbar": {
             "outlinewidth": 0,
             "ticks": ""
            },
            "type": "contourcarpet"
           }
          ],
          "heatmap": [
           {
            "colorbar": {
             "outlinewidth": 0,
             "ticks": ""
            },
            "colorscale": [
             [
              0,
              "#0d0887"
             ],
             [
              0.1111111111111111,
              "#46039f"
             ],
             [
              0.2222222222222222,
              "#7201a8"
             ],
             [
              0.3333333333333333,
              "#9c179e"
             ],
             [
              0.4444444444444444,
              "#bd3786"
             ],
             [
              0.5555555555555556,
              "#d8576b"
             ],
             [
              0.6666666666666666,
              "#ed7953"
             ],
             [
              0.7777777777777778,
              "#fb9f3a"
             ],
             [
              0.8888888888888888,
              "#fdca26"
             ],
             [
              1,
              "#f0f921"
             ]
            ],
            "type": "heatmap"
           }
          ],
          "histogram": [
           {
            "marker": {
             "pattern": {
              "fillmode": "overlay",
              "size": 10,
              "solidity": 0.2
             }
            },
            "type": "histogram"
           }
          ],
          "histogram2d": [
           {
            "colorbar": {
             "outlinewidth": 0,
             "ticks": ""
            },
            "colorscale": [
             [
              0,
              "#0d0887"
             ],
             [
              0.1111111111111111,
              "#46039f"
             ],
             [
              0.2222222222222222,
              "#7201a8"
             ],
             [
              0.3333333333333333,
              "#9c179e"
             ],
             [
              0.4444444444444444,
              "#bd3786"
             ],
             [
              0.5555555555555556,
              "#d8576b"
             ],
             [
              0.6666666666666666,
              "#ed7953"
             ],
             [
              0.7777777777777778,
              "#fb9f3a"
             ],
             [
              0.8888888888888888,
              "#fdca26"
             ],
             [
              1,
              "#f0f921"
             ]
            ],
            "type": "histogram2d"
           }
          ],
          "histogram2dcontour": [
           {
            "colorbar": {
             "outlinewidth": 0,
             "ticks": ""
            },
            "colorscale": [
             [
              0,
              "#0d0887"
             ],
             [
              0.1111111111111111,
              "#46039f"
             ],
             [
              0.2222222222222222,
              "#7201a8"
             ],
             [
              0.3333333333333333,
              "#9c179e"
             ],
             [
              0.4444444444444444,
              "#bd3786"
             ],
             [
              0.5555555555555556,
              "#d8576b"
             ],
             [
              0.6666666666666666,
              "#ed7953"
             ],
             [
              0.7777777777777778,
              "#fb9f3a"
             ],
             [
              0.8888888888888888,
              "#fdca26"
             ],
             [
              1,
              "#f0f921"
             ]
            ],
            "type": "histogram2dcontour"
           }
          ],
          "mesh3d": [
           {
            "colorbar": {
             "outlinewidth": 0,
             "ticks": ""
            },
            "type": "mesh3d"
           }
          ],
          "parcoords": [
           {
            "line": {
             "colorbar": {
              "outlinewidth": 0,
              "ticks": ""
             }
            },
            "type": "parcoords"
           }
          ],
          "pie": [
           {
            "automargin": true,
            "type": "pie"
           }
          ],
          "scatter": [
           {
            "fillpattern": {
             "fillmode": "overlay",
             "size": 10,
             "solidity": 0.2
            },
            "type": "scatter"
           }
          ],
          "scatter3d": [
           {
            "line": {
             "colorbar": {
              "outlinewidth": 0,
              "ticks": ""
             }
            },
            "marker": {
             "colorbar": {
              "outlinewidth": 0,
              "ticks": ""
             }
            },
            "type": "scatter3d"
           }
          ],
          "scattercarpet": [
           {
            "marker": {
             "colorbar": {
              "outlinewidth": 0,
              "ticks": ""
             }
            },
            "type": "scattercarpet"
           }
          ],
          "scattergeo": [
           {
            "marker": {
             "colorbar": {
              "outlinewidth": 0,
              "ticks": ""
             }
            },
            "type": "scattergeo"
           }
          ],
          "scattergl": [
           {
            "marker": {
             "colorbar": {
              "outlinewidth": 0,
              "ticks": ""
             }
            },
            "type": "scattergl"
           }
          ],
          "scattermap": [
           {
            "marker": {
             "colorbar": {
              "outlinewidth": 0,
              "ticks": ""
             }
            },
            "type": "scattermap"
           }
          ],
          "scattermapbox": [
           {
            "marker": {
             "colorbar": {
              "outlinewidth": 0,
              "ticks": ""
             }
            },
            "type": "scattermapbox"
           }
          ],
          "scatterpolar": [
           {
            "marker": {
             "colorbar": {
              "outlinewidth": 0,
              "ticks": ""
             }
            },
            "type": "scatterpolar"
           }
          ],
          "scatterpolargl": [
           {
            "marker": {
             "colorbar": {
              "outlinewidth": 0,
              "ticks": ""
             }
            },
            "type": "scatterpolargl"
           }
          ],
          "scatterternary": [
           {
            "marker": {
             "colorbar": {
              "outlinewidth": 0,
              "ticks": ""
             }
            },
            "type": "scatterternary"
           }
          ],
          "surface": [
           {
            "colorbar": {
             "outlinewidth": 0,
             "ticks": ""
            },
            "colorscale": [
             [
              0,
              "#0d0887"
             ],
             [
              0.1111111111111111,
              "#46039f"
             ],
             [
              0.2222222222222222,
              "#7201a8"
             ],
             [
              0.3333333333333333,
              "#9c179e"
             ],
             [
              0.4444444444444444,
              "#bd3786"
             ],
             [
              0.5555555555555556,
              "#d8576b"
             ],
             [
              0.6666666666666666,
              "#ed7953"
             ],
             [
              0.7777777777777778,
              "#fb9f3a"
             ],
             [
              0.8888888888888888,
              "#fdca26"
             ],
             [
              1,
              "#f0f921"
             ]
            ],
            "type": "surface"
           }
          ],
          "table": [
           {
            "cells": {
             "fill": {
              "color": "#EBF0F8"
             },
             "line": {
              "color": "white"
             }
            },
            "header": {
             "fill": {
              "color": "#C8D4E3"
             },
             "line": {
              "color": "white"
             }
            },
            "type": "table"
           }
          ]
         },
         "layout": {
          "annotationdefaults": {
           "arrowcolor": "#2a3f5f",
           "arrowhead": 0,
           "arrowwidth": 1
          },
          "autotypenumbers": "strict",
          "coloraxis": {
           "colorbar": {
            "outlinewidth": 0,
            "ticks": ""
           }
          },
          "colorscale": {
           "diverging": [
            [
             0,
             "#8e0152"
            ],
            [
             0.1,
             "#c51b7d"
            ],
            [
             0.2,
             "#de77ae"
            ],
            [
             0.3,
             "#f1b6da"
            ],
            [
             0.4,
             "#fde0ef"
            ],
            [
             0.5,
             "#f7f7f7"
            ],
            [
             0.6,
             "#e6f5d0"
            ],
            [
             0.7,
             "#b8e186"
            ],
            [
             0.8,
             "#7fbc41"
            ],
            [
             0.9,
             "#4d9221"
            ],
            [
             1,
             "#276419"
            ]
           ],
           "sequential": [
            [
             0,
             "#0d0887"
            ],
            [
             0.1111111111111111,
             "#46039f"
            ],
            [
             0.2222222222222222,
             "#7201a8"
            ],
            [
             0.3333333333333333,
             "#9c179e"
            ],
            [
             0.4444444444444444,
             "#bd3786"
            ],
            [
             0.5555555555555556,
             "#d8576b"
            ],
            [
             0.6666666666666666,
             "#ed7953"
            ],
            [
             0.7777777777777778,
             "#fb9f3a"
            ],
            [
             0.8888888888888888,
             "#fdca26"
            ],
            [
             1,
             "#f0f921"
            ]
           ],
           "sequentialminus": [
            [
             0,
             "#0d0887"
            ],
            [
             0.1111111111111111,
             "#46039f"
            ],
            [
             0.2222222222222222,
             "#7201a8"
            ],
            [
             0.3333333333333333,
             "#9c179e"
            ],
            [
             0.4444444444444444,
             "#bd3786"
            ],
            [
             0.5555555555555556,
             "#d8576b"
            ],
            [
             0.6666666666666666,
             "#ed7953"
            ],
            [
             0.7777777777777778,
             "#fb9f3a"
            ],
            [
             0.8888888888888888,
             "#fdca26"
            ],
            [
             1,
             "#f0f921"
            ]
           ]
          },
          "colorway": [
           "#636efa",
           "#EF553B",
           "#00cc96",
           "#ab63fa",
           "#FFA15A",
           "#19d3f3",
           "#FF6692",
           "#B6E880",
           "#FF97FF",
           "#FECB52"
          ],
          "font": {
           "color": "#2a3f5f"
          },
          "geo": {
           "bgcolor": "white",
           "lakecolor": "white",
           "landcolor": "#E5ECF6",
           "showlakes": true,
           "showland": true,
           "subunitcolor": "white"
          },
          "hoverlabel": {
           "align": "left"
          },
          "hovermode": "closest",
          "mapbox": {
           "style": "light"
          },
          "paper_bgcolor": "white",
          "plot_bgcolor": "#E5ECF6",
          "polar": {
           "angularaxis": {
            "gridcolor": "white",
            "linecolor": "white",
            "ticks": ""
           },
           "bgcolor": "#E5ECF6",
           "radialaxis": {
            "gridcolor": "white",
            "linecolor": "white",
            "ticks": ""
           }
          },
          "scene": {
           "xaxis": {
            "backgroundcolor": "#E5ECF6",
            "gridcolor": "white",
            "gridwidth": 2,
            "linecolor": "white",
            "showbackground": true,
            "ticks": "",
            "zerolinecolor": "white"
           },
           "yaxis": {
            "backgroundcolor": "#E5ECF6",
            "gridcolor": "white",
            "gridwidth": 2,
            "linecolor": "white",
            "showbackground": true,
            "ticks": "",
            "zerolinecolor": "white"
           },
           "zaxis": {
            "backgroundcolor": "#E5ECF6",
            "gridcolor": "white",
            "gridwidth": 2,
            "linecolor": "white",
            "showbackground": true,
            "ticks": "",
            "zerolinecolor": "white"
           }
          },
          "shapedefaults": {
           "line": {
            "color": "#2a3f5f"
           }
          },
          "ternary": {
           "aaxis": {
            "gridcolor": "white",
            "linecolor": "white",
            "ticks": ""
           },
           "baxis": {
            "gridcolor": "white",
            "linecolor": "white",
            "ticks": ""
           },
           "bgcolor": "#E5ECF6",
           "caxis": {
            "gridcolor": "white",
            "linecolor": "white",
            "ticks": ""
           }
          },
          "title": {
           "x": 0.05
          },
          "xaxis": {
           "automargin": true,
           "gridcolor": "white",
           "linecolor": "white",
           "ticks": "",
           "title": {
            "standoff": 15
           },
           "zerolinecolor": "white",
           "zerolinewidth": 2
          },
          "yaxis": {
           "automargin": true,
           "gridcolor": "white",
           "linecolor": "white",
           "ticks": "",
           "title": {
            "standoff": 15
           },
           "zerolinecolor": "white",
           "zerolinewidth": 2
          }
         }
        },
        "title": {
         "text": "Hyperparameter Importances"
        },
        "xaxis": {
         "title": {
          "text": "Hyperparameter Importance"
         }
        },
        "yaxis": {
         "title": {
          "text": "Hyperparameter"
         }
        }
       }
      }
     },
     "metadata": {},
     "output_type": "display_data"
    }
   ],
   "source": [
    "plot_param_importances(study)\n"
   ]
  },
  {
   "cell_type": "code",
   "execution_count": 25,
   "metadata": {},
   "outputs": [
    {
     "data": {
      "image/png": "[encoded data removed]",
      "text/plain": [
       "<Figure size 600x800 with 3 Axes>"
      ]
     },
     "metadata": {},
     "output_type": "display_data"
    }
   ],
   "source": [
    "train_X_target, train_Y_target = ytrans.not_nan(train_X, train_Y_df, col=target)\n",
    "test_X_target, test_Y_target = ytrans.not_nan(test_X, test_Y_df, col=target)\n",
    "\n",
    "\n",
    "\n",
    "model = sk.ensemble.HistGradientBoostingRegressor(**study.best_params)\n",
    "\n",
    "fig, axes = plt.subplots(nrows=2, ncols=1, figsize=(6, 8))\n",
    "\n",
    "visualizer = ResidualsPlot(model, qqplot=True, hist=False, ax=axes[0])\n",
    "visualizer.fit(train_X_target, train_Y_target)\n",
    "visualizer.score(test_X_target, test_Y_target)\n",
    "test_Y_hat = visualizer.predict(test_X_target)\n",
    "visualizer.finalize()\n",
    "\n",
    "predictions = PredictionError(visualizer.estimator, ax=axes[1])\n",
    "score = predictions.score(test_X_target, test_Y_target)\n",
    "test_Y_hat = model.predict(test_X_target)\n",
    "\n",
    "mae = mean_absolute_error(test_Y_target, test_Y_hat)\n",
    "\n",
    "predictions.finalize()\n",
    "axes[1].annotate(text=f'MAE (log units): {mae:4.2f}', xy=(0.05, 0.9), xycoords='axes fraction')\n",
    "\n",
    "plt.tight_layout()\n",
    "plt.savefig(f'{target}_{study_name}_optimized.png')\n"
   ]
  }
 ],
 "metadata": {
  "kernelspec": {
   "display_name": "polaris",
   "language": "python",
   "name": "python3"
  },
  "language_info": {
   "codemirror_mode": {
    "name": "ipython",
    "version": 3
   },
   "file_extension": ".py",
   "mimetype": "text/x-python",
   "name": "python",
   "nbconvert_exporter": "python",
   "pygments_lexer": "ipython3",
   "version": "3.12.8"
  }
 },
 "nbformat": 4,
 "nbformat_minor": 2
}
