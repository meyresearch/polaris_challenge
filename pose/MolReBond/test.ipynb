{
 "cells": [
  {
   "cell_type": "code",
   "execution_count": 3,
   "metadata": {},
   "outputs": [],
   "source": [
    "from rdkit import Chem\n",
    "from rdkit.Chem import rdFMCS\n",
    "\n",
    "from transfer_bond import transfer_bond_orders\n",
    "import os\n",
    "import sys\n",
    "from Bio import SeqIO\n",
    "import re"
   ]
  },
  {
   "cell_type": "code",
   "execution_count": 4,
   "metadata": {},
   "outputs": [],
   "source": [
    "# Function to extract SMILES\n",
    "def extract_smiles_from_fasta(fasta_file):\n",
    "    \"\"\"This might not work for everyone. It looks for |smiles assumes the seubqequent string is the SMILES.\n",
    "    \"\"\"\n",
    "    smiles_list = []\n",
    "    \n",
    "    # Read the FASTA file\n",
    "    for record in SeqIO.parse(fasta_file, \"fasta\"):\n",
    "        description = record.description\n",
    "        \n",
    "        # Check if the description contains '|smiles'\n",
    "        if '|smiles' in description:\n",
    "            # Extract the SMILES string, which is in the sequence line\n",
    "            smiles = record.seq\n",
    "            smiles_list.append(str(smiles))  # Convert sequence to string and add to list\n",
    "    \n",
    "    return smiles_list"
   ]
  },
  {
   "cell_type": "code",
   "execution_count": 5,
   "metadata": {},
   "outputs": [
    {
     "data": {
      "text/plain": [
       "['CNC(=O)C[N@H+]1Cc2ccc(Cl)cc2[C@H](C(=O)Nc2cncc3cc(Cl)ccc23)C1',\n",
       " 'C[C@@]1(C(=O)Nc2cncc3ccccc23)CNS(=O)(=O)c2ccc(Cl)cc21']"
      ]
     },
     "execution_count": 5,
     "metadata": {},
     "output_type": "execute_result"
    }
   ],
   "source": [
    "# Read fasta input, you can change this to read smiles from any format.\n",
    "# For example, you can use the following code to read smiles from a fasta file:\n",
    "source = 'fasta_input'\n",
    "# Find all fasta files in source dir\n",
    "fasta_files = [f for f in os.listdir(source) if f.endswith('.fasta')]\n",
    "# Read fasta files\n",
    "smiles = []\n",
    "for fasta_file in fasta_files:\n",
    "    with open(os.path.join(source, fasta_file), 'r') as f:\n",
    "        smiles += extract_smiles_from_fasta(f)\n",
    "\n",
    "smiles"
   ]
  },
  {
   "cell_type": "code",
   "execution_count": 6,
   "metadata": {},
   "outputs": [
    {
     "name": "stdout",
     "output_type": "stream",
     "text": [
      "./output/ligand_3.mol2\n",
      "./output/ligand_2.mol2\n"
     ]
    },
    {
     "name": "stderr",
     "output_type": "stream",
     "text": [
      "[15:09:56] predicted: Warning - no explicit hydrogens in mol2 file but needed for formal charge estimation.\n",
      "[15:09:56] predicted: Warning - no explicit hydrogens in mol2 file but needed for formal charge estimation.\n"
     ]
    }
   ],
   "source": [
    "#  Read Mol2 input\n",
    "output_source = 'output'\n",
    "mol2_files = [\"./output/\"+f for f in os.listdir(output_source) if f.endswith('.mol2')]\n",
    "mols = []\n",
    "for mol2_file in mol2_files:\n",
    "    print(str(mol2_file))\n",
    "\n",
    "    mols.append(\n",
    "        Chem.MolFromMol2File(str(mol2_file), sanitize=False)\n",
    "    ) "
   ]
  },
  {
   "cell_type": "code",
   "execution_count": 7,
   "metadata": {},
   "outputs": [
    {
     "data": {
      "image/png": "[encoded data removed]",
      "text/plain": [
       "<rdkit.Chem.rdchem.Mol at 0x7ff10fc53760>"
      ]
     },
     "execution_count": 7,
     "metadata": {},
     "output_type": "execute_result"
    }
   ],
   "source": [
    "Chem.MolFromSmiles(smiles[0])"
   ]
  },
  {
   "cell_type": "code",
   "execution_count": 8,
   "metadata": {},
   "outputs": [
    {
     "data": {
      "image/png": "[encoded data removed]",
      "text/plain": [
       "<rdkit.Chem.rdchem.Mol at 0x7ff10fc53680>"
      ]
     },
     "execution_count": 8,
     "metadata": {},
     "output_type": "execute_result"
    }
   ],
   "source": [
    "Chem.MolFromSmiles(Chem.MolToSmiles(mols[0]))"
   ]
  },
  {
   "cell_type": "code",
   "execution_count": 9,
   "metadata": {},
   "outputs": [],
   "source": [
    "mols_bond_fixed = []\n",
    "for mol,ref in zip(mols,smiles):\n",
    "   \n",
    "    mols_bond_fixed.append(transfer_bond_orders(mol,ref))"
   ]
  },
  {
   "cell_type": "code",
   "execution_count": 10,
   "metadata": {},
   "outputs": [
    {
     "name": "stdout",
     "output_type": "stream",
     "text": [
      "Writing ligand_1.sdf\n",
      "Writing ligand_2.sdf\n"
     ]
    }
   ],
   "source": [
    "# save it in sdf \n",
    "output_sdf = 'outputs_with_bonds_fixed/'\n",
    "for i, mol in enumerate(mols_bond_fixed):\n",
    "    print(f'Writing ligand_{i+1}.sdf')\n",
    "    path = output_sdf+f'ligand_{i+1}.sdf'\n",
    "    Chem.MolToMolFile(mol, path)"
   ]
  },
  {
   "cell_type": "code",
   "execution_count": null,
   "metadata": {},
   "outputs": [],
   "source": []
  }
 ],
 "metadata": {
  "kernelspec": {
   "display_name": "boltzswan",
   "language": "python",
   "name": "python3"
  },
  "language_info": {
   "codemirror_mode": {
    "name": "ipython",
    "version": 3
   },
   "file_extension": ".py",
   "mimetype": "text/x-python",
   "name": "python",
   "nbconvert_exporter": "python",
   "pygments_lexer": "ipython3",
   "version": "3.12.8"
  }
 },
 "nbformat": 4,
 "nbformat_minor": 2
}
