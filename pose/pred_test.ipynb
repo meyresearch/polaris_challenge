{
 "cells": [
  {
   "cell_type": "code",
   "execution_count": null,
   "metadata": {},
   "outputs": [
    {
     "name": "stderr",
     "output_type": "stream",
     "text": [
      "/home/s1905547/.conda/envs/boltzswan/lib/python3.12/site-packages/tqdm/auto.py:21: TqdmWarning: IProgress not found. Please update jupyter and ipywidgets. See https://ipywidgets.readthedocs.io/en/stable/user_install.html\n",
      "  from .autonotebook import tqdm as notebook_tqdm\n"
     ]
    },
    {
     "name": "stdout",
     "output_type": "stream",
     "text": [
      "0.11.7\n"
     ]
    }
   ],
   "source": [
    "import polaris as po\n",
    "print(po.__version__)\n",
    "import numpy as np\n",
    "import pandas as pd\n",
    "from rdkit import Chem\n",
    "import numpy as np\n",
    "import datamol as dm\n",
    "from pathlib import Path\n",
    "import pymol\n",
    "import base64\n",
    "from rdkit import Chem\n",
    "from rdkit.Chem import rdFMCS\n",
    "import os\n",
    "\n",
    "from MolReBond import transfer_bond as tb"
   ]
  },
  {
   "cell_type": "code",
   "execution_count": 3,
   "metadata": {},
   "outputs": [
    {
     "data": {
      "text/html": [
       "<pre style=\"white-space:pre;overflow-x:auto;line-height:normal;font-family:Menlo,'DejaVu Sans Mono',consolas,'Courier New',monospace\"><span style=\"color: #7fbfbf; text-decoration-color: #7fbfbf\">[2025-02-27 11:06:53] </span><span style=\"color: #000080; text-decoration-color: #000080\">INFO    </span> The version of Polaris that was used to create the artifact <span style=\"font-weight: bold\">(</span><span style=\"color: #008080; text-decoration-color: #008080; font-weight: bold\">0.11</span>.<span style=\"color: #008080; text-decoration-color: #008080; font-weight: bold\">0</span><span style=\"font-weight: bold\">)</span> <a href=\"file:///home/s1905547/.conda/envs/boltzswan/lib/python3.12/site-packages/polaris/_artifact.py\" target=\"_blank\"><span style=\"color: #7f7f7f; text-decoration-color: #7f7f7f\">_artifact.py</span></a><span style=\"color: #7f7f7f; text-decoration-color: #7f7f7f\">:</span><a href=\"file:///home/s1905547/.conda/envs/boltzswan/lib/python3.12/site-packages/polaris/_artifact.py#92\" target=\"_blank\"><span style=\"color: #7f7f7f; text-decoration-color: #7f7f7f\">92</span></a>\n",
       "<span style=\"color: #7fbfbf; text-decoration-color: #7fbfbf\">                      </span>         is different from the currently installed version of Polaris         <span style=\"color: #7f7f7f; text-decoration-color: #7f7f7f\">               </span>\n",
       "<span style=\"color: #7fbfbf; text-decoration-color: #7fbfbf\">                      </span>         <span style=\"font-weight: bold\">(</span><span style=\"color: #008080; text-decoration-color: #008080; font-weight: bold\">0.11</span>.<span style=\"color: #008080; text-decoration-color: #008080; font-weight: bold\">7</span><span style=\"font-weight: bold\">)</span>.                                                            <span style=\"color: #7f7f7f; text-decoration-color: #7f7f7f\">               </span>\n",
       "</pre>\n"
      ],
      "text/plain": [
       "\u001b[2;36m[2025-02-27 11:06:53]\u001b[0m\u001b[2;36m \u001b[0m\u001b[34mINFO    \u001b[0m The version of Polaris that was used to create the artifact \u001b[1m(\u001b[0m\u001b[1;36m0.11\u001b[0m.\u001b[1;36m0\u001b[0m\u001b[1m)\u001b[0m \u001b]8;id=780414;file:///home/s1905547/.conda/envs/boltzswan/lib/python3.12/site-packages/polaris/_artifact.py\u001b\\\u001b[2m_artifact.py\u001b[0m\u001b]8;;\u001b\\\u001b[2m:\u001b[0m\u001b]8;id=719179;file:///home/s1905547/.conda/envs/boltzswan/lib/python3.12/site-packages/polaris/_artifact.py#92\u001b\\\u001b[2m92\u001b[0m\u001b]8;;\u001b\\\n",
       "\u001b[2;36m                      \u001b[0m         is different from the currently installed version of Polaris         \u001b[2m               \u001b[0m\n",
       "\u001b[2;36m                      \u001b[0m         \u001b[1m(\u001b[0m\u001b[1;36m0.11\u001b[0m.\u001b[1;36m7\u001b[0m\u001b[1m)\u001b[0m.                                                            \u001b[2m               \u001b[0m\n"
      ]
     },
     "metadata": {},
     "output_type": "display_data"
    },
    {
     "data": {
      "text/html": [
       "<pre style=\"white-space:pre;overflow-x:auto;line-height:normal;font-family:Menlo,'DejaVu Sans Mono',consolas,'Courier New',monospace\"><span style=\"color: #7fbfbf; text-decoration-color: #7fbfbf\">                      </span><span style=\"color: #808000; text-decoration-color: #808000\">WARNING </span> You're loading data from a remote location. If the dataset is small     <a href=\"file:///home/s1905547/.conda/envs/boltzswan/lib/python3.12/site-packages/polaris/dataset/_base.py\" target=\"_blank\"><span style=\"color: #7f7f7f; text-decoration-color: #7f7f7f\">_base.py</span></a><span style=\"color: #7f7f7f; text-decoration-color: #7f7f7f\">:</span><a href=\"file:///home/s1905547/.conda/envs/boltzswan/lib/python3.12/site-packages/polaris/dataset/_base.py#182\" target=\"_blank\"><span style=\"color: #7f7f7f; text-decoration-color: #7f7f7f\">182</span></a>\n",
       "<span style=\"color: #7fbfbf; text-decoration-color: #7fbfbf\">                      </span>         enough, consider caching the dataset first using                        <span style=\"color: #7f7f7f; text-decoration-color: #7f7f7f\">            </span>\n",
       "<span style=\"color: #7fbfbf; text-decoration-color: #7fbfbf\">                      </span>         <span style=\"color: #800080; text-decoration-color: #800080; font-weight: bold\">CompetitionSpecification.cache</span><span style=\"font-weight: bold\">()</span> for more performant data access.       <span style=\"color: #7f7f7f; text-decoration-color: #7f7f7f\">            </span>\n",
       "</pre>\n"
      ],
      "text/plain": [
       "\u001b[2;36m                     \u001b[0m\u001b[2;36m \u001b[0m\u001b[33mWARNING \u001b[0m You're loading data from a remote location. If the dataset is small     \u001b]8;id=365452;file:///home/s1905547/.conda/envs/boltzswan/lib/python3.12/site-packages/polaris/dataset/_base.py\u001b\\\u001b[2m_base.py\u001b[0m\u001b]8;;\u001b\\\u001b[2m:\u001b[0m\u001b]8;id=318527;file:///home/s1905547/.conda/envs/boltzswan/lib/python3.12/site-packages/polaris/dataset/_base.py#182\u001b\\\u001b[2m182\u001b[0m\u001b]8;;\u001b\\\n",
       "\u001b[2;36m                      \u001b[0m         enough, consider caching the dataset first using                        \u001b[2m            \u001b[0m\n",
       "\u001b[2;36m                      \u001b[0m         \u001b[1;35mCompetitionSpecification.cache\u001b[0m\u001b[1m(\u001b[0m\u001b[1m)\u001b[0m for more performant data access.       \u001b[2m            \u001b[0m\n"
      ]
     },
     "metadata": {},
     "output_type": "display_data"
    }
   ],
   "source": [
    "competition = po.load_competition(\"asap-discovery/antiviral-ligand-poses-2025\")\n"
   ]
  },
  {
   "cell_type": "code",
   "execution_count": 4,
   "metadata": {},
   "outputs": [],
   "source": [
    "# competition.cache()"
   ]
  },
  {
   "cell_type": "code",
   "execution_count": 5,
   "metadata": {},
   "outputs": [],
   "source": [
    "train, test = competition.get_train_test_split()"
   ]
  },
  {
   "cell_type": "code",
   "execution_count": 6,
   "metadata": {},
   "outputs": [],
   "source": [
    "# Convert list of tuples to list of dictionaries\n",
    "data_list = []\n",
    "for data_dict, rdkit_object in train:\n",
    "    data_dict['rdkit_object'] = rdkit_object\n",
    "    data_list.append(data_dict)\n",
    "\n",
    "# Convert to DataFrame\n",
    "df = pd.DataFrame(data_list)"
   ]
  },
  {
   "cell_type": "code",
   "execution_count": 7,
   "metadata": {},
   "outputs": [],
   "source": [
    "\n",
    "df_test = pd.DataFrame(test)"
   ]
  },
  {
   "cell_type": "code",
   "execution_count": 8,
   "metadata": {},
   "outputs": [
    {
     "data": {
      "text/plain": [
       "Protein Label\n",
       "SARS-CoV-2 Mpro    98\n",
       "MERS-CoV Mpro      97\n",
       "Name: count, dtype: int64"
      ]
     },
     "execution_count": 8,
     "metadata": {},
     "output_type": "execute_result"
    }
   ],
   "source": [
    "df_test['Protein Label'].value_counts()"
   ]
  },
  {
   "cell_type": "code",
   "execution_count": 9,
   "metadata": {},
   "outputs": [],
   "source": [
    "# modify the protein label SARS-CoV-2 Mpro  to SARS-CoV-2-Mpro\n",
    "df_test['Protein Label'] = df_test['Protein Label'].replace('SARS-CoV-2 Mpro', 'SARS-CoV-2-Mpro')\n",
    "df_test['Protein Label'] = df_test['Protein Label'].replace('MERS-CoV Mpro', 'MERS-CoV-Mpro')"
   ]
  },
  {
   "cell_type": "code",
   "execution_count": 10,
   "metadata": {},
   "outputs": [
    {
     "data": {
      "text/plain": [
       "Protein Label\n",
       "SARS-CoV-2-Mpro    98\n",
       "MERS-CoV-Mpro      97\n",
       "Name: count, dtype: int64"
      ]
     },
     "execution_count": 10,
     "metadata": {},
     "output_type": "execute_result"
    }
   ],
   "source": [
    "df_test['Protein Label'].value_counts()"
   ]
  },
  {
   "cell_type": "code",
   "execution_count": 11,
   "metadata": {},
   "outputs": [
    {
     "data": {
      "text/plain": [
       "Chain B Sequence    SGFRKMAFPSGKVEGCMVQVTCGTTTLNGLWLDDVVYCPRHVICTS...\n",
       "Chain A Sequence    SGFRKMAFPSGKVEGCMVQVTCGTTTLNGLWLDDVVYCPRHVICTS...\n",
       "Protein Label                                         SARS-CoV-2-Mpro\n",
       "CXSMILES            CCn1nccc1CN1C[C@@]2(C(=O)N(c3cncc4ccccc34)C[C@...\n",
       "Name: 187, dtype: object"
      ]
     },
     "execution_count": 11,
     "metadata": {},
     "output_type": "execute_result"
    }
   ],
   "source": [
    "# show me index 187\n",
    "df_test.iloc[187]"
   ]
  },
  {
   "cell_type": "code",
   "execution_count": 12,
   "metadata": {},
   "outputs": [],
   "source": [
    "# import yaml\n",
    "\n",
    "# def create_pocket_yaml(protein_a_sequence, protein_b_sequence, ligand_smiles, output_file):\n",
    "#     data = {\n",
    "#         'sequences': [\n",
    "#             {\n",
    "#                 'protein': {\n",
    "#                     'id': ['A1'],\n",
    "#                     'sequence': protein_a_sequence\n",
    "#                 }\n",
    "#             },\n",
    "#             {\n",
    "#                 'protein': {\n",
    "#                     'id': ['B1'],\n",
    "#                     'sequence': protein_b_sequence\n",
    "#                 }\n",
    "#             },\n",
    "#             {\n",
    "#                 'ligand': {\n",
    "#                     'smiles': ligand_smiles,\n",
    "#                     'id': ['L1']\n",
    "#                 }\n",
    "#             }\n",
    "#         ]\n",
    "#     }\n",
    "\n",
    "#     with open(output_file, 'w') as file:\n",
    "#         yaml.dump(data, file, default_flow_style=False)"
   ]
  },
  {
   "cell_type": "code",
   "execution_count": 13,
   "metadata": {},
   "outputs": [],
   "source": [
    "df_test['MOL'] = df_test['CXSMILES'].apply(Chem.MolFromSmiles)"
   ]
  },
  {
   "cell_type": "code",
   "execution_count": 14,
   "metadata": {},
   "outputs": [
    {
     "data": {
      "text/html": [
       "<div>\n",
       "<style scoped>\n",
       "    .dataframe tbody tr th:only-of-type {\n",
       "        vertical-align: middle;\n",
       "    }\n",
       "\n",
       "    .dataframe tbody tr th {\n",
       "        vertical-align: top;\n",
       "    }\n",
       "\n",
       "    .dataframe thead th {\n",
       "        text-align: right;\n",
       "    }\n",
       "</style>\n",
       "<table border=\"1\" class=\"dataframe\">\n",
       "  <thead>\n",
       "    <tr style=\"text-align: right;\">\n",
       "      <th></th>\n",
       "      <th>Chain B Sequence</th>\n",
       "      <th>Chain A Sequence</th>\n",
       "      <th>Protein Label</th>\n",
       "      <th>CXSMILES</th>\n",
       "      <th>MOL</th>\n",
       "    </tr>\n",
       "  </thead>\n",
       "  <tbody>\n",
       "    <tr>\n",
       "      <th>0</th>\n",
       "      <td>SGLVKMSHPSGDVEACMVQVTCGSMTLNGLWLDNTVWCPRHVMCPA...</td>\n",
       "      <td>SGLVKMSHPSGDVEACMVQVTCGSMTLNGLWLDNTVWCPRHVMCPA...</td>\n",
       "      <td>MERS-CoV-Mpro</td>\n",
       "      <td>O=C1c2ccc(Cl)cc2[C@@]2(CN1Cc1nnco1)C(=O)N(c1cn...</td>\n",
       "      <td>&lt;rdkit.Chem.rdchem.Mol object at 0x7f5018705070&gt;</td>\n",
       "    </tr>\n",
       "    <tr>\n",
       "      <th>1</th>\n",
       "      <td>SGLVKMSHPSGDVEACMVQVTCGSMTLNGLWLDNTVWCPRHVMCPA...</td>\n",
       "      <td>SGLVKMSHPSGDVEACMVQVTCGSMTLNGLWLDNTVWCPRHVMCPA...</td>\n",
       "      <td>MERS-CoV-Mpro</td>\n",
       "      <td>COc1ccc(N(Cc2cccc(Cl)c2)C(=O)Cc2cncc3ccccc23)cc1</td>\n",
       "      <td>&lt;rdkit.Chem.rdchem.Mol object at 0x7f5018705380&gt;</td>\n",
       "    </tr>\n",
       "    <tr>\n",
       "      <th>2</th>\n",
       "      <td>SGFRKMAFPSGKVEGCMVQVTCGTTTLNGLWLDDVVYCPRHVICTS...</td>\n",
       "      <td>SGFRKMAFPSGKVEGCMVQVTCGTTTLNGLWLDDVVYCPRHVICTS...</td>\n",
       "      <td>SARS-CoV-2-Mpro</td>\n",
       "      <td>CNC(=O)CN1C[C@@]2(C(=O)N(c3cncc4ccccc34)C[C@@H...</td>\n",
       "      <td>&lt;rdkit.Chem.rdchem.Mol object at 0x7f5018705540&gt;</td>\n",
       "    </tr>\n",
       "    <tr>\n",
       "      <th>3</th>\n",
       "      <td>SGLVKMSHPSGDVEACMVQVTCGSMTLNGLWLDNTVWCPRHVMCPA...</td>\n",
       "      <td>SGLVKMSHPSGDVEACMVQVTCGSMTLNGLWLDNTVWCPRHVMCPA...</td>\n",
       "      <td>MERS-CoV-Mpro</td>\n",
       "      <td>CNC(=O)CN1C[C@@]2(C(=O)N(c3cncc4ccccc34)C[C@@H...</td>\n",
       "      <td>&lt;rdkit.Chem.rdchem.Mol object at 0x7f50187055b0&gt;</td>\n",
       "    </tr>\n",
       "    <tr>\n",
       "      <th>4</th>\n",
       "      <td>SGLVKMSHPSGDVEACMVQVTCGSMTLNGLWLDNTVWCPRHVMCPA...</td>\n",
       "      <td>SGLVKMSHPSGDVEACMVQVTCGSMTLNGLWLDNTVWCPRHVMCPA...</td>\n",
       "      <td>MERS-CoV-Mpro</td>\n",
       "      <td>O=C1c2ccc(Cl)cc2[C@@]2(CN1Cc1ccnnc1)C(=O)N(c1c...</td>\n",
       "      <td>&lt;rdkit.Chem.rdchem.Mol object at 0x7f5018705620&gt;</td>\n",
       "    </tr>\n",
       "    <tr>\n",
       "      <th>...</th>\n",
       "      <td>...</td>\n",
       "      <td>...</td>\n",
       "      <td>...</td>\n",
       "      <td>...</td>\n",
       "      <td>...</td>\n",
       "    </tr>\n",
       "    <tr>\n",
       "      <th>190</th>\n",
       "      <td>SGFRKMAFPSGKVEGCMVQVTCGTTTLNGLWLDDVVYCPRHVICTS...</td>\n",
       "      <td>SGFRKMAFPSGKVEGCMVQVTCGTTTLNGLWLDDVVYCPRHVICTS...</td>\n",
       "      <td>SARS-CoV-2-Mpro</td>\n",
       "      <td>CNS(=O)(=O)OCC(=O)N[C@@H](C)c1cc(Cl)cc(-c2ccc(...</td>\n",
       "      <td>&lt;rdkit.Chem.rdchem.Mol object at 0x7f50187a61f0&gt;</td>\n",
       "    </tr>\n",
       "    <tr>\n",
       "      <th>191</th>\n",
       "      <td>SGFRKMAFPSGKVEGCMVQVTCGTTTLNGLWLDDVVYCPRHVICTS...</td>\n",
       "      <td>SGFRKMAFPSGKVEGCMVQVTCGTTTLNGLWLDDVVYCPRHVICTS...</td>\n",
       "      <td>SARS-CoV-2-Mpro</td>\n",
       "      <td>CNC(=O)CN1C[C@@]2(C(=O)N(c3cncc4ccccc34)C[C@@H...</td>\n",
       "      <td>&lt;rdkit.Chem.rdchem.Mol object at 0x7f50187a62d0&gt;</td>\n",
       "    </tr>\n",
       "    <tr>\n",
       "      <th>192</th>\n",
       "      <td>SGLVKMSHPSGDVEACMVQVTCGSMTLNGLWLDNTVWCPRHVMCPA...</td>\n",
       "      <td>SGLVKMSHPSGDVEACMVQVTCGSMTLNGLWLDNTVWCPRHVMCPA...</td>\n",
       "      <td>MERS-CoV-Mpro</td>\n",
       "      <td>O=C(Cc1cncc2ccccc12)NCc1cccc(Cl)c1</td>\n",
       "      <td>&lt;rdkit.Chem.rdchem.Mol object at 0x7f50187a6420&gt;</td>\n",
       "    </tr>\n",
       "    <tr>\n",
       "      <th>193</th>\n",
       "      <td>SGFRKMAFPSGKVEGCMVQVTCGTTTLNGLWLDDVVYCPRHVICTS...</td>\n",
       "      <td>SGFRKMAFPSGKVEGCMVQVTCGTTTLNGLWLDDVVYCPRHVICTS...</td>\n",
       "      <td>SARS-CoV-2-Mpro</td>\n",
       "      <td>CNC(=O)CN1C[C@@]2(C(=O)N(c3cncc4ccccc34)C[C@@H...</td>\n",
       "      <td>&lt;rdkit.Chem.rdchem.Mol object at 0x7f50187a6500&gt;</td>\n",
       "    </tr>\n",
       "    <tr>\n",
       "      <th>194</th>\n",
       "      <td>SGFRKMAFPSGKVEGCMVQVTCGTTTLNGLWLDDVVYCPRHVICNY...</td>\n",
       "      <td>SGFRKMAFPSGKVEGCMVQVTCGTTTLNGLWLDDVVYCPRHVICTS...</td>\n",
       "      <td>SARS-CoV-2-Mpro</td>\n",
       "      <td>C[C@@H]1COC[C@@]2(C1)NC(=O)N(c1cncc3ccccc13)C2=O</td>\n",
       "      <td>&lt;rdkit.Chem.rdchem.Mol object at 0x7f50187a6570&gt;</td>\n",
       "    </tr>\n",
       "  </tbody>\n",
       "</table>\n",
       "<p>195 rows × 5 columns</p>\n",
       "</div>"
      ],
      "text/plain": [
       "                                      Chain B Sequence  \\\n",
       "0    SGLVKMSHPSGDVEACMVQVTCGSMTLNGLWLDNTVWCPRHVMCPA...   \n",
       "1    SGLVKMSHPSGDVEACMVQVTCGSMTLNGLWLDNTVWCPRHVMCPA...   \n",
       "2    SGFRKMAFPSGKVEGCMVQVTCGTTTLNGLWLDDVVYCPRHVICTS...   \n",
       "3    SGLVKMSHPSGDVEACMVQVTCGSMTLNGLWLDNTVWCPRHVMCPA...   \n",
       "4    SGLVKMSHPSGDVEACMVQVTCGSMTLNGLWLDNTVWCPRHVMCPA...   \n",
       "..                                                 ...   \n",
       "190  SGFRKMAFPSGKVEGCMVQVTCGTTTLNGLWLDDVVYCPRHVICTS...   \n",
       "191  SGFRKMAFPSGKVEGCMVQVTCGTTTLNGLWLDDVVYCPRHVICTS...   \n",
       "192  SGLVKMSHPSGDVEACMVQVTCGSMTLNGLWLDNTVWCPRHVMCPA...   \n",
       "193  SGFRKMAFPSGKVEGCMVQVTCGTTTLNGLWLDDVVYCPRHVICTS...   \n",
       "194  SGFRKMAFPSGKVEGCMVQVTCGTTTLNGLWLDDVVYCPRHVICNY...   \n",
       "\n",
       "                                      Chain A Sequence    Protein Label  \\\n",
       "0    SGLVKMSHPSGDVEACMVQVTCGSMTLNGLWLDNTVWCPRHVMCPA...    MERS-CoV-Mpro   \n",
       "1    SGLVKMSHPSGDVEACMVQVTCGSMTLNGLWLDNTVWCPRHVMCPA...    MERS-CoV-Mpro   \n",
       "2    SGFRKMAFPSGKVEGCMVQVTCGTTTLNGLWLDDVVYCPRHVICTS...  SARS-CoV-2-Mpro   \n",
       "3    SGLVKMSHPSGDVEACMVQVTCGSMTLNGLWLDNTVWCPRHVMCPA...    MERS-CoV-Mpro   \n",
       "4    SGLVKMSHPSGDVEACMVQVTCGSMTLNGLWLDNTVWCPRHVMCPA...    MERS-CoV-Mpro   \n",
       "..                                                 ...              ...   \n",
       "190  SGFRKMAFPSGKVEGCMVQVTCGTTTLNGLWLDDVVYCPRHVICTS...  SARS-CoV-2-Mpro   \n",
       "191  SGFRKMAFPSGKVEGCMVQVTCGTTTLNGLWLDDVVYCPRHVICTS...  SARS-CoV-2-Mpro   \n",
       "192  SGLVKMSHPSGDVEACMVQVTCGSMTLNGLWLDNTVWCPRHVMCPA...    MERS-CoV-Mpro   \n",
       "193  SGFRKMAFPSGKVEGCMVQVTCGTTTLNGLWLDDVVYCPRHVICTS...  SARS-CoV-2-Mpro   \n",
       "194  SGFRKMAFPSGKVEGCMVQVTCGTTTLNGLWLDDVVYCPRHVICTS...  SARS-CoV-2-Mpro   \n",
       "\n",
       "                                              CXSMILES  \\\n",
       "0    O=C1c2ccc(Cl)cc2[C@@]2(CN1Cc1nnco1)C(=O)N(c1cn...   \n",
       "1     COc1ccc(N(Cc2cccc(Cl)c2)C(=O)Cc2cncc3ccccc23)cc1   \n",
       "2    CNC(=O)CN1C[C@@]2(C(=O)N(c3cncc4ccccc34)C[C@@H...   \n",
       "3    CNC(=O)CN1C[C@@]2(C(=O)N(c3cncc4ccccc34)C[C@@H...   \n",
       "4    O=C1c2ccc(Cl)cc2[C@@]2(CN1Cc1ccnnc1)C(=O)N(c1c...   \n",
       "..                                                 ...   \n",
       "190  CNS(=O)(=O)OCC(=O)N[C@@H](C)c1cc(Cl)cc(-c2ccc(...   \n",
       "191  CNC(=O)CN1C[C@@]2(C(=O)N(c3cncc4ccccc34)C[C@@H...   \n",
       "192                 O=C(Cc1cncc2ccccc12)NCc1cccc(Cl)c1   \n",
       "193  CNC(=O)CN1C[C@@]2(C(=O)N(c3cncc4ccccc34)C[C@@H...   \n",
       "194   C[C@@H]1COC[C@@]2(C1)NC(=O)N(c1cncc3ccccc13)C2=O   \n",
       "\n",
       "                                                  MOL  \n",
       "0    <rdkit.Chem.rdchem.Mol object at 0x7f5018705070>  \n",
       "1    <rdkit.Chem.rdchem.Mol object at 0x7f5018705380>  \n",
       "2    <rdkit.Chem.rdchem.Mol object at 0x7f5018705540>  \n",
       "3    <rdkit.Chem.rdchem.Mol object at 0x7f50187055b0>  \n",
       "4    <rdkit.Chem.rdchem.Mol object at 0x7f5018705620>  \n",
       "..                                                ...  \n",
       "190  <rdkit.Chem.rdchem.Mol object at 0x7f50187a61f0>  \n",
       "191  <rdkit.Chem.rdchem.Mol object at 0x7f50187a62d0>  \n",
       "192  <rdkit.Chem.rdchem.Mol object at 0x7f50187a6420>  \n",
       "193  <rdkit.Chem.rdchem.Mol object at 0x7f50187a6500>  \n",
       "194  <rdkit.Chem.rdchem.Mol object at 0x7f50187a6570>  \n",
       "\n",
       "[195 rows x 5 columns]"
      ]
     },
     "execution_count": 14,
     "metadata": {},
     "output_type": "execute_result"
    }
   ],
   "source": [
    "df_test"
   ]
  },
  {
   "cell_type": "code",
   "execution_count": 15,
   "metadata": {},
   "outputs": [],
   "source": [
    "# # Use iterrows on df_test to create the yaml files\n",
    "# for index, row in df_test.iterrows():\n",
    " \n",
    "#     protein_a_sequence = row['Chain A Sequence']\n",
    "#     protein_b_sequence = row['Chain B Sequence']\n",
    "#     ligand_smiles = dm.to_smiles(row['MOL'])\n",
    "    \n",
    "#     output_file =  yaml_test_folder / f'seq_{index}.yaml'\n",
    "#     print(output_file)\n",
    "#     create_pocket_yaml(protein_a_sequence, protein_b_sequence, ligand_smiles, output_file)"
   ]
  },
  {
   "cell_type": "code",
   "execution_count": 16,
   "metadata": {},
   "outputs": [],
   "source": [
    "source = Path(\"./\")\n",
    "train_predicted = Path(\"./boltz_results_train_fasta_subset/predictions\")\n",
    "test_predicted = Path(\"./boltz_results_test_fasta_old/predictions\")\n",
    "reference = Path(\"./reference_structures\")\n",
    "test_ligand_outputs = Path(\"./test_ligand_outputs\")\n",
    "train_ligand_outputs = Path(\"./train_ligand_outputs\")\n",
    "test_ligand_outputs_bond_fixed = Path(\"./test_ligand_outputs_bond_fixed\")\n",
    "train_ligand_outputs_bond_fixed = Path(\"./train_ligand_outputs_bond_fixed\")\n"
   ]
  },
  {
   "cell_type": "code",
   "execution_count": 17,
   "metadata": {},
   "outputs": [
    {
     "data": {
      "text/plain": [
       "Protein Label\n",
       "SARS-CoV-2 Mpro    770\n",
       "Name: count, dtype: int64"
      ]
     },
     "execution_count": 17,
     "metadata": {},
     "output_type": "execute_result"
    }
   ],
   "source": [
    "df['Protein Label'].value_counts()"
   ]
  },
  {
   "cell_type": "code",
   "execution_count": 18,
   "metadata": {},
   "outputs": [],
   "source": [
    "# rename protein label SARS-CoV-2 Mpro  to SARS-CoV-2-Mpro \n",
    "df['Protein Label'] = df['Protein Label'].replace('SARS-CoV-2 Mpro', 'SARS-CoV-2-Mpro')"
   ]
  },
  {
   "cell_type": "markdown",
   "metadata": {},
   "source": []
  },
  {
   "cell_type": "code",
   "execution_count": 19,
   "metadata": {},
   "outputs": [],
   "source": [
    "# def create_fasta_file(df, dir_name):\n",
    "#     os.makedirs(dir_name, exist_ok=True)\n",
    "#     for i, row in df.iterrows():\n",
    "  \n",
    "#         chain_a = row['Chain A Sequence']\n",
    "#         chain_b = row['Chain B Sequence']\n",
    "#         chain_cx = dm.to_smiles(row['MOL'])\n",
    "       \n",
    "#         with open(f\"{dir_name}/seq_{i}.fasta\", \"w\") as f:\n",
    "#             f.write(f\">A|protein|\\n{chain_a}\\n\")\n",
    "#             f.write(f\">B|protein|\\n{chain_b}\\n\")\n",
    "#             f.write(f\">E|smiles\\n{chain_cx}\\n\")\n",
    "            \n",
    "# create_fasta_file(df_test, \"test_fasta\")\n"
   ]
  },
  {
   "cell_type": "code",
   "execution_count": null,
   "metadata": {},
   "outputs": [],
   "source": []
  },
  {
   "cell_type": "code",
   "execution_count": 144,
   "metadata": {},
   "outputs": [],
   "source": [
    "def pymol_align(index, row, output):\n",
    "    # Let's reset! Just to be sure.\n",
    "    pymol.cmd.delete(\"all\")\n",
    "\n",
    "    # Load the reference and mobile structure\n",
    "    # ref_path = reference / f\"complex_{index}.pdb\"\n",
    "    ref_path = reference / row['Protein Label'] / \"complex.pdb\"\n",
    "    print(ref_path)\n",
    "    target_path = test_predicted / f'seq_{index}' / f'seq_{index}_model_0.cif'\n",
    "    print(target_path)\n",
    "    pymol.cmd.load(target_path, \"predicted\")\n",
    "    pymol.cmd.load(ref_path, \"reference\")\n",
    "\n",
    "    # Corrupt the mobile protein\n",
    "    # pymol.cmd.rotate(\"x\", 90, selection=\"mobile\")\n",
    "    # Compute the RMSD\n",
    "    pymol.cmd.align(\n",
    "    \"chain A and predicted\",\n",
    "            \"chain A and reference\",\n",
    "        quiet=1\n",
    "        \n",
    "        )\n",
    "    \n",
    "        # get rmsd\n",
    "    rms2 = pymol.cmd.rms_cur(\"polymer and name CA and predicted\",\n",
    "        \"polymer and name CA and reference\", matchmaker=4)\n",
    "    # Align the mobile protein to the reference\n",
    "#     pymol.cmd.align(\n",
    "#    \"chain A and predicted\",\n",
    "#         \"chain A and reference\",\n",
    "#     quiet=1\n",
    "#     )\n",
    " \n",
    "#     # get rmsd\n",
    "#     rms1 = pymol.cmd.rms_cur(\"polymer and name CA and predicted\",\n",
    "#     \"polymer and name CA and reference\", matchmaker=4)\n",
    "    \n",
    "   \n",
    "    print(f\"RMSD: {rms2}\", f\"RMSD: {rms2}\")\n",
    "    pymol.cmd.select('ligands_predicted', 'predicted and not polymer')\n",
    "\n",
    "  \n",
    "\n",
    "    # Export the ligand as a Mol2 file (or any other format RDKit can read)\n",
    "    pymol.cmd.save(output / f'ligand_{index}.mol2', 'ligands_predicted')\n",
    "    # ret_path = \"./train_complex/\"+ f\"my_preds_aligned_{index}.pdb\"\n",
    "    # ret_path_pse = \"./train_complex/\"+ f\"my_preds_aligned_{index}.pse\"\n",
    "    # pymol.cmd.save(ret_path_pse)\n",
    "    # pymol.cmd.save(ret_path, \"predicted\")\n",
    "\n",
    "    # return  rms2\n",
    "# def ligand_compare(index):\n",
    "#     # Get the Reference from df\n",
    "#     ref_ligand = df.iloc[index]['rdkit_object']\n",
    "#     ref_ligand = Chem.RemoveHs(ref_ligand)\n",
    "    \n",
    "#     # Get the Predicted ligand from Pymol\n",
    "#     pred_ligand = Chem.MolFromMol2File(ligand_output / f'ligand_{index}.mol2')\n",
    "#     pred_ligand = Chem.RemoveHs(pred_ligand)\n",
    "    \n",
    "#     mols = [ref_ligand, pred_ligand]\n",
    "#     mcs =rdFMCS.FindMCS(mols,threshold=0.8,completeRingsOnly=True,ringMatchesRingOnly=True)\n",
    "#     # align everything to the first molecule\n",
    "#     patt = Chem.MolFromSmarts(mcs.smartsString)\n",
    "#     refMol = mols[0]\n",
    "#     refMatch = refMol.GetSubstructMatch(patt)\n",
    "    \n",
    " \n",
    "#     mv = pred_ligand.GetSubstructMatch(patt)\n",
    "#     rms = AllChem.CalcRMS(pred_ligand,refMol,map=[list(zip(mv,refMatch))])\n",
    "#     return rms\n",
    "    \n",
    "    \n",
    "    \n",
    "  \n",
    "\n",
    "\n",
    "\n",
    "\n",
    "\n",
    "  \n",
    "    \n",
    "    "
   ]
  },
  {
   "cell_type": "code",
   "execution_count": 145,
   "metadata": {},
   "outputs": [
    {
     "name": "stdout",
     "output_type": "stream",
     "text": [
      "reference_structures/MERS-CoV-Mpro/complex.pdb\n",
      "boltz_results_test_fasta_old/predictions/seq_0/seq_0_model_0.cif\n",
      "RMSD: 4.860513687133789 RMSD: 4.860513687133789\n",
      "reference_structures/MERS-CoV-Mpro/complex.pdb\n",
      "boltz_results_test_fasta_old/predictions/seq_1/seq_1_model_0.cif\n",
      "RMSD: 4.8712263107299805 RMSD: 4.8712263107299805\n",
      "reference_structures/SARS-CoV-2-Mpro/complex.pdb\n",
      "boltz_results_test_fasta_old/predictions/seq_2/seq_2_model_0.cif\n",
      "RMSD: 10.103404998779297 RMSD: 10.103404998779297\n",
      "reference_structures/MERS-CoV-Mpro/complex.pdb\n",
      "boltz_results_test_fasta_old/predictions/seq_3/seq_3_model_0.cif\n",
      "RMSD: 4.88214111328125 RMSD: 4.88214111328125\n",
      "reference_structures/MERS-CoV-Mpro/complex.pdb\n",
      "boltz_results_test_fasta_old/predictions/seq_4/seq_4_model_0.cif\n",
      "RMSD: 4.935601711273193 RMSD: 4.935601711273193\n",
      "reference_structures/SARS-CoV-2-Mpro/complex.pdb\n",
      "boltz_results_test_fasta_old/predictions/seq_5/seq_5_model_0.cif\n",
      "RMSD: 10.084943771362305 RMSD: 10.084943771362305\n",
      "reference_structures/SARS-CoV-2-Mpro/complex.pdb\n",
      "boltz_results_test_fasta_old/predictions/seq_6/seq_6_model_0.cif\n",
      "RMSD: 10.089079856872559 RMSD: 10.089079856872559\n",
      "reference_structures/SARS-CoV-2-Mpro/complex.pdb\n",
      "boltz_results_test_fasta_old/predictions/seq_7/seq_7_model_0.cif\n",
      "RMSD: 10.076522827148438 RMSD: 10.076522827148438\n",
      "reference_structures/SARS-CoV-2-Mpro/complex.pdb\n",
      "boltz_results_test_fasta_old/predictions/seq_8/seq_8_model_0.cif\n",
      "RMSD: 10.081380844116211 RMSD: 10.081380844116211\n",
      "reference_structures/MERS-CoV-Mpro/complex.pdb\n",
      "boltz_results_test_fasta_old/predictions/seq_9/seq_9_model_0.cif\n",
      "RMSD: 4.891061305999756 RMSD: 4.891061305999756\n",
      "reference_structures/MERS-CoV-Mpro/complex.pdb\n",
      "boltz_results_test_fasta_old/predictions/seq_10/seq_10_model_0.cif\n",
      "RMSD: 1.1145073175430298 RMSD: 1.1145073175430298\n",
      "reference_structures/MERS-CoV-Mpro/complex.pdb\n",
      "boltz_results_test_fasta_old/predictions/seq_11/seq_11_model_0.cif\n",
      "RMSD: 4.903919696807861 RMSD: 4.903919696807861\n",
      "reference_structures/SARS-CoV-2-Mpro/complex.pdb\n",
      "boltz_results_test_fasta_old/predictions/seq_12/seq_12_model_0.cif\n",
      "RMSD: 10.093934059143066 RMSD: 10.093934059143066\n",
      "reference_structures/MERS-CoV-Mpro/complex.pdb\n",
      "boltz_results_test_fasta_old/predictions/seq_13/seq_13_model_0.cif\n",
      "RMSD: 4.921209812164307 RMSD: 4.921209812164307\n",
      "reference_structures/SARS-CoV-2-Mpro/complex.pdb\n",
      "boltz_results_test_fasta_old/predictions/seq_14/seq_14_model_0.cif\n",
      "RMSD: 10.079459190368652 RMSD: 10.079459190368652\n",
      "reference_structures/SARS-CoV-2-Mpro/complex.pdb\n",
      "boltz_results_test_fasta_old/predictions/seq_15/seq_15_model_0.cif\n",
      "RMSD: 10.087849617004395 RMSD: 10.087849617004395\n",
      "reference_structures/SARS-CoV-2-Mpro/complex.pdb\n",
      "boltz_results_test_fasta_old/predictions/seq_16/seq_16_model_0.cif\n",
      "RMSD: 10.056221961975098 RMSD: 10.056221961975098\n",
      "reference_structures/MERS-CoV-Mpro/complex.pdb\n",
      "boltz_results_test_fasta_old/predictions/seq_17/seq_17_model_0.cif\n",
      "RMSD: 1.2951780557632446 RMSD: 1.2951780557632446\n",
      "reference_structures/SARS-CoV-2-Mpro/complex.pdb\n",
      "boltz_results_test_fasta_old/predictions/seq_18/seq_18_model_0.cif\n",
      "RMSD: 10.069190979003906 RMSD: 10.069190979003906\n",
      "reference_structures/SARS-CoV-2-Mpro/complex.pdb\n",
      "boltz_results_test_fasta_old/predictions/seq_19/seq_19_model_0.cif\n",
      "RMSD: 10.103621482849121 RMSD: 10.103621482849121\n",
      "reference_structures/MERS-CoV-Mpro/complex.pdb\n",
      "boltz_results_test_fasta_old/predictions/seq_20/seq_20_model_0.cif\n",
      "RMSD: 0.9878268837928772 RMSD: 0.9878268837928772\n",
      "reference_structures/SARS-CoV-2-Mpro/complex.pdb\n",
      "boltz_results_test_fasta_old/predictions/seq_21/seq_21_model_0.cif\n",
      "RMSD: 2.647388458251953 RMSD: 2.647388458251953\n",
      "reference_structures/SARS-CoV-2-Mpro/complex.pdb\n",
      "boltz_results_test_fasta_old/predictions/seq_22/seq_22_model_0.cif\n",
      "RMSD: 10.083792686462402 RMSD: 10.083792686462402\n",
      "reference_structures/SARS-CoV-2-Mpro/complex.pdb\n",
      "boltz_results_test_fasta_old/predictions/seq_23/seq_23_model_0.cif\n",
      "RMSD: 10.072304725646973 RMSD: 10.072304725646973\n",
      "reference_structures/MERS-CoV-Mpro/complex.pdb\n",
      "boltz_results_test_fasta_old/predictions/seq_24/seq_24_model_0.cif\n",
      "RMSD: 1.2180476188659668 RMSD: 1.2180476188659668\n",
      "reference_structures/SARS-CoV-2-Mpro/complex.pdb\n",
      "boltz_results_test_fasta_old/predictions/seq_25/seq_25_model_0.cif\n",
      "RMSD: 10.084039688110352 RMSD: 10.084039688110352\n",
      "reference_structures/MERS-CoV-Mpro/complex.pdb\n",
      "boltz_results_test_fasta_old/predictions/seq_26/seq_26_model_0.cif\n",
      "RMSD: 4.877167224884033 RMSD: 4.877167224884033\n",
      "reference_structures/SARS-CoV-2-Mpro/complex.pdb\n",
      "boltz_results_test_fasta_old/predictions/seq_27/seq_27_model_0.cif\n",
      "RMSD: 10.093243598937988 RMSD: 10.093243598937988\n",
      "reference_structures/SARS-CoV-2-Mpro/complex.pdb\n",
      "boltz_results_test_fasta_old/predictions/seq_28/seq_28_model_0.cif\n",
      "RMSD: 10.108561515808105 RMSD: 10.108561515808105\n",
      "reference_structures/MERS-CoV-Mpro/complex.pdb\n",
      "boltz_results_test_fasta_old/predictions/seq_29/seq_29_model_0.cif\n",
      "RMSD: 4.925120830535889 RMSD: 4.925120830535889\n",
      "reference_structures/MERS-CoV-Mpro/complex.pdb\n",
      "boltz_results_test_fasta_old/predictions/seq_30/seq_30_model_0.cif\n",
      "RMSD: 4.87911319732666 RMSD: 4.87911319732666\n",
      "reference_structures/SARS-CoV-2-Mpro/complex.pdb\n",
      "boltz_results_test_fasta_old/predictions/seq_31/seq_31_model_0.cif\n",
      "RMSD: 2.2366647720336914 RMSD: 2.2366647720336914\n",
      "reference_structures/MERS-CoV-Mpro/complex.pdb\n",
      "boltz_results_test_fasta_old/predictions/seq_32/seq_32_model_0.cif\n",
      "RMSD: 1.056900978088379 RMSD: 1.056900978088379\n",
      "reference_structures/MERS-CoV-Mpro/complex.pdb\n",
      "boltz_results_test_fasta_old/predictions/seq_33/seq_33_model_0.cif\n",
      "RMSD: 1.0184993743896484 RMSD: 1.0184993743896484\n",
      "reference_structures/SARS-CoV-2-Mpro/complex.pdb\n",
      "boltz_results_test_fasta_old/predictions/seq_34/seq_34_model_0.cif\n",
      "RMSD: 10.121332168579102 RMSD: 10.121332168579102\n",
      "reference_structures/MERS-CoV-Mpro/complex.pdb\n",
      "boltz_results_test_fasta_old/predictions/seq_35/seq_35_model_0.cif\n",
      "RMSD: 1.030826210975647 RMSD: 1.030826210975647\n",
      "reference_structures/SARS-CoV-2-Mpro/complex.pdb\n",
      "boltz_results_test_fasta_old/predictions/seq_36/seq_36_model_0.cif\n",
      "RMSD: 2.188485860824585 RMSD: 2.188485860824585\n",
      "reference_structures/MERS-CoV-Mpro/complex.pdb\n",
      "boltz_results_test_fasta_old/predictions/seq_37/seq_37_model_0.cif\n",
      "RMSD: 1.130218267440796 RMSD: 1.130218267440796\n",
      "reference_structures/SARS-CoV-2-Mpro/complex.pdb\n",
      "boltz_results_test_fasta_old/predictions/seq_38/seq_38_model_0.cif\n",
      "RMSD: 10.068818092346191 RMSD: 10.068818092346191\n",
      "reference_structures/MERS-CoV-Mpro/complex.pdb\n",
      "boltz_results_test_fasta_old/predictions/seq_39/seq_39_model_0.cif\n",
      "RMSD: 4.889911651611328 RMSD: 4.889911651611328\n",
      "reference_structures/MERS-CoV-Mpro/complex.pdb\n",
      "boltz_results_test_fasta_old/predictions/seq_40/seq_40_model_0.cif\n",
      "RMSD: 4.8723673820495605 RMSD: 4.8723673820495605\n",
      "reference_structures/MERS-CoV-Mpro/complex.pdb\n",
      "boltz_results_test_fasta_old/predictions/seq_41/seq_41_model_0.cif\n",
      "RMSD: 4.881531238555908 RMSD: 4.881531238555908\n",
      "reference_structures/MERS-CoV-Mpro/complex.pdb\n",
      "boltz_results_test_fasta_old/predictions/seq_42/seq_42_model_0.cif\n",
      "RMSD: 0.9858196377754211 RMSD: 0.9858196377754211\n",
      "reference_structures/MERS-CoV-Mpro/complex.pdb\n",
      "boltz_results_test_fasta_old/predictions/seq_43/seq_43_model_0.cif\n",
      "RMSD: 4.855828762054443 RMSD: 4.855828762054443\n",
      "reference_structures/MERS-CoV-Mpro/complex.pdb\n",
      "boltz_results_test_fasta_old/predictions/seq_44/seq_44_model_0.cif\n",
      "RMSD: 0.9401183724403381 RMSD: 0.9401183724403381\n",
      "reference_structures/SARS-CoV-2-Mpro/complex.pdb\n",
      "boltz_results_test_fasta_old/predictions/seq_45/seq_45_model_0.cif\n",
      "RMSD: 10.102034568786621 RMSD: 10.102034568786621\n",
      "reference_structures/SARS-CoV-2-Mpro/complex.pdb\n",
      "boltz_results_test_fasta_old/predictions/seq_46/seq_46_model_0.cif\n",
      "RMSD: 3.6334943771362305 RMSD: 3.6334943771362305\n",
      "reference_structures/MERS-CoV-Mpro/complex.pdb\n",
      "boltz_results_test_fasta_old/predictions/seq_47/seq_47_model_0.cif\n",
      "RMSD: 4.881228923797607 RMSD: 4.881228923797607\n",
      "reference_structures/SARS-CoV-2-Mpro/complex.pdb\n",
      "boltz_results_test_fasta_old/predictions/seq_48/seq_48_model_0.cif\n",
      "RMSD: 10.105972290039062 RMSD: 10.105972290039062\n",
      "reference_structures/SARS-CoV-2-Mpro/complex.pdb\n",
      "boltz_results_test_fasta_old/predictions/seq_49/seq_49_model_0.cif\n",
      "RMSD: 2.159468650817871 RMSD: 2.159468650817871\n",
      "reference_structures/SARS-CoV-2-Mpro/complex.pdb\n",
      "boltz_results_test_fasta_old/predictions/seq_50/seq_50_model_0.cif\n",
      "RMSD: 10.112194061279297 RMSD: 10.112194061279297\n",
      "reference_structures/SARS-CoV-2-Mpro/complex.pdb\n",
      "boltz_results_test_fasta_old/predictions/seq_51/seq_51_model_0.cif\n",
      "RMSD: 10.082016944885254 RMSD: 10.082016944885254\n",
      "reference_structures/SARS-CoV-2-Mpro/complex.pdb\n",
      "boltz_results_test_fasta_old/predictions/seq_52/seq_52_model_0.cif\n",
      "RMSD: 10.090644836425781 RMSD: 10.090644836425781\n",
      "reference_structures/MERS-CoV-Mpro/complex.pdb\n",
      "boltz_results_test_fasta_old/predictions/seq_53/seq_53_model_0.cif\n",
      "RMSD: 1.0610344409942627 RMSD: 1.0610344409942627\n",
      "reference_structures/MERS-CoV-Mpro/complex.pdb\n",
      "boltz_results_test_fasta_old/predictions/seq_54/seq_54_model_0.cif\n",
      "RMSD: 1.0422837734222412 RMSD: 1.0422837734222412\n",
      "reference_structures/SARS-CoV-2-Mpro/complex.pdb\n",
      "boltz_results_test_fasta_old/predictions/seq_55/seq_55_model_0.cif\n",
      "RMSD: 10.095413208007812 RMSD: 10.095413208007812\n",
      "reference_structures/MERS-CoV-Mpro/complex.pdb\n",
      "boltz_results_test_fasta_old/predictions/seq_56/seq_56_model_0.cif\n",
      "RMSD: 4.858750343322754 RMSD: 4.858750343322754\n",
      "reference_structures/MERS-CoV-Mpro/complex.pdb\n",
      "boltz_results_test_fasta_old/predictions/seq_57/seq_57_model_0.cif\n",
      "RMSD: 4.898680686950684 RMSD: 4.898680686950684\n",
      "reference_structures/MERS-CoV-Mpro/complex.pdb\n",
      "boltz_results_test_fasta_old/predictions/seq_58/seq_58_model_0.cif\n",
      "RMSD: 4.866527557373047 RMSD: 4.866527557373047\n",
      "reference_structures/MERS-CoV-Mpro/complex.pdb\n",
      "boltz_results_test_fasta_old/predictions/seq_59/seq_59_model_0.cif\n",
      "RMSD: 1.1092678308486938 RMSD: 1.1092678308486938\n",
      "reference_structures/MERS-CoV-Mpro/complex.pdb\n",
      "boltz_results_test_fasta_old/predictions/seq_60/seq_60_model_0.cif\n",
      "RMSD: 4.897100448608398 RMSD: 4.897100448608398\n",
      "reference_structures/MERS-CoV-Mpro/complex.pdb\n",
      "boltz_results_test_fasta_old/predictions/seq_61/seq_61_model_0.cif\n",
      "RMSD: 1.0313292741775513 RMSD: 1.0313292741775513\n",
      "reference_structures/SARS-CoV-2-Mpro/complex.pdb\n",
      "boltz_results_test_fasta_old/predictions/seq_62/seq_62_model_0.cif\n",
      "RMSD: 10.115239143371582 RMSD: 10.115239143371582\n",
      "reference_structures/MERS-CoV-Mpro/complex.pdb\n",
      "boltz_results_test_fasta_old/predictions/seq_63/seq_63_model_0.cif\n",
      "RMSD: 1.111203670501709 RMSD: 1.111203670501709\n",
      "reference_structures/SARS-CoV-2-Mpro/complex.pdb\n",
      "boltz_results_test_fasta_old/predictions/seq_64/seq_64_model_0.cif\n",
      "RMSD: 10.095291137695312 RMSD: 10.095291137695312\n",
      "reference_structures/SARS-CoV-2-Mpro/complex.pdb\n",
      "boltz_results_test_fasta_old/predictions/seq_65/seq_65_model_0.cif\n",
      "RMSD: 10.066883087158203 RMSD: 10.066883087158203\n",
      "reference_structures/SARS-CoV-2-Mpro/complex.pdb\n",
      "boltz_results_test_fasta_old/predictions/seq_66/seq_66_model_0.cif\n",
      "RMSD: 10.10977554321289 RMSD: 10.10977554321289\n",
      "reference_structures/MERS-CoV-Mpro/complex.pdb\n",
      "boltz_results_test_fasta_old/predictions/seq_67/seq_67_model_0.cif\n",
      "RMSD: 1.11366868019104 RMSD: 1.11366868019104\n",
      "reference_structures/MERS-CoV-Mpro/complex.pdb\n",
      "boltz_results_test_fasta_old/predictions/seq_68/seq_68_model_0.cif\n",
      "RMSD: 4.903628349304199 RMSD: 4.903628349304199\n",
      "reference_structures/SARS-CoV-2-Mpro/complex.pdb\n",
      "boltz_results_test_fasta_old/predictions/seq_69/seq_69_model_0.cif\n",
      "RMSD: 10.09227180480957 RMSD: 10.09227180480957\n",
      "reference_structures/SARS-CoV-2-Mpro/complex.pdb\n",
      "boltz_results_test_fasta_old/predictions/seq_70/seq_70_model_0.cif\n",
      "RMSD: 10.060561180114746 RMSD: 10.060561180114746\n",
      "reference_structures/SARS-CoV-2-Mpro/complex.pdb\n",
      "boltz_results_test_fasta_old/predictions/seq_71/seq_71_model_0.cif\n",
      "RMSD: 10.054342269897461 RMSD: 10.054342269897461\n",
      "reference_structures/SARS-CoV-2-Mpro/complex.pdb\n",
      "boltz_results_test_fasta_old/predictions/seq_72/seq_72_model_0.cif\n",
      "RMSD: 10.05145263671875 RMSD: 10.05145263671875\n",
      "reference_structures/MERS-CoV-Mpro/complex.pdb\n",
      "boltz_results_test_fasta_old/predictions/seq_73/seq_73_model_0.cif\n",
      "RMSD: 0.9463213086128235 RMSD: 0.9463213086128235\n",
      "reference_structures/MERS-CoV-Mpro/complex.pdb\n",
      "boltz_results_test_fasta_old/predictions/seq_74/seq_74_model_0.cif\n",
      "RMSD: 4.884259223937988 RMSD: 4.884259223937988\n",
      "reference_structures/MERS-CoV-Mpro/complex.pdb\n",
      "boltz_results_test_fasta_old/predictions/seq_75/seq_75_model_0.cif\n",
      "RMSD: 4.890982151031494 RMSD: 4.890982151031494\n",
      "reference_structures/SARS-CoV-2-Mpro/complex.pdb\n",
      "boltz_results_test_fasta_old/predictions/seq_76/seq_76_model_0.cif\n",
      "RMSD: 10.088763236999512 RMSD: 10.088763236999512\n",
      "reference_structures/SARS-CoV-2-Mpro/complex.pdb\n",
      "boltz_results_test_fasta_old/predictions/seq_77/seq_77_model_0.cif\n",
      "RMSD: 10.095671653747559 RMSD: 10.095671653747559\n",
      "reference_structures/SARS-CoV-2-Mpro/complex.pdb\n",
      "boltz_results_test_fasta_old/predictions/seq_78/seq_78_model_0.cif\n",
      "RMSD: 10.100520133972168 RMSD: 10.100520133972168\n",
      "reference_structures/SARS-CoV-2-Mpro/complex.pdb\n",
      "boltz_results_test_fasta_old/predictions/seq_79/seq_79_model_0.cif\n",
      "RMSD: 10.085585594177246 RMSD: 10.085585594177246\n",
      "reference_structures/SARS-CoV-2-Mpro/complex.pdb\n",
      "boltz_results_test_fasta_old/predictions/seq_80/seq_80_model_0.cif\n",
      "RMSD: 10.08265209197998 RMSD: 10.08265209197998\n",
      "reference_structures/SARS-CoV-2-Mpro/complex.pdb\n",
      "boltz_results_test_fasta_old/predictions/seq_81/seq_81_model_0.cif\n",
      "RMSD: 10.067306518554688 RMSD: 10.067306518554688\n",
      "reference_structures/MERS-CoV-Mpro/complex.pdb\n",
      "boltz_results_test_fasta_old/predictions/seq_82/seq_82_model_0.cif\n",
      "RMSD: 4.8855109214782715 RMSD: 4.8855109214782715\n",
      "reference_structures/SARS-CoV-2-Mpro/complex.pdb\n",
      "boltz_results_test_fasta_old/predictions/seq_83/seq_83_model_0.cif\n",
      "RMSD: 10.094853401184082 RMSD: 10.094853401184082\n",
      "reference_structures/MERS-CoV-Mpro/complex.pdb\n",
      "boltz_results_test_fasta_old/predictions/seq_84/seq_84_model_0.cif\n",
      "RMSD: 0.968734860420227 RMSD: 0.968734860420227\n",
      "reference_structures/SARS-CoV-2-Mpro/complex.pdb\n",
      "boltz_results_test_fasta_old/predictions/seq_85/seq_85_model_0.cif\n",
      "RMSD: 10.086745262145996 RMSD: 10.086745262145996\n",
      "reference_structures/MERS-CoV-Mpro/complex.pdb\n",
      "boltz_results_test_fasta_old/predictions/seq_86/seq_86_model_0.cif\n",
      "RMSD: 1.2450954914093018 RMSD: 1.2450954914093018\n",
      "reference_structures/SARS-CoV-2-Mpro/complex.pdb\n",
      "boltz_results_test_fasta_old/predictions/seq_87/seq_87_model_0.cif\n",
      "RMSD: 4.574398040771484 RMSD: 4.574398040771484\n",
      "reference_structures/SARS-CoV-2-Mpro/complex.pdb\n",
      "boltz_results_test_fasta_old/predictions/seq_88/seq_88_model_0.cif\n",
      "RMSD: 10.06747817993164 RMSD: 10.06747817993164\n",
      "reference_structures/SARS-CoV-2-Mpro/complex.pdb\n",
      "boltz_results_test_fasta_old/predictions/seq_89/seq_89_model_0.cif\n",
      "RMSD: 6.523412704467773 RMSD: 6.523412704467773\n",
      "reference_structures/SARS-CoV-2-Mpro/complex.pdb\n",
      "boltz_results_test_fasta_old/predictions/seq_90/seq_90_model_0.cif\n",
      "RMSD: 10.085808753967285 RMSD: 10.085808753967285\n",
      "reference_structures/SARS-CoV-2-Mpro/complex.pdb\n",
      "boltz_results_test_fasta_old/predictions/seq_91/seq_91_model_0.cif\n",
      "RMSD: 10.058049201965332 RMSD: 10.058049201965332\n",
      "reference_structures/MERS-CoV-Mpro/complex.pdb\n",
      "boltz_results_test_fasta_old/predictions/seq_92/seq_92_model_0.cif\n",
      "RMSD: 1.0730669498443604 RMSD: 1.0730669498443604\n",
      "reference_structures/SARS-CoV-2-Mpro/complex.pdb\n",
      "boltz_results_test_fasta_old/predictions/seq_93/seq_93_model_0.cif\n",
      "RMSD: 10.080740928649902 RMSD: 10.080740928649902\n",
      "reference_structures/MERS-CoV-Mpro/complex.pdb\n",
      "boltz_results_test_fasta_old/predictions/seq_94/seq_94_model_0.cif\n",
      "RMSD: 0.933542013168335 RMSD: 0.933542013168335\n",
      "reference_structures/SARS-CoV-2-Mpro/complex.pdb\n",
      "boltz_results_test_fasta_old/predictions/seq_95/seq_95_model_0.cif\n",
      "RMSD: 2.1633591651916504 RMSD: 2.1633591651916504\n",
      "reference_structures/MERS-CoV-Mpro/complex.pdb\n",
      "boltz_results_test_fasta_old/predictions/seq_96/seq_96_model_0.cif\n",
      "RMSD: 1.0730109214782715 RMSD: 1.0730109214782715\n",
      "reference_structures/SARS-CoV-2-Mpro/complex.pdb\n",
      "boltz_results_test_fasta_old/predictions/seq_97/seq_97_model_0.cif\n",
      "RMSD: 10.102193832397461 RMSD: 10.102193832397461\n",
      "reference_structures/MERS-CoV-Mpro/complex.pdb\n",
      "boltz_results_test_fasta_old/predictions/seq_98/seq_98_model_0.cif\n",
      "RMSD: 0.9891625642776489 RMSD: 0.9891625642776489\n",
      "reference_structures/MERS-CoV-Mpro/complex.pdb\n",
      "boltz_results_test_fasta_old/predictions/seq_99/seq_99_model_0.cif\n",
      "RMSD: 4.883612632751465 RMSD: 4.883612632751465\n",
      "reference_structures/MERS-CoV-Mpro/complex.pdb\n",
      "boltz_results_test_fasta_old/predictions/seq_100/seq_100_model_0.cif\n",
      "RMSD: 0.9706640839576721 RMSD: 0.9706640839576721\n",
      "reference_structures/MERS-CoV-Mpro/complex.pdb\n",
      "boltz_results_test_fasta_old/predictions/seq_101/seq_101_model_0.cif\n",
      "RMSD: 4.87137508392334 RMSD: 4.87137508392334\n",
      "reference_structures/MERS-CoV-Mpro/complex.pdb\n",
      "boltz_results_test_fasta_old/predictions/seq_102/seq_102_model_0.cif\n",
      "RMSD: 1.1478590965270996 RMSD: 1.1478590965270996\n",
      "reference_structures/MERS-CoV-Mpro/complex.pdb\n",
      "boltz_results_test_fasta_old/predictions/seq_103/seq_103_model_0.cif\n",
      "RMSD: 4.888966083526611 RMSD: 4.888966083526611\n",
      "reference_structures/MERS-CoV-Mpro/complex.pdb\n",
      "boltz_results_test_fasta_old/predictions/seq_104/seq_104_model_0.cif\n",
      "RMSD: 4.896182060241699 RMSD: 4.896182060241699\n",
      "reference_structures/SARS-CoV-2-Mpro/complex.pdb\n",
      "boltz_results_test_fasta_old/predictions/seq_105/seq_105_model_0.cif\n",
      "RMSD: 10.124643325805664 RMSD: 10.124643325805664\n",
      "reference_structures/MERS-CoV-Mpro/complex.pdb\n",
      "boltz_results_test_fasta_old/predictions/seq_106/seq_106_model_0.cif\n",
      "RMSD: 1.0177991390228271 RMSD: 1.0177991390228271\n",
      "reference_structures/MERS-CoV-Mpro/complex.pdb\n",
      "boltz_results_test_fasta_old/predictions/seq_107/seq_107_model_0.cif\n",
      "RMSD: 1.0084933042526245 RMSD: 1.0084933042526245\n",
      "reference_structures/SARS-CoV-2-Mpro/complex.pdb\n",
      "boltz_results_test_fasta_old/predictions/seq_108/seq_108_model_0.cif\n",
      "RMSD: 3.6448795795440674 RMSD: 3.6448795795440674\n",
      "reference_structures/MERS-CoV-Mpro/complex.pdb\n",
      "boltz_results_test_fasta_old/predictions/seq_109/seq_109_model_0.cif\n",
      "RMSD: 0.9982171058654785 RMSD: 0.9982171058654785\n",
      "reference_structures/MERS-CoV-Mpro/complex.pdb\n",
      "boltz_results_test_fasta_old/predictions/seq_110/seq_110_model_0.cif\n",
      "RMSD: 1.1228735446929932 RMSD: 1.1228735446929932\n",
      "reference_structures/SARS-CoV-2-Mpro/complex.pdb\n",
      "boltz_results_test_fasta_old/predictions/seq_111/seq_111_model_0.cif\n",
      "RMSD: 10.102018356323242 RMSD: 10.102018356323242\n",
      "reference_structures/SARS-CoV-2-Mpro/complex.pdb\n",
      "boltz_results_test_fasta_old/predictions/seq_112/seq_112_model_0.cif\n",
      "RMSD: 10.088048934936523 RMSD: 10.088048934936523\n",
      "reference_structures/SARS-CoV-2-Mpro/complex.pdb\n",
      "boltz_results_test_fasta_old/predictions/seq_113/seq_113_model_0.cif\n",
      "RMSD: 10.08408260345459 RMSD: 10.08408260345459\n",
      "reference_structures/SARS-CoV-2-Mpro/complex.pdb\n",
      "boltz_results_test_fasta_old/predictions/seq_114/seq_114_model_0.cif\n",
      "RMSD: 10.092598915100098 RMSD: 10.092598915100098\n",
      "reference_structures/SARS-CoV-2-Mpro/complex.pdb\n",
      "boltz_results_test_fasta_old/predictions/seq_115/seq_115_model_0.cif\n",
      "RMSD: 10.089405059814453 RMSD: 10.089405059814453\n",
      "reference_structures/MERS-CoV-Mpro/complex.pdb\n",
      "boltz_results_test_fasta_old/predictions/seq_116/seq_116_model_0.cif\n",
      "RMSD: 4.862485408782959 RMSD: 4.862485408782959\n",
      "reference_structures/MERS-CoV-Mpro/complex.pdb\n",
      "boltz_results_test_fasta_old/predictions/seq_117/seq_117_model_0.cif\n",
      "RMSD: 1.082650899887085 RMSD: 1.082650899887085\n",
      "reference_structures/SARS-CoV-2-Mpro/complex.pdb\n",
      "boltz_results_test_fasta_old/predictions/seq_118/seq_118_model_0.cif\n",
      "RMSD: 10.089670181274414 RMSD: 10.089670181274414\n",
      "reference_structures/MERS-CoV-Mpro/complex.pdb\n",
      "boltz_results_test_fasta_old/predictions/seq_119/seq_119_model_0.cif\n",
      "RMSD: 1.1710125207901 RMSD: 1.1710125207901\n",
      "reference_structures/SARS-CoV-2-Mpro/complex.pdb\n",
      "boltz_results_test_fasta_old/predictions/seq_120/seq_120_model_0.cif\n",
      "RMSD: 10.086095809936523 RMSD: 10.086095809936523\n",
      "reference_structures/SARS-CoV-2-Mpro/complex.pdb\n",
      "boltz_results_test_fasta_old/predictions/seq_121/seq_121_model_0.cif\n",
      "RMSD: 10.089761734008789 RMSD: 10.089761734008789\n",
      "reference_structures/SARS-CoV-2-Mpro/complex.pdb\n",
      "boltz_results_test_fasta_old/predictions/seq_122/seq_122_model_0.cif\n",
      "RMSD: 2.197103500366211 RMSD: 2.197103500366211\n",
      "reference_structures/MERS-CoV-Mpro/complex.pdb\n",
      "boltz_results_test_fasta_old/predictions/seq_123/seq_123_model_0.cif\n",
      "RMSD: 1.0432841777801514 RMSD: 1.0432841777801514\n",
      "reference_structures/MERS-CoV-Mpro/complex.pdb\n",
      "boltz_results_test_fasta_old/predictions/seq_124/seq_124_model_0.cif\n",
      "RMSD: 4.881455421447754 RMSD: 4.881455421447754\n",
      "reference_structures/SARS-CoV-2-Mpro/complex.pdb\n",
      "boltz_results_test_fasta_old/predictions/seq_125/seq_125_model_0.cif\n",
      "RMSD: 10.06396484375 RMSD: 10.06396484375\n",
      "reference_structures/MERS-CoV-Mpro/complex.pdb\n",
      "boltz_results_test_fasta_old/predictions/seq_126/seq_126_model_0.cif\n",
      "RMSD: 4.914493083953857 RMSD: 4.914493083953857\n",
      "reference_structures/SARS-CoV-2-Mpro/complex.pdb\n",
      "boltz_results_test_fasta_old/predictions/seq_127/seq_127_model_0.cif\n",
      "RMSD: 10.062837600708008 RMSD: 10.062837600708008\n",
      "reference_structures/MERS-CoV-Mpro/complex.pdb\n",
      "boltz_results_test_fasta_old/predictions/seq_128/seq_128_model_0.cif\n",
      "RMSD: 0.9726090431213379 RMSD: 0.9726090431213379\n",
      "reference_structures/SARS-CoV-2-Mpro/complex.pdb\n",
      "boltz_results_test_fasta_old/predictions/seq_129/seq_129_model_0.cif\n",
      "RMSD: 10.103938102722168 RMSD: 10.103938102722168\n",
      "reference_structures/MERS-CoV-Mpro/complex.pdb\n",
      "boltz_results_test_fasta_old/predictions/seq_130/seq_130_model_0.cif\n",
      "RMSD: 0.9531252980232239 RMSD: 0.9531252980232239\n",
      "reference_structures/MERS-CoV-Mpro/complex.pdb\n",
      "boltz_results_test_fasta_old/predictions/seq_131/seq_131_model_0.cif\n",
      "RMSD: 1.0921088457107544 RMSD: 1.0921088457107544\n",
      "reference_structures/MERS-CoV-Mpro/complex.pdb\n",
      "boltz_results_test_fasta_old/predictions/seq_132/seq_132_model_0.cif\n",
      "RMSD: 1.1745173931121826 RMSD: 1.1745173931121826\n",
      "reference_structures/SARS-CoV-2-Mpro/complex.pdb\n",
      "boltz_results_test_fasta_old/predictions/seq_133/seq_133_model_0.cif\n",
      "RMSD: 10.098313331604004 RMSD: 10.098313331604004\n",
      "reference_structures/MERS-CoV-Mpro/complex.pdb\n",
      "boltz_results_test_fasta_old/predictions/seq_134/seq_134_model_0.cif\n",
      "RMSD: 4.85327672958374 RMSD: 4.85327672958374\n",
      "reference_structures/MERS-CoV-Mpro/complex.pdb\n",
      "boltz_results_test_fasta_old/predictions/seq_135/seq_135_model_0.cif\n",
      "RMSD: 4.85860538482666 RMSD: 4.85860538482666\n",
      "reference_structures/SARS-CoV-2-Mpro/complex.pdb\n",
      "boltz_results_test_fasta_old/predictions/seq_136/seq_136_model_0.cif\n",
      "RMSD: 10.06069564819336 RMSD: 10.06069564819336\n",
      "reference_structures/MERS-CoV-Mpro/complex.pdb\n",
      "boltz_results_test_fasta_old/predictions/seq_137/seq_137_model_0.cif\n",
      "RMSD: 1.0018595457077026 RMSD: 1.0018595457077026\n",
      "reference_structures/SARS-CoV-2-Mpro/complex.pdb\n",
      "boltz_results_test_fasta_old/predictions/seq_138/seq_138_model_0.cif\n",
      "RMSD: 10.0896577835083 RMSD: 10.0896577835083\n",
      "reference_structures/SARS-CoV-2-Mpro/complex.pdb\n",
      "boltz_results_test_fasta_old/predictions/seq_139/seq_139_model_0.cif\n",
      "RMSD: 10.095887184143066 RMSD: 10.095887184143066\n",
      "reference_structures/MERS-CoV-Mpro/complex.pdb\n",
      "boltz_results_test_fasta_old/predictions/seq_140/seq_140_model_0.cif\n",
      "RMSD: 4.891827583312988 RMSD: 4.891827583312988\n",
      "reference_structures/MERS-CoV-Mpro/complex.pdb\n",
      "boltz_results_test_fasta_old/predictions/seq_141/seq_141_model_0.cif\n",
      "RMSD: 0.9762476086616516 RMSD: 0.9762476086616516\n",
      "reference_structures/SARS-CoV-2-Mpro/complex.pdb\n",
      "boltz_results_test_fasta_old/predictions/seq_142/seq_142_model_0.cif\n",
      "RMSD: 10.102984428405762 RMSD: 10.102984428405762\n",
      "reference_structures/MERS-CoV-Mpro/complex.pdb\n",
      "boltz_results_test_fasta_old/predictions/seq_143/seq_143_model_0.cif\n",
      "RMSD: 1.2513327598571777 RMSD: 1.2513327598571777\n",
      "reference_structures/MERS-CoV-Mpro/complex.pdb\n",
      "boltz_results_test_fasta_old/predictions/seq_144/seq_144_model_0.cif\n",
      "RMSD: 4.8747782707214355 RMSD: 4.8747782707214355\n",
      "reference_structures/SARS-CoV-2-Mpro/complex.pdb\n",
      "boltz_results_test_fasta_old/predictions/seq_145/seq_145_model_0.cif\n",
      "RMSD: 10.0892915725708 RMSD: 10.0892915725708\n",
      "reference_structures/SARS-CoV-2-Mpro/complex.pdb\n",
      "boltz_results_test_fasta_old/predictions/seq_146/seq_146_model_0.cif\n",
      "RMSD: 10.086472511291504 RMSD: 10.086472511291504\n",
      "reference_structures/MERS-CoV-Mpro/complex.pdb\n",
      "boltz_results_test_fasta_old/predictions/seq_147/seq_147_model_0.cif\n",
      "RMSD: 4.897089958190918 RMSD: 4.897089958190918\n",
      "reference_structures/MERS-CoV-Mpro/complex.pdb\n",
      "boltz_results_test_fasta_old/predictions/seq_148/seq_148_model_0.cif\n",
      "RMSD: 1.242908000946045 RMSD: 1.242908000946045\n",
      "reference_structures/MERS-CoV-Mpro/complex.pdb\n",
      "boltz_results_test_fasta_old/predictions/seq_149/seq_149_model_0.cif\n",
      "RMSD: 1.1353974342346191 RMSD: 1.1353974342346191\n",
      "reference_structures/SARS-CoV-2-Mpro/complex.pdb\n",
      "boltz_results_test_fasta_old/predictions/seq_150/seq_150_model_0.cif\n",
      "RMSD: 2.2225215435028076 RMSD: 2.2225215435028076\n",
      "reference_structures/MERS-CoV-Mpro/complex.pdb\n",
      "boltz_results_test_fasta_old/predictions/seq_151/seq_151_model_0.cif\n",
      "RMSD: 0.9977762699127197 RMSD: 0.9977762699127197\n",
      "reference_structures/MERS-CoV-Mpro/complex.pdb\n",
      "boltz_results_test_fasta_old/predictions/seq_152/seq_152_model_0.cif\n",
      "RMSD: 4.857897758483887 RMSD: 4.857897758483887\n",
      "reference_structures/SARS-CoV-2-Mpro/complex.pdb\n",
      "boltz_results_test_fasta_old/predictions/seq_153/seq_153_model_0.cif\n",
      "RMSD: 10.105178833007812 RMSD: 10.105178833007812\n",
      "reference_structures/MERS-CoV-Mpro/complex.pdb\n",
      "boltz_results_test_fasta_old/predictions/seq_154/seq_154_model_0.cif\n",
      "RMSD: 4.886404514312744 RMSD: 4.886404514312744\n",
      "reference_structures/SARS-CoV-2-Mpro/complex.pdb\n",
      "boltz_results_test_fasta_old/predictions/seq_155/seq_155_model_0.cif\n",
      "RMSD: 10.125332832336426 RMSD: 10.125332832336426\n",
      "reference_structures/SARS-CoV-2-Mpro/complex.pdb\n",
      "boltz_results_test_fasta_old/predictions/seq_156/seq_156_model_0.cif\n",
      "RMSD: 10.063711166381836 RMSD: 10.063711166381836\n",
      "reference_structures/MERS-CoV-Mpro/complex.pdb\n",
      "boltz_results_test_fasta_old/predictions/seq_157/seq_157_model_0.cif\n",
      "RMSD: 4.851409912109375 RMSD: 4.851409912109375\n",
      "reference_structures/MERS-CoV-Mpro/complex.pdb\n",
      "boltz_results_test_fasta_old/predictions/seq_158/seq_158_model_0.cif\n",
      "RMSD: 1.0039836168289185 RMSD: 1.0039836168289185\n",
      "reference_structures/MERS-CoV-Mpro/complex.pdb\n",
      "boltz_results_test_fasta_old/predictions/seq_159/seq_159_model_0.cif\n",
      "RMSD: 1.1072263717651367 RMSD: 1.1072263717651367\n",
      "reference_structures/SARS-CoV-2-Mpro/complex.pdb\n",
      "boltz_results_test_fasta_old/predictions/seq_160/seq_160_model_0.cif\n",
      "RMSD: 10.09183120727539 RMSD: 10.09183120727539\n",
      "reference_structures/SARS-CoV-2-Mpro/complex.pdb\n",
      "boltz_results_test_fasta_old/predictions/seq_161/seq_161_model_0.cif\n",
      "RMSD: 3.354504346847534 RMSD: 3.354504346847534\n",
      "reference_structures/MERS-CoV-Mpro/complex.pdb\n",
      "boltz_results_test_fasta_old/predictions/seq_162/seq_162_model_0.cif\n",
      "RMSD: 1.0149480104446411 RMSD: 1.0149480104446411\n",
      "reference_structures/MERS-CoV-Mpro/complex.pdb\n",
      "boltz_results_test_fasta_old/predictions/seq_163/seq_163_model_0.cif\n",
      "RMSD: 1.1927156448364258 RMSD: 1.1927156448364258\n",
      "reference_structures/MERS-CoV-Mpro/complex.pdb\n",
      "boltz_results_test_fasta_old/predictions/seq_164/seq_164_model_0.cif\n",
      "RMSD: 0.9981508255004883 RMSD: 0.9981508255004883\n",
      "reference_structures/SARS-CoV-2-Mpro/complex.pdb\n",
      "boltz_results_test_fasta_old/predictions/seq_165/seq_165_model_0.cif\n",
      "RMSD: 10.06722640991211 RMSD: 10.06722640991211\n",
      "reference_structures/MERS-CoV-Mpro/complex.pdb\n",
      "boltz_results_test_fasta_old/predictions/seq_166/seq_166_model_0.cif\n",
      "RMSD: 1.1972370147705078 RMSD: 1.1972370147705078\n",
      "reference_structures/MERS-CoV-Mpro/complex.pdb\n",
      "boltz_results_test_fasta_old/predictions/seq_167/seq_167_model_0.cif\n",
      "RMSD: 1.0528147220611572 RMSD: 1.0528147220611572\n",
      "reference_structures/MERS-CoV-Mpro/complex.pdb\n",
      "boltz_results_test_fasta_old/predictions/seq_168/seq_168_model_0.cif\n",
      "RMSD: 1.0399564504623413 RMSD: 1.0399564504623413\n",
      "reference_structures/MERS-CoV-Mpro/complex.pdb\n",
      "boltz_results_test_fasta_old/predictions/seq_169/seq_169_model_0.cif\n",
      "RMSD: 4.860982418060303 RMSD: 4.860982418060303\n",
      "reference_structures/SARS-CoV-2-Mpro/complex.pdb\n",
      "boltz_results_test_fasta_old/predictions/seq_170/seq_170_model_0.cif\n",
      "RMSD: 10.092964172363281 RMSD: 10.092964172363281\n",
      "reference_structures/SARS-CoV-2-Mpro/complex.pdb\n",
      "boltz_results_test_fasta_old/predictions/seq_171/seq_171_model_0.cif\n",
      "RMSD: 10.09928035736084 RMSD: 10.09928035736084\n",
      "reference_structures/SARS-CoV-2-Mpro/complex.pdb\n",
      "boltz_results_test_fasta_old/predictions/seq_172/seq_172_model_0.cif\n",
      "RMSD: 3.6573431491851807 RMSD: 3.6573431491851807\n",
      "reference_structures/SARS-CoV-2-Mpro/complex.pdb\n",
      "boltz_results_test_fasta_old/predictions/seq_173/seq_173_model_0.cif\n",
      "RMSD: 10.092339515686035 RMSD: 10.092339515686035\n",
      "reference_structures/SARS-CoV-2-Mpro/complex.pdb\n",
      "boltz_results_test_fasta_old/predictions/seq_174/seq_174_model_0.cif\n",
      "RMSD: 3.6183230876922607 RMSD: 3.6183230876922607\n",
      "reference_structures/SARS-CoV-2-Mpro/complex.pdb\n",
      "boltz_results_test_fasta_old/predictions/seq_175/seq_175_model_0.cif\n",
      "RMSD: 10.069442749023438 RMSD: 10.069442749023438\n",
      "reference_structures/SARS-CoV-2-Mpro/complex.pdb\n",
      "boltz_results_test_fasta_old/predictions/seq_176/seq_176_model_0.cif\n",
      "RMSD: 10.099322319030762 RMSD: 10.099322319030762\n",
      "reference_structures/SARS-CoV-2-Mpro/complex.pdb\n",
      "boltz_results_test_fasta_old/predictions/seq_177/seq_177_model_0.cif\n",
      "RMSD: 10.09505558013916 RMSD: 10.09505558013916\n",
      "reference_structures/MERS-CoV-Mpro/complex.pdb\n",
      "boltz_results_test_fasta_old/predictions/seq_178/seq_178_model_0.cif\n",
      "RMSD: 4.907463550567627 RMSD: 4.907463550567627\n",
      "reference_structures/MERS-CoV-Mpro/complex.pdb\n",
      "boltz_results_test_fasta_old/predictions/seq_179/seq_179_model_0.cif\n",
      "RMSD: 4.891732692718506 RMSD: 4.891732692718506\n",
      "reference_structures/SARS-CoV-2-Mpro/complex.pdb\n",
      "boltz_results_test_fasta_old/predictions/seq_180/seq_180_model_0.cif\n",
      "RMSD: 10.083364486694336 RMSD: 10.083364486694336\n",
      "reference_structures/SARS-CoV-2-Mpro/complex.pdb\n",
      "boltz_results_test_fasta_old/predictions/seq_181/seq_181_model_0.cif\n",
      "RMSD: 10.07559585571289 RMSD: 10.07559585571289\n",
      "reference_structures/SARS-CoV-2-Mpro/complex.pdb\n",
      "boltz_results_test_fasta_old/predictions/seq_182/seq_182_model_0.cif\n",
      "RMSD: 10.101496696472168 RMSD: 10.101496696472168\n",
      "reference_structures/MERS-CoV-Mpro/complex.pdb\n",
      "boltz_results_test_fasta_old/predictions/seq_183/seq_183_model_0.cif\n",
      "RMSD: 1.193860650062561 RMSD: 1.193860650062561\n",
      "reference_structures/SARS-CoV-2-Mpro/complex.pdb\n",
      "boltz_results_test_fasta_old/predictions/seq_184/seq_184_model_0.cif\n",
      "RMSD: 10.07401180267334 RMSD: 10.07401180267334\n",
      "reference_structures/MERS-CoV-Mpro/complex.pdb\n",
      "boltz_results_test_fasta_old/predictions/seq_185/seq_185_model_0.cif\n",
      "RMSD: 0.9599041938781738 RMSD: 0.9599041938781738\n",
      "reference_structures/MERS-CoV-Mpro/complex.pdb\n",
      "boltz_results_test_fasta_old/predictions/seq_186/seq_186_model_0.cif\n",
      "RMSD: 0.9489537477493286 RMSD: 0.9489537477493286\n",
      "reference_structures/SARS-CoV-2-Mpro/complex.pdb\n",
      "boltz_results_test_fasta_old/predictions/seq_187/seq_187_model_0.cif\n",
      "RMSD: 10.119929313659668 RMSD: 10.119929313659668\n",
      "reference_structures/MERS-CoV-Mpro/complex.pdb\n",
      "boltz_results_test_fasta_old/predictions/seq_188/seq_188_model_0.cif\n",
      "RMSD: 1.0852899551391602 RMSD: 1.0852899551391602\n",
      "reference_structures/MERS-CoV-Mpro/complex.pdb\n",
      "boltz_results_test_fasta_old/predictions/seq_189/seq_189_model_0.cif\n",
      "RMSD: 1.1011463403701782 RMSD: 1.1011463403701782\n",
      "reference_structures/SARS-CoV-2-Mpro/complex.pdb\n",
      "boltz_results_test_fasta_old/predictions/seq_190/seq_190_model_0.cif\n",
      "RMSD: 10.099979400634766 RMSD: 10.099979400634766\n",
      "reference_structures/SARS-CoV-2-Mpro/complex.pdb\n",
      "boltz_results_test_fasta_old/predictions/seq_191/seq_191_model_0.cif\n",
      "RMSD: 10.081377983093262 RMSD: 10.081377983093262\n",
      "reference_structures/MERS-CoV-Mpro/complex.pdb\n",
      "boltz_results_test_fasta_old/predictions/seq_192/seq_192_model_0.cif\n",
      "RMSD: 4.885084629058838 RMSD: 4.885084629058838\n",
      "reference_structures/SARS-CoV-2-Mpro/complex.pdb\n",
      "boltz_results_test_fasta_old/predictions/seq_193/seq_193_model_0.cif\n",
      "RMSD: 10.082442283630371 RMSD: 10.082442283630371\n",
      "reference_structures/SARS-CoV-2-Mpro/complex.pdb\n",
      "boltz_results_test_fasta_old/predictions/seq_194/seq_194_model_0.cif\n",
      "RMSD: 3.6858301162719727 RMSD: 3.6858301162719727\n"
     ]
    }
   ],
   "source": [
    "#  do iter rows in df_test\n",
    "# r1 =[]\n",
    "# r2 = []\n",
    "for i, row in df_test.iterrows():\n",
    "    try:\n",
    "        pymol_align(i, row, test_ligand_outputs)\n",
    "     \n",
    "    except:\n",
    "        continue\n",
    "    # rms = ligand_compare(i)\n",
    "    # print(f\"RMSD for {i} is {rms}\")"
   ]
  },
  {
   "cell_type": "code",
   "execution_count": 20,
   "metadata": {},
   "outputs": [
    {
     "ename": "NameError",
     "evalue": "name 'r2' is not defined",
     "output_type": "error",
     "traceback": [
      "\u001b[0;31m---------------------------------------------------------------------------\u001b[0m",
      "\u001b[0;31mNameError\u001b[0m                                 Traceback (most recent call last)",
      "Cell \u001b[0;32mIn[20], line 1\u001b[0m\n\u001b[0;32m----> 1\u001b[0m r2\n",
      "\u001b[0;31mNameError\u001b[0m: name 'r2' is not defined"
     ]
    }
   ],
   "source": [
    "r2 "
   ]
  },
  {
   "cell_type": "code",
   "execution_count": null,
   "metadata": {},
   "outputs": [
    {
     "data": {
      "text/html": [
       "<div>\n",
       "<style scoped>\n",
       "    .dataframe tbody tr th:only-of-type {\n",
       "        vertical-align: middle;\n",
       "    }\n",
       "\n",
       "    .dataframe tbody tr th {\n",
       "        vertical-align: top;\n",
       "    }\n",
       "\n",
       "    .dataframe thead th {\n",
       "        text-align: right;\n",
       "    }\n",
       "</style>\n",
       "<table border=\"1\" class=\"dataframe\">\n",
       "  <thead>\n",
       "    <tr style=\"text-align: right;\">\n",
       "      <th></th>\n",
       "      <th>Chain B Sequence</th>\n",
       "      <th>Chain A Sequence</th>\n",
       "      <th>CXSMILES</th>\n",
       "      <th>Protein Label</th>\n",
       "      <th>rdkit_object</th>\n",
       "    </tr>\n",
       "  </thead>\n",
       "  <tbody>\n",
       "    <tr>\n",
       "      <th>0</th>\n",
       "      <td>SGFRKMAFPSGKVEGCMVQVTCGTTTLNGLWLDDVVYCPRHVICTS...</td>\n",
       "      <td>SGFRKMAFPSGKVEGCMVQVTCGTTTLNGLWLDDVVYCPRHVICTS...</td>\n",
       "      <td>c1ccc(SCC[NH+]2CCOCC2)cc1</td>\n",
       "      <td>SARS-CoV-2-Mpro</td>\n",
       "      <td>&lt;rdkit.Chem.rdchem.Mol object at 0x7f979179fec0&gt;</td>\n",
       "    </tr>\n",
       "    <tr>\n",
       "      <th>1</th>\n",
       "      <td>SGFRKMAFPSGKVEGCMVQVTCGTTTLNGLWLDDVVYCPRHVICTS...</td>\n",
       "      <td>SGFRKMAFPSGKVEGCMVQVTCGTTTLNGLWLDDVVYCPRHVICTS...</td>\n",
       "      <td>O=C(Cc1cccc(Cl)c1)Nc1cncc2ccncc12</td>\n",
       "      <td>SARS-CoV-2-Mpro</td>\n",
       "      <td>&lt;rdkit.Chem.rdchem.Mol object at 0x7f979179ccc0&gt;</td>\n",
       "    </tr>\n",
       "    <tr>\n",
       "      <th>2</th>\n",
       "      <td>SGFRKMAFPSGKVEGCMVQVTCGTTTLNGLWLDDVVYCPRHVIEDM...</td>\n",
       "      <td>SGFRKMAFPSGKVEGCMVQVTCGTTTLNGLWLDDVVYCPRHVICTS...</td>\n",
       "      <td>C[C@@]1(C(=O)Nc2cncc3ccccc23)CNS(=O)(=O)c2ccc(...</td>\n",
       "      <td>SARS-CoV-2-Mpro</td>\n",
       "      <td>&lt;rdkit.Chem.rdchem.Mol object at 0x7f9791f37ec0&gt;</td>\n",
       "    </tr>\n",
       "    <tr>\n",
       "      <th>3</th>\n",
       "      <td>SGFRKMAFPSGKVEGCMVQVTCGTTTLNGLWLDDVVYCPRHVINYE...</td>\n",
       "      <td>SGFRKMAFPSGKVEGCMVQVTCGTTTLNGLWLDDVVYCPRHVICTS...</td>\n",
       "      <td>CNC(=O)C[N@H+]1Cc2ccc(Cl)cc2[C@H](C(=O)Nc2cncc...</td>\n",
       "      <td>SARS-CoV-2-Mpro</td>\n",
       "      <td>&lt;rdkit.Chem.rdchem.Mol object at 0x7f979179c720&gt;</td>\n",
       "    </tr>\n",
       "    <tr>\n",
       "      <th>4</th>\n",
       "      <td>SGFRKMAFPSGKVEGCMVQVTCGTTTLNGLWLDDVVYCPRHVICNP...</td>\n",
       "      <td>SGFRKMAFPSGKVEGCMVQVTCGTTTLNGLWLDDVVYCPRHVICTS...</td>\n",
       "      <td>C[NH+](C)CCOc1ccc2cncc(NC(=O)Cc3cccc(Cl)c3)c2c1</td>\n",
       "      <td>SARS-CoV-2-Mpro</td>\n",
       "      <td>&lt;rdkit.Chem.rdchem.Mol object at 0x7f979179f470&gt;</td>\n",
       "    </tr>\n",
       "    <tr>\n",
       "      <th>...</th>\n",
       "      <td>...</td>\n",
       "      <td>...</td>\n",
       "      <td>...</td>\n",
       "      <td>...</td>\n",
       "      <td>...</td>\n",
       "    </tr>\n",
       "    <tr>\n",
       "      <th>765</th>\n",
       "      <td>SGFRKMAFPSGKVEGCMVQVTCGTTTLNGLWLDDVVYCPRHVICTS...</td>\n",
       "      <td>SGFRKMAFPSGKVEGCMVQVTCGTTTLNGLWLDDVVYCPRHVICTS...</td>\n",
       "      <td>N#Cc1cncc(NC(=O)Cc2cccnc2)c1</td>\n",
       "      <td>SARS-CoV-2-Mpro</td>\n",
       "      <td>&lt;rdkit.Chem.rdchem.Mol object at 0x7f9790410db0&gt;</td>\n",
       "    </tr>\n",
       "    <tr>\n",
       "      <th>766</th>\n",
       "      <td>SGFRKMAFPSGKVEGCMVQVTCGTTTLNGLWLDDVVYCPRHVICTS...</td>\n",
       "      <td>SGFRKMAFPSGKVEGCMVQVTCGTTTLNGLWLDDVVYCPRHVICTS...</td>\n",
       "      <td>O=C(c1cc(=O)[nH]c(=O)[nH]1)N1CCN(c2ccc(CO)c(Cl...</td>\n",
       "      <td>SARS-CoV-2-Mpro</td>\n",
       "      <td>&lt;rdkit.Chem.rdchem.Mol object at 0x7f97917bc450&gt;</td>\n",
       "    </tr>\n",
       "    <tr>\n",
       "      <th>767</th>\n",
       "      <td>SGFRKMAFPSGKVEGCMVQVTCGTTTLNGLWLDDVVYCPRHVICTS...</td>\n",
       "      <td>SGFRKMAFPSGKVEGCMVQVTCGTTTLNGLWLDDVVYCPRHVICTS...</td>\n",
       "      <td>O=C(Cc1cccnc1)Nc1cccc(O[C@H]2CC(=O)N2)c1</td>\n",
       "      <td>SARS-CoV-2-Mpro</td>\n",
       "      <td>&lt;rdkit.Chem.rdchem.Mol object at 0x7f979047a7f0&gt;</td>\n",
       "    </tr>\n",
       "    <tr>\n",
       "      <th>768</th>\n",
       "      <td>SGFRKMAFPSGKVEGCMVQVTCGTTTLNGLWLDDVVYCPRHVICTS...</td>\n",
       "      <td>SGFRKMAFPSGKVEGCMVQVTCGTTTLNGLWLDDVVYCPRHVICTS...</td>\n",
       "      <td>CC(=O)N1CC[NH+](Cc2cccc(C)c2)CC1</td>\n",
       "      <td>SARS-CoV-2-Mpro</td>\n",
       "      <td>&lt;rdkit.Chem.rdchem.Mol object at 0x7f9790485300&gt;</td>\n",
       "    </tr>\n",
       "    <tr>\n",
       "      <th>769</th>\n",
       "      <td>SGFRKMAFPSGKVEGCMVQVTCGTTTLNGLWLDDVVYCPRHVICTS...</td>\n",
       "      <td>SGFRKMAFPSGKVEGCMVQVTCGTTTLNGLWLDDVVYCPRHVICTS...</td>\n",
       "      <td>CCC(=O)N(c1ccc([C@H](C)OC)cc1)[C@@H](C(=O)Nc1c...</td>\n",
       "      <td>SARS-CoV-2-Mpro</td>\n",
       "      <td>&lt;rdkit.Chem.rdchem.Mol object at 0x7f979047ae80&gt;</td>\n",
       "    </tr>\n",
       "  </tbody>\n",
       "</table>\n",
       "<p>770 rows × 5 columns</p>\n",
       "</div>"
      ],
      "text/plain": [
       "                                      Chain B Sequence  \\\n",
       "0    SGFRKMAFPSGKVEGCMVQVTCGTTTLNGLWLDDVVYCPRHVICTS...   \n",
       "1    SGFRKMAFPSGKVEGCMVQVTCGTTTLNGLWLDDVVYCPRHVICTS...   \n",
       "2    SGFRKMAFPSGKVEGCMVQVTCGTTTLNGLWLDDVVYCPRHVIEDM...   \n",
       "3    SGFRKMAFPSGKVEGCMVQVTCGTTTLNGLWLDDVVYCPRHVINYE...   \n",
       "4    SGFRKMAFPSGKVEGCMVQVTCGTTTLNGLWLDDVVYCPRHVICNP...   \n",
       "..                                                 ...   \n",
       "765  SGFRKMAFPSGKVEGCMVQVTCGTTTLNGLWLDDVVYCPRHVICTS...   \n",
       "766  SGFRKMAFPSGKVEGCMVQVTCGTTTLNGLWLDDVVYCPRHVICTS...   \n",
       "767  SGFRKMAFPSGKVEGCMVQVTCGTTTLNGLWLDDVVYCPRHVICTS...   \n",
       "768  SGFRKMAFPSGKVEGCMVQVTCGTTTLNGLWLDDVVYCPRHVICTS...   \n",
       "769  SGFRKMAFPSGKVEGCMVQVTCGTTTLNGLWLDDVVYCPRHVICTS...   \n",
       "\n",
       "                                      Chain A Sequence  \\\n",
       "0    SGFRKMAFPSGKVEGCMVQVTCGTTTLNGLWLDDVVYCPRHVICTS...   \n",
       "1    SGFRKMAFPSGKVEGCMVQVTCGTTTLNGLWLDDVVYCPRHVICTS...   \n",
       "2    SGFRKMAFPSGKVEGCMVQVTCGTTTLNGLWLDDVVYCPRHVICTS...   \n",
       "3    SGFRKMAFPSGKVEGCMVQVTCGTTTLNGLWLDDVVYCPRHVICTS...   \n",
       "4    SGFRKMAFPSGKVEGCMVQVTCGTTTLNGLWLDDVVYCPRHVICTS...   \n",
       "..                                                 ...   \n",
       "765  SGFRKMAFPSGKVEGCMVQVTCGTTTLNGLWLDDVVYCPRHVICTS...   \n",
       "766  SGFRKMAFPSGKVEGCMVQVTCGTTTLNGLWLDDVVYCPRHVICTS...   \n",
       "767  SGFRKMAFPSGKVEGCMVQVTCGTTTLNGLWLDDVVYCPRHVICTS...   \n",
       "768  SGFRKMAFPSGKVEGCMVQVTCGTTTLNGLWLDDVVYCPRHVICTS...   \n",
       "769  SGFRKMAFPSGKVEGCMVQVTCGTTTLNGLWLDDVVYCPRHVICTS...   \n",
       "\n",
       "                                              CXSMILES    Protein Label  \\\n",
       "0                            c1ccc(SCC[NH+]2CCOCC2)cc1  SARS-CoV-2-Mpro   \n",
       "1                    O=C(Cc1cccc(Cl)c1)Nc1cncc2ccncc12  SARS-CoV-2-Mpro   \n",
       "2    C[C@@]1(C(=O)Nc2cncc3ccccc23)CNS(=O)(=O)c2ccc(...  SARS-CoV-2-Mpro   \n",
       "3    CNC(=O)C[N@H+]1Cc2ccc(Cl)cc2[C@H](C(=O)Nc2cncc...  SARS-CoV-2-Mpro   \n",
       "4      C[NH+](C)CCOc1ccc2cncc(NC(=O)Cc3cccc(Cl)c3)c2c1  SARS-CoV-2-Mpro   \n",
       "..                                                 ...              ...   \n",
       "765                       N#Cc1cncc(NC(=O)Cc2cccnc2)c1  SARS-CoV-2-Mpro   \n",
       "766  O=C(c1cc(=O)[nH]c(=O)[nH]1)N1CCN(c2ccc(CO)c(Cl...  SARS-CoV-2-Mpro   \n",
       "767           O=C(Cc1cccnc1)Nc1cccc(O[C@H]2CC(=O)N2)c1  SARS-CoV-2-Mpro   \n",
       "768                   CC(=O)N1CC[NH+](Cc2cccc(C)c2)CC1  SARS-CoV-2-Mpro   \n",
       "769  CCC(=O)N(c1ccc([C@H](C)OC)cc1)[C@@H](C(=O)Nc1c...  SARS-CoV-2-Mpro   \n",
       "\n",
       "                                         rdkit_object  \n",
       "0    <rdkit.Chem.rdchem.Mol object at 0x7f979179fec0>  \n",
       "1    <rdkit.Chem.rdchem.Mol object at 0x7f979179ccc0>  \n",
       "2    <rdkit.Chem.rdchem.Mol object at 0x7f9791f37ec0>  \n",
       "3    <rdkit.Chem.rdchem.Mol object at 0x7f979179c720>  \n",
       "4    <rdkit.Chem.rdchem.Mol object at 0x7f979179f470>  \n",
       "..                                                ...  \n",
       "765  <rdkit.Chem.rdchem.Mol object at 0x7f9790410db0>  \n",
       "766  <rdkit.Chem.rdchem.Mol object at 0x7f97917bc450>  \n",
       "767  <rdkit.Chem.rdchem.Mol object at 0x7f979047a7f0>  \n",
       "768  <rdkit.Chem.rdchem.Mol object at 0x7f9790485300>  \n",
       "769  <rdkit.Chem.rdchem.Mol object at 0x7f979047ae80>  \n",
       "\n",
       "[770 rows x 5 columns]"
      ]
     },
     "execution_count": 61,
     "metadata": {},
     "output_type": "execute_result"
    }
   ],
   "source": [
    "df"
   ]
  },
  {
   "cell_type": "code",
   "execution_count": 19,
   "metadata": {},
   "outputs": [],
   "source": [
    "def mask_nan(y_true, y_pred):\n",
    "    mask = ~np.isnan(y_true)\n",
    "    y_true = np.array(y_true)[mask]\n",
    "    y_pred = np.array(y_pred)[mask]\n",
    "    return y_true, y_pred\n",
    "\n",
    "\n",
    "def mol_has_3D(mol):\n",
    "    try:\n",
    "        mol.GetConformer()\n",
    "    except ValueError:\n",
    "        raise ValueError(\"Cannot get conformer for molecule, is likely 2D\")\n",
    "\n",
    "    if not mol.GetConformer().Is3D():\n",
    "        raise ValueError(\"Molecule is not 3D\")"
   ]
  },
  {
   "cell_type": "code",
   "execution_count": 20,
   "metadata": {},
   "outputs": [],
   "source": [
    "from spyrmsd.molecule import Molecule\n",
    "from spyrmsd.rmsd import rmsdwrapper"
   ]
  },
  {
   "cell_type": "code",
   "execution_count": 21,
   "metadata": {},
   "outputs": [],
   "source": [
    "def eval_poses(preds: list[Chem.Mol], refs: list[Chem.Mol], cutoff=2.0):\n",
    "    \"\"\"\n",
    "    Evaluate the poses of the predicted molecules against the reference molecules.\n",
    "\n",
    "    Calculates the % correct with respect to the RMSD cutoff value.\n",
    "\n",
    "    Parameters\n",
    "    ----------\n",
    "    preds : list[Chem.Mol]\n",
    "        List of predicted molecules.\n",
    "    refs : list[Chem.Mol]\n",
    "\n",
    "    cutoff : float\n",
    "        The cutoff value for the RMSD value. Default is 2.0.\n",
    "\n",
    "    Returns\n",
    "    -------\n",
    "    Tuple[np.ndarray, float]\n",
    "        Returns a tuple of the RMSD values and the percentage of RMSD values less than the cutoff\n",
    "\n",
    "    \"\"\"\n",
    "\n",
    "    if len(preds) != len(refs):\n",
    "        raise ValueError(\"mismatched lengths in preds vs references\")\n",
    "\n",
    "    # find symm corrected  heavy atom RMSDs\n",
    "    rmsds = []\n",
    "    i = 0\n",
    "    for pred, ref in zip(preds, refs):\n",
    "       \n",
    "        # Check the input\n",
    "        mol_has_3D(pred)\n",
    "        mol_has_3D(ref)\n",
    "        if pred.GetNumHeavyAtoms() != ref.GetNumHeavyAtoms():\n",
    "            \n",
    "            raise ValueError(\"mismatched number of atoms\")\n",
    "\n",
    "        # Compute RMSD\n",
    "        \n",
    "        pred_spy = Molecule.from_rdkit(pred)\n",
    "        ref_spy = Molecule.from_rdkit(ref)\n",
    "        print(i)\n",
    "        rmsd = rmsdwrapper(ref_spy, pred_spy, symmetry=True, strip=True)\n",
    "        rmsds.extend(rmsd)\n",
    "        i += 1\n",
    "\n",
    "    rmsds = np.asarray(rmsds)\n",
    "\n",
    "    # calculate % less than cutoff\n",
    "    mask = rmsds <= cutoff\n",
    "\n",
    "    correct = sum(mask)\n",
    "    prob = (correct / rmsds.shape[0]) * 100\n",
    "\n",
    "    collect = {}\n",
    "    collect[\"rmsd_mean\"] = np.mean(rmsds)\n",
    "    collect[\"rmsd_min\"] = np.min(rmsds)\n",
    "    collect[\"rmsd_q1\"] = np.quantile(rmsds, 0.25)\n",
    "    collect[\"rmsd_median\"] = np.quantile(rmsds, 0.5)\n",
    "    collect[\"rmsd_q3\"] = np.quantile(rmsds, 0.75)\n",
    "    collect[\"rmsd_max\"] = np.max(rmsds)\n",
    "    collect[\"rmsd_coverage\"] = prob\n",
    "    collect[\"rmsds\"] = rmsds\n",
    "\n",
    "    return collect\n"
   ]
  },
  {
   "cell_type": "code",
   "execution_count": 41,
   "metadata": {},
   "outputs": [
    {
     "name": "stderr",
     "output_type": "stream",
     "text": [
      "[11:16:36] predicted: Warning - no explicit hydrogens in mol2 file but needed for formal charge estimation.\n",
      "[11:16:36] predicted: Warning - no explicit hydrogens in mol2 file but needed for formal charge estimation.\n",
      "[11:16:36] predicted: Warning - no explicit hydrogens in mol2 file but needed for formal charge estimation.\n",
      "[11:16:36] predicted: Warning - no explicit hydrogens in mol2 file but needed for formal charge estimation.\n",
      "[11:16:36] predicted: Warning - no explicit hydrogens in mol2 file but needed for formal charge estimation.\n",
      "[11:16:36] predicted: Warning - no explicit hydrogens in mol2 file but needed for formal charge estimation.\n",
      "[11:16:36] predicted: Warning - no explicit hydrogens in mol2 file but needed for formal charge estimation.\n",
      "[11:16:36] predicted: Warning - no explicit hydrogens in mol2 file but needed for formal charge estimation.\n",
      "[11:16:36] predicted: Warning - no explicit hydrogens in mol2 file but needed for formal charge estimation.\n",
      "[11:16:36] predicted: Warning - no explicit hydrogens in mol2 file but needed for formal charge estimation.\n",
      "[11:16:36] predicted: Warning - no explicit hydrogens in mol2 file but needed for formal charge estimation.\n",
      "[11:16:36] predicted: Warning - no explicit hydrogens in mol2 file but needed for formal charge estimation.\n",
      "[11:16:36] predicted: Warning - no explicit hydrogens in mol2 file but needed for formal charge estimation.\n",
      "[11:16:36] predicted: Warning - no explicit hydrogens in mol2 file but needed for formal charge estimation.\n",
      "[11:16:36] predicted: Warning - no explicit hydrogens in mol2 file but needed for formal charge estimation.\n",
      "[11:16:36] predicted: Warning - no explicit hydrogens in mol2 file but needed for formal charge estimation.\n",
      "[11:16:36] predicted: Warning - no explicit hydrogens in mol2 file but needed for formal charge estimation.\n",
      "[11:16:36] predicted: Warning - no explicit hydrogens in mol2 file but needed for formal charge estimation.\n",
      "[11:16:36] predicted: Warning - no explicit hydrogens in mol2 file but needed for formal charge estimation.\n",
      "[11:16:36] predicted: Warning - no explicit hydrogens in mol2 file but needed for formal charge estimation.\n",
      "[11:16:36] predicted: Warning - no explicit hydrogens in mol2 file but needed for formal charge estimation.\n",
      "[11:16:36] predicted: Warning - no explicit hydrogens in mol2 file but needed for formal charge estimation.\n",
      "[11:16:36] predicted: Warning - no explicit hydrogens in mol2 file but needed for formal charge estimation.\n",
      "[11:16:36] predicted: Warning - no explicit hydrogens in mol2 file but needed for formal charge estimation.\n",
      "[11:16:36] predicted: Warning - no explicit hydrogens in mol2 file but needed for formal charge estimation.\n",
      "[11:16:36] predicted: Warning - no explicit hydrogens in mol2 file but needed for formal charge estimation.\n",
      "[11:16:36] predicted: Warning - no explicit hydrogens in mol2 file but needed for formal charge estimation.\n",
      "[11:16:36] predicted: Warning - no explicit hydrogens in mol2 file but needed for formal charge estimation.\n",
      "[11:16:36] predicted: Warning - no explicit hydrogens in mol2 file but needed for formal charge estimation.\n",
      "[11:16:36] predicted: Warning - no explicit hydrogens in mol2 file but needed for formal charge estimation.\n",
      "[11:16:36] predicted: Warning - no explicit hydrogens in mol2 file but needed for formal charge estimation.\n",
      "[11:16:36] predicted: Warning - no explicit hydrogens in mol2 file but needed for formal charge estimation.\n",
      "[11:16:36] predicted: Warning - no explicit hydrogens in mol2 file but needed for formal charge estimation.\n",
      "[11:16:36] predicted: Warning - no explicit hydrogens in mol2 file but needed for formal charge estimation.\n",
      "[11:16:36] predicted: Warning - no explicit hydrogens in mol2 file but needed for formal charge estimation.\n",
      "[11:16:36] predicted: Warning - no explicit hydrogens in mol2 file but needed for formal charge estimation.\n",
      "[11:16:36] predicted: Warning - no explicit hydrogens in mol2 file but needed for formal charge estimation.\n",
      "[11:16:36] predicted: Warning - no explicit hydrogens in mol2 file but needed for formal charge estimation.\n",
      "[11:16:36] predicted: Warning - no explicit hydrogens in mol2 file but needed for formal charge estimation.\n",
      "[11:16:36] predicted: Warning - no explicit hydrogens in mol2 file but needed for formal charge estimation.\n",
      "[11:16:36] predicted: Warning - no explicit hydrogens in mol2 file but needed for formal charge estimation.\n",
      "[11:16:36] predicted: Warning - no explicit hydrogens in mol2 file but needed for formal charge estimation.\n",
      "[11:16:36] predicted: Warning - no explicit hydrogens in mol2 file but needed for formal charge estimation.\n",
      "[11:16:36] predicted: Warning - no explicit hydrogens in mol2 file but needed for formal charge estimation.\n",
      "[11:16:36] predicted: Warning - no explicit hydrogens in mol2 file but needed for formal charge estimation.\n",
      "[11:16:36] predicted: Warning - no explicit hydrogens in mol2 file but needed for formal charge estimation.\n",
      "[11:16:36] predicted: Warning - no explicit hydrogens in mol2 file but needed for formal charge estimation.\n",
      "[11:16:36] predicted: Warning - no explicit hydrogens in mol2 file but needed for formal charge estimation.\n",
      "[11:16:36] predicted: Warning - no explicit hydrogens in mol2 file but needed for formal charge estimation.\n",
      "[11:16:36] predicted: Warning - no explicit hydrogens in mol2 file but needed for formal charge estimation.\n",
      "[11:16:36] predicted: Warning - no explicit hydrogens in mol2 file but needed for formal charge estimation.\n",
      "[11:16:36] predicted: Warning - no explicit hydrogens in mol2 file but needed for formal charge estimation.\n",
      "[11:16:36] predicted: Warning - no explicit hydrogens in mol2 file but needed for formal charge estimation.\n",
      "[11:16:36] predicted: Warning - no explicit hydrogens in mol2 file but needed for formal charge estimation.\n",
      "[11:16:36] predicted: Warning - no explicit hydrogens in mol2 file but needed for formal charge estimation.\n",
      "[11:16:36] predicted: Warning - no explicit hydrogens in mol2 file but needed for formal charge estimation.\n",
      "[11:16:36] predicted: Warning - no explicit hydrogens in mol2 file but needed for formal charge estimation.\n",
      "[11:16:36] predicted: Warning - no explicit hydrogens in mol2 file but needed for formal charge estimation.\n",
      "[11:16:36] predicted: Warning - no explicit hydrogens in mol2 file but needed for formal charge estimation.\n",
      "[11:16:36] predicted: Warning - no explicit hydrogens in mol2 file but needed for formal charge estimation.\n",
      "[11:16:36] predicted: Warning - no explicit hydrogens in mol2 file but needed for formal charge estimation.\n",
      "[11:16:36] predicted: Warning - no explicit hydrogens in mol2 file but needed for formal charge estimation.\n",
      "[11:16:36] predicted: Warning - no explicit hydrogens in mol2 file but needed for formal charge estimation.\n",
      "[11:16:36] predicted: Warning - no explicit hydrogens in mol2 file but needed for formal charge estimation.\n",
      "[11:16:36] predicted: Warning - no explicit hydrogens in mol2 file but needed for formal charge estimation.\n",
      "[11:16:36] predicted: Warning - no explicit hydrogens in mol2 file but needed for formal charge estimation.\n",
      "[11:16:36] predicted: Warning - no explicit hydrogens in mol2 file but needed for formal charge estimation.\n",
      "[11:16:36] predicted: Warning - no explicit hydrogens in mol2 file but needed for formal charge estimation.\n",
      "[11:16:36] predicted: Warning - no explicit hydrogens in mol2 file but needed for formal charge estimation.\n",
      "[11:16:36] predicted: Warning - no explicit hydrogens in mol2 file but needed for formal charge estimation.\n",
      "[11:16:36] predicted: Warning - no explicit hydrogens in mol2 file but needed for formal charge estimation.\n",
      "[11:16:36] predicted: Warning - no explicit hydrogens in mol2 file but needed for formal charge estimation.\n",
      "[11:16:36] predicted: Warning - no explicit hydrogens in mol2 file but needed for formal charge estimation.\n",
      "[11:16:36] predicted: Warning - no explicit hydrogens in mol2 file but needed for formal charge estimation.\n",
      "[11:16:36] predicted: Warning - no explicit hydrogens in mol2 file but needed for formal charge estimation.\n",
      "[11:16:36] predicted: Warning - no explicit hydrogens in mol2 file but needed for formal charge estimation.\n",
      "[11:16:36] predicted: Warning - no explicit hydrogens in mol2 file but needed for formal charge estimation.\n",
      "[11:16:36] predicted: Warning - no explicit hydrogens in mol2 file but needed for formal charge estimation.\n",
      "[11:16:36] predicted: Warning - no explicit hydrogens in mol2 file but needed for formal charge estimation.\n",
      "[11:16:36] predicted: Warning - no explicit hydrogens in mol2 file but needed for formal charge estimation.\n",
      "[11:16:36] predicted: Warning - no explicit hydrogens in mol2 file but needed for formal charge estimation.\n",
      "[11:16:36] predicted: Warning - no explicit hydrogens in mol2 file but needed for formal charge estimation.\n",
      "[11:16:36] predicted: Warning - no explicit hydrogens in mol2 file but needed for formal charge estimation.\n",
      "[11:16:36] predicted: Warning - no explicit hydrogens in mol2 file but needed for formal charge estimation.\n",
      "[11:16:36] predicted: Warning - no explicit hydrogens in mol2 file but needed for formal charge estimation.\n",
      "[11:16:36] predicted: Warning - no explicit hydrogens in mol2 file but needed for formal charge estimation.\n",
      "[11:16:36] predicted: Warning - no explicit hydrogens in mol2 file but needed for formal charge estimation.\n",
      "[11:16:36] predicted: Warning - no explicit hydrogens in mol2 file but needed for formal charge estimation.\n",
      "[11:16:36] predicted: Warning - no explicit hydrogens in mol2 file but needed for formal charge estimation.\n",
      "[11:16:36] predicted: Warning - no explicit hydrogens in mol2 file but needed for formal charge estimation.\n",
      "[11:16:36] predicted: Warning - no explicit hydrogens in mol2 file but needed for formal charge estimation.\n",
      "[11:16:36] predicted: Warning - no explicit hydrogens in mol2 file but needed for formal charge estimation.\n",
      "[11:16:36] predicted: Warning - no explicit hydrogens in mol2 file but needed for formal charge estimation.\n",
      "[11:16:36] predicted: Warning - no explicit hydrogens in mol2 file but needed for formal charge estimation.\n",
      "[11:16:36] predicted: Warning - no explicit hydrogens in mol2 file but needed for formal charge estimation.\n",
      "[11:16:36] predicted: Warning - no explicit hydrogens in mol2 file but needed for formal charge estimation.\n",
      "[11:16:36] predicted: Warning - no explicit hydrogens in mol2 file but needed for formal charge estimation.\n",
      "[11:16:36] predicted: Warning - no explicit hydrogens in mol2 file but needed for formal charge estimation.\n",
      "[11:16:36] predicted: Warning - no explicit hydrogens in mol2 file but needed for formal charge estimation.\n",
      "[11:16:36] predicted: Warning - no explicit hydrogens in mol2 file but needed for formal charge estimation.\n",
      "[11:16:36] predicted: Warning - no explicit hydrogens in mol2 file but needed for formal charge estimation.\n",
      "[11:16:36] predicted: Warning - no explicit hydrogens in mol2 file but needed for formal charge estimation.\n",
      "[11:16:36] predicted: Warning - no explicit hydrogens in mol2 file but needed for formal charge estimation.\n",
      "[11:16:36] predicted: Warning - no explicit hydrogens in mol2 file but needed for formal charge estimation.\n",
      "[11:16:36] predicted: Warning - no explicit hydrogens in mol2 file but needed for formal charge estimation.\n",
      "[11:16:36] predicted: Warning - no explicit hydrogens in mol2 file but needed for formal charge estimation.\n",
      "[11:16:36] predicted: Warning - no explicit hydrogens in mol2 file but needed for formal charge estimation.\n",
      "[11:16:36] predicted: Warning - no explicit hydrogens in mol2 file but needed for formal charge estimation.\n",
      "[11:16:36] predicted: Warning - no explicit hydrogens in mol2 file but needed for formal charge estimation.\n",
      "[11:16:36] predicted: Warning - no explicit hydrogens in mol2 file but needed for formal charge estimation.\n",
      "[11:16:36] predicted: Warning - no explicit hydrogens in mol2 file but needed for formal charge estimation.\n",
      "[11:16:36] predicted: Warning - no explicit hydrogens in mol2 file but needed for formal charge estimation.\n",
      "[11:16:36] predicted: Warning - no explicit hydrogens in mol2 file but needed for formal charge estimation.\n",
      "[11:16:36] predicted: Warning - no explicit hydrogens in mol2 file but needed for formal charge estimation.\n",
      "[11:16:36] predicted: Warning - no explicit hydrogens in mol2 file but needed for formal charge estimation.\n",
      "[11:16:36] predicted: Warning - no explicit hydrogens in mol2 file but needed for formal charge estimation.\n",
      "[11:16:36] predicted: Warning - no explicit hydrogens in mol2 file but needed for formal charge estimation.\n",
      "[11:16:36] predicted: Warning - no explicit hydrogens in mol2 file but needed for formal charge estimation.\n",
      "[11:16:36] predicted: Warning - no explicit hydrogens in mol2 file but needed for formal charge estimation.\n",
      "[11:16:36] predicted: Warning - no explicit hydrogens in mol2 file but needed for formal charge estimation.\n",
      "[11:16:36] predicted: Warning - no explicit hydrogens in mol2 file but needed for formal charge estimation.\n",
      "[11:16:36] predicted: Warning - no explicit hydrogens in mol2 file but needed for formal charge estimation.\n",
      "[11:16:36] predicted: Warning - no explicit hydrogens in mol2 file but needed for formal charge estimation.\n",
      "[11:16:36] predicted: Warning - no explicit hydrogens in mol2 file but needed for formal charge estimation.\n",
      "[11:16:36] predicted: Warning - no explicit hydrogens in mol2 file but needed for formal charge estimation.\n",
      "[11:16:36] predicted: Warning - no explicit hydrogens in mol2 file but needed for formal charge estimation.\n",
      "[11:16:36] predicted: Warning - no explicit hydrogens in mol2 file but needed for formal charge estimation.\n",
      "[11:16:37] predicted: Warning - no explicit hydrogens in mol2 file but needed for formal charge estimation.\n",
      "[11:16:37] predicted: Warning - no explicit hydrogens in mol2 file but needed for formal charge estimation.\n",
      "[11:16:37] predicted: Warning - no explicit hydrogens in mol2 file but needed for formal charge estimation.\n",
      "[11:16:37] predicted: Warning - no explicit hydrogens in mol2 file but needed for formal charge estimation.\n",
      "[11:16:37] predicted: Warning - no explicit hydrogens in mol2 file but needed for formal charge estimation.\n",
      "[11:16:37] predicted: Warning - no explicit hydrogens in mol2 file but needed for formal charge estimation.\n",
      "[11:16:37] predicted: Warning - no explicit hydrogens in mol2 file but needed for formal charge estimation.\n",
      "[11:16:37] predicted: Warning - no explicit hydrogens in mol2 file but needed for formal charge estimation.\n",
      "[11:16:37] predicted: Warning - no explicit hydrogens in mol2 file but needed for formal charge estimation.\n",
      "[11:16:37] predicted: Warning - no explicit hydrogens in mol2 file but needed for formal charge estimation.\n",
      "[11:16:37] predicted: Warning - no explicit hydrogens in mol2 file but needed for formal charge estimation.\n",
      "[11:16:37] predicted: Warning - no explicit hydrogens in mol2 file but needed for formal charge estimation.\n",
      "[11:16:37] predicted: Warning - no explicit hydrogens in mol2 file but needed for formal charge estimation.\n",
      "[11:16:37] predicted: Warning - no explicit hydrogens in mol2 file but needed for formal charge estimation.\n",
      "[11:16:37] predicted: Warning - no explicit hydrogens in mol2 file but needed for formal charge estimation.\n",
      "[11:16:37] predicted: Warning - no explicit hydrogens in mol2 file but needed for formal charge estimation.\n",
      "[11:16:37] predicted: Warning - no explicit hydrogens in mol2 file but needed for formal charge estimation.\n",
      "[11:16:37] predicted: Warning - no explicit hydrogens in mol2 file but needed for formal charge estimation.\n",
      "[11:16:37] predicted: Warning - no explicit hydrogens in mol2 file but needed for formal charge estimation.\n",
      "[11:16:37] predicted: Warning - no explicit hydrogens in mol2 file but needed for formal charge estimation.\n",
      "[11:16:37] predicted: Warning - no explicit hydrogens in mol2 file but needed for formal charge estimation.\n",
      "[11:16:37] predicted: Warning - no explicit hydrogens in mol2 file but needed for formal charge estimation.\n",
      "[11:16:37] predicted: Warning - no explicit hydrogens in mol2 file but needed for formal charge estimation.\n",
      "[11:16:37] predicted: Warning - no explicit hydrogens in mol2 file but needed for formal charge estimation.\n",
      "[11:16:37] predicted: Warning - no explicit hydrogens in mol2 file but needed for formal charge estimation.\n",
      "[11:16:37] predicted: Warning - no explicit hydrogens in mol2 file but needed for formal charge estimation.\n",
      "[11:16:37] predicted: Warning - no explicit hydrogens in mol2 file but needed for formal charge estimation.\n",
      "[11:16:37] predicted: Warning - no explicit hydrogens in mol2 file but needed for formal charge estimation.\n",
      "[11:16:37] predicted: Warning - no explicit hydrogens in mol2 file but needed for formal charge estimation.\n",
      "[11:16:37] predicted: Warning - no explicit hydrogens in mol2 file but needed for formal charge estimation.\n",
      "[11:16:37] predicted: Warning - no explicit hydrogens in mol2 file but needed for formal charge estimation.\n",
      "[11:16:37] predicted: Warning - no explicit hydrogens in mol2 file but needed for formal charge estimation.\n",
      "[11:16:37] predicted: Warning - no explicit hydrogens in mol2 file but needed for formal charge estimation.\n",
      "[11:16:37] predicted: Warning - no explicit hydrogens in mol2 file but needed for formal charge estimation.\n",
      "[11:16:37] predicted: Warning - no explicit hydrogens in mol2 file but needed for formal charge estimation.\n",
      "[11:16:37] predicted: Warning - no explicit hydrogens in mol2 file but needed for formal charge estimation.\n",
      "[11:16:37] predicted: Warning - no explicit hydrogens in mol2 file but needed for formal charge estimation.\n",
      "[11:16:37] predicted: Warning - no explicit hydrogens in mol2 file but needed for formal charge estimation.\n",
      "[11:16:37] predicted: Warning - no explicit hydrogens in mol2 file but needed for formal charge estimation.\n",
      "[11:16:37] predicted: Warning - no explicit hydrogens in mol2 file but needed for formal charge estimation.\n",
      "[11:16:37] predicted: Warning - no explicit hydrogens in mol2 file but needed for formal charge estimation.\n",
      "[11:16:37] predicted: Warning - no explicit hydrogens in mol2 file but needed for formal charge estimation.\n",
      "[11:16:37] predicted: Warning - no explicit hydrogens in mol2 file but needed for formal charge estimation.\n",
      "[11:16:37] predicted: Warning - no explicit hydrogens in mol2 file but needed for formal charge estimation.\n",
      "[11:16:37] predicted: Warning - no explicit hydrogens in mol2 file but needed for formal charge estimation.\n",
      "[11:16:37] predicted: Warning - no explicit hydrogens in mol2 file but needed for formal charge estimation.\n",
      "[11:16:37] predicted: Warning - no explicit hydrogens in mol2 file but needed for formal charge estimation.\n",
      "[11:16:37] predicted: Warning - no explicit hydrogens in mol2 file but needed for formal charge estimation.\n",
      "[11:16:37] predicted: Warning - no explicit hydrogens in mol2 file but needed for formal charge estimation.\n",
      "[11:16:37] predicted: Warning - no explicit hydrogens in mol2 file but needed for formal charge estimation.\n",
      "[11:16:37] predicted: Warning - no explicit hydrogens in mol2 file but needed for formal charge estimation.\n",
      "[11:16:37] predicted: Warning - no explicit hydrogens in mol2 file but needed for formal charge estimation.\n",
      "[11:16:37] predicted: Warning - no explicit hydrogens in mol2 file but needed for formal charge estimation.\n",
      "[11:16:37] predicted: Warning - no explicit hydrogens in mol2 file but needed for formal charge estimation.\n",
      "[11:16:37] predicted: Warning - no explicit hydrogens in mol2 file but needed for formal charge estimation.\n",
      "[11:16:37] predicted: Warning - no explicit hydrogens in mol2 file but needed for formal charge estimation.\n",
      "[11:16:37] predicted: Warning - no explicit hydrogens in mol2 file but needed for formal charge estimation.\n",
      "[11:16:37] predicted: Warning - no explicit hydrogens in mol2 file but needed for formal charge estimation.\n",
      "[11:16:37] predicted: Warning - no explicit hydrogens in mol2 file but needed for formal charge estimation.\n",
      "[11:16:37] predicted: Warning - no explicit hydrogens in mol2 file but needed for formal charge estimation.\n",
      "[11:16:37] predicted: Warning - no explicit hydrogens in mol2 file but needed for formal charge estimation.\n",
      "[11:16:37] predicted: Warning - no explicit hydrogens in mol2 file but needed for formal charge estimation.\n",
      "[11:16:37] predicted: Warning - no explicit hydrogens in mol2 file but needed for formal charge estimation.\n",
      "[11:16:37] predicted: Warning - no explicit hydrogens in mol2 file but needed for formal charge estimation.\n",
      "[11:16:37] predicted: Warning - no explicit hydrogens in mol2 file but needed for formal charge estimation.\n",
      "[11:16:37] predicted: Warning - no explicit hydrogens in mol2 file but needed for formal charge estimation.\n",
      "[11:16:37] predicted: Warning - no explicit hydrogens in mol2 file but needed for formal charge estimation.\n",
      "[11:16:37] predicted: Warning - no explicit hydrogens in mol2 file but needed for formal charge estimation.\n"
     ]
    }
   ],
   "source": [
    "mol = []\n",
    "# read all molecules in ligand output\n",
    "for i in range(195):\n",
    "   \n",
    "        mol.append(Chem.MolFromMol2File(test_ligand_outputs / f'ligand_{i}.mol2', sanitize=False))\n",
    "  \n",
    "    "
   ]
  },
  {
   "cell_type": "code",
   "execution_count": 29,
   "metadata": {},
   "outputs": [
    {
     "name": "stderr",
     "output_type": "stream",
     "text": [
      "[11:09:05] predicted: Warning - no explicit hydrogens in mol2 file but needed for formal charge estimation.\n",
      "[11:09:05] predicted: Warning - no explicit hydrogens in mol2 file but needed for formal charge estimation.\n",
      "[11:09:05] predicted: Warning - no explicit hydrogens in mol2 file but needed for formal charge estimation.\n",
      "[11:09:05] predicted: Warning - no explicit hydrogens in mol2 file but needed for formal charge estimation.\n",
      "[11:09:05] predicted: Warning - no explicit hydrogens in mol2 file but needed for formal charge estimation.\n",
      "[11:09:05] predicted: Warning - no explicit hydrogens in mol2 file but needed for formal charge estimation.\n",
      "[11:09:05] predicted: Warning - no explicit hydrogens in mol2 file but needed for formal charge estimation.\n",
      "[11:09:05] predicted: Warning - no explicit hydrogens in mol2 file but needed for formal charge estimation.\n",
      "[11:09:05] predicted: Warning - no explicit hydrogens in mol2 file but needed for formal charge estimation.\n",
      "[11:09:05] predicted: Warning - no explicit hydrogens in mol2 file but needed for formal charge estimation.\n",
      "[11:09:05] predicted: Warning - no explicit hydrogens in mol2 file but needed for formal charge estimation.\n",
      "[11:09:05] predicted: Warning - no explicit hydrogens in mol2 file but needed for formal charge estimation.\n",
      "[11:09:05] predicted: Warning - no explicit hydrogens in mol2 file but needed for formal charge estimation.\n",
      "[11:09:05] predicted: Warning - no explicit hydrogens in mol2 file but needed for formal charge estimation.\n",
      "[11:09:05] predicted: Warning - no explicit hydrogens in mol2 file but needed for formal charge estimation.\n",
      "[11:09:05] predicted: Warning - no explicit hydrogens in mol2 file but needed for formal charge estimation.\n",
      "[11:09:05] predicted: Warning - no explicit hydrogens in mol2 file but needed for formal charge estimation.\n",
      "[11:09:05] predicted: Warning - no explicit hydrogens in mol2 file but needed for formal charge estimation.\n",
      "[11:09:05] predicted: Warning - no explicit hydrogens in mol2 file but needed for formal charge estimation.\n",
      "[11:09:05] predicted: Warning - no explicit hydrogens in mol2 file but needed for formal charge estimation.\n",
      "[11:09:05] predicted: Warning - no explicit hydrogens in mol2 file but needed for formal charge estimation.\n",
      "[11:09:05] predicted: Warning - no explicit hydrogens in mol2 file but needed for formal charge estimation.\n",
      "[11:09:05] predicted: Warning - no explicit hydrogens in mol2 file but needed for formal charge estimation.\n",
      "[11:09:05] predicted: Warning - no explicit hydrogens in mol2 file but needed for formal charge estimation.\n",
      "[11:09:05] predicted: Warning - no explicit hydrogens in mol2 file but needed for formal charge estimation.\n",
      "[11:09:05] predicted: Warning - no explicit hydrogens in mol2 file but needed for formal charge estimation.\n",
      "[11:09:05] predicted: Warning - no explicit hydrogens in mol2 file but needed for formal charge estimation.\n",
      "[11:09:05] predicted: Warning - no explicit hydrogens in mol2 file but needed for formal charge estimation.\n",
      "[11:09:05] predicted: Warning - no explicit hydrogens in mol2 file but needed for formal charge estimation.\n",
      "[11:09:05] predicted: Warning - no explicit hydrogens in mol2 file but needed for formal charge estimation.\n",
      "[11:09:05] predicted: Warning - no explicit hydrogens in mol2 file but needed for formal charge estimation.\n",
      "[11:09:05] predicted: Warning - no explicit hydrogens in mol2 file but needed for formal charge estimation.\n",
      "[11:09:05] predicted: Warning - no explicit hydrogens in mol2 file but needed for formal charge estimation.\n",
      "[11:09:05] predicted: Warning - no explicit hydrogens in mol2 file but needed for formal charge estimation.\n",
      "[11:09:05] predicted: Warning - no explicit hydrogens in mol2 file but needed for formal charge estimation.\n",
      "[11:09:05] predicted: Warning - no explicit hydrogens in mol2 file but needed for formal charge estimation.\n",
      "[11:09:05] predicted: Warning - no explicit hydrogens in mol2 file but needed for formal charge estimation.\n",
      "[11:09:05] predicted: Warning - no explicit hydrogens in mol2 file but needed for formal charge estimation.\n",
      "[11:09:05] predicted: Warning - no explicit hydrogens in mol2 file but needed for formal charge estimation.\n",
      "[11:09:05] predicted: Warning - no explicit hydrogens in mol2 file but needed for formal charge estimation.\n",
      "[11:09:05] predicted: Warning - no explicit hydrogens in mol2 file but needed for formal charge estimation.\n",
      "[11:09:05] predicted: Warning - no explicit hydrogens in mol2 file but needed for formal charge estimation.\n",
      "[11:09:05] predicted: Warning - no explicit hydrogens in mol2 file but needed for formal charge estimation.\n",
      "[11:09:05] predicted: Warning - no explicit hydrogens in mol2 file but needed for formal charge estimation.\n",
      "[11:09:05] predicted: Warning - no explicit hydrogens in mol2 file but needed for formal charge estimation.\n",
      "[11:09:05] predicted: Warning - no explicit hydrogens in mol2 file but needed for formal charge estimation.\n",
      "[11:09:05] predicted: Warning - no explicit hydrogens in mol2 file but needed for formal charge estimation.\n",
      "[11:09:05] predicted: Warning - no explicit hydrogens in mol2 file but needed for formal charge estimation.\n",
      "[11:09:05] predicted: Warning - no explicit hydrogens in mol2 file but needed for formal charge estimation.\n",
      "[11:09:05] predicted: Warning - no explicit hydrogens in mol2 file but needed for formal charge estimation.\n",
      "[11:09:05] predicted: Warning - no explicit hydrogens in mol2 file but needed for formal charge estimation.\n",
      "[11:09:05] predicted: Warning - no explicit hydrogens in mol2 file but needed for formal charge estimation.\n",
      "[11:09:05] predicted: Warning - no explicit hydrogens in mol2 file but needed for formal charge estimation.\n",
      "[11:09:05] predicted: Warning - no explicit hydrogens in mol2 file but needed for formal charge estimation.\n",
      "[11:09:05] predicted: Warning - no explicit hydrogens in mol2 file but needed for formal charge estimation.\n",
      "[11:09:05] predicted: Warning - no explicit hydrogens in mol2 file but needed for formal charge estimation.\n",
      "[11:09:05] predicted: Warning - no explicit hydrogens in mol2 file but needed for formal charge estimation.\n",
      "[11:09:05] predicted: Warning - no explicit hydrogens in mol2 file but needed for formal charge estimation.\n",
      "[11:09:05] predicted: Warning - no explicit hydrogens in mol2 file but needed for formal charge estimation.\n",
      "[11:09:05] predicted: Warning - no explicit hydrogens in mol2 file but needed for formal charge estimation.\n",
      "[11:09:05] predicted: Warning - no explicit hydrogens in mol2 file but needed for formal charge estimation.\n",
      "[11:09:05] predicted: Warning - no explicit hydrogens in mol2 file but needed for formal charge estimation.\n",
      "[11:09:05] predicted: Warning - no explicit hydrogens in mol2 file but needed for formal charge estimation.\n",
      "[11:09:05] predicted: Warning - no explicit hydrogens in mol2 file but needed for formal charge estimation.\n",
      "[11:09:05] predicted: Warning - no explicit hydrogens in mol2 file but needed for formal charge estimation.\n",
      "[11:09:05] predicted: Warning - no explicit hydrogens in mol2 file but needed for formal charge estimation.\n",
      "[11:09:05] predicted: Warning - no explicit hydrogens in mol2 file but needed for formal charge estimation.\n",
      "[11:09:05] predicted: Warning - no explicit hydrogens in mol2 file but needed for formal charge estimation.\n",
      "[11:09:05] predicted: Warning - no explicit hydrogens in mol2 file but needed for formal charge estimation.\n",
      "[11:09:05] predicted: Warning - no explicit hydrogens in mol2 file but needed for formal charge estimation.\n",
      "[11:09:05] predicted: Warning - no explicit hydrogens in mol2 file but needed for formal charge estimation.\n",
      "[11:09:05] predicted: Warning - no explicit hydrogens in mol2 file but needed for formal charge estimation.\n",
      "[11:09:05] predicted: Warning - no explicit hydrogens in mol2 file but needed for formal charge estimation.\n",
      "[11:09:05] predicted: Warning - no explicit hydrogens in mol2 file but needed for formal charge estimation.\n",
      "[11:09:05] predicted: Warning - no explicit hydrogens in mol2 file but needed for formal charge estimation.\n",
      "[11:09:05] predicted: Warning - no explicit hydrogens in mol2 file but needed for formal charge estimation.\n",
      "[11:09:05] predicted: Warning - no explicit hydrogens in mol2 file but needed for formal charge estimation.\n",
      "[11:09:05] predicted: Warning - no explicit hydrogens in mol2 file but needed for formal charge estimation.\n",
      "[11:09:05] predicted: Warning - no explicit hydrogens in mol2 file but needed for formal charge estimation.\n",
      "[11:09:05] predicted: Warning - no explicit hydrogens in mol2 file but needed for formal charge estimation.\n",
      "[11:09:05] predicted: Warning - no explicit hydrogens in mol2 file but needed for formal charge estimation.\n",
      "[11:09:05] predicted: Warning - no explicit hydrogens in mol2 file but needed for formal charge estimation.\n",
      "[11:09:05] predicted: Warning - no explicit hydrogens in mol2 file but needed for formal charge estimation.\n",
      "[11:09:05] predicted: Warning - no explicit hydrogens in mol2 file but needed for formal charge estimation.\n",
      "[11:09:05] predicted: Warning - no explicit hydrogens in mol2 file but needed for formal charge estimation.\n",
      "[11:09:05] predicted: Warning - no explicit hydrogens in mol2 file but needed for formal charge estimation.\n",
      "[11:09:05] predicted: Warning - no explicit hydrogens in mol2 file but needed for formal charge estimation.\n",
      "[11:09:05] predicted: Warning - no explicit hydrogens in mol2 file but needed for formal charge estimation.\n",
      "[11:09:05] predicted: Warning - no explicit hydrogens in mol2 file but needed for formal charge estimation.\n",
      "[11:09:05] predicted: Warning - no explicit hydrogens in mol2 file but needed for formal charge estimation.\n",
      "[11:09:05] predicted: Warning - no explicit hydrogens in mol2 file but needed for formal charge estimation.\n",
      "[11:09:05] predicted: Warning - no explicit hydrogens in mol2 file but needed for formal charge estimation.\n",
      "[11:09:05] predicted: Warning - no explicit hydrogens in mol2 file but needed for formal charge estimation.\n",
      "[11:09:05] predicted: Warning - no explicit hydrogens in mol2 file but needed for formal charge estimation.\n",
      "[11:09:05] predicted: Warning - no explicit hydrogens in mol2 file but needed for formal charge estimation.\n",
      "[11:09:05] predicted: Warning - no explicit hydrogens in mol2 file but needed for formal charge estimation.\n",
      "[11:09:05] predicted: Warning - no explicit hydrogens in mol2 file but needed for formal charge estimation.\n",
      "[11:09:05] predicted: Warning - no explicit hydrogens in mol2 file but needed for formal charge estimation.\n",
      "[11:09:05] predicted: Warning - no explicit hydrogens in mol2 file but needed for formal charge estimation.\n",
      "[11:09:05] predicted: Warning - no explicit hydrogens in mol2 file but needed for formal charge estimation.\n"
     ]
    }
   ],
   "source": [
    "mol = []\n",
    "# read all molecules in ligand output\n",
    "for i in range(100):\n",
    "   \n",
    "        mol.append(Chem.MolFromMol2File(train_ligand_outputs / f'ligand_{i}.mol2', sanitize=False))\n",
    "  "
   ]
  },
  {
   "cell_type": "code",
   "execution_count": 30,
   "metadata": {},
   "outputs": [],
   "source": [
    "df_sub = df.iloc[:100]"
   ]
  },
  {
   "cell_type": "code",
   "execution_count": 31,
   "metadata": {},
   "outputs": [
    {
     "name": "stderr",
     "output_type": "stream",
     "text": [
      "/tmp/ipykernel_1126325/2231128164.py:1: SettingWithCopyWarning: \n",
      "A value is trying to be set on a copy of a slice from a DataFrame.\n",
      "Try using .loc[row_indexer,col_indexer] = value instead\n",
      "\n",
      "See the caveats in the documentation: https://pandas.pydata.org/pandas-docs/stable/user_guide/indexing.html#returning-a-view-versus-a-copy\n",
      "  df_sub['pred'] = mol\n"
     ]
    }
   ],
   "source": [
    "df_sub['pred'] = mol"
   ]
  },
  {
   "cell_type": "code",
   "execution_count": 42,
   "metadata": {},
   "outputs": [],
   "source": [
    "df_test['Predicted Pose'] = mol"
   ]
  },
  {
   "cell_type": "code",
   "execution_count": 24,
   "metadata": {},
   "outputs": [],
   "source": [
    "def return_clean_mol(mol):\n",
    "    try:\n",
    "        \n",
    "        mol = Chem.MolToSmiles(mol, kekuleSmiles=False)\n",
    "        \n",
    "        return Chem.MolFromSmiles(mol, sanitize=False)\n",
    "    except:\n",
    "        return None"
   ]
  },
  {
   "cell_type": "code",
   "execution_count": 25,
   "metadata": {},
   "outputs": [],
   "source": [
    "def remove_aromatic_tags(mol):\n",
    "    \"\"\"Remove aromatic flags from all atoms and bonds in a molecule.\"\"\"\n",
    "    rw_mol = Chem.RWMol(mol)\n",
    "    for atom in rw_mol.GetAtoms():\n",
    "        atom.SetIsAromatic(False)\n",
    "    for bond in rw_mol.GetBonds():\n",
    "        bond.SetIsAromatic(False)\n",
    "        # bond.SetStereo(Chem.BondStereo.STEREONONE)  # Reset bond stereo\n",
    "    return rw_mol.GetMol()\n",
    "\n",
    "def transfer_bond_orders(mol1, mol2):\n",
    "    # Create a copy of mol2 and kekulize it\n",
    "    m2_non_aromatic = Chem.Mol(mol2)\n",
    "    m2_non_aromatic = Chem.RemoveHs(m2_non_aromatic)\n",
    "    Chem.Kekulize(m2_non_aromatic, clearAromaticFlags=True)\n",
    "    \n",
    "    # Remove aromatic tags from mol1\n",
    "    mol1 = remove_aromatic_tags(mol1)\n",
    "    \n",
    "    # Find MCS for atom mapping\n",
    "    mcs = rdFMCS.FindMCS(\n",
    "        [mol1, m2_non_aromatic],\n",
    "        bondCompare=rdFMCS.BondCompare.CompareAny,\n",
    "        atomCompare=rdFMCS.AtomCompare.CompareElements,\n",
    "        matchValences=False,\n",
    "        timeout=60\n",
    "    )\n",
    "    \n",
    "    if mcs.canceled or mcs.numAtoms != mol1.GetNumAtoms():\n",
    "        raise ValueError(\"MCS failed to map all atoms. Check connectivity or symmetry.\")\n",
    "    \n",
    "    mcs_pattern = Chem.MolFromSmarts(mcs.smartsString)\n",
    "    matches_m1 = mol1.GetSubstructMatches(mcs_pattern)\n",
    "    matches_m2 = m2_non_aromatic.GetSubstructMatches(mcs_pattern)\n",
    "    \n",
    "    if not matches_m1 or not matches_m2:\n",
    "        raise ValueError(\"No substructure matches found.\")\n",
    "\n",
    "    match_m1 = matches_m1[0]\n",
    "    match_m2 = matches_m2[0]\n",
    "    m2_to_m1 = {m2_idx: m1_idx for m1_idx, m2_idx in zip(match_m1, match_m2)}\n",
    "    \n",
    "    # Prepare editable molecule from mol1\n",
    "    m1_edited = Chem.RWMol(mol1)\n",
    "    \n",
    "    # ==== NEW: Transfer formal charges first ====\n",
    "    for atom in m2_non_aromatic.GetAtoms():\n",
    "        m1_idx = m2_to_m1.get(atom.GetIdx())\n",
    "        if m1_idx is not None:\n",
    "            m1_edited.GetAtomWithIdx(m1_idx).SetFormalCharge(atom.GetFormalCharge())\n",
    "    \n",
    "    # Remove existing bonds\n",
    "    bonds_to_remove = [(bond.GetBeginAtomIdx(), bond.GetEndAtomIdx()) \n",
    "                      for bond in m1_edited.GetBonds()]\n",
    "    for begin, end in reversed(bonds_to_remove):\n",
    "        m1_edited.RemoveBond(begin, end)\n",
    "    \n",
    "    # Add new bonds from mol2\n",
    "    for bond in m2_non_aromatic.GetBonds():\n",
    "        a2_start = bond.GetBeginAtomIdx()\n",
    "        a2_end = bond.GetEndAtomIdx()\n",
    "        a1_start = m2_to_m1.get(a2_start)\n",
    "        a1_end = m2_to_m1.get(a2_end)\n",
    "        current_num_bonds = m1_edited.GetNumBonds()\n",
    "        \n",
    "        if a1_start is not None and a1_end is not None:\n",
    "            m1_edited.AddBond(a1_start, a1_end, bond.GetBondType())\n",
    "             # Get the index of the newly added bond\n",
    "        # new_bond_idx = current_num_bonds  # Bonds are 0-indexed\n",
    "        \n",
    "        # Only set stereo if bond exists\n",
    "    #     if new_bond_idx < m1_edited.GetNumBonds():\n",
    "    #         m1_edited.GetBondWithIdx(new_bond_idx).SetStereo(bond.GetStereo())\n",
    "\n",
    "    # for atom in m2_non_aromatic.GetAtoms():\n",
    "    #     if atom.GetChiralTag() != Chem.ChiralType.CHI_UNSPECIFIED:\n",
    "    #         m1_idx = m2_to_m1[atom.GetIdx()]\n",
    "    #         m1_edited.GetAtomWithIdx(m1_idx).SetChiralTag(atom.GetChiralTag())\n",
    "\n",
    "    # ==== Modified sanitization ====\n",
    "    # try:\n",
    "    #     print(dm.same_mol(m1_edited.GetMol(), mol2))\n",
    "    #     # First sanitize without property checks\n",
    "    #     Chem.SanitizeMol(m1_edited, Chem.SANITIZE_ALL^Chem.SANITIZE_PROPERTIES)\n",
    "    #     # Then do full sanitization\n",
    "    #     Chem.SanitizeMol(m1_edited)\n",
    "    #     # print if m1 and m2 are dm.same_mol\n",
    "    #     print(dm.same_mol(m1_edited.GetMol(), m2_non_aromatic))\n",
    "    # except Exception as e:\n",
    "    #     print(f\"Sanitization warning: {str(e)}\")\n",
    "        # # Fallback: Adjust problematic nitrogens\n",
    "        # for atom in m1_edited.GetAtoms():\n",
    "        #     if atom.GetAtomicNum() == 7 and atom.GetTotalValence() > 3:\n",
    "        #         atom.SetFormalCharge(1)\n",
    "        # Chem.SanitizeMol(m1_edited)\n",
    "    \n",
    "    return m1_edited.GetMol()"
   ]
  },
  {
   "cell_type": "code",
   "execution_count": 32,
   "metadata": {},
   "outputs": [
    {
     "data": {
      "image/png": "[encoded data removed]",
      "text/plain": [
       "<rdkit.Chem.rdchem.Mol at 0x7f50186aa490>"
      ]
     },
     "execution_count": 32,
     "metadata": {},
     "output_type": "execute_result"
    }
   ],
   "source": [
    "return_clean_mol(Chem.RemoveHs(df_sub.iloc[0]['rdkit_object']))"
   ]
  },
  {
   "cell_type": "code",
   "execution_count": 33,
   "metadata": {},
   "outputs": [
    {
     "data": {
      "image/png": "[encoded data removed]",
      "text/plain": [
       "<rdkit.Chem.rdchem.Mol at 0x7f50186aa5e0>"
      ]
     },
     "execution_count": 33,
     "metadata": {},
     "output_type": "execute_result"
    }
   ],
   "source": [
    "return_clean_mol(Chem.RemoveHs(df_sub.iloc[0]['pred']))"
   ]
  },
  {
   "cell_type": "code",
   "execution_count": 34,
   "metadata": {},
   "outputs": [],
   "source": [
    "# remove the first row df sb\n",
    "df_sub = df_sub.iloc[1:]"
   ]
  },
  {
   "cell_type": "code",
   "execution_count": null,
   "metadata": {},
   "outputs": [],
   "source": [
    "df_sub['pred bf'] = df_sub.apply(lambda x: tb.transfer_bond_orders(x['pred'], x['rdkit_object']), axis=1)"
   ]
  },
  {
   "cell_type": "code",
   "execution_count": 36,
   "metadata": {},
   "outputs": [
    {
     "name": "stderr",
     "output_type": "stream",
     "text": [
      "[11:09:27] tetrahedral chirality on atom with <3 or >4 neighbors will be ignored.\n",
      "[11:09:27] tetrahedral chirality on atom with <3 or >4 neighbors will be ignored.\n",
      "[11:09:27] tetrahedral chirality on atom with <3 or >4 neighbors will be ignored.\n",
      "[11:09:27] tetrahedral chirality on atom with <3 or >4 neighbors will be ignored.\n",
      "[11:09:27] tetrahedral chirality on atom with <3 or >4 neighbors will be ignored.\n",
      "[11:09:27] tetrahedral chirality on atom with <3 or >4 neighbors will be ignored.\n",
      "[11:09:27] tetrahedral chirality on atom with <3 or >4 neighbors will be ignored.\n",
      "[11:09:27] tetrahedral chirality on atom with <3 or >4 neighbors will be ignored.\n",
      "[11:09:27] tetrahedral chirality on atom with <3 or >4 neighbors will be ignored.\n",
      "[11:09:27] tetrahedral chirality on atom with <3 or >4 neighbors will be ignored.\n",
      "[11:09:27] tetrahedral chirality on atom with <3 or >4 neighbors will be ignored.\n",
      "[11:09:27] tetrahedral chirality on atom with <3 or >4 neighbors will be ignored.\n",
      "[11:09:27] tetrahedral chirality on atom with <3 or >4 neighbors will be ignored.\n",
      "[11:09:27] tetrahedral chirality on atom with <3 or >4 neighbors will be ignored.\n",
      "[11:09:27] tetrahedral chirality on atom with <3 or >4 neighbors will be ignored.\n",
      "[11:09:27] tetrahedral chirality on atom with <3 or >4 neighbors will be ignored.\n",
      "[11:09:27] tetrahedral chirality on atom with <3 or >4 neighbors will be ignored.\n",
      "[11:09:27] tetrahedral chirality on atom with <3 or >4 neighbors will be ignored.\n",
      "[11:09:27] tetrahedral chirality on atom with <3 or >4 neighbors will be ignored.\n",
      "[11:09:27] tetrahedral chirality on atom with <3 or >4 neighbors will be ignored.\n",
      "[11:09:27] tetrahedral chirality on atom with <3 or >4 neighbors will be ignored.\n",
      "[11:09:27] tetrahedral chirality on atom with <3 or >4 neighbors will be ignored.\n",
      "[11:09:27] tetrahedral chirality on atom with <3 or >4 neighbors will be ignored.\n",
      "[11:09:27] tetrahedral chirality on atom with <3 or >4 neighbors will be ignored.\n",
      "[11:09:27] tetrahedral chirality on atom with <3 or >4 neighbors will be ignored.\n",
      "[11:09:27] tetrahedral chirality on atom with <3 or >4 neighbors will be ignored.\n",
      "[11:09:27] tetrahedral chirality on atom with <3 or >4 neighbors will be ignored.\n",
      "[11:09:27] tetrahedral chirality on atom with <3 or >4 neighbors will be ignored.\n",
      "[11:09:27] tetrahedral chirality on atom with <3 or >4 neighbors will be ignored.\n",
      "[11:09:27] tetrahedral chirality on atom with <3 or >4 neighbors will be ignored.\n",
      "[11:09:27] tetrahedral chirality on atom with <3 or >4 neighbors will be ignored.\n",
      "[11:09:27] tetrahedral chirality on atom with <3 or >4 neighbors will be ignored.\n",
      "[11:09:27] tetrahedral chirality on atom with <3 or >4 neighbors will be ignored.\n",
      "[11:09:27] tetrahedral chirality on atom with <3 or >4 neighbors will be ignored.\n",
      "[11:09:27] tetrahedral chirality on atom with <3 or >4 neighbors will be ignored.\n",
      "[11:09:27] tetrahedral chirality on atom with <3 or >4 neighbors will be ignored.\n",
      "[11:09:27] tetrahedral chirality on atom with <3 or >4 neighbors will be ignored.\n",
      "[11:09:27] tetrahedral chirality on atom with <3 or >4 neighbors will be ignored.\n",
      "[11:09:27] tetrahedral chirality on atom with <3 or >4 neighbors will be ignored.\n",
      "[11:09:27] tetrahedral chirality on atom with <3 or >4 neighbors will be ignored.\n",
      "[11:09:27] tetrahedral chirality on atom with <3 or >4 neighbors will be ignored.\n",
      "[11:09:27] tetrahedral chirality on atom with <3 or >4 neighbors will be ignored.\n",
      "[11:09:27] tetrahedral chirality on atom with <3 or >4 neighbors will be ignored.\n",
      "[11:09:27] tetrahedral chirality on atom with <3 or >4 neighbors will be ignored.\n",
      "[11:09:27] tetrahedral chirality on atom with <3 or >4 neighbors will be ignored.\n",
      "[11:09:27] tetrahedral chirality on atom with <3 or >4 neighbors will be ignored.\n",
      "[11:09:27] tetrahedral chirality on atom with <3 or >4 neighbors will be ignored.\n",
      "[11:09:27] tetrahedral chirality on atom with <3 or >4 neighbors will be ignored.\n"
     ]
    }
   ],
   "source": [
    "df_sub['match bf'] = df_sub.apply(lambda x: dm.same_mol(x['rdkit_object'], x['pred bf']), axis=1)"
   ]
  },
  {
   "cell_type": "code",
   "execution_count": 37,
   "metadata": {},
   "outputs": [
    {
     "data": {
      "text/plain": [
       "match bf\n",
       "True     88\n",
       "False    11\n",
       "Name: count, dtype: int64"
      ]
     },
     "execution_count": 37,
     "metadata": {},
     "output_type": "execute_result"
    }
   ],
   "source": [
    "df_sub['match bf'].value_counts()"
   ]
  },
  {
   "cell_type": "code",
   "execution_count": 39,
   "metadata": {},
   "outputs": [],
   "source": [
    "# save df_sub['pred bf] to sdf file\n",
    "for i, row in df_sub.iterrows():\n",
    "    Chem.MolToMolFile(row['pred bf'], train_ligand_outputs_bond_fixed / f'ligand_{i}.sdf')"
   ]
  },
  {
   "cell_type": "code",
   "execution_count": 121,
   "metadata": {},
   "outputs": [
    {
     "name": "stdout",
     "output_type": "stream",
     "text": [
      "0\n",
      "1\n",
      "2\n",
      "3\n",
      "4\n",
      "5\n",
      "6\n",
      "7\n",
      "8\n",
      "9\n",
      "10\n",
      "11\n",
      "12\n",
      "13\n",
      "14\n",
      "15\n",
      "16\n",
      "17\n",
      "18\n",
      "19\n",
      "20\n",
      "21\n",
      "22\n",
      "23\n",
      "24\n",
      "25\n",
      "26\n",
      "27\n",
      "28\n",
      "29\n",
      "30\n",
      "31\n",
      "32\n",
      "33\n",
      "34\n",
      "35\n",
      "36\n",
      "37\n",
      "38\n",
      "39\n",
      "40\n",
      "41\n",
      "42\n",
      "43\n",
      "44\n",
      "45\n",
      "46\n",
      "47\n",
      "48\n",
      "49\n",
      "50\n",
      "51\n",
      "52\n",
      "53\n",
      "54\n",
      "55\n",
      "56\n",
      "57\n",
      "58\n",
      "59\n",
      "60\n",
      "61\n",
      "62\n",
      "63\n",
      "64\n",
      "65\n",
      "66\n",
      "67\n",
      "68\n",
      "69\n",
      "70\n",
      "71\n",
      "72\n",
      "73\n",
      "74\n",
      "75\n",
      "76\n",
      "77\n",
      "78\n",
      "79\n",
      "80\n",
      "81\n",
      "82\n",
      "83\n",
      "84\n",
      "85\n",
      "86\n",
      "87\n",
      "88\n",
      "89\n",
      "90\n",
      "91\n",
      "92\n",
      "93\n",
      "94\n",
      "95\n",
      "96\n",
      "97\n",
      "98\n"
     ]
    }
   ],
   "source": [
    "c =eval_poses(df_sub['pred bf'], df_sub['rdkit_object'])"
   ]
  },
  {
   "cell_type": "code",
   "execution_count": 163,
   "metadata": {},
   "outputs": [
    {
     "data": {
      "text/plain": [
       "{'rmsd_mean': 11.275630973658906,\n",
       " 'rmsd_min': 0.32503215273871006,\n",
       " 'rmsd_q1': 0.7466237809409819,\n",
       " 'rmsd_median': 2.6199698645231897,\n",
       " 'rmsd_q3': 6.813016645731279,\n",
       " 'rmsd_max': 63.86051424085425,\n",
       " 'rmsd_coverage': 42.42424242424242,\n",
       " 'rmsds': array([ 2.61996986,  0.69440703,  3.50404454,  0.88461937, 45.52279745,\n",
       "         3.66938793, 47.99518926,  4.16133147, 47.83618964,  5.60288348,\n",
       "         0.9087475 ,  4.49149369,  0.71433776, 46.4613424 , 46.56852331,\n",
       "        47.02503195,  2.38151062,  0.76549008,  2.17068204, 45.39722534,\n",
       "        45.63641471,  0.74727976,  0.57126011,  0.78743842,  0.48683824,\n",
       "         0.63723265,  0.37161425, 48.25900283,  2.28720202,  3.78342202,\n",
       "        15.00381256,  1.12547083,  0.63123881,  0.52347904,  0.56283426,\n",
       "         0.47702264,  1.71923232,  2.95769795,  4.52544983,  0.95715708,\n",
       "         0.43339723,  7.51691573, 28.20584023,  4.77229931,  1.58202442,\n",
       "         4.25956963,  3.72185848, 46.73570104, 63.86051424,  0.38770505,\n",
       "         0.94509611,  0.47545819, 47.20337365,  4.46165056,  3.60518372,\n",
       "         9.40995634,  1.7434989 , 48.47395401,  3.42986026,  0.46426203,\n",
       "         0.7459678 ,  3.3182639 ,  2.42994749,  2.14787955,  0.73627976,\n",
       "         1.15537001,  0.32503215,  7.24321389, 46.75427216, 46.68011112,\n",
       "         3.02848437,  0.73687043,  6.23217553,  0.34106217, 46.56571588,\n",
       "         3.67469603,  3.12604254, 47.03803294,  0.4245241 ,  0.39479703,\n",
       "         0.58747428,  4.14346779,  5.94324903,  0.34084254,  2.36779453,\n",
       "         4.20534562, 38.3515347 ,  0.33865634,  0.90109504,  2.32737932,\n",
       "         0.8543716 ,  5.47252081,  6.3828194 ,  0.90398917, 37.30540186,\n",
       "         0.79440751,  0.43335897,  1.07893772,  7.34165711])}"
      ]
     },
     "execution_count": 163,
     "metadata": {},
     "output_type": "execute_result"
    }
   ],
   "source": [
    "c"
   ]
  },
  {
   "cell_type": "code",
   "execution_count": 122,
   "metadata": {},
   "outputs": [],
   "source": [
    "import matplotlib.pyplot as plt"
   ]
  },
  {
   "cell_type": "code",
   "execution_count": 123,
   "metadata": {},
   "outputs": [
    {
     "data": {
      "text/plain": [
       "array([ 2.61996986,  0.69440703,  3.50404454,  0.88461937, 45.52279745,\n",
       "        3.66938793, 47.99518926,  4.16133147, 47.83618964,  5.60288348,\n",
       "        0.9087475 ,  4.49149369,  0.71433776, 46.4613424 , 46.56852331,\n",
       "       47.02503195,  2.38151062,  0.76549008,  2.17068204, 45.39722534,\n",
       "       45.63641471,  0.74727976,  0.57126011,  0.78743842,  0.48683824,\n",
       "        0.63723265,  0.37161425, 48.25900283,  2.28720202,  3.78342202,\n",
       "       15.00381256,  1.12547083,  0.63123881,  0.52347904,  0.56283426,\n",
       "        0.47702264,  1.71923232,  2.95769795,  4.52544983,  0.95715708,\n",
       "        0.43339723,  7.51691573, 28.20584023,  4.77229931,  1.58202442,\n",
       "        4.25956963,  3.72185848, 46.73570104, 63.86051424,  0.38770505,\n",
       "        0.94509611,  0.47545819, 47.20337365,  4.46165056,  3.60518372,\n",
       "        9.40995634,  1.7434989 , 48.47395401,  3.42986026,  0.46426203,\n",
       "        0.7459678 ,  3.3182639 ,  2.42994749,  2.14787955,  0.73627976,\n",
       "        1.15537001,  0.32503215,  7.24321389, 46.75427216, 46.68011112,\n",
       "        3.02848437,  0.73687043,  6.23217553,  0.34106217, 46.56571588,\n",
       "        3.67469603,  3.12604254, 47.03803294,  0.4245241 ,  0.39479703,\n",
       "        0.58747428,  4.14346779,  5.94324903,  0.34084254,  2.36779453,\n",
       "        4.20534562, 38.3515347 ,  0.33865634,  0.90109504,  2.32737932,\n",
       "        0.8543716 ,  5.47252081,  6.3828194 ,  0.90398917, 37.30540186,\n",
       "        0.79440751,  0.43335897,  1.07893772,  7.34165711])"
      ]
     },
     "execution_count": 123,
     "metadata": {},
     "output_type": "execute_result"
    }
   ],
   "source": [
    "c['rmsds']"
   ]
  },
  {
   "cell_type": "code",
   "execution_count": 124,
   "metadata": {},
   "outputs": [
    {
     "data": {
      "text/plain": [
       "Text(0, 0.5, 'Frequency')"
      ]
     },
     "execution_count": 124,
     "metadata": {},
     "output_type": "execute_result"
    },
    {
     "data": {
      "image/png": "[encoded data removed]",
      "text/plain": [
       "<Figure size 640x480 with 1 Axes>"
      ]
     },
     "metadata": {},
     "output_type": "display_data"
    }
   ],
   "source": [
    "# show how many rmsds are below 2 and above 2\n",
    "plt.hist(c['rmsds'], bins=50)\n",
    "plt.axvline(x=2, color='r', linestyle='--', label='2.0 RMSD')\n",
    "plt.legend()\n",
    "plt.xlabel('RMSD')\n",
    "plt.ylabel('Frequency')\n",
    "    "
   ]
  },
  {
   "cell_type": "code",
   "execution_count": 125,
   "metadata": {},
   "outputs": [
    {
     "data": {
      "text/plain": [
       "Text(0, 0.5, 'Frequency')"
      ]
     },
     "execution_count": 125,
     "metadata": {},
     "output_type": "execute_result"
    },
    {
     "data": {
      "image/png": "[encoded data removed]",
      "text/plain": [
       "<Figure size 640x480 with 1 Axes>"
      ]
     },
     "metadata": {},
     "output_type": "display_data"
    }
   ],
   "source": [
    "plt.hist(c['rmsds'])\n",
    "\n",
    "\n",
    "plt.xlabel('RMSD')\n",
    "plt.ylabel('Frequency')"
   ]
  },
  {
   "cell_type": "code",
   "execution_count": 632,
   "metadata": {},
   "outputs": [],
   "source": [
    "n =19"
   ]
  },
  {
   "cell_type": "code",
   "execution_count": 690,
   "metadata": {},
   "outputs": [],
   "source": [
    "m1 = df_sub.iloc[n]['rdkit_object']\n",
    "m2 =df_sub.iloc[n]['pred']\n"
   ]
  },
  {
   "cell_type": "code",
   "execution_count": 691,
   "metadata": {},
   "outputs": [
    {
     "data": {
      "image/png": "[encoded data removed]",
      "text/plain": [
       "<rdkit.Chem.rdchem.Mol at 0x7fb42abff5b0>"
      ]
     },
     "execution_count": 691,
     "metadata": {},
     "output_type": "execute_result"
    }
   ],
   "source": [
    "m1"
   ]
  },
  {
   "cell_type": "code",
   "execution_count": 695,
   "metadata": {},
   "outputs": [
    {
     "data": {
      "image/png": "[encoded data removed]",
      "text/plain": [
       "<rdkit.Chem.rdchem.Mol at 0x7fb416b7b8b0>"
      ]
     },
     "execution_count": 695,
     "metadata": {},
     "output_type": "execute_result"
    }
   ],
   "source": [
    "m2"
   ]
  },
  {
   "cell_type": "code",
   "execution_count": 692,
   "metadata": {},
   "outputs": [
    {
     "data": {
      "text/plain": [
       "'COc1cc(OC)nc(C[N-2])n1'"
      ]
     },
     "execution_count": 692,
     "metadata": {},
     "output_type": "execute_result"
    }
   ],
   "source": [
    "dm.to_smiles(m2)"
   ]
  },
  {
   "cell_type": "code",
   "execution_count": 88,
   "metadata": {},
   "outputs": [
    {
     "ename": "NameError",
     "evalue": "name 'm2' is not defined",
     "output_type": "error",
     "traceback": [
      "\u001b[0;31m---------------------------------------------------------------------------\u001b[0m",
      "\u001b[0;31mNameError\u001b[0m                                 Traceback (most recent call last)",
      "Cell \u001b[0;32mIn[88], line 1\u001b[0m\n\u001b[0;32m----> 1\u001b[0m m2 \u001b[38;5;241m=\u001b[39mtransfer_bond_orders(m2,m1)\n",
      "\u001b[0;31mNameError\u001b[0m: name 'm2' is not defined"
     ]
    }
   ],
   "source": [
    "m2 =transfer_bond_orders(m2,m1)"
   ]
  },
  {
   "cell_type": "code",
   "execution_count": 687,
   "metadata": {},
   "outputs": [
    {
     "data": {
      "image/png": "[encoded data removed]",
      "text/plain": [
       "<rdkit.Chem.rdchem.Mol at 0x7fb42abff5b0>"
      ]
     },
     "execution_count": 687,
     "metadata": {},
     "output_type": "execute_result"
    }
   ],
   "source": [
    "m1"
   ]
  },
  {
   "cell_type": "code",
   "execution_count": 688,
   "metadata": {},
   "outputs": [
    {
     "data": {
      "image/png": "[encoded data removed]",
      "text/plain": [
       "<rdkit.Chem.rdchem.Mol at 0x7fb416b7b450>"
      ]
     },
     "execution_count": 688,
     "metadata": {},
     "output_type": "execute_result"
    }
   ],
   "source": [
    "return_clean_mol(m2)"
   ]
  },
  {
   "cell_type": "code",
   "execution_count": 689,
   "metadata": {},
   "outputs": [
    {
     "data": {
      "image/png": "[encoded data removed]",
      "text/plain": [
       "<rdkit.Chem.rdchem.Mol at 0x7fb416b7b290>"
      ]
     },
     "execution_count": 689,
     "metadata": {},
     "output_type": "execute_result"
    }
   ],
   "source": [
    "return_clean_mol(df_test.iloc[n]['Predicted Pose'])"
   ]
  },
  {
   "cell_type": "code",
   "execution_count": null,
   "metadata": {},
   "outputs": [],
   "source": [
    "df_test['Predicted Pose Bond Fixed'] = df_test.apply(lambda x: tb.transfer_bond_orders(x['Predicted Pose'],x['MOL']), axis=1)"
   ]
  },
  {
   "cell_type": "code",
   "execution_count": 44,
   "metadata": {},
   "outputs": [
    {
     "name": "stderr",
     "output_type": "stream",
     "text": [
      "[11:16:48] tetrahedral chirality on atom with <3 or >4 neighbors will be ignored.\n",
      "[11:16:48] tetrahedral chirality on atom with <3 or >4 neighbors will be ignored.\n",
      "[11:16:48] tetrahedral chirality on atom with <3 or >4 neighbors will be ignored.\n",
      "[11:16:48] tetrahedral chirality on atom with <3 or >4 neighbors will be ignored.\n",
      "[11:16:48] tetrahedral chirality on atom with <3 or >4 neighbors will be ignored.\n",
      "[11:16:48] tetrahedral chirality on atom with <3 or >4 neighbors will be ignored.\n",
      "[11:16:48] tetrahedral chirality on atom with <3 or >4 neighbors will be ignored.\n",
      "[11:16:48] tetrahedral chirality on atom with <3 or >4 neighbors will be ignored.\n",
      "[11:16:48] tetrahedral chirality on atom with <3 or >4 neighbors will be ignored.\n",
      "[11:16:48] tetrahedral chirality on atom with <3 or >4 neighbors will be ignored.\n",
      "[11:16:48] tetrahedral chirality on atom with <3 or >4 neighbors will be ignored.\n",
      "[11:16:48] tetrahedral chirality on atom with <3 or >4 neighbors will be ignored.\n",
      "[11:16:48] tetrahedral chirality on atom with <3 or >4 neighbors will be ignored.\n",
      "[11:16:48] tetrahedral chirality on atom with <3 or >4 neighbors will be ignored.\n",
      "[11:16:48] tetrahedral chirality on atom with <3 or >4 neighbors will be ignored.\n",
      "[11:16:48] tetrahedral chirality on atom with <3 or >4 neighbors will be ignored.\n",
      "[11:16:48] tetrahedral chirality on atom with <3 or >4 neighbors will be ignored.\n"
     ]
    }
   ],
   "source": [
    "df_test['match'] = df_test.apply(lambda x: dm.same_mol(x['MOL'], x['Predicted Pose Bond Fixed']), axis=1)"
   ]
  },
  {
   "cell_type": "code",
   "execution_count": 45,
   "metadata": {},
   "outputs": [],
   "source": [
    "# save df_test['Predicted Pose Bond Fixed'] into sdfs\n",
    "for i in range(195):\n",
    "    Chem.MolToMolFile(df_test.iloc[i]['Predicted Pose Bond Fixed'], test_ligand_outputs_bond_fixed / f'ligand_{i}.sdf')"
   ]
  },
  {
   "cell_type": "code",
   "execution_count": 38,
   "metadata": {},
   "outputs": [],
   "source": [
    "df_test['Random Conformer'] = df_test['MOL'].apply(lambda x: dm.conformers.generate(x, n_confs=1))"
   ]
  },
  {
   "cell_type": "code",
   "execution_count": 39,
   "metadata": {},
   "outputs": [
    {
     "name": "stdout",
     "output_type": "stream",
     "text": [
      "0\n",
      "1\n",
      "2\n",
      "3\n",
      "4\n",
      "5\n",
      "6\n",
      "7\n",
      "8\n",
      "9\n",
      "10\n",
      "11\n",
      "12\n",
      "13\n",
      "14\n",
      "15\n",
      "16\n",
      "17\n",
      "18\n",
      "19\n",
      "20\n",
      "21\n",
      "22\n",
      "23\n",
      "24\n",
      "25\n",
      "26\n",
      "27\n",
      "28\n",
      "29\n",
      "30\n",
      "31\n",
      "32\n",
      "33\n",
      "34\n",
      "35\n",
      "36\n",
      "37\n",
      "38\n",
      "39\n",
      "40\n",
      "41\n",
      "42\n",
      "43\n",
      "44\n",
      "45\n",
      "46\n",
      "47\n",
      "48\n",
      "49\n",
      "50\n",
      "51\n",
      "52\n",
      "53\n",
      "54\n",
      "55\n",
      "56\n",
      "57\n",
      "58\n",
      "59\n",
      "60\n",
      "61\n",
      "62\n",
      "63\n",
      "64\n",
      "65\n",
      "66\n",
      "67\n",
      "68\n",
      "69\n",
      "70\n",
      "71\n",
      "72\n",
      "73\n",
      "74\n",
      "75\n",
      "76\n",
      "77\n",
      "78\n",
      "79\n",
      "80\n",
      "81\n",
      "82\n",
      "83\n",
      "84\n",
      "85\n",
      "86\n",
      "87\n",
      "88\n",
      "89\n",
      "90\n",
      "91\n",
      "92\n",
      "93\n",
      "94\n",
      "95\n",
      "96\n",
      "97\n",
      "98\n",
      "99\n",
      "100\n",
      "101\n",
      "102\n",
      "103\n",
      "104\n",
      "105\n",
      "106\n",
      "107\n",
      "108\n",
      "109\n",
      "110\n",
      "111\n",
      "112\n",
      "113\n",
      "114\n",
      "115\n",
      "116\n",
      "117\n",
      "118\n",
      "119\n",
      "120\n",
      "121\n",
      "122\n",
      "123\n",
      "124\n",
      "125\n",
      "126\n",
      "127\n",
      "128\n",
      "129\n",
      "130\n",
      "131\n",
      "132\n",
      "133\n",
      "134\n",
      "135\n",
      "136\n",
      "137\n",
      "138\n",
      "139\n",
      "140\n",
      "141\n",
      "142\n",
      "143\n",
      "144\n",
      "145\n",
      "146\n",
      "147\n",
      "148\n",
      "149\n",
      "150\n",
      "151\n",
      "152\n",
      "153\n",
      "154\n",
      "155\n",
      "156\n",
      "157\n",
      "158\n",
      "159\n",
      "160\n",
      "161\n",
      "162\n",
      "163\n",
      "164\n",
      "165\n",
      "166\n",
      "167\n",
      "168\n",
      "169\n",
      "170\n",
      "171\n",
      "172\n",
      "173\n",
      "174\n",
      "175\n",
      "176\n",
      "177\n",
      "178\n",
      "179\n",
      "180\n",
      "181\n",
      "182\n",
      "183\n",
      "184\n",
      "185\n",
      "186\n",
      "187\n",
      "188\n",
      "189\n",
      "190\n",
      "191\n",
      "192\n",
      "193\n",
      "194\n"
     ]
    }
   ],
   "source": [
    "c =eval_poses(df_test['Predicted Pose Bond Fixed'], df_test['Random Conformer'])"
   ]
  },
  {
   "cell_type": "code",
   "execution_count": 41,
   "metadata": {},
   "outputs": [],
   "source": [
    "import matplotlib.pyplot as plt"
   ]
  },
  {
   "cell_type": "code",
   "execution_count": 44,
   "metadata": {},
   "outputs": [
    {
     "name": "stderr",
     "output_type": "stream",
     "text": [
      "/tmp/ipykernel_1108321/3140735348.py:4: UserWarning: No artists with labels found to put in legend.  Note that artists whose label start with an underscore are ignored when legend() is called with no argument.\n",
      "  plt.legend()\n"
     ]
    },
    {
     "data": {
      "text/plain": [
       "Text(0, 0.5, 'Frequency')"
      ]
     },
     "execution_count": 44,
     "metadata": {},
     "output_type": "execute_result"
    },
    {
     "data": {
      "image/png": "[encoded data removed]",
      "text/plain": [
       "<Figure size 640x480 with 1 Axes>"
      ]
     },
     "metadata": {},
     "output_type": "display_data"
    }
   ],
   "source": [
    "# show how many rmsds are below 2 and above 2\n",
    "plt.hist(c['rmsds'], bins=5)\n",
    "# plt.axvline(x=2, color='r', linestyle='--', label='2.0 RMSD')\n",
    "plt.legend()\n",
    "plt.xlabel('RMSD')\n",
    "plt.ylabel('Frequency')"
   ]
  },
  {
   "cell_type": "code",
   "execution_count": null,
   "metadata": {},
   "outputs": [],
   "source": [
    "plt."
   ]
  },
  {
   "cell_type": "code",
   "execution_count": 153,
   "metadata": {},
   "outputs": [
    {
     "data": {
      "text/plain": [
       "match\n",
       "True     178\n",
       "False     17\n",
       "Name: count, dtype: int64"
      ]
     },
     "execution_count": 153,
     "metadata": {},
     "output_type": "execute_result"
    }
   ],
   "source": [
    "df_test['match'].value_counts()"
   ]
  },
  {
   "cell_type": "code",
   "execution_count": null,
   "metadata": {},
   "outputs": [],
   "source": [
    "df_test"
   ]
  },
  {
   "cell_type": "code",
   "execution_count": null,
   "metadata": {},
   "outputs": [
    {
     "ename": "KeyError",
     "evalue": "'match'",
     "output_type": "error",
     "traceback": [
      "\u001b[0;31m---------------------------------------------------------------------------\u001b[0m",
      "\u001b[0;31mKeyError\u001b[0m                                  Traceback (most recent call last)",
      "File \u001b[0;32m~/.conda/envs/boltzswan/lib/python3.12/site-packages/pandas/core/indexes/base.py:3805\u001b[0m, in \u001b[0;36mIndex.get_loc\u001b[0;34m(self, key)\u001b[0m\n\u001b[1;32m   3804\u001b[0m \u001b[38;5;28;01mtry\u001b[39;00m:\n\u001b[0;32m-> 3805\u001b[0m     \u001b[38;5;28;01mreturn\u001b[39;00m \u001b[38;5;28mself\u001b[39m\u001b[38;5;241m.\u001b[39m_engine\u001b[38;5;241m.\u001b[39mget_loc(casted_key)\n\u001b[1;32m   3806\u001b[0m \u001b[38;5;28;01mexcept\u001b[39;00m \u001b[38;5;167;01mKeyError\u001b[39;00m \u001b[38;5;28;01mas\u001b[39;00m err:\n",
      "File \u001b[0;32mindex.pyx:167\u001b[0m, in \u001b[0;36mpandas._libs.index.IndexEngine.get_loc\u001b[0;34m()\u001b[0m\n",
      "File \u001b[0;32mindex.pyx:196\u001b[0m, in \u001b[0;36mpandas._libs.index.IndexEngine.get_loc\u001b[0;34m()\u001b[0m\n",
      "File \u001b[0;32mpandas/_libs/hashtable_class_helper.pxi:7081\u001b[0m, in \u001b[0;36mpandas._libs.hashtable.PyObjectHashTable.get_item\u001b[0;34m()\u001b[0m\n",
      "File \u001b[0;32mpandas/_libs/hashtable_class_helper.pxi:7089\u001b[0m, in \u001b[0;36mpandas._libs.hashtable.PyObjectHashTable.get_item\u001b[0;34m()\u001b[0m\n",
      "\u001b[0;31mKeyError\u001b[0m: 'match'",
      "\nThe above exception was the direct cause of the following exception:\n",
      "\u001b[0;31mKeyError\u001b[0m                                  Traceback (most recent call last)",
      "Cell \u001b[0;32mIn[47], line 1\u001b[0m\n\u001b[0;32m----> 1\u001b[0m df_test[\u001b[38;5;124m'\u001b[39m\u001b[38;5;124mmatch\u001b[39m\u001b[38;5;124m'\u001b[39m]\u001b[38;5;241m.\u001b[39mvalue_counts()\n",
      "File \u001b[0;32m~/.conda/envs/boltzswan/lib/python3.12/site-packages/pandas/core/frame.py:4102\u001b[0m, in \u001b[0;36mDataFrame.__getitem__\u001b[0;34m(self, key)\u001b[0m\n\u001b[1;32m   4100\u001b[0m \u001b[38;5;28;01mif\u001b[39;00m \u001b[38;5;28mself\u001b[39m\u001b[38;5;241m.\u001b[39mcolumns\u001b[38;5;241m.\u001b[39mnlevels \u001b[38;5;241m>\u001b[39m \u001b[38;5;241m1\u001b[39m:\n\u001b[1;32m   4101\u001b[0m     \u001b[38;5;28;01mreturn\u001b[39;00m \u001b[38;5;28mself\u001b[39m\u001b[38;5;241m.\u001b[39m_getitem_multilevel(key)\n\u001b[0;32m-> 4102\u001b[0m indexer \u001b[38;5;241m=\u001b[39m \u001b[38;5;28mself\u001b[39m\u001b[38;5;241m.\u001b[39mcolumns\u001b[38;5;241m.\u001b[39mget_loc(key)\n\u001b[1;32m   4103\u001b[0m \u001b[38;5;28;01mif\u001b[39;00m is_integer(indexer):\n\u001b[1;32m   4104\u001b[0m     indexer \u001b[38;5;241m=\u001b[39m [indexer]\n",
      "File \u001b[0;32m~/.conda/envs/boltzswan/lib/python3.12/site-packages/pandas/core/indexes/base.py:3812\u001b[0m, in \u001b[0;36mIndex.get_loc\u001b[0;34m(self, key)\u001b[0m\n\u001b[1;32m   3807\u001b[0m     \u001b[38;5;28;01mif\u001b[39;00m \u001b[38;5;28misinstance\u001b[39m(casted_key, \u001b[38;5;28mslice\u001b[39m) \u001b[38;5;129;01mor\u001b[39;00m (\n\u001b[1;32m   3808\u001b[0m         \u001b[38;5;28misinstance\u001b[39m(casted_key, abc\u001b[38;5;241m.\u001b[39mIterable)\n\u001b[1;32m   3809\u001b[0m         \u001b[38;5;129;01mand\u001b[39;00m \u001b[38;5;28many\u001b[39m(\u001b[38;5;28misinstance\u001b[39m(x, \u001b[38;5;28mslice\u001b[39m) \u001b[38;5;28;01mfor\u001b[39;00m x \u001b[38;5;129;01min\u001b[39;00m casted_key)\n\u001b[1;32m   3810\u001b[0m     ):\n\u001b[1;32m   3811\u001b[0m         \u001b[38;5;28;01mraise\u001b[39;00m InvalidIndexError(key)\n\u001b[0;32m-> 3812\u001b[0m     \u001b[38;5;28;01mraise\u001b[39;00m \u001b[38;5;167;01mKeyError\u001b[39;00m(key) \u001b[38;5;28;01mfrom\u001b[39;00m\u001b[38;5;250m \u001b[39m\u001b[38;5;21;01merr\u001b[39;00m\n\u001b[1;32m   3813\u001b[0m \u001b[38;5;28;01mexcept\u001b[39;00m \u001b[38;5;167;01mTypeError\u001b[39;00m:\n\u001b[1;32m   3814\u001b[0m     \u001b[38;5;66;03m# If we have a listlike key, _check_indexing_error will raise\u001b[39;00m\n\u001b[1;32m   3815\u001b[0m     \u001b[38;5;66;03m#  InvalidIndexError. Otherwise we fall through and re-raise\u001b[39;00m\n\u001b[1;32m   3816\u001b[0m     \u001b[38;5;66;03m#  the TypeError.\u001b[39;00m\n\u001b[1;32m   3817\u001b[0m     \u001b[38;5;28mself\u001b[39m\u001b[38;5;241m.\u001b[39m_check_indexing_error(key)\n",
      "\u001b[0;31mKeyError\u001b[0m: 'match'"
     ]
    }
   ],
   "source": []
  },
  {
   "cell_type": "code",
   "execution_count": 66,
   "metadata": {},
   "outputs": [],
   "source": [
    "# overwrite predicted pose bond inforation with MOL bond information\n"
   ]
  },
  {
   "cell_type": "code",
   "execution_count": null,
   "metadata": {},
   "outputs": [],
   "source": [
    "df[]"
   ]
  },
  {
   "cell_type": "code",
   "execution_count": null,
   "metadata": {},
   "outputs": [
    {
     "name": "stderr",
     "output_type": "stream",
     "text": [
      "[17:16:47] tetrahedral chirality on atom with <3 or >4 neighbors will be ignored.\n",
      "[17:16:47] Can't kekulize mol.  Unkekulized atoms: 18 19 20 25 26\n"
     ]
    },
    {
     "ename": "KekulizeException",
     "evalue": "Can't kekulize mol.  Unkekulized atoms: 18 19 20 25 26",
     "output_type": "error",
     "traceback": [
      "\u001b[0;31m---------------------------------------------------------------------------\u001b[0m",
      "\u001b[0;31mKekulizeException\u001b[0m                         Traceback (most recent call last)",
      "Cell \u001b[0;32mIn[28], line 1\u001b[0m\n\u001b[0;32m----> 1\u001b[0m df_test[\u001b[38;5;124m'\u001b[39m\u001b[38;5;124mmatch\u001b[39m\u001b[38;5;124m'\u001b[39m] \u001b[38;5;241m=\u001b[39m df_test\u001b[38;5;241m.\u001b[39mapply(\u001b[38;5;28;01mlambda\u001b[39;00m x: dm\u001b[38;5;241m.\u001b[39msame_mol(x[\u001b[38;5;124m'\u001b[39m\u001b[38;5;124mMOL\u001b[39m\u001b[38;5;124m'\u001b[39m], x[\u001b[38;5;124m'\u001b[39m\u001b[38;5;124mPredicted Pose\u001b[39m\u001b[38;5;124m'\u001b[39m]), axis\u001b[38;5;241m=\u001b[39m\u001b[38;5;241m1\u001b[39m)\n\u001b[1;32m      2\u001b[0m df_test[\u001b[38;5;124m'\u001b[39m\u001b[38;5;124mmatch\u001b[39m\u001b[38;5;124m'\u001b[39m]\u001b[38;5;241m.\u001b[39mvalue_counts()\n",
      "File \u001b[0;32m~/.conda/envs/boltzswan/lib/python3.12/site-packages/pandas/core/frame.py:10374\u001b[0m, in \u001b[0;36mDataFrame.apply\u001b[0;34m(self, func, axis, raw, result_type, args, by_row, engine, engine_kwargs, **kwargs)\u001b[0m\n\u001b[1;32m  10360\u001b[0m \u001b[38;5;28;01mfrom\u001b[39;00m\u001b[38;5;250m \u001b[39m\u001b[38;5;21;01mpandas\u001b[39;00m\u001b[38;5;21;01m.\u001b[39;00m\u001b[38;5;21;01mcore\u001b[39;00m\u001b[38;5;21;01m.\u001b[39;00m\u001b[38;5;21;01mapply\u001b[39;00m\u001b[38;5;250m \u001b[39m\u001b[38;5;28;01mimport\u001b[39;00m frame_apply\n\u001b[1;32m  10362\u001b[0m op \u001b[38;5;241m=\u001b[39m frame_apply(\n\u001b[1;32m  10363\u001b[0m     \u001b[38;5;28mself\u001b[39m,\n\u001b[1;32m  10364\u001b[0m     func\u001b[38;5;241m=\u001b[39mfunc,\n\u001b[0;32m   (...)\u001b[0m\n\u001b[1;32m  10372\u001b[0m     kwargs\u001b[38;5;241m=\u001b[39mkwargs,\n\u001b[1;32m  10373\u001b[0m )\n\u001b[0;32m> 10374\u001b[0m \u001b[38;5;28;01mreturn\u001b[39;00m op\u001b[38;5;241m.\u001b[39mapply()\u001b[38;5;241m.\u001b[39m__finalize__(\u001b[38;5;28mself\u001b[39m, method\u001b[38;5;241m=\u001b[39m\u001b[38;5;124m\"\u001b[39m\u001b[38;5;124mapply\u001b[39m\u001b[38;5;124m\"\u001b[39m)\n",
      "File \u001b[0;32m~/.conda/envs/boltzswan/lib/python3.12/site-packages/pandas/core/apply.py:916\u001b[0m, in \u001b[0;36mFrameApply.apply\u001b[0;34m(self)\u001b[0m\n\u001b[1;32m    913\u001b[0m \u001b[38;5;28;01melif\u001b[39;00m \u001b[38;5;28mself\u001b[39m\u001b[38;5;241m.\u001b[39mraw:\n\u001b[1;32m    914\u001b[0m     \u001b[38;5;28;01mreturn\u001b[39;00m \u001b[38;5;28mself\u001b[39m\u001b[38;5;241m.\u001b[39mapply_raw(engine\u001b[38;5;241m=\u001b[39m\u001b[38;5;28mself\u001b[39m\u001b[38;5;241m.\u001b[39mengine, engine_kwargs\u001b[38;5;241m=\u001b[39m\u001b[38;5;28mself\u001b[39m\u001b[38;5;241m.\u001b[39mengine_kwargs)\n\u001b[0;32m--> 916\u001b[0m \u001b[38;5;28;01mreturn\u001b[39;00m \u001b[38;5;28mself\u001b[39m\u001b[38;5;241m.\u001b[39mapply_standard()\n",
      "File \u001b[0;32m~/.conda/envs/boltzswan/lib/python3.12/site-packages/pandas/core/apply.py:1063\u001b[0m, in \u001b[0;36mFrameApply.apply_standard\u001b[0;34m(self)\u001b[0m\n\u001b[1;32m   1061\u001b[0m \u001b[38;5;28;01mdef\u001b[39;00m\u001b[38;5;250m \u001b[39m\u001b[38;5;21mapply_standard\u001b[39m(\u001b[38;5;28mself\u001b[39m):\n\u001b[1;32m   1062\u001b[0m     \u001b[38;5;28;01mif\u001b[39;00m \u001b[38;5;28mself\u001b[39m\u001b[38;5;241m.\u001b[39mengine \u001b[38;5;241m==\u001b[39m \u001b[38;5;124m\"\u001b[39m\u001b[38;5;124mpython\u001b[39m\u001b[38;5;124m\"\u001b[39m:\n\u001b[0;32m-> 1063\u001b[0m         results, res_index \u001b[38;5;241m=\u001b[39m \u001b[38;5;28mself\u001b[39m\u001b[38;5;241m.\u001b[39mapply_series_generator()\n\u001b[1;32m   1064\u001b[0m     \u001b[38;5;28;01melse\u001b[39;00m:\n\u001b[1;32m   1065\u001b[0m         results, res_index \u001b[38;5;241m=\u001b[39m \u001b[38;5;28mself\u001b[39m\u001b[38;5;241m.\u001b[39mapply_series_numba()\n",
      "File \u001b[0;32m~/.conda/envs/boltzswan/lib/python3.12/site-packages/pandas/core/apply.py:1081\u001b[0m, in \u001b[0;36mFrameApply.apply_series_generator\u001b[0;34m(self)\u001b[0m\n\u001b[1;32m   1078\u001b[0m \u001b[38;5;28;01mwith\u001b[39;00m option_context(\u001b[38;5;124m\"\u001b[39m\u001b[38;5;124mmode.chained_assignment\u001b[39m\u001b[38;5;124m\"\u001b[39m, \u001b[38;5;28;01mNone\u001b[39;00m):\n\u001b[1;32m   1079\u001b[0m     \u001b[38;5;28;01mfor\u001b[39;00m i, v \u001b[38;5;129;01min\u001b[39;00m \u001b[38;5;28menumerate\u001b[39m(series_gen):\n\u001b[1;32m   1080\u001b[0m         \u001b[38;5;66;03m# ignore SettingWithCopy here in case the user mutates\u001b[39;00m\n\u001b[0;32m-> 1081\u001b[0m         results[i] \u001b[38;5;241m=\u001b[39m \u001b[38;5;28mself\u001b[39m\u001b[38;5;241m.\u001b[39mfunc(v, \u001b[38;5;241m*\u001b[39m\u001b[38;5;28mself\u001b[39m\u001b[38;5;241m.\u001b[39margs, \u001b[38;5;241m*\u001b[39m\u001b[38;5;241m*\u001b[39m\u001b[38;5;28mself\u001b[39m\u001b[38;5;241m.\u001b[39mkwargs)\n\u001b[1;32m   1082\u001b[0m         \u001b[38;5;28;01mif\u001b[39;00m \u001b[38;5;28misinstance\u001b[39m(results[i], ABCSeries):\n\u001b[1;32m   1083\u001b[0m             \u001b[38;5;66;03m# If we have a view on v, we need to make a copy because\u001b[39;00m\n\u001b[1;32m   1084\u001b[0m             \u001b[38;5;66;03m#  series_generator will swap out the underlying data\u001b[39;00m\n\u001b[1;32m   1085\u001b[0m             results[i] \u001b[38;5;241m=\u001b[39m results[i]\u001b[38;5;241m.\u001b[39mcopy(deep\u001b[38;5;241m=\u001b[39m\u001b[38;5;28;01mFalse\u001b[39;00m)\n",
      "Cell \u001b[0;32mIn[28], line 1\u001b[0m, in \u001b[0;36m<lambda>\u001b[0;34m(x)\u001b[0m\n\u001b[0;32m----> 1\u001b[0m df_test[\u001b[38;5;124m'\u001b[39m\u001b[38;5;124mmatch\u001b[39m\u001b[38;5;124m'\u001b[39m] \u001b[38;5;241m=\u001b[39m df_test\u001b[38;5;241m.\u001b[39mapply(\u001b[38;5;28;01mlambda\u001b[39;00m x: dm\u001b[38;5;241m.\u001b[39msame_mol(x[\u001b[38;5;124m'\u001b[39m\u001b[38;5;124mMOL\u001b[39m\u001b[38;5;124m'\u001b[39m], x[\u001b[38;5;124m'\u001b[39m\u001b[38;5;124mPredicted Pose\u001b[39m\u001b[38;5;124m'\u001b[39m]), axis\u001b[38;5;241m=\u001b[39m\u001b[38;5;241m1\u001b[39m)\n\u001b[1;32m      2\u001b[0m df_test[\u001b[38;5;124m'\u001b[39m\u001b[38;5;124mmatch\u001b[39m\u001b[38;5;124m'\u001b[39m]\u001b[38;5;241m.\u001b[39mvalue_counts()\n",
      "File \u001b[0;32m~/.conda/envs/boltzswan/lib/python3.12/site-packages/datamol/mol.py:147\u001b[0m, in \u001b[0;36msame_mol\u001b[0;34m(mol1, mol2, use_non_standard_inchikey)\u001b[0m\n\u001b[1;32m    145\u001b[0m     \u001b[38;5;28;01mreturn\u001b[39;00m to_inchikey_non_standard(mol1) \u001b[38;5;241m==\u001b[39m to_inchikey_non_standard(mol2)\n\u001b[1;32m    146\u001b[0m \u001b[38;5;28;01melse\u001b[39;00m:\n\u001b[0;32m--> 147\u001b[0m     \u001b[38;5;28;01mreturn\u001b[39;00m to_inchikey(mol1) \u001b[38;5;241m==\u001b[39m to_inchikey(mol2)\n",
      "File \u001b[0;32m~/.conda/envs/boltzswan/lib/python3.12/site-packages/datamol/convert.py:273\u001b[0m, in \u001b[0;36mto_inchikey\u001b[0;34m(mol)\u001b[0m\n\u001b[1;32m    270\u001b[0m \u001b[38;5;28;01mif\u001b[39;00m mol \u001b[38;5;129;01mis\u001b[39;00m \u001b[38;5;28;01mNone\u001b[39;00m:\n\u001b[1;32m    271\u001b[0m     \u001b[38;5;28;01mreturn\u001b[39;00m \u001b[38;5;28;01mNone\u001b[39;00m\n\u001b[0;32m--> 273\u001b[0m inchikey \u001b[38;5;241m=\u001b[39m Chem\u001b[38;5;241m.\u001b[39mMolToInchiKey(mol)\n\u001b[1;32m    274\u001b[0m \u001b[38;5;28;01mif\u001b[39;00m \u001b[38;5;129;01mnot\u001b[39;00m inchikey:\n\u001b[1;32m    275\u001b[0m     \u001b[38;5;28;01mreturn\u001b[39;00m \u001b[38;5;28;01mNone\u001b[39;00m\n",
      "File \u001b[0;32m~/.conda/envs/boltzswan/lib/python3.12/site-packages/rdkit/Chem/inchi.py:233\u001b[0m, in \u001b[0;36mMolToInchiKey\u001b[0;34m(mol, options)\u001b[0m\n\u001b[1;32m    227\u001b[0m \u001b[38;5;28;01mdef\u001b[39;00m\u001b[38;5;250m \u001b[39m\u001b[38;5;21mMolToInchiKey\u001b[39m(mol, options\u001b[38;5;241m=\u001b[39m\u001b[38;5;124m\"\u001b[39m\u001b[38;5;124m\"\u001b[39m):\n\u001b[1;32m    228\u001b[0m \u001b[38;5;250m  \u001b[39m\u001b[38;5;124;03m\"\"\"Returns the standard InChI key for a molecule\u001b[39;00m\n\u001b[1;32m    229\u001b[0m \n\u001b[1;32m    230\u001b[0m \u001b[38;5;124;03m    Returns:\u001b[39;00m\n\u001b[1;32m    231\u001b[0m \u001b[38;5;124;03m    the standard InChI key returned by InChI API for the input molecule\u001b[39;00m\n\u001b[1;32m    232\u001b[0m \u001b[38;5;124;03m    \"\"\"\u001b[39;00m\n\u001b[0;32m--> 233\u001b[0m   \u001b[38;5;28;01mreturn\u001b[39;00m rdinchi\u001b[38;5;241m.\u001b[39mMolToInchiKey(mol, options)\n",
      "\u001b[0;31mKekulizeException\u001b[0m: Can't kekulize mol.  Unkekulized atoms: 18 19 20 25 26"
     ]
    }
   ],
   "source": [
    "df_test['match'] = df_test.apply(lambda x: dm.same_mol(x['MOL'], x['Predicted Pose']), axis=1)\n",
    "df_test['match'].value_counts()\n"
   ]
  },
  {
   "cell_type": "code",
   "execution_count": 252,
   "metadata": {},
   "outputs": [],
   "source": [
    "df_subset = df.iloc[:99]"
   ]
  },
  {
   "cell_type": "code",
   "execution_count": 254,
   "metadata": {},
   "outputs": [
    {
     "name": "stderr",
     "output_type": "stream",
     "text": [
      "/tmp/ipykernel_906792/1158412970.py:1: SettingWithCopyWarning: \n",
      "A value is trying to be set on a copy of a slice from a DataFrame.\n",
      "Try using .loc[row_indexer,col_indexer] = value instead\n",
      "\n",
      "See the caveats in the documentation: https://pandas.pydata.org/pandas-docs/stable/user_guide/indexing.html#returning-a-view-versus-a-copy\n",
      "  df_subset['Predicted'] = mol\n"
     ]
    }
   ],
   "source": [
    "df_subset['Predicted'] = mol"
   ]
  },
  {
   "cell_type": "code",
   "execution_count": 48,
   "metadata": {},
   "outputs": [],
   "source": [
    "df_test['Sample'] = df_test['MOL'].apply(lambda x:  dm.conformers.generate(x, n_confs=1))"
   ]
  },
  {
   "cell_type": "code",
   "execution_count": 61,
   "metadata": {},
   "outputs": [
    {
     "name": "stdout",
     "output_type": "stream",
     "text": [
      "0\n",
      "1\n",
      "2\n",
      "3\n",
      "4\n",
      "5\n",
      "6\n",
      "7\n",
      "8\n",
      "9\n",
      "10\n",
      "11\n",
      "12\n",
      "13\n",
      "14\n",
      "15\n",
      "16\n",
      "17\n",
      "18\n",
      "19\n",
      "20\n",
      "21\n",
      "22\n",
      "23\n",
      "24\n",
      "25\n",
      "26\n",
      "27\n",
      "28\n",
      "29\n",
      "30\n",
      "31\n",
      "32\n",
      "33\n",
      "34\n",
      "35\n",
      "36\n",
      "37\n",
      "38\n",
      "39\n",
      "40\n",
      "41\n",
      "42\n",
      "43\n",
      "44\n",
      "45\n",
      "46\n",
      "47\n",
      "48\n",
      "49\n",
      "50\n",
      "51\n",
      "52\n",
      "53\n",
      "54\n",
      "55\n",
      "56\n",
      "57\n",
      "58\n",
      "59\n",
      "60\n",
      "61\n",
      "62\n",
      "63\n",
      "64\n",
      "65\n",
      "66\n",
      "67\n",
      "68\n",
      "69\n",
      "70\n",
      "71\n",
      "72\n",
      "73\n",
      "74\n",
      "75\n",
      "76\n",
      "77\n",
      "78\n",
      "79\n",
      "80\n",
      "81\n",
      "82\n",
      "83\n",
      "84\n",
      "85\n",
      "86\n",
      "87\n",
      "88\n",
      "89\n",
      "90\n",
      "91\n",
      "92\n",
      "93\n",
      "94\n",
      "95\n",
      "96\n",
      "97\n",
      "98\n",
      "99\n",
      "100\n",
      "101\n",
      "102\n",
      "103\n",
      "104\n",
      "105\n",
      "106\n",
      "107\n",
      "108\n",
      "109\n",
      "110\n",
      "111\n",
      "112\n",
      "113\n",
      "114\n",
      "115\n",
      "116\n",
      "117\n",
      "118\n",
      "119\n",
      "120\n",
      "121\n",
      "122\n",
      "123\n",
      "124\n",
      "125\n",
      "126\n",
      "127\n",
      "128\n",
      "129\n",
      "130\n",
      "131\n",
      "132\n",
      "133\n",
      "134\n",
      "135\n",
      "136\n",
      "137\n",
      "138\n",
      "139\n",
      "140\n",
      "141\n",
      "142\n",
      "143\n",
      "144\n",
      "145\n",
      "146\n",
      "147\n",
      "148\n",
      "149\n",
      "150\n",
      "151\n",
      "152\n",
      "153\n",
      "154\n",
      "155\n",
      "156\n",
      "157\n",
      "158\n",
      "159\n",
      "160\n",
      "161\n",
      "162\n",
      "163\n",
      "164\n",
      "165\n",
      "166\n",
      "167\n",
      "168\n",
      "169\n",
      "170\n",
      "171\n",
      "172\n",
      "173\n",
      "174\n",
      "175\n",
      "176\n",
      "177\n",
      "178\n",
      "179\n",
      "180\n",
      "181\n",
      "182\n",
      "183\n",
      "184\n",
      "185\n",
      "186\n",
      "187\n",
      "188\n",
      "189\n",
      "190\n",
      "191\n",
      "192\n",
      "193\n",
      "194\n"
     ]
    },
    {
     "data": {
      "text/plain": [
       "{'rmsd_mean': 24.315147101079052,\n",
       " 'rmsd_min': 22.30890413911456,\n",
       " 'rmsd_q1': 23.84537353382538,\n",
       " 'rmsd_median': 24.3517729256532,\n",
       " 'rmsd_q3': 24.809173194895948,\n",
       " 'rmsd_max': 27.706277940170242,\n",
       " 'rmsd_coverage': 0.0}"
      ]
     },
     "execution_count": 61,
     "metadata": {},
     "output_type": "execute_result"
    }
   ],
   "source": [
    "eval_poses(df_test['Predicted Pose'], df_test['Sample'])"
   ]
  },
  {
   "cell_type": "code",
   "execution_count": 154,
   "metadata": {},
   "outputs": [],
   "source": [
    "def serialize_rdkit_mol(mol: Chem.Mol): \n",
    "    props = Chem.PropertyPickleOptions.AllProps\n",
    "    mol_bytes = mol.ToBinary(props)\n",
    "    return base64.b64encode(mol_bytes).decode('ascii')  \n",
    "\n",
    "# y_pred_serialized = [serialize_rdkit_mol(mol) for mol in y_pred]"
   ]
  },
  {
   "cell_type": "code",
   "execution_count": 26,
   "metadata": {},
   "outputs": [
    {
     "name": "stderr",
     "output_type": "stream",
     "text": [
      "[20:57:41] predicted: Warning - no explicit hydrogens in mol2 file but needed for formal charge estimation.\n",
      "[20:57:41] predicted: Warning - no explicit hydrogens in mol2 file but needed for formal charge estimation.\n",
      "[20:57:41] predicted: Warning - no explicit hydrogens in mol2 file but needed for formal charge estimation.\n",
      "[20:57:41] predicted: Warning - no explicit hydrogens in mol2 file but needed for formal charge estimation.\n",
      "[20:57:41] predicted: Warning - no explicit hydrogens in mol2 file but needed for formal charge estimation.\n",
      "[20:57:41] predicted: Warning - no explicit hydrogens in mol2 file but needed for formal charge estimation.\n",
      "[20:57:41] predicted: Warning - no explicit hydrogens in mol2 file but needed for formal charge estimation.\n",
      "[20:57:41] predicted: Warning - no explicit hydrogens in mol2 file but needed for formal charge estimation.\n",
      "[20:57:42] predicted: Warning - no explicit hydrogens in mol2 file but needed for formal charge estimation.\n",
      "[20:57:42] predicted: Warning - no explicit hydrogens in mol2 file but needed for formal charge estimation.\n",
      "[20:57:42] predicted: Warning - no explicit hydrogens in mol2 file but needed for formal charge estimation.\n",
      "[20:57:42] predicted: Warning - no explicit hydrogens in mol2 file but needed for formal charge estimation.\n",
      "[20:57:42] predicted: Warning - no explicit hydrogens in mol2 file but needed for formal charge estimation.\n",
      "[20:57:42] predicted: Warning - no explicit hydrogens in mol2 file but needed for formal charge estimation.\n",
      "[20:57:42] predicted: Warning - no explicit hydrogens in mol2 file but needed for formal charge estimation.\n",
      "[20:57:42] predicted: Warning - no explicit hydrogens in mol2 file but needed for formal charge estimation.\n",
      "[20:57:42] predicted: Warning - no explicit hydrogens in mol2 file but needed for formal charge estimation.\n",
      "[20:57:42] predicted: Warning - no explicit hydrogens in mol2 file but needed for formal charge estimation.\n",
      "[20:57:42] predicted: Warning - no explicit hydrogens in mol2 file but needed for formal charge estimation.\n",
      "[20:57:42] predicted: Warning - no explicit hydrogens in mol2 file but needed for formal charge estimation.\n",
      "[20:57:42] predicted: Warning - no explicit hydrogens in mol2 file but needed for formal charge estimation.\n",
      "[20:57:42] predicted: Warning - no explicit hydrogens in mol2 file but needed for formal charge estimation.\n",
      "[20:57:42] predicted: Warning - no explicit hydrogens in mol2 file but needed for formal charge estimation.\n",
      "[20:57:42] predicted: Warning - no explicit hydrogens in mol2 file but needed for formal charge estimation.\n",
      "[20:57:42] predicted: Warning - no explicit hydrogens in mol2 file but needed for formal charge estimation.\n",
      "[20:57:42] predicted: Warning - no explicit hydrogens in mol2 file but needed for formal charge estimation.\n",
      "[20:57:42] predicted: Warning - no explicit hydrogens in mol2 file but needed for formal charge estimation.\n",
      "[20:57:42] predicted: Warning - no explicit hydrogens in mol2 file but needed for formal charge estimation.\n",
      "[20:57:42] predicted: Warning - no explicit hydrogens in mol2 file but needed for formal charge estimation.\n",
      "[20:57:42] predicted: Warning - no explicit hydrogens in mol2 file but needed for formal charge estimation.\n",
      "[20:57:42] predicted: Warning - no explicit hydrogens in mol2 file but needed for formal charge estimation.\n",
      "[20:57:42] predicted: Warning - no explicit hydrogens in mol2 file but needed for formal charge estimation.\n",
      "[20:57:42] predicted: Warning - no explicit hydrogens in mol2 file but needed for formal charge estimation.\n",
      "[20:57:42] predicted: Warning - no explicit hydrogens in mol2 file but needed for formal charge estimation.\n",
      "[20:57:42] predicted: Warning - no explicit hydrogens in mol2 file but needed for formal charge estimation.\n",
      "[20:57:42] predicted: Warning - no explicit hydrogens in mol2 file but needed for formal charge estimation.\n",
      "[20:57:42] predicted: Warning - no explicit hydrogens in mol2 file but needed for formal charge estimation.\n",
      "[20:57:42] predicted: Warning - no explicit hydrogens in mol2 file but needed for formal charge estimation.\n",
      "[20:57:42] predicted: Warning - no explicit hydrogens in mol2 file but needed for formal charge estimation.\n",
      "[20:57:42] predicted: Warning - no explicit hydrogens in mol2 file but needed for formal charge estimation.\n",
      "[20:57:42] predicted: Warning - no explicit hydrogens in mol2 file but needed for formal charge estimation.\n",
      "[20:57:42] predicted: Warning - no explicit hydrogens in mol2 file but needed for formal charge estimation.\n",
      "[20:57:42] predicted: Warning - no explicit hydrogens in mol2 file but needed for formal charge estimation.\n",
      "[20:57:42] predicted: Warning - no explicit hydrogens in mol2 file but needed for formal charge estimation.\n",
      "[20:57:42] predicted: Warning - no explicit hydrogens in mol2 file but needed for formal charge estimation.\n",
      "[20:57:42] predicted: Warning - no explicit hydrogens in mol2 file but needed for formal charge estimation.\n",
      "[20:57:42] predicted: Warning - no explicit hydrogens in mol2 file but needed for formal charge estimation.\n",
      "[20:57:42] predicted: Warning - no explicit hydrogens in mol2 file but needed for formal charge estimation.\n",
      "[20:57:42] predicted: Warning - no explicit hydrogens in mol2 file but needed for formal charge estimation.\n",
      "[20:57:42] predicted: Warning - no explicit hydrogens in mol2 file but needed for formal charge estimation.\n",
      "[20:57:42] predicted: Warning - no explicit hydrogens in mol2 file but needed for formal charge estimation.\n",
      "[20:57:42] predicted: Warning - no explicit hydrogens in mol2 file but needed for formal charge estimation.\n",
      "[20:57:42] predicted: Warning - no explicit hydrogens in mol2 file but needed for formal charge estimation.\n",
      "[20:57:42] predicted: Warning - no explicit hydrogens in mol2 file but needed for formal charge estimation.\n",
      "[20:57:42] predicted: Warning - no explicit hydrogens in mol2 file but needed for formal charge estimation.\n",
      "[20:57:42] predicted: Warning - no explicit hydrogens in mol2 file but needed for formal charge estimation.\n",
      "[20:57:42] predicted: Warning - no explicit hydrogens in mol2 file but needed for formal charge estimation.\n",
      "[20:57:42] predicted: Warning - no explicit hydrogens in mol2 file but needed for formal charge estimation.\n",
      "[20:57:42] predicted: Warning - no explicit hydrogens in mol2 file but needed for formal charge estimation.\n",
      "[20:57:42] predicted: Warning - no explicit hydrogens in mol2 file but needed for formal charge estimation.\n",
      "[20:57:42] predicted: Warning - no explicit hydrogens in mol2 file but needed for formal charge estimation.\n",
      "[20:57:42] predicted: Warning - no explicit hydrogens in mol2 file but needed for formal charge estimation.\n",
      "[20:57:42] predicted: Warning - no explicit hydrogens in mol2 file but needed for formal charge estimation.\n",
      "[20:57:42] predicted: Warning - no explicit hydrogens in mol2 file but needed for formal charge estimation.\n",
      "[20:57:42] predicted: Warning - no explicit hydrogens in mol2 file but needed for formal charge estimation.\n",
      "[20:57:42] predicted: Warning - no explicit hydrogens in mol2 file but needed for formal charge estimation.\n",
      "[20:57:42] predicted: Warning - no explicit hydrogens in mol2 file but needed for formal charge estimation.\n",
      "[20:57:43] predicted: Warning - no explicit hydrogens in mol2 file but needed for formal charge estimation.\n",
      "[20:57:43] predicted: Warning - no explicit hydrogens in mol2 file but needed for formal charge estimation.\n",
      "[20:57:43] predicted: Warning - no explicit hydrogens in mol2 file but needed for formal charge estimation.\n",
      "[20:57:43] predicted: Warning - no explicit hydrogens in mol2 file but needed for formal charge estimation.\n",
      "[20:57:43] predicted: Warning - no explicit hydrogens in mol2 file but needed for formal charge estimation.\n",
      "[20:57:43] predicted: Warning - no explicit hydrogens in mol2 file but needed for formal charge estimation.\n",
      "[20:57:43] predicted: Warning - no explicit hydrogens in mol2 file but needed for formal charge estimation.\n",
      "[20:57:43] predicted: Warning - no explicit hydrogens in mol2 file but needed for formal charge estimation.\n",
      "[20:57:43] predicted: Warning - no explicit hydrogens in mol2 file but needed for formal charge estimation.\n",
      "[20:57:43] predicted: Warning - no explicit hydrogens in mol2 file but needed for formal charge estimation.\n",
      "[20:57:43] predicted: Warning - no explicit hydrogens in mol2 file but needed for formal charge estimation.\n",
      "[20:57:43] predicted: Warning - no explicit hydrogens in mol2 file but needed for formal charge estimation.\n",
      "[20:57:43] predicted: Warning - no explicit hydrogens in mol2 file but needed for formal charge estimation.\n",
      "[20:57:43] predicted: Warning - no explicit hydrogens in mol2 file but needed for formal charge estimation.\n",
      "[20:57:43] predicted: Warning - no explicit hydrogens in mol2 file but needed for formal charge estimation.\n",
      "[20:57:43] predicted: Warning - no explicit hydrogens in mol2 file but needed for formal charge estimation.\n",
      "[20:57:43] predicted: Warning - no explicit hydrogens in mol2 file but needed for formal charge estimation.\n",
      "[20:57:43] predicted: Warning - no explicit hydrogens in mol2 file but needed for formal charge estimation.\n",
      "[20:57:43] predicted: Warning - no explicit hydrogens in mol2 file but needed for formal charge estimation.\n",
      "[20:57:43] predicted: Warning - no explicit hydrogens in mol2 file but needed for formal charge estimation.\n",
      "[20:57:43] predicted: Warning - no explicit hydrogens in mol2 file but needed for formal charge estimation.\n",
      "[20:57:43] predicted: Warning - no explicit hydrogens in mol2 file but needed for formal charge estimation.\n",
      "[20:57:43] predicted: Warning - no explicit hydrogens in mol2 file but needed for formal charge estimation.\n",
      "[20:57:43] predicted: Warning - no explicit hydrogens in mol2 file but needed for formal charge estimation.\n",
      "[20:57:43] predicted: Warning - no explicit hydrogens in mol2 file but needed for formal charge estimation.\n",
      "[20:57:43] predicted: Warning - no explicit hydrogens in mol2 file but needed for formal charge estimation.\n",
      "[20:57:43] predicted: Warning - no explicit hydrogens in mol2 file but needed for formal charge estimation.\n",
      "[20:57:43] predicted: Warning - no explicit hydrogens in mol2 file but needed for formal charge estimation.\n",
      "[20:57:43] predicted: Warning - no explicit hydrogens in mol2 file but needed for formal charge estimation.\n",
      "[20:57:43] predicted: Warning - no explicit hydrogens in mol2 file but needed for formal charge estimation.\n",
      "[20:57:43] predicted: Warning - no explicit hydrogens in mol2 file but needed for formal charge estimation.\n",
      "[20:57:43] predicted: Warning - no explicit hydrogens in mol2 file but needed for formal charge estimation.\n",
      "[20:57:43] predicted: Warning - no explicit hydrogens in mol2 file but needed for formal charge estimation.\n",
      "[20:57:43] predicted: Warning - no explicit hydrogens in mol2 file but needed for formal charge estimation.\n",
      "[20:57:43] predicted: Warning - no explicit hydrogens in mol2 file but needed for formal charge estimation.\n",
      "[20:57:43] predicted: Warning - no explicit hydrogens in mol2 file but needed for formal charge estimation.\n",
      "[20:57:43] predicted: Warning - no explicit hydrogens in mol2 file but needed for formal charge estimation.\n",
      "[20:57:44] predicted: Warning - no explicit hydrogens in mol2 file but needed for formal charge estimation.\n",
      "[20:57:44] predicted: Warning - no explicit hydrogens in mol2 file but needed for formal charge estimation.\n",
      "[20:57:44] predicted: Warning - no explicit hydrogens in mol2 file but needed for formal charge estimation.\n",
      "[20:57:44] predicted: Warning - no explicit hydrogens in mol2 file but needed for formal charge estimation.\n",
      "[20:57:44] predicted: Warning - no explicit hydrogens in mol2 file but needed for formal charge estimation.\n",
      "[20:57:44] predicted: Warning - no explicit hydrogens in mol2 file but needed for formal charge estimation.\n",
      "[20:57:44] predicted: Warning - no explicit hydrogens in mol2 file but needed for formal charge estimation.\n",
      "[20:57:44] predicted: Warning - no explicit hydrogens in mol2 file but needed for formal charge estimation.\n",
      "[20:57:44] predicted: Warning - no explicit hydrogens in mol2 file but needed for formal charge estimation.\n",
      "[20:57:44] predicted: Warning - no explicit hydrogens in mol2 file but needed for formal charge estimation.\n",
      "[20:57:44] predicted: Warning - no explicit hydrogens in mol2 file but needed for formal charge estimation.\n",
      "[20:57:44] predicted: Warning - no explicit hydrogens in mol2 file but needed for formal charge estimation.\n",
      "[20:57:44] predicted: Warning - no explicit hydrogens in mol2 file but needed for formal charge estimation.\n",
      "[20:57:44] predicted: Warning - no explicit hydrogens in mol2 file but needed for formal charge estimation.\n",
      "[20:57:44] predicted: Warning - no explicit hydrogens in mol2 file but needed for formal charge estimation.\n",
      "[20:57:44] predicted: Warning - no explicit hydrogens in mol2 file but needed for formal charge estimation.\n",
      "[20:57:44] predicted: Warning - no explicit hydrogens in mol2 file but needed for formal charge estimation.\n",
      "[20:57:44] predicted: Warning - no explicit hydrogens in mol2 file but needed for formal charge estimation.\n",
      "[20:57:44] predicted: Warning - no explicit hydrogens in mol2 file but needed for formal charge estimation.\n",
      "[20:57:44] predicted: Warning - no explicit hydrogens in mol2 file but needed for formal charge estimation.\n",
      "[20:57:44] predicted: Warning - no explicit hydrogens in mol2 file but needed for formal charge estimation.\n",
      "[20:57:44] predicted: Warning - no explicit hydrogens in mol2 file but needed for formal charge estimation.\n",
      "[20:57:44] predicted: Warning - no explicit hydrogens in mol2 file but needed for formal charge estimation.\n",
      "[20:57:44] predicted: Warning - no explicit hydrogens in mol2 file but needed for formal charge estimation.\n",
      "[20:57:44] predicted: Warning - no explicit hydrogens in mol2 file but needed for formal charge estimation.\n",
      "[20:57:44] predicted: Warning - no explicit hydrogens in mol2 file but needed for formal charge estimation.\n",
      "[20:57:44] predicted: Warning - no explicit hydrogens in mol2 file but needed for formal charge estimation.\n",
      "[20:57:44] predicted: Warning - no explicit hydrogens in mol2 file but needed for formal charge estimation.\n",
      "[20:57:44] predicted: Warning - no explicit hydrogens in mol2 file but needed for formal charge estimation.\n",
      "[20:57:44] predicted: Warning - no explicit hydrogens in mol2 file but needed for formal charge estimation.\n",
      "[20:57:44] predicted: Warning - no explicit hydrogens in mol2 file but needed for formal charge estimation.\n",
      "[20:57:44] predicted: Warning - no explicit hydrogens in mol2 file but needed for formal charge estimation.\n",
      "[20:57:44] predicted: Warning - no explicit hydrogens in mol2 file but needed for formal charge estimation.\n",
      "[20:57:44] predicted: Warning - no explicit hydrogens in mol2 file but needed for formal charge estimation.\n",
      "[20:57:44] predicted: Warning - no explicit hydrogens in mol2 file but needed for formal charge estimation.\n",
      "[20:57:44] predicted: Warning - no explicit hydrogens in mol2 file but needed for formal charge estimation.\n",
      "[20:57:44] predicted: Warning - no explicit hydrogens in mol2 file but needed for formal charge estimation.\n",
      "[20:57:44] predicted: Warning - no explicit hydrogens in mol2 file but needed for formal charge estimation.\n",
      "[20:57:44] predicted: Warning - no explicit hydrogens in mol2 file but needed for formal charge estimation.\n",
      "[20:57:44] predicted: Warning - no explicit hydrogens in mol2 file but needed for formal charge estimation.\n",
      "[20:57:44] predicted: Warning - no explicit hydrogens in mol2 file but needed for formal charge estimation.\n",
      "[20:57:44] predicted: Warning - no explicit hydrogens in mol2 file but needed for formal charge estimation.\n",
      "[20:57:44] predicted: Warning - no explicit hydrogens in mol2 file but needed for formal charge estimation.\n",
      "[20:57:44] predicted: Warning - no explicit hydrogens in mol2 file but needed for formal charge estimation.\n",
      "[20:57:44] predicted: Warning - no explicit hydrogens in mol2 file but needed for formal charge estimation.\n",
      "[20:57:44] predicted: Warning - no explicit hydrogens in mol2 file but needed for formal charge estimation.\n",
      "[20:57:44] predicted: Warning - no explicit hydrogens in mol2 file but needed for formal charge estimation.\n",
      "[20:57:44] predicted: Warning - no explicit hydrogens in mol2 file but needed for formal charge estimation.\n",
      "[20:57:44] predicted: Warning - no explicit hydrogens in mol2 file but needed for formal charge estimation.\n",
      "[20:57:45] predicted: Warning - no explicit hydrogens in mol2 file but needed for formal charge estimation.\n",
      "[20:57:45] predicted: Warning - no explicit hydrogens in mol2 file but needed for formal charge estimation.\n",
      "[20:57:45] predicted: Warning - no explicit hydrogens in mol2 file but needed for formal charge estimation.\n",
      "[20:57:45] predicted: Warning - no explicit hydrogens in mol2 file but needed for formal charge estimation.\n",
      "[20:57:45] predicted: Warning - no explicit hydrogens in mol2 file but needed for formal charge estimation.\n",
      "[20:57:45] predicted: Warning - no explicit hydrogens in mol2 file but needed for formal charge estimation.\n",
      "[20:57:45] predicted: Warning - no explicit hydrogens in mol2 file but needed for formal charge estimation.\n",
      "[20:57:45] predicted: Warning - no explicit hydrogens in mol2 file but needed for formal charge estimation.\n",
      "[20:57:45] predicted: Warning - no explicit hydrogens in mol2 file but needed for formal charge estimation.\n",
      "[20:57:45] predicted: Warning - no explicit hydrogens in mol2 file but needed for formal charge estimation.\n",
      "[20:57:45] predicted: Warning - no explicit hydrogens in mol2 file but needed for formal charge estimation.\n",
      "[20:57:45] predicted: Warning - no explicit hydrogens in mol2 file but needed for formal charge estimation.\n",
      "[20:57:45] predicted: Warning - no explicit hydrogens in mol2 file but needed for formal charge estimation.\n",
      "[20:57:45] predicted: Warning - no explicit hydrogens in mol2 file but needed for formal charge estimation.\n",
      "[20:57:45] predicted: Warning - no explicit hydrogens in mol2 file but needed for formal charge estimation.\n",
      "[20:57:45] predicted: Warning - no explicit hydrogens in mol2 file but needed for formal charge estimation.\n",
      "[20:57:45] predicted: Warning - no explicit hydrogens in mol2 file but needed for formal charge estimation.\n",
      "[20:57:45] predicted: Warning - no explicit hydrogens in mol2 file but needed for formal charge estimation.\n",
      "[20:57:45] predicted: Warning - no explicit hydrogens in mol2 file but needed for formal charge estimation.\n",
      "[20:57:45] predicted: Warning - no explicit hydrogens in mol2 file but needed for formal charge estimation.\n",
      "[20:57:45] predicted: Warning - no explicit hydrogens in mol2 file but needed for formal charge estimation.\n",
      "[20:57:45] predicted: Warning - no explicit hydrogens in mol2 file but needed for formal charge estimation.\n",
      "[20:57:45] predicted: Warning - no explicit hydrogens in mol2 file but needed for formal charge estimation.\n",
      "[20:57:45] predicted: Warning - no explicit hydrogens in mol2 file but needed for formal charge estimation.\n",
      "[20:57:45] predicted: Warning - no explicit hydrogens in mol2 file but needed for formal charge estimation.\n",
      "[20:57:45] predicted: Warning - no explicit hydrogens in mol2 file but needed for formal charge estimation.\n",
      "[20:57:45] predicted: Warning - no explicit hydrogens in mol2 file but needed for formal charge estimation.\n",
      "[20:57:45] predicted: Warning - no explicit hydrogens in mol2 file but needed for formal charge estimation.\n",
      "[20:57:45] predicted: Warning - no explicit hydrogens in mol2 file but needed for formal charge estimation.\n",
      "[20:57:45] predicted: Warning - no explicit hydrogens in mol2 file but needed for formal charge estimation.\n",
      "[20:57:45] predicted: Warning - no explicit hydrogens in mol2 file but needed for formal charge estimation.\n",
      "[20:57:45] predicted: Warning - no explicit hydrogens in mol2 file but needed for formal charge estimation.\n",
      "[20:57:45] predicted: Warning - no explicit hydrogens in mol2 file but needed for formal charge estimation.\n",
      "[20:57:45] predicted: Warning - no explicit hydrogens in mol2 file but needed for formal charge estimation.\n",
      "[20:57:45] predicted: Warning - no explicit hydrogens in mol2 file but needed for formal charge estimation.\n",
      "[20:57:45] predicted: Warning - no explicit hydrogens in mol2 file but needed for formal charge estimation.\n",
      "[20:57:45] predicted: Warning - no explicit hydrogens in mol2 file but needed for formal charge estimation.\n",
      "[20:57:45] predicted: Warning - no explicit hydrogens in mol2 file but needed for formal charge estimation.\n",
      "[20:57:45] predicted: Warning - no explicit hydrogens in mol2 file but needed for formal charge estimation.\n",
      "[20:57:45] predicted: Warning - no explicit hydrogens in mol2 file but needed for formal charge estimation.\n",
      "[20:57:45] predicted: Warning - no explicit hydrogens in mol2 file but needed for formal charge estimation.\n",
      "[20:57:45] predicted: Warning - no explicit hydrogens in mol2 file but needed for formal charge estimation.\n"
     ]
    }
   ],
   "source": [
    "mol = []\n",
    "# read all molecules in ligand output\n",
    "for i in range(195):\n",
    "    try:\n",
    "        mol.append(Chem.MolFromMol2File(test_ligand_outputs / f'ligand_{i}.mol2', sanitize=False))\n",
    "    except:\n",
    "        mol.append(None)\n",
    "    "
   ]
  },
  {
   "cell_type": "code",
   "execution_count": 261,
   "metadata": {},
   "outputs": [],
   "source": [
    "sars = Chem.SDMolSupplier(\"minimized/sars_minimized_ligands.sdf\",sanitize=False)\n",
    "mers = Chem.SDMolSupplier(\"minimized/mers_minimized_ligands.sdf\",sanitize=False)"
   ]
  },
  {
   "cell_type": "code",
   "execution_count": 262,
   "metadata": {},
   "outputs": [],
   "source": [
    "# SARS-CoV-2-Mpro find indices in df _testi\n",
    "s_index = df_test[df_test[\"Protein Label\"] == \"SARS-CoV-2-Mpro\"].index\n",
    "m_index = df_test[df_test[\"Protein Label\"] == \"MERS-CoV-Mpro\"].index"
   ]
  },
  {
   "cell_type": "code",
   "execution_count": 263,
   "metadata": {},
   "outputs": [],
   "source": [
    "mols_with_proper_index = {}"
   ]
  },
  {
   "cell_type": "code",
   "execution_count": 264,
   "metadata": {},
   "outputs": [],
   "source": [
    "for index, molindex in enumerate(s_index):\n",
    "    mols_with_proper_index[f'ligand_{molindex}'] = sars[index]"
   ]
  },
  {
   "cell_type": "code",
   "execution_count": 265,
   "metadata": {},
   "outputs": [
    {
     "data": {
      "image/png": "[encoded data removed]",
      "text/html": [
       "<table><tr><td colspan=\"2\" style=\"text-align: center;\"><image src=\"data:image/png;base64,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\"></td></tr>\n",
       "<tr><th style=\"text-align: right\">Favorite_cresset</th><td style=\"text-align: left\">false</td></tr>\n",
       "<tr><th style=\"text-align: right\">Protein_cresset</th><td style=\"text-align: left\">sars_P</td></tr>\n",
       "<tr><th style=\"text-align: right\">MW_cresset</th><td style=\"text-align: left\">416.9</td></tr>\n",
       "<tr><th style=\"text-align: right\">#Atoms_cresset</th><td style=\"text-align: left\">30</td></tr>\n",
       "<tr><th style=\"text-align: right\">SlogP_cresset</th><td style=\"text-align: left\">5.7</td></tr>\n",
       "<tr><th style=\"text-align: right\">TPSA_cresset</th><td style=\"text-align: left\">42.4</td></tr>\n",
       "<tr><th style=\"text-align: right\">Flexibility_cresset</th><td style=\"text-align: left\">5.0</td></tr>\n",
       "<tr><th style=\"text-align: right\">HBA_cresset</th><td style=\"text-align: left\">4</td></tr>\n",
       "<tr><th style=\"text-align: right\">HBD_cresset</th><td style=\"text-align: left\">0</td></tr>\n",
       "<tr><th style=\"text-align: right\">Rof5_cresset</th><td style=\"text-align: left\">1</td></tr>\n",
       "<tr><td colspan=\"2\" style=\"text-align: center\">Property list truncated.<br />Increase IPythonConsole.ipython_maxProperties (or set it to -1) to see more properties.</td></tr></table>"
      ],
      "text/plain": [
       "<rdkit.Chem.rdchem.Mol at 0x7fb41811f370>"
      ]
     },
     "execution_count": 265,
     "metadata": {},
     "output_type": "execute_result"
    }
   ],
   "source": [
    "for index, molindex in enumerate(m_index):\n",
    "    mols_with_proper_index[f'ligand_{molindex}'] = mers[index]\n",
    "    \n",
    "mols_with_proper_index['ligand_1']"
   ]
  },
  {
   "cell_type": "code",
   "execution_count": 267,
   "metadata": {},
   "outputs": [],
   "source": [
    "# sort dictionary by key\n",
    "mols_with_proper_index = dict(sorted(mols_with_proper_index.items()))"
   ]
  },
  {
   "cell_type": "code",
   "execution_count": 268,
   "metadata": {},
   "outputs": [
    {
     "data": {
      "text/html": [
       "<div>\n",
       "<style scoped>\n",
       "    .dataframe tbody tr th:only-of-type {\n",
       "        vertical-align: middle;\n",
       "    }\n",
       "\n",
       "    .dataframe tbody tr th {\n",
       "        vertical-align: top;\n",
       "    }\n",
       "\n",
       "    .dataframe thead th {\n",
       "        text-align: right;\n",
       "    }\n",
       "</style>\n",
       "<table border=\"1\" class=\"dataframe\">\n",
       "  <thead>\n",
       "    <tr style=\"text-align: right;\">\n",
       "      <th></th>\n",
       "      <th>Chain B Sequence</th>\n",
       "      <th>CXSMILES</th>\n",
       "      <th>Chain A Sequence</th>\n",
       "      <th>Protein Label</th>\n",
       "      <th>MOL</th>\n",
       "      <th>Predicted Pose</th>\n",
       "      <th>Predicted Pose Bond Fixed</th>\n",
       "    </tr>\n",
       "  </thead>\n",
       "  <tbody>\n",
       "    <tr>\n",
       "      <th>0</th>\n",
       "      <td>SGLVKMSHPSGDVEACMVQVTCGSMTLNGLWLDNTVWCPRHVMCPA...</td>\n",
       "      <td>O=C1c2ccc(Cl)cc2[C@@]2(CN1Cc1nnco1)C(=O)N(c1cn...</td>\n",
       "      <td>SGLVKMSHPSGDVEACMVQVTCGSMTLNGLWLDNTVWCPRHVMCPA...</td>\n",
       "      <td>MERS-CoV-Mpro</td>\n",
       "      <td>&lt;rdkit.Chem.rdchem.Mol object at 0x7fb42830b680&gt;</td>\n",
       "      <td>&lt;rdkit.Chem.rdchem.Mol object at 0x7fb4281dcf20&gt;</td>\n",
       "      <td>&lt;rdkit.Chem.rdchem.Mol object at 0x7fb418423c30&gt;</td>\n",
       "    </tr>\n",
       "    <tr>\n",
       "      <th>1</th>\n",
       "      <td>SGLVKMSHPSGDVEACMVQVTCGSMTLNGLWLDNTVWCPRHVMCPA...</td>\n",
       "      <td>COc1ccc(N(Cc2cccc(Cl)c2)C(=O)Cc2cncc3ccccc23)cc1</td>\n",
       "      <td>SGLVKMSHPSGDVEACMVQVTCGSMTLNGLWLDNTVWCPRHVMCPA...</td>\n",
       "      <td>MERS-CoV-Mpro</td>\n",
       "      <td>&lt;rdkit.Chem.rdchem.Mol object at 0x7fb42830bc30&gt;</td>\n",
       "      <td>&lt;rdkit.Chem.rdchem.Mol object at 0x7fb4281dd070&gt;</td>\n",
       "      <td>&lt;rdkit.Chem.rdchem.Mol object at 0x7fb418423bc0&gt;</td>\n",
       "    </tr>\n",
       "    <tr>\n",
       "      <th>2</th>\n",
       "      <td>SGFRKMAFPSGKVEGCMVQVTCGTTTLNGLWLDDVVYCPRHVICTS...</td>\n",
       "      <td>CNC(=O)CN1C[C@@]2(C(=O)N(c3cncc4ccccc34)C[C@@H...</td>\n",
       "      <td>SGFRKMAFPSGKVEGCMVQVTCGTTTLNGLWLDDVVYCPRHVICTS...</td>\n",
       "      <td>SARS-CoV-2-Mpro</td>\n",
       "      <td>&lt;rdkit.Chem.rdchem.Mol object at 0x7fb428309690&gt;</td>\n",
       "      <td>&lt;rdkit.Chem.rdchem.Mol object at 0x7fb4281dd1c0&gt;</td>\n",
       "      <td>&lt;rdkit.Chem.rdchem.Mol object at 0x7fb418423d10&gt;</td>\n",
       "    </tr>\n",
       "    <tr>\n",
       "      <th>3</th>\n",
       "      <td>SGLVKMSHPSGDVEACMVQVTCGSMTLNGLWLDNTVWCPRHVMCPA...</td>\n",
       "      <td>CNC(=O)CN1C[C@@]2(C(=O)N(c3cncc4ccccc34)C[C@@H...</td>\n",
       "      <td>SGLVKMSHPSGDVEACMVQVTCGSMTLNGLWLDNTVWCPRHVMCPA...</td>\n",
       "      <td>MERS-CoV-Mpro</td>\n",
       "      <td>&lt;rdkit.Chem.rdchem.Mol object at 0x7fb4283097e0&gt;</td>\n",
       "      <td>&lt;rdkit.Chem.rdchem.Mol object at 0x7fb4281dd150&gt;</td>\n",
       "      <td>&lt;rdkit.Chem.rdchem.Mol object at 0x7fb418423f40&gt;</td>\n",
       "    </tr>\n",
       "    <tr>\n",
       "      <th>4</th>\n",
       "      <td>SGLVKMSHPSGDVEACMVQVTCGSMTLNGLWLDNTVWCPRHVMCPA...</td>\n",
       "      <td>O=C1c2ccc(Cl)cc2[C@@]2(CN1Cc1ccnnc1)C(=O)N(c1c...</td>\n",
       "      <td>SGLVKMSHPSGDVEACMVQVTCGSMTLNGLWLDNTVWCPRHVMCPA...</td>\n",
       "      <td>MERS-CoV-Mpro</td>\n",
       "      <td>&lt;rdkit.Chem.rdchem.Mol object at 0x7fb428309930&gt;</td>\n",
       "      <td>&lt;rdkit.Chem.rdchem.Mol object at 0x7fb4281dd230&gt;</td>\n",
       "      <td>&lt;rdkit.Chem.rdchem.Mol object at 0x7fb418423d80&gt;</td>\n",
       "    </tr>\n",
       "    <tr>\n",
       "      <th>...</th>\n",
       "      <td>...</td>\n",
       "      <td>...</td>\n",
       "      <td>...</td>\n",
       "      <td>...</td>\n",
       "      <td>...</td>\n",
       "      <td>...</td>\n",
       "      <td>...</td>\n",
       "    </tr>\n",
       "    <tr>\n",
       "      <th>190</th>\n",
       "      <td>SGFRKMAFPSGKVEGCMVQVTCGTTTLNGLWLDDVVYCPRHVICTS...</td>\n",
       "      <td>CNS(=O)(=O)OCC(=O)N[C@@H](C)c1cc(Cl)cc(-c2ccc(...</td>\n",
       "      <td>SGFRKMAFPSGKVEGCMVQVTCGTTTLNGLWLDDVVYCPRHVICTS...</td>\n",
       "      <td>SARS-CoV-2-Mpro</td>\n",
       "      <td>&lt;rdkit.Chem.rdchem.Mol object at 0x7fb428393ae0&gt;</td>\n",
       "      <td>&lt;rdkit.Chem.rdchem.Mol object at 0x7fb4281ee5e0&gt;</td>\n",
       "      <td>&lt;rdkit.Chem.rdchem.Mol object at 0x7fb4184bd070&gt;</td>\n",
       "    </tr>\n",
       "    <tr>\n",
       "      <th>191</th>\n",
       "      <td>SGFRKMAFPSGKVEGCMVQVTCGTTTLNGLWLDDVVYCPRHVICTS...</td>\n",
       "      <td>CNC(=O)CN1C[C@@]2(C(=O)N(c3cncc4ccccc34)C[C@@H...</td>\n",
       "      <td>SGFRKMAFPSGKVEGCMVQVTCGTTTLNGLWLDDVVYCPRHVICTS...</td>\n",
       "      <td>SARS-CoV-2-Mpro</td>\n",
       "      <td>&lt;rdkit.Chem.rdchem.Mol object at 0x7fb428393bc0&gt;</td>\n",
       "      <td>&lt;rdkit.Chem.rdchem.Mol object at 0x7fb4281ee650&gt;</td>\n",
       "      <td>&lt;rdkit.Chem.rdchem.Mol object at 0x7fb4184bd230&gt;</td>\n",
       "    </tr>\n",
       "    <tr>\n",
       "      <th>192</th>\n",
       "      <td>SGLVKMSHPSGDVEACMVQVTCGSMTLNGLWLDNTVWCPRHVMCPA...</td>\n",
       "      <td>O=C(Cc1cncc2ccccc12)NCc1cccc(Cl)c1</td>\n",
       "      <td>SGLVKMSHPSGDVEACMVQVTCGSMTLNGLWLDNTVWCPRHVMCPA...</td>\n",
       "      <td>MERS-CoV-Mpro</td>\n",
       "      <td>&lt;rdkit.Chem.rdchem.Mol object at 0x7fb428393d10&gt;</td>\n",
       "      <td>&lt;rdkit.Chem.rdchem.Mol object at 0x7fb4281ee6c0&gt;</td>\n",
       "      <td>&lt;rdkit.Chem.rdchem.Mol object at 0x7fb4184bd2a0&gt;</td>\n",
       "    </tr>\n",
       "    <tr>\n",
       "      <th>193</th>\n",
       "      <td>SGFRKMAFPSGKVEGCMVQVTCGTTTLNGLWLDDVVYCPRHVICTS...</td>\n",
       "      <td>CNC(=O)CN1C[C@@]2(C(=O)N(c3cncc4ccccc34)C[C@@H...</td>\n",
       "      <td>SGFRKMAFPSGKVEGCMVQVTCGTTTLNGLWLDDVVYCPRHVICTS...</td>\n",
       "      <td>SARS-CoV-2-Mpro</td>\n",
       "      <td>&lt;rdkit.Chem.rdchem.Mol object at 0x7fb428393df0&gt;</td>\n",
       "      <td>&lt;rdkit.Chem.rdchem.Mol object at 0x7fb4281ee730&gt;</td>\n",
       "      <td>&lt;rdkit.Chem.rdchem.Mol object at 0x7fb4184bd0e0&gt;</td>\n",
       "    </tr>\n",
       "    <tr>\n",
       "      <th>194</th>\n",
       "      <td>SGFRKMAFPSGKVEGCMVQVTCGTTTLNGLWLDDVVYCPRHVICNY...</td>\n",
       "      <td>C[C@@H]1COC[C@@]2(C1)NC(=O)N(c1cncc3ccccc13)C2=O</td>\n",
       "      <td>SGFRKMAFPSGKVEGCMVQVTCGTTTLNGLWLDDVVYCPRHVICTS...</td>\n",
       "      <td>SARS-CoV-2-Mpro</td>\n",
       "      <td>&lt;rdkit.Chem.rdchem.Mol object at 0x7fb428393e60&gt;</td>\n",
       "      <td>&lt;rdkit.Chem.rdchem.Mol object at 0x7fb4281ee7a0&gt;</td>\n",
       "      <td>&lt;rdkit.Chem.rdchem.Mol object at 0x7fb4184bd380&gt;</td>\n",
       "    </tr>\n",
       "  </tbody>\n",
       "</table>\n",
       "<p>195 rows × 7 columns</p>\n",
       "</div>"
      ],
      "text/plain": [
       "                                      Chain B Sequence  \\\n",
       "0    SGLVKMSHPSGDVEACMVQVTCGSMTLNGLWLDNTVWCPRHVMCPA...   \n",
       "1    SGLVKMSHPSGDVEACMVQVTCGSMTLNGLWLDNTVWCPRHVMCPA...   \n",
       "2    SGFRKMAFPSGKVEGCMVQVTCGTTTLNGLWLDDVVYCPRHVICTS...   \n",
       "3    SGLVKMSHPSGDVEACMVQVTCGSMTLNGLWLDNTVWCPRHVMCPA...   \n",
       "4    SGLVKMSHPSGDVEACMVQVTCGSMTLNGLWLDNTVWCPRHVMCPA...   \n",
       "..                                                 ...   \n",
       "190  SGFRKMAFPSGKVEGCMVQVTCGTTTLNGLWLDDVVYCPRHVICTS...   \n",
       "191  SGFRKMAFPSGKVEGCMVQVTCGTTTLNGLWLDDVVYCPRHVICTS...   \n",
       "192  SGLVKMSHPSGDVEACMVQVTCGSMTLNGLWLDNTVWCPRHVMCPA...   \n",
       "193  SGFRKMAFPSGKVEGCMVQVTCGTTTLNGLWLDDVVYCPRHVICTS...   \n",
       "194  SGFRKMAFPSGKVEGCMVQVTCGTTTLNGLWLDDVVYCPRHVICNY...   \n",
       "\n",
       "                                              CXSMILES  \\\n",
       "0    O=C1c2ccc(Cl)cc2[C@@]2(CN1Cc1nnco1)C(=O)N(c1cn...   \n",
       "1     COc1ccc(N(Cc2cccc(Cl)c2)C(=O)Cc2cncc3ccccc23)cc1   \n",
       "2    CNC(=O)CN1C[C@@]2(C(=O)N(c3cncc4ccccc34)C[C@@H...   \n",
       "3    CNC(=O)CN1C[C@@]2(C(=O)N(c3cncc4ccccc34)C[C@@H...   \n",
       "4    O=C1c2ccc(Cl)cc2[C@@]2(CN1Cc1ccnnc1)C(=O)N(c1c...   \n",
       "..                                                 ...   \n",
       "190  CNS(=O)(=O)OCC(=O)N[C@@H](C)c1cc(Cl)cc(-c2ccc(...   \n",
       "191  CNC(=O)CN1C[C@@]2(C(=O)N(c3cncc4ccccc34)C[C@@H...   \n",
       "192                 O=C(Cc1cncc2ccccc12)NCc1cccc(Cl)c1   \n",
       "193  CNC(=O)CN1C[C@@]2(C(=O)N(c3cncc4ccccc34)C[C@@H...   \n",
       "194   C[C@@H]1COC[C@@]2(C1)NC(=O)N(c1cncc3ccccc13)C2=O   \n",
       "\n",
       "                                      Chain A Sequence    Protein Label  \\\n",
       "0    SGLVKMSHPSGDVEACMVQVTCGSMTLNGLWLDNTVWCPRHVMCPA...    MERS-CoV-Mpro   \n",
       "1    SGLVKMSHPSGDVEACMVQVTCGSMTLNGLWLDNTVWCPRHVMCPA...    MERS-CoV-Mpro   \n",
       "2    SGFRKMAFPSGKVEGCMVQVTCGTTTLNGLWLDDVVYCPRHVICTS...  SARS-CoV-2-Mpro   \n",
       "3    SGLVKMSHPSGDVEACMVQVTCGSMTLNGLWLDNTVWCPRHVMCPA...    MERS-CoV-Mpro   \n",
       "4    SGLVKMSHPSGDVEACMVQVTCGSMTLNGLWLDNTVWCPRHVMCPA...    MERS-CoV-Mpro   \n",
       "..                                                 ...              ...   \n",
       "190  SGFRKMAFPSGKVEGCMVQVTCGTTTLNGLWLDDVVYCPRHVICTS...  SARS-CoV-2-Mpro   \n",
       "191  SGFRKMAFPSGKVEGCMVQVTCGTTTLNGLWLDDVVYCPRHVICTS...  SARS-CoV-2-Mpro   \n",
       "192  SGLVKMSHPSGDVEACMVQVTCGSMTLNGLWLDNTVWCPRHVMCPA...    MERS-CoV-Mpro   \n",
       "193  SGFRKMAFPSGKVEGCMVQVTCGTTTLNGLWLDDVVYCPRHVICTS...  SARS-CoV-2-Mpro   \n",
       "194  SGFRKMAFPSGKVEGCMVQVTCGTTTLNGLWLDDVVYCPRHVICTS...  SARS-CoV-2-Mpro   \n",
       "\n",
       "                                                  MOL  \\\n",
       "0    <rdkit.Chem.rdchem.Mol object at 0x7fb42830b680>   \n",
       "1    <rdkit.Chem.rdchem.Mol object at 0x7fb42830bc30>   \n",
       "2    <rdkit.Chem.rdchem.Mol object at 0x7fb428309690>   \n",
       "3    <rdkit.Chem.rdchem.Mol object at 0x7fb4283097e0>   \n",
       "4    <rdkit.Chem.rdchem.Mol object at 0x7fb428309930>   \n",
       "..                                                ...   \n",
       "190  <rdkit.Chem.rdchem.Mol object at 0x7fb428393ae0>   \n",
       "191  <rdkit.Chem.rdchem.Mol object at 0x7fb428393bc0>   \n",
       "192  <rdkit.Chem.rdchem.Mol object at 0x7fb428393d10>   \n",
       "193  <rdkit.Chem.rdchem.Mol object at 0x7fb428393df0>   \n",
       "194  <rdkit.Chem.rdchem.Mol object at 0x7fb428393e60>   \n",
       "\n",
       "                                       Predicted Pose  \\\n",
       "0    <rdkit.Chem.rdchem.Mol object at 0x7fb4281dcf20>   \n",
       "1    <rdkit.Chem.rdchem.Mol object at 0x7fb4281dd070>   \n",
       "2    <rdkit.Chem.rdchem.Mol object at 0x7fb4281dd1c0>   \n",
       "3    <rdkit.Chem.rdchem.Mol object at 0x7fb4281dd150>   \n",
       "4    <rdkit.Chem.rdchem.Mol object at 0x7fb4281dd230>   \n",
       "..                                                ...   \n",
       "190  <rdkit.Chem.rdchem.Mol object at 0x7fb4281ee5e0>   \n",
       "191  <rdkit.Chem.rdchem.Mol object at 0x7fb4281ee650>   \n",
       "192  <rdkit.Chem.rdchem.Mol object at 0x7fb4281ee6c0>   \n",
       "193  <rdkit.Chem.rdchem.Mol object at 0x7fb4281ee730>   \n",
       "194  <rdkit.Chem.rdchem.Mol object at 0x7fb4281ee7a0>   \n",
       "\n",
       "                            Predicted Pose Bond Fixed  \n",
       "0    <rdkit.Chem.rdchem.Mol object at 0x7fb418423c30>  \n",
       "1    <rdkit.Chem.rdchem.Mol object at 0x7fb418423bc0>  \n",
       "2    <rdkit.Chem.rdchem.Mol object at 0x7fb418423d10>  \n",
       "3    <rdkit.Chem.rdchem.Mol object at 0x7fb418423f40>  \n",
       "4    <rdkit.Chem.rdchem.Mol object at 0x7fb418423d80>  \n",
       "..                                                ...  \n",
       "190  <rdkit.Chem.rdchem.Mol object at 0x7fb4184bd070>  \n",
       "191  <rdkit.Chem.rdchem.Mol object at 0x7fb4184bd230>  \n",
       "192  <rdkit.Chem.rdchem.Mol object at 0x7fb4184bd2a0>  \n",
       "193  <rdkit.Chem.rdchem.Mol object at 0x7fb4184bd0e0>  \n",
       "194  <rdkit.Chem.rdchem.Mol object at 0x7fb4184bd380>  \n",
       "\n",
       "[195 rows x 7 columns]"
      ]
     },
     "execution_count": 268,
     "metadata": {},
     "output_type": "execute_result"
    }
   ],
   "source": [
    "df_test"
   ]
  },
  {
   "cell_type": "code",
   "execution_count": 269,
   "metadata": {},
   "outputs": [],
   "source": [
    "# add a empty column to df_test\n",
    "df_test['Predicted Pose'] = np.nan"
   ]
  },
  {
   "cell_type": "code",
   "execution_count": 270,
   "metadata": {},
   "outputs": [
    {
     "name": "stderr",
     "output_type": "stream",
     "text": [
      "/tmp/ipykernel_1063278/4265409299.py:4: FutureWarning: Setting an item of incompatible dtype is deprecated and will raise an error in a future version of pandas. Value '<rdkit.Chem.rdchem.Mol object at 0x7fb41811f290>' has dtype incompatible with float64, please explicitly cast to a compatible dtype first.\n",
      "  df_test.at[index, 'Predicted Pose'] = mols_with_proper_index[f'ligand_{index}']\n"
     ]
    }
   ],
   "source": [
    "# go through each row in df_test and add the predicted pose\n",
    "for index, row in df_test.iterrows():\n",
    "\n",
    "    df_test.at[index, 'Predicted Pose'] = mols_with_proper_index[f'ligand_{index}']"
   ]
  },
  {
   "cell_type": "code",
   "execution_count": 273,
   "metadata": {},
   "outputs": [
    {
     "name": "stdout",
     "output_type": "stream",
     "text": [
      "Error at index 0\n",
      "Error at index 1\n",
      "Error at index 2\n",
      "Error at index 3\n",
      "Error at index 4\n",
      "Error at index 5\n",
      "Error at index 6\n",
      "Error at index 7\n",
      "Error at index 8\n",
      "Error at index 9\n",
      "Error at index 10\n",
      "Error at index 11\n",
      "Error at index 12\n",
      "Error at index 13\n",
      "Error at index 14\n",
      "Error at index 15\n",
      "Error at index 16\n",
      "Error at index 17\n",
      "Error at index 18\n",
      "Error at index 19\n",
      "Error at index 20\n",
      "Error at index 21\n",
      "Error at index 22\n",
      "Error at index 23\n",
      "Error at index 24\n",
      "Error at index 25\n",
      "Error at index 26\n",
      "Error at index 27\n",
      "Error at index 28\n",
      "Error at index 29\n",
      "Error at index 30\n",
      "Error at index 31\n",
      "Error at index 32\n",
      "Error at index 33\n",
      "Error at index 34\n",
      "Error at index 35\n",
      "Error at index 36\n",
      "Error at index 37\n",
      "Error at index 38\n",
      "Error at index 39\n",
      "Error at index 40\n",
      "Error at index 41\n",
      "Error at index 42\n",
      "Error at index 43\n",
      "Error at index 44\n",
      "Error at index 45\n",
      "Error at index 46\n",
      "Error at index 47\n",
      "Error at index 48\n",
      "Error at index 49\n",
      "Error at index 50\n",
      "Error at index 51\n",
      "Error at index 52\n",
      "Error at index 53\n",
      "Error at index 54\n",
      "Error at index 55\n",
      "Error at index 56\n",
      "Error at index 57\n",
      "Error at index 58\n",
      "Error at index 59\n",
      "Error at index 60\n",
      "Error at index 61\n",
      "Error at index 62\n",
      "Error at index 63\n",
      "Error at index 64\n",
      "Error at index 65\n",
      "Error at index 66\n",
      "Error at index 67\n",
      "Error at index 68\n",
      "Error at index 69\n",
      "Error at index 70\n",
      "Error at index 71\n",
      "Error at index 72\n",
      "Error at index 73\n",
      "Error at index 74\n",
      "Error at index 75\n",
      "Error at index 76\n",
      "Error at index 77\n",
      "Error at index 78\n",
      "Error at index 79\n",
      "Error at index 80\n",
      "Error at index 81\n",
      "Error at index 82\n",
      "Error at index 83\n",
      "Error at index 84\n",
      "Error at index 85\n",
      "Error at index 86\n",
      "Error at index 87\n",
      "Error at index 88\n",
      "Error at index 89\n",
      "Error at index 90\n",
      "Error at index 91\n",
      "Error at index 92\n",
      "Error at index 93\n",
      "Error at index 94\n",
      "Error at index 95\n",
      "Error at index 96\n",
      "Error at index 97\n",
      "Error at index 98\n",
      "Error at index 99\n",
      "Error at index 100\n",
      "Error at index 101\n",
      "Error at index 102\n",
      "Error at index 103\n",
      "Error at index 104\n",
      "Error at index 105\n",
      "Error at index 106\n",
      "Error at index 107\n",
      "Error at index 108\n",
      "Error at index 109\n",
      "Error at index 110\n",
      "Error at index 111\n",
      "Error at index 112\n",
      "Error at index 113\n",
      "Error at index 114\n",
      "Error at index 115\n",
      "Error at index 116\n",
      "Error at index 117\n",
      "Error at index 118\n",
      "Error at index 119\n",
      "Error at index 120\n",
      "Error at index 121\n",
      "Error at index 122\n",
      "Error at index 123\n",
      "Error at index 124\n",
      "Error at index 125\n",
      "Error at index 126\n",
      "Error at index 127\n",
      "Error at index 128\n",
      "Error at index 129\n",
      "Error at index 130\n",
      "Error at index 131\n",
      "Error at index 132\n",
      "Error at index 133\n",
      "Error at index 134\n",
      "Error at index 135\n",
      "Error at index 136\n",
      "Error at index 137\n",
      "Error at index 138\n",
      "Error at index 139\n",
      "Error at index 140\n",
      "Error at index 141\n",
      "Error at index 142\n",
      "Error at index 143\n",
      "Error at index 144\n",
      "Error at index 145\n",
      "Error at index 146\n",
      "Error at index 147\n",
      "Error at index 148\n",
      "Error at index 149\n",
      "Error at index 150\n",
      "Error at index 151\n",
      "Error at index 152\n",
      "Error at index 153\n",
      "Error at index 154\n",
      "Error at index 155\n",
      "Error at index 156\n",
      "Error at index 157\n",
      "Error at index 158\n",
      "Error at index 159\n",
      "Error at index 160\n",
      "Error at index 161\n",
      "Error at index 162\n",
      "Error at index 163\n",
      "Error at index 164\n",
      "Error at index 165\n",
      "Error at index 166\n",
      "Error at index 167\n",
      "Error at index 168\n",
      "Error at index 169\n",
      "Error at index 170\n",
      "Error at index 171\n",
      "Error at index 172\n",
      "Error at index 173\n",
      "Error at index 174\n",
      "Error at index 175\n",
      "Error at index 176\n",
      "Error at index 177\n",
      "Error at index 178\n",
      "Error at index 179\n",
      "Error at index 180\n",
      "Error at index 181\n",
      "Error at index 182\n",
      "Error at index 183\n",
      "Error at index 184\n",
      "Error at index 185\n",
      "Error at index 186\n",
      "Error at index 187\n",
      "Error at index 188\n",
      "Error at index 189\n",
      "Error at index 190\n",
      "Error at index 191\n",
      "Error at index 192\n",
      "Error at index 193\n",
      "Error at index 194\n"
     ]
    }
   ],
   "source": [
    "# df_test['Predicted Pose Bf'] = df_test.apply(lambda x: transfer_bond_orders(x['Predicted Pose'],x['MOL']), axis=1) do this in for loop, i want to see the progress\n",
    "\n",
    "for index, row in df_test.iterrows():\n",
    "   \n",
    "    try:\n",
    "        df_test.at[index, 'Predicted Pose'] = transfer_bond_orders(row['Predicted Pose'], row['MOL'])\n",
    "    except:\n",
    "        print(f\"Error at index {index}\")\n",
    "        continue"
   ]
  },
  {
   "cell_type": "code",
   "execution_count": 272,
   "metadata": {},
   "outputs": [
    {
     "ename": "ValueError",
     "evalue": "MCS failed to map all atoms. Check connectivity or symmetry.",
     "output_type": "error",
     "traceback": [
      "\u001b[0;31m---------------------------------------------------------------------------\u001b[0m",
      "\u001b[0;31mValueError\u001b[0m                                Traceback (most recent call last)",
      "Cell \u001b[0;32mIn[272], line 1\u001b[0m\n\u001b[0;32m----> 1\u001b[0m df_test[\u001b[38;5;124m'\u001b[39m\u001b[38;5;124mPredicted Pose Bf\u001b[39m\u001b[38;5;124m'\u001b[39m] \u001b[38;5;241m=\u001b[39m df_test\u001b[38;5;241m.\u001b[39mapply(\u001b[38;5;28;01mlambda\u001b[39;00m x: transfer_bond_orders(x[\u001b[38;5;124m'\u001b[39m\u001b[38;5;124mPredicted Pose\u001b[39m\u001b[38;5;124m'\u001b[39m],x[\u001b[38;5;124m'\u001b[39m\u001b[38;5;124mMOL\u001b[39m\u001b[38;5;124m'\u001b[39m]), axis\u001b[38;5;241m=\u001b[39m\u001b[38;5;241m1\u001b[39m)\n",
      "File \u001b[0;32m~/.conda/envs/boltzswan/lib/python3.12/site-packages/pandas/core/frame.py:10374\u001b[0m, in \u001b[0;36mDataFrame.apply\u001b[0;34m(self, func, axis, raw, result_type, args, by_row, engine, engine_kwargs, **kwargs)\u001b[0m\n\u001b[1;32m  10360\u001b[0m \u001b[38;5;28;01mfrom\u001b[39;00m\u001b[38;5;250m \u001b[39m\u001b[38;5;21;01mpandas\u001b[39;00m\u001b[38;5;21;01m.\u001b[39;00m\u001b[38;5;21;01mcore\u001b[39;00m\u001b[38;5;21;01m.\u001b[39;00m\u001b[38;5;21;01mapply\u001b[39;00m\u001b[38;5;250m \u001b[39m\u001b[38;5;28;01mimport\u001b[39;00m frame_apply\n\u001b[1;32m  10362\u001b[0m op \u001b[38;5;241m=\u001b[39m frame_apply(\n\u001b[1;32m  10363\u001b[0m     \u001b[38;5;28mself\u001b[39m,\n\u001b[1;32m  10364\u001b[0m     func\u001b[38;5;241m=\u001b[39mfunc,\n\u001b[0;32m   (...)\u001b[0m\n\u001b[1;32m  10372\u001b[0m     kwargs\u001b[38;5;241m=\u001b[39mkwargs,\n\u001b[1;32m  10373\u001b[0m )\n\u001b[0;32m> 10374\u001b[0m \u001b[38;5;28;01mreturn\u001b[39;00m op\u001b[38;5;241m.\u001b[39mapply()\u001b[38;5;241m.\u001b[39m__finalize__(\u001b[38;5;28mself\u001b[39m, method\u001b[38;5;241m=\u001b[39m\u001b[38;5;124m\"\u001b[39m\u001b[38;5;124mapply\u001b[39m\u001b[38;5;124m\"\u001b[39m)\n",
      "File \u001b[0;32m~/.conda/envs/boltzswan/lib/python3.12/site-packages/pandas/core/apply.py:916\u001b[0m, in \u001b[0;36mFrameApply.apply\u001b[0;34m(self)\u001b[0m\n\u001b[1;32m    913\u001b[0m \u001b[38;5;28;01melif\u001b[39;00m \u001b[38;5;28mself\u001b[39m\u001b[38;5;241m.\u001b[39mraw:\n\u001b[1;32m    914\u001b[0m     \u001b[38;5;28;01mreturn\u001b[39;00m \u001b[38;5;28mself\u001b[39m\u001b[38;5;241m.\u001b[39mapply_raw(engine\u001b[38;5;241m=\u001b[39m\u001b[38;5;28mself\u001b[39m\u001b[38;5;241m.\u001b[39mengine, engine_kwargs\u001b[38;5;241m=\u001b[39m\u001b[38;5;28mself\u001b[39m\u001b[38;5;241m.\u001b[39mengine_kwargs)\n\u001b[0;32m--> 916\u001b[0m \u001b[38;5;28;01mreturn\u001b[39;00m \u001b[38;5;28mself\u001b[39m\u001b[38;5;241m.\u001b[39mapply_standard()\n",
      "File \u001b[0;32m~/.conda/envs/boltzswan/lib/python3.12/site-packages/pandas/core/apply.py:1063\u001b[0m, in \u001b[0;36mFrameApply.apply_standard\u001b[0;34m(self)\u001b[0m\n\u001b[1;32m   1061\u001b[0m \u001b[38;5;28;01mdef\u001b[39;00m\u001b[38;5;250m \u001b[39m\u001b[38;5;21mapply_standard\u001b[39m(\u001b[38;5;28mself\u001b[39m):\n\u001b[1;32m   1062\u001b[0m     \u001b[38;5;28;01mif\u001b[39;00m \u001b[38;5;28mself\u001b[39m\u001b[38;5;241m.\u001b[39mengine \u001b[38;5;241m==\u001b[39m \u001b[38;5;124m\"\u001b[39m\u001b[38;5;124mpython\u001b[39m\u001b[38;5;124m\"\u001b[39m:\n\u001b[0;32m-> 1063\u001b[0m         results, res_index \u001b[38;5;241m=\u001b[39m \u001b[38;5;28mself\u001b[39m\u001b[38;5;241m.\u001b[39mapply_series_generator()\n\u001b[1;32m   1064\u001b[0m     \u001b[38;5;28;01melse\u001b[39;00m:\n\u001b[1;32m   1065\u001b[0m         results, res_index \u001b[38;5;241m=\u001b[39m \u001b[38;5;28mself\u001b[39m\u001b[38;5;241m.\u001b[39mapply_series_numba()\n",
      "File \u001b[0;32m~/.conda/envs/boltzswan/lib/python3.12/site-packages/pandas/core/apply.py:1081\u001b[0m, in \u001b[0;36mFrameApply.apply_series_generator\u001b[0;34m(self)\u001b[0m\n\u001b[1;32m   1078\u001b[0m \u001b[38;5;28;01mwith\u001b[39;00m option_context(\u001b[38;5;124m\"\u001b[39m\u001b[38;5;124mmode.chained_assignment\u001b[39m\u001b[38;5;124m\"\u001b[39m, \u001b[38;5;28;01mNone\u001b[39;00m):\n\u001b[1;32m   1079\u001b[0m     \u001b[38;5;28;01mfor\u001b[39;00m i, v \u001b[38;5;129;01min\u001b[39;00m \u001b[38;5;28menumerate\u001b[39m(series_gen):\n\u001b[1;32m   1080\u001b[0m         \u001b[38;5;66;03m# ignore SettingWithCopy here in case the user mutates\u001b[39;00m\n\u001b[0;32m-> 1081\u001b[0m         results[i] \u001b[38;5;241m=\u001b[39m \u001b[38;5;28mself\u001b[39m\u001b[38;5;241m.\u001b[39mfunc(v, \u001b[38;5;241m*\u001b[39m\u001b[38;5;28mself\u001b[39m\u001b[38;5;241m.\u001b[39margs, \u001b[38;5;241m*\u001b[39m\u001b[38;5;241m*\u001b[39m\u001b[38;5;28mself\u001b[39m\u001b[38;5;241m.\u001b[39mkwargs)\n\u001b[1;32m   1082\u001b[0m         \u001b[38;5;28;01mif\u001b[39;00m \u001b[38;5;28misinstance\u001b[39m(results[i], ABCSeries):\n\u001b[1;32m   1083\u001b[0m             \u001b[38;5;66;03m# If we have a view on v, we need to make a copy because\u001b[39;00m\n\u001b[1;32m   1084\u001b[0m             \u001b[38;5;66;03m#  series_generator will swap out the underlying data\u001b[39;00m\n\u001b[1;32m   1085\u001b[0m             results[i] \u001b[38;5;241m=\u001b[39m results[i]\u001b[38;5;241m.\u001b[39mcopy(deep\u001b[38;5;241m=\u001b[39m\u001b[38;5;28;01mFalse\u001b[39;00m)\n",
      "Cell \u001b[0;32mIn[272], line 1\u001b[0m, in \u001b[0;36m<lambda>\u001b[0;34m(x)\u001b[0m\n\u001b[0;32m----> 1\u001b[0m df_test[\u001b[38;5;124m'\u001b[39m\u001b[38;5;124mPredicted Pose Bf\u001b[39m\u001b[38;5;124m'\u001b[39m] \u001b[38;5;241m=\u001b[39m df_test\u001b[38;5;241m.\u001b[39mapply(\u001b[38;5;28;01mlambda\u001b[39;00m x: transfer_bond_orders(x[\u001b[38;5;124m'\u001b[39m\u001b[38;5;124mPredicted Pose\u001b[39m\u001b[38;5;124m'\u001b[39m],x[\u001b[38;5;124m'\u001b[39m\u001b[38;5;124mMOL\u001b[39m\u001b[38;5;124m'\u001b[39m]), axis\u001b[38;5;241m=\u001b[39m\u001b[38;5;241m1\u001b[39m)\n",
      "Cell \u001b[0;32mIn[249], line 11\u001b[0m, in \u001b[0;36mtransfer_bond_orders\u001b[0;34m(m1, m2)\u001b[0m\n\u001b[1;32m      3\u001b[0m mcs \u001b[38;5;241m=\u001b[39m rdFMCS\u001b[38;5;241m.\u001b[39mFindMCS(\n\u001b[1;32m      4\u001b[0m     [m1, m2],\n\u001b[1;32m      5\u001b[0m          bondCompare\u001b[38;5;241m=\u001b[39mrdFMCS\u001b[38;5;241m.\u001b[39mBondCompare\u001b[38;5;241m.\u001b[39mCompareAny,\n\u001b[0;32m   (...)\u001b[0m\n\u001b[1;32m      8\u001b[0m     timeout\u001b[38;5;241m=\u001b[39m\u001b[38;5;241m60\u001b[39m  \u001b[38;5;66;03m# Increase timeout for large molecules\u001b[39;00m\n\u001b[1;32m      9\u001b[0m )\n\u001b[1;32m     10\u001b[0m \u001b[38;5;28;01mif\u001b[39;00m mcs\u001b[38;5;241m.\u001b[39mcanceled \u001b[38;5;129;01mor\u001b[39;00m mcs\u001b[38;5;241m.\u001b[39mnumAtoms \u001b[38;5;241m!=\u001b[39m m1\u001b[38;5;241m.\u001b[39mGetNumAtoms():\n\u001b[0;32m---> 11\u001b[0m     \u001b[38;5;28;01mraise\u001b[39;00m \u001b[38;5;167;01mValueError\u001b[39;00m(\u001b[38;5;124m\"\u001b[39m\u001b[38;5;124mMCS failed to map all atoms. Check connectivity or symmetry.\u001b[39m\u001b[38;5;124m\"\u001b[39m)\n\u001b[1;32m     12\u001b[0m mcs_pattern \u001b[38;5;241m=\u001b[39m Chem\u001b[38;5;241m.\u001b[39mMolFromSmarts(mcs\u001b[38;5;241m.\u001b[39msmartsString)\n\u001b[1;32m     14\u001b[0m \u001b[38;5;66;03m# Get atom matches for MCS in both molecules\u001b[39;00m\n",
      "\u001b[0;31mValueError\u001b[0m: MCS failed to map all atoms. Check connectivity or symmetry."
     ]
    }
   ],
   "source": [
    "df_test['Predicted Pose Bf'] = df_test.apply(lambda x: transfer_bond_orders(x['Predicted Pose'],x['MOL']), axis=1)"
   ]
  },
  {
   "cell_type": "code",
   "execution_count": 271,
   "metadata": {},
   "outputs": [
    {
     "name": "stderr",
     "output_type": "stream",
     "text": [
      "[23:39:55] tetrahedral chirality on atom with <3 or >4 neighbors will be ignored.\n",
      "[23:39:55] tetrahedral chirality on atom with <3 or >4 neighbors will be ignored.\n",
      "[23:39:55] tetrahedral chirality on atom with <3 or >4 neighbors will be ignored.\n",
      "[23:39:55] tetrahedral chirality on atom with <3 or >4 neighbors will be ignored.\n",
      "[23:39:55] tetrahedral chirality on atom with <3 or >4 neighbors will be ignored.\n",
      "[23:39:55] tetrahedral chirality on atom with <3 or >4 neighbors will be ignored.\n",
      "[23:39:55] tetrahedral chirality on atom with <3 or >4 neighbors will be ignored.\n",
      "[23:39:55] tetrahedral chirality on atom with <3 or >4 neighbors will be ignored.\n",
      "[23:39:55] tetrahedral chirality on atom with <3 or >4 neighbors will be ignored.\n",
      "[23:39:55] tetrahedral chirality on atom with <3 or >4 neighbors will be ignored.\n",
      "[23:39:55] tetrahedral chirality on atom with <3 or >4 neighbors will be ignored.\n",
      "[23:39:55] tetrahedral chirality on atom with <3 or >4 neighbors will be ignored.\n",
      "[23:39:55] tetrahedral chirality on atom with <3 or >4 neighbors will be ignored.\n",
      "[23:39:55] tetrahedral chirality on atom with <3 or >4 neighbors will be ignored.\n",
      "[23:39:55] tetrahedral chirality on atom with <3 or >4 neighbors will be ignored.\n",
      "[23:39:55] tetrahedral chirality on atom with <3 or >4 neighbors will be ignored.\n",
      "[23:39:55] tetrahedral chirality on atom with <3 or >4 neighbors will be ignored.\n"
     ]
    }
   ],
   "source": [
    "df_test['match'] = df_test.apply(lambda x: dm.same_mol(x['MOL'], x['Predicted Pose']), axis=1)"
   ]
  },
  {
   "cell_type": "code",
   "execution_count": 31,
   "metadata": {},
   "outputs": [
    {
     "data": {
      "text/plain": [
       "match\n",
       "True     134\n",
       "False     61\n",
       "Name: count, dtype: int64"
      ]
     },
     "execution_count": 31,
     "metadata": {},
     "output_type": "execute_result"
    }
   ],
   "source": [
    "df_test['match'].value_counts()"
   ]
  },
  {
   "cell_type": "code",
   "execution_count": 208,
   "metadata": {},
   "outputs": [],
   "source": [
    "# what is iundex of all failed matches\n",
    "failed_match = df_test[df_test['match'] == False]"
   ]
  },
  {
   "cell_type": "code",
   "execution_count": 209,
   "metadata": {},
   "outputs": [
    {
     "data": {
      "text/plain": [
       "Protein Label\n",
       "MERS-CoV-Mpro      34\n",
       "SARS-CoV-2-Mpro    27\n",
       "Name: count, dtype: int64"
      ]
     },
     "execution_count": 209,
     "metadata": {},
     "output_type": "execute_result"
    }
   ],
   "source": [
    "failed_match['Protein Label'].value_counts()"
   ]
  },
  {
   "cell_type": "code",
   "execution_count": 36,
   "metadata": {},
   "outputs": [],
   "source": [
    "# save the failed matches to a smi file with corresponding \n",
    "# select all failed matched with protein label SARS-CoV-2-Mpro\n",
    "sars_failed_match = failed_match[failed_match['Protein Label'] == \"SARS-CoV-2-Mpro\"]\n",
    "# save CXSMILES to a file\n",
    "sars_failed_match['CXSMILES'].to_csv('sars_failed_match.smi', index=False)"
   ]
  },
  {
   "cell_type": "code",
   "execution_count": null,
   "metadata": {},
   "outputs": [],
   "source": []
  },
  {
   "cell_type": "code",
   "execution_count": null,
   "metadata": {},
   "outputs": [],
   "source": [
    "mars_failed_match = failed_match[failed_match['Protein Label'] == \"MERS-CoV-Mpro\"]\n",
    "# save CXSMILES to a file\n",
    "# mars_failed_match['CXSMILES'].to_csv('mars_failed_match.smi', index=False)"
   ]
  },
  {
   "cell_type": "code",
   "execution_count": 228,
   "metadata": {},
   "outputs": [
    {
     "data": {
      "text/plain": [
       "3      CNC(=O)CN1C[C@@]2(C(=O)N(c3cncc4ccccc34)C[C@@H...\n",
       "10     C[C@H]1CN(c2cncc3ccccc23)C(=O)[C@@]12CN(CC#N)C...\n",
       "11     CCC(=O)[N@H+]1CCCc2c(N(Cc3cccc(Cl)c3)C(=O)Cc3c...\n",
       "24     C[C@H]1C[NH+](CCN2C[C@@]3(C(=O)N(c4cncc5ccccc4...\n",
       "32     C[C@H]1CN(c2cncc3ccccc23)C(=O)[C@@]12CN(CC[N@@...\n",
       "33     C[C@H]1C[N@H+](CCN2C[C@@]3(C(=O)N(c4cncc5ccccc...\n",
       "35      C[C@H]1C[C@H](c2ccccc2)N(C(=O)Cc2cncc3ccccc23)C1\n",
       "40     O=C(C[N@H+]1Cc2ccc(Cl)cc2[C@H](C(=O)Nc2cncc3cc...\n",
       "44     C[C@H]1C[N@@H+](CCN2C[C@@]3(C(=O)N(c4cncc5cccc...\n",
       "47     C[NH2+]CCN1C[C@@]2(C(=O)N(c3cncc4ccccc34)C[C@@...\n",
       "54     O=C1N[C@]2(C[C@H](c3ccccc3Cl)C2)C(=O)N1c1cncc2...\n",
       "56     CC[C@H]1C[C@@H](C(F)(F)F)CCN1C(=O)Cc1cncc2ccccc12\n",
       "57     C[NH2+]CCN1C[C@@]2(C(=O)N(c3cncc4ccccc34)C[C@@...\n",
       "58     C[NH2+]CCN1C[C@@]2(C(=O)N(c3cncc4ccccc34)C[C@@...\n",
       "61     C[C@H]1CN(c2cncc3ccccc23)C(=O)[C@@]12CN(CC[N@H...\n",
       "68     N#CCc1ccc(N(Cc2cccc(Cl)c2)C(=O)Cc2cncc3ccccc23...\n",
       "75     C[NH2+]CCN1C[C@@]2(C(=O)N(c3cncc4ccccc34)C[C@@...\n",
       "92     CNC(=O)CN1C[C@@]2(C(=O)N(c3cncc4ccccc34)C[C@@H...\n",
       "107    O=C1c2ccc(Cl)cc2[C@@]2(CN1CC[NH+]1CC3(COC3)C1)...\n",
       "116            O=C(Cc1cncc2ccccc12)N1CCCSC[C@H]1C(F)(F)F\n",
       "128    C[C@H]1CN(c2cncc3ccccc23)C(=O)[C@@]12CN(CC[N@@...\n",
       "131    C[C@H]1CN(c2cncc3ccccc23)C(=O)[C@@]12CN(CC[NH+...\n",
       "132    CNC(=O)CN1C(=O)C2=CC=C(Cl)C[C@@]23[C@@H]1[C@]3...\n",
       "134     O=C(Cc1cncc2ccccc12)N1CC[C@H]2CCC(F)(F)C[C@H]2C1\n",
       "135    C[NH2+]CCN1C[C@@]2(C(=O)N(c3cncc4ccccc34)C[C@@...\n",
       "147    C[C@H]1CN(c2cncc3ccccc23)C(=O)[C@@]12CN(C1C[NH...\n",
       "151    C[C@H]1CN(c2cncc3ccccc23)C(=O)[C@@]12CN(CC[NH+...\n",
       "154    COC(=O)N[C@H](C(=O)N1C[C@H](C(F)(F)F)C[C@H]1C(...\n",
       "163    C[C@@H]1COC[C@@H](C)[NH+]1CCN1C[C@@]2(C(=O)N(c...\n",
       "178                       O=C(Cc1cncc2ccccc12)N1CC=CCCC1\n",
       "179    C[C@H]1CN(c2cncc3ccccc23)C(=O)[C@@]12CN(CC[NH+...\n",
       "185        O=C(Cc1cncc2ccccc12)N1C=CC=CC=C[C@H]1c1ccccc1\n",
       "186    C[NH2+]CCN1C[C@@]2(C(=O)N(c3cncc4ccccc34)C[C@@...\n",
       "188    CCC(=O)[N@@H+]1CCCc2c(N(Cc3cccc(Cl)c3)C(=O)Cc3...\n",
       "Name: CXSMILES, dtype: object"
      ]
     },
     "execution_count": 228,
     "metadata": {},
     "output_type": "execute_result"
    }
   ],
   "source": [
    "mars_failed_match['CXSMILES']"
   ]
  },
  {
   "cell_type": "code",
   "execution_count": 229,
   "metadata": {},
   "outputs": [
    {
     "data": {
      "text/plain": [
       "185    O=C(Cc1cncc2ccccc12)N1C=CC=CC=C[C@H]1c1ccccc1\n",
       "Name: CXSMILES, dtype: object"
      ]
     },
     "execution_count": 229,
     "metadata": {},
     "output_type": "execute_result"
    }
   ],
   "source": [
    "df_test[(df_test['Protein Label'] == \"MERS-CoV-Mpro\") & (df_test['match'] == False)]['CXSMILES']"
   ]
  },
  {
   "cell_type": "code",
   "execution_count": 51,
   "metadata": {},
   "outputs": [],
   "source": [
    "def fix_unmatched(p0_file,p1_file, protein,rm,rn):\n",
    "    # read a sdf file\n",
    "    sars_p0 = Chem.SDMolSupplier(p0_file,sanitize=False)\n",
    "    sars_p1 = Chem.SDMolSupplier(p1_file,sanitize=False)\n",
    "\n",
    "    # create a pandas df with sars_p0 name and LF dg\n",
    "    sars_p0_df = pd.DataFrame()\n",
    "    sars_p0_df['name'] = [mol.GetProp('_Name') for mol in sars_p0]\n",
    "    sars_p0_df['LF dg'] = [mol.GetProp('LF dG') for mol in sars_p0]\n",
    "    sars_p0_df['Structure_p0'] = [mol for mol in sars_p0]\n",
    "\n",
    "    # create a pandas df with sars_p0 name and LF dg\n",
    "    sars_p1_df = pd.DataFrame()\n",
    "    sars_p1_df['name'] = [mol.GetProp('_Name') for mol in sars_p1]\n",
    "    sars_p1_df['LF dg'] = [mol.GetProp('LF dG') for mol in sars_p1]\n",
    "    sars_p1_df['Structure_p1'] = [mol for mol in sars_p1]\n",
    "\n",
    "\n",
    "    sars_p1_df = sars_p1_df.sort_values(by='name')\n",
    "    sars_p1_df = sars_p1_df.rename(columns={'LF dg': 'LF dg p1'})\n",
    "    sars_p1_df['name'] = sars_p1_df['name'].str[:-rn]\n",
    "\n",
    "    sars_p0_df = sars_p0_df.sort_values(by='name')\n",
    "    sars_p0_df = sars_p0_df.rename(columns={'LF dg': 'LF dg p0'})\n",
    "\n",
    "\n",
    "    # merge sars_p0_df and sars_p1_df by name and reset index\n",
    "    sars_merged = pd.merge(sars_p0_df, sars_p1_df, on='name').reset_index(drop=True)\n",
    "    sars_merged['better_pocket'] = np.where(sars_merged['LF dg p0'] > sars_merged['LF dg p1'], 'p0', 'p1')\n",
    "    sars_merged['final_structure'] = np.where(sars_merged['LF dg p0'] > sars_merged['LF dg p1'], sars_merged['Structure_p0'], sars_merged['Structure_p1'])\n",
    "    # in name of sars_merged , remove _D and sars_failed_match:\n",
    "    sars_merged['name'] = sars_merged['name'].str.replace('_D', '')\n",
    "    sars_merged['name'] = sars_merged['name'].str.replace(rm, '')\n",
    "    sars_merged['name'] = sars_merged['name'].apply(int)\n",
    "    sars_merged = sars_merged.sort_values(by='name')\n",
    "\n",
    "    # find the index of failed matches in df_test that are SARS-CoV-2-Mpro\n",
    "    sars_failed_match_index = df_test[(df_test['Protein Label'] == protein) & (df_test['match'] == False)].index\n",
    "    sars_merged['key'] = sars_failed_match_index\n",
    "\n",
    "    df_test['Predicted Pose Copy'] = df_test['Predicted Pose']\n",
    "\n",
    "    # go through sars_merged, the key is the index of failed matches in df_test and replace MOL with final_structure\n",
    "    for index, row in sars_merged.iterrows():\n",
    "        df_test.at[row['key'], 'Predicted Pose'] = row['final_structure']\n",
    "        \n",
    "    df_test['match'] = df_test.apply(lambda x: dm.same_mol(x['MOL'], x['Predicted Pose']), axis=1)"
   ]
  },
  {
   "cell_type": "code",
   "execution_count": 52,
   "metadata": {},
   "outputs": [
    {
     "data": {
      "text/plain": [
       "Index([ 12,  18,  19,  22,  25,  31,  36,  49,  50,  52,  77,  78,  88,  89,\n",
       "        95, 108, 111, 115, 127, 136, 138, 142, 155, 170, 171, 175, 194],\n",
       "      dtype='int64')"
      ]
     },
     "execution_count": 52,
     "metadata": {},
     "output_type": "execute_result"
    }
   ],
   "source": [
    "# index of all match = false for SARS-CoV-2-Mpro\n",
    "df_test[(df_test['Protein Label'] == \"SARS-CoV-2-Mpro\") & (df_test['match'] == False)].index"
   ]
  },
  {
   "cell_type": "code",
   "execution_count": 53,
   "metadata": {},
   "outputs": [
    {
     "name": "stderr",
     "output_type": "stream",
     "text": [
      "[21:22:43] tetrahedral chirality on atom with <3 or >4 neighbors will be ignored.\n",
      "[21:22:43] tetrahedral chirality on atom with <3 or >4 neighbors will be ignored.\n",
      "[21:22:43] tetrahedral chirality on atom with <3 or >4 neighbors will be ignored.\n",
      "[21:22:43] tetrahedral chirality on atom with <3 or >4 neighbors will be ignored.\n",
      "[21:22:43] tetrahedral chirality on atom with <3 or >4 neighbors will be ignored.\n",
      "[21:22:43] tetrahedral chirality on atom with <3 or >4 neighbors will be ignored.\n",
      "[21:22:43] tetrahedral chirality on atom with <3 or >4 neighbors will be ignored.\n",
      "[21:22:43] tetrahedral chirality on atom with <3 or >4 neighbors will be ignored.\n",
      "[21:22:43] tetrahedral chirality on atom with <3 or >4 neighbors will be ignored.\n",
      "[21:22:43] tetrahedral chirality on atom with <3 or >4 neighbors will be ignored.\n",
      "[21:22:43] tetrahedral chirality on atom with <3 or >4 neighbors will be ignored.\n",
      "[21:22:43] tetrahedral chirality on atom with <3 or >4 neighbors will be ignored.\n",
      "[21:22:43] tetrahedral chirality on atom with <3 or >4 neighbors will be ignored.\n",
      "[21:22:43] tetrahedral chirality on atom with <3 or >4 neighbors will be ignored.\n",
      "[21:22:43] tetrahedral chirality on atom with <3 or >4 neighbors will be ignored.\n",
      "[21:22:43] tetrahedral chirality on atom with <3 or >4 neighbors will be ignored.\n",
      "[21:22:43] tetrahedral chirality on atom with <3 or >4 neighbors will be ignored.\n"
     ]
    }
   ],
   "source": [
    "fix_unmatched(\"docked_flare_pocket_0.sdf\", \"docked_flare_pocket_1.sdf\", \"SARS-CoV-2-Mpro\",'sars_failed_match:',2)"
   ]
  },
  {
   "cell_type": "code",
   "execution_count": 54,
   "metadata": {},
   "outputs": [
    {
     "name": "stderr",
     "output_type": "stream",
     "text": [
      "[21:22:44] tetrahedral chirality on atom with <3 or >4 neighbors will be ignored.\n",
      "[21:22:44] tetrahedral chirality on atom with <3 or >4 neighbors will be ignored.\n",
      "[21:22:44] tetrahedral chirality on atom with <3 or >4 neighbors will be ignored.\n",
      "[21:22:44] tetrahedral chirality on atom with <3 or >4 neighbors will be ignored.\n",
      "[21:22:44] tetrahedral chirality on atom with <3 or >4 neighbors will be ignored.\n",
      "[21:22:44] tetrahedral chirality on atom with <3 or >4 neighbors will be ignored.\n",
      "[21:22:44] tetrahedral chirality on atom with <3 or >4 neighbors will be ignored.\n",
      "[21:22:44] tetrahedral chirality on atom with <3 or >4 neighbors will be ignored.\n",
      "[21:22:44] tetrahedral chirality on atom with <3 or >4 neighbors will be ignored.\n",
      "[21:22:44] tetrahedral chirality on atom with <3 or >4 neighbors will be ignored.\n",
      "[21:22:44] tetrahedral chirality on atom with <3 or >4 neighbors will be ignored.\n",
      "[21:22:44] tetrahedral chirality on atom with <3 or >4 neighbors will be ignored.\n",
      "[21:22:44] tetrahedral chirality on atom with <3 or >4 neighbors will be ignored.\n",
      "[21:22:44] tetrahedral chirality on atom with <3 or >4 neighbors will be ignored.\n",
      "[21:22:44] tetrahedral chirality on atom with <3 or >4 neighbors will be ignored.\n",
      "[21:22:44] tetrahedral chirality on atom with <3 or >4 neighbors will be ignored.\n",
      "[21:22:44] tetrahedral chirality on atom with <3 or >4 neighbors will be ignored.\n"
     ]
    }
   ],
   "source": [
    "fix_unmatched(\"docked_flare_pocket_0_mers.sdf\", \"docked_flare_pocket_1_mers.sdf\", \"MERS-CoV-Mpro\",'mars_failed_match:',4)"
   ]
  },
  {
   "cell_type": "code",
   "execution_count": 55,
   "metadata": {},
   "outputs": [
    {
     "data": {
      "image/png": "[encoded data removed]",
      "text/plain": [
       "<rdkit.Chem.rdchem.Mol at 0x7f8b752a3f40>"
      ]
     },
     "execution_count": 55,
     "metadata": {},
     "output_type": "execute_result"
    }
   ],
   "source": [
    "df_test[(df_test['Protein Label'] == \"MERS-CoV-Mpro\") & (df_test['match'] == False)]['MOL'].values[0]"
   ]
  },
  {
   "cell_type": "code",
   "execution_count": 56,
   "metadata": {},
   "outputs": [],
   "source": [
    "p =df_test[(df_test['Protein Label'] == \"MERS-CoV-Mpro\") & (df_test['match'] == False)]['Predicted Pose'].values[0]"
   ]
  },
  {
   "cell_type": "code",
   "execution_count": 57,
   "metadata": {},
   "outputs": [
    {
     "data": {
      "image/png": "[encoded data removed]",
      "text/plain": [
       "<rdkit.Chem.rdchem.Mol at 0x7f8b745a2420>"
      ]
     },
     "execution_count": 57,
     "metadata": {},
     "output_type": "execute_result"
    }
   ],
   "source": [
    "\n",
    "Chem.MolFromSmiles(Chem.MolToSmiles(p))"
   ]
  },
  {
   "cell_type": "code",
   "execution_count": 58,
   "metadata": {},
   "outputs": [
    {
     "data": {
      "text/plain": [
       "False"
      ]
     },
     "execution_count": 58,
     "metadata": {},
     "output_type": "execute_result"
    }
   ],
   "source": [
    "dm.same_mol(p,df_test[(df_test['Protein Label'] == \"MERS-CoV-Mpro\") & (df_test['match'] == False)]['MOL'].values[0])"
   ]
  },
  {
   "cell_type": "code",
   "execution_count": 59,
   "metadata": {},
   "outputs": [
    {
     "data": {
      "text/plain": [
       "'MCCGVVMSKBCSRH-IGXKNELUSA-N'"
      ]
     },
     "execution_count": 59,
     "metadata": {},
     "output_type": "execute_result"
    }
   ],
   "source": [
    "dm.to_inchikey(p)"
   ]
  },
  {
   "cell_type": "code",
   "execution_count": 240,
   "metadata": {},
   "outputs": [
    {
     "data": {
      "text/plain": [
       "'MCCGVVMSKBCSRH-QHCPKHFHSA-N'"
      ]
     },
     "execution_count": 240,
     "metadata": {},
     "output_type": "execute_result"
    }
   ],
   "source": [
    "dm.to_inchikey(df_test[(df_test['Protein Label'] == \"MERS-CoV-Mpro\") & (df_test['match'] == False)]['MOL'].values[0])"
   ]
  },
  {
   "cell_type": "code",
   "execution_count": 60,
   "metadata": {},
   "outputs": [
    {
     "data": {
      "text/html": [
       "<div>\n",
       "<style scoped>\n",
       "    .dataframe tbody tr th:only-of-type {\n",
       "        vertical-align: middle;\n",
       "    }\n",
       "\n",
       "    .dataframe tbody tr th {\n",
       "        vertical-align: top;\n",
       "    }\n",
       "\n",
       "    .dataframe thead th {\n",
       "        text-align: right;\n",
       "    }\n",
       "</style>\n",
       "<table border=\"1\" class=\"dataframe\">\n",
       "  <thead>\n",
       "    <tr style=\"text-align: right;\">\n",
       "      <th></th>\n",
       "      <th>CXSMILES</th>\n",
       "      <th>Protein Label</th>\n",
       "      <th>Chain B Sequence</th>\n",
       "      <th>Chain A Sequence</th>\n",
       "      <th>Predicted Pose</th>\n",
       "      <th>MOL</th>\n",
       "      <th>match</th>\n",
       "      <th>Sample</th>\n",
       "      <th>Predicted Pose Copy</th>\n",
       "    </tr>\n",
       "  </thead>\n",
       "  <tbody>\n",
       "    <tr>\n",
       "      <th>185</th>\n",
       "      <td>O=C(Cc1cncc2ccccc12)N1C=CC=CC=C[C@H]1c1ccccc1</td>\n",
       "      <td>MERS-CoV-Mpro</td>\n",
       "      <td>SGLVKMSHPSGDVEACMVQVTCGSMTLNGLWLDNTVWCPRHVMCPA...</td>\n",
       "      <td>SGLVKMSHPSGDVEACMVQVTCGSMTLNGLWLDNTVWCPRHVMCPA...</td>\n",
       "      <td>&lt;rdkit.Chem.rdchem.Mol object at 0x7f8b745a1380&gt;</td>\n",
       "      <td>&lt;rdkit.Chem.rdchem.Mol object at 0x7f8b752a3f40&gt;</td>\n",
       "      <td>False</td>\n",
       "      <td>&lt;rdkit.Chem.rdchem.Mol object at 0x7f8b746f1460&gt;</td>\n",
       "      <td>&lt;rdkit.Chem.rdchem.Mol object at 0x7f8b804e70d0&gt;</td>\n",
       "    </tr>\n",
       "  </tbody>\n",
       "</table>\n",
       "</div>"
      ],
      "text/plain": [
       "                                          CXSMILES  Protein Label  \\\n",
       "185  O=C(Cc1cncc2ccccc12)N1C=CC=CC=C[C@H]1c1ccccc1  MERS-CoV-Mpro   \n",
       "\n",
       "                                      Chain B Sequence  \\\n",
       "185  SGLVKMSHPSGDVEACMVQVTCGSMTLNGLWLDNTVWCPRHVMCPA...   \n",
       "\n",
       "                                      Chain A Sequence  \\\n",
       "185  SGLVKMSHPSGDVEACMVQVTCGSMTLNGLWLDNTVWCPRHVMCPA...   \n",
       "\n",
       "                                       Predicted Pose  \\\n",
       "185  <rdkit.Chem.rdchem.Mol object at 0x7f8b745a1380>   \n",
       "\n",
       "                                                  MOL  match  \\\n",
       "185  <rdkit.Chem.rdchem.Mol object at 0x7f8b752a3f40>  False   \n",
       "\n",
       "                                               Sample  \\\n",
       "185  <rdkit.Chem.rdchem.Mol object at 0x7f8b746f1460>   \n",
       "\n",
       "                                  Predicted Pose Copy  \n",
       "185  <rdkit.Chem.rdchem.Mol object at 0x7f8b804e70d0>  "
      ]
     },
     "execution_count": 60,
     "metadata": {},
     "output_type": "execute_result"
    }
   ],
   "source": [
    "df_test[df_test['match'] == False]"
   ]
  },
  {
   "cell_type": "code",
   "execution_count": 181,
   "metadata": {},
   "outputs": [
    {
     "data": {
      "text/plain": [
       "194"
      ]
     },
     "execution_count": 181,
     "metadata": {},
     "output_type": "execute_result"
    }
   ],
   "source": [
    "index"
   ]
  },
  {
   "cell_type": "code",
   "execution_count": 188,
   "metadata": {},
   "outputs": [
    {
     "data": {
      "text/plain": [
       "'C[C@@H]1COC[C@@]2(C1)NC(=O)N(c1cncc3ccccc13)C2=O'"
      ]
     },
     "execution_count": 188,
     "metadata": {},
     "output_type": "execute_result"
    }
   ],
   "source": [
    "df_test.iloc[index]['CXSMILES']"
   ]
  },
  {
   "cell_type": "code",
   "execution_count": null,
   "metadata": {},
   "outputs": [],
   "source": [
    "# save "
   ]
  },
  {
   "cell_type": "code",
   "execution_count": null,
   "metadata": {},
   "outputs": [
    {
     "data": {
      "image/png": "[encoded data removed]",
      "text/plain": [
       "<rdkit.Chem.rdchem.Mol at 0x7f65bbf16570>"
      ]
     },
     "execution_count": 185,
     "metadata": {},
     "output_type": "execute_result"
    }
   ],
   "source": []
  },
  {
   "cell_type": "code",
   "execution_count": 155,
   "metadata": {},
   "outputs": [],
   "source": [
    "y_pred_serialized = [serialize_rdkit_mol(mol) for mol in df_test['Predicted Pose Bond Fixed'].values]"
   ]
  },
  {
   "cell_type": "code",
   "execution_count": 156,
   "metadata": {},
   "outputs": [
    {
     "data": {
      "image/png": "[encoded data removed]",
      "text/plain": [
       "<rdkit.Chem.rdchem.Mol at 0x7f9774370540>"
      ]
     },
     "execution_count": 156,
     "metadata": {},
     "output_type": "execute_result"
    }
   ],
   "source": [
    "deserialized = Chem.Mol(base64.b64decode(y_pred_serialized[0].encode(\"ascii\")))\n",
    "deserialized"
   ]
  },
  {
   "cell_type": "code",
   "execution_count": 157,
   "metadata": {},
   "outputs": [
    {
     "data": {
      "image/png": "[encoded data removed]",
      "text/plain": [
       "<rdkit.Chem.rdchem.Mol at 0x7f9774400b30>"
      ]
     },
     "execution_count": 157,
     "metadata": {},
     "output_type": "execute_result"
    }
   ],
   "source": [
    "df_test['Predicted Pose Bond Fixed'][0]"
   ]
  },
  {
   "cell_type": "code",
   "execution_count": 158,
   "metadata": {},
   "outputs": [
    {
     "name": "stderr",
     "output_type": "stream",
     "text": [
      "[02:02:36] tetrahedral chirality on atom with <3 or >4 neighbors will be ignored.\n"
     ]
    },
    {
     "data": {
      "text/plain": [
       "True"
      ]
     },
     "execution_count": 158,
     "metadata": {},
     "output_type": "execute_result"
    }
   ],
   "source": [
    "dm.same_mol(df_test['Predicted Pose Bond Fixed'][0], deserialized)"
   ]
  },
  {
   "cell_type": "code",
   "execution_count": 159,
   "metadata": {},
   "outputs": [],
   "source": [
    "df_test['ref heavy atoms'] = df_test['MOL'].apply(lambda x: x.GetNumHeavyAtoms())\n",
    "df_test['pred heavy atoms'] = df_test['Predicted Pose Bond Fixed'].apply(lambda x: x.GetNumHeavyAtoms())\n"
   ]
  },
  {
   "cell_type": "code",
   "execution_count": 160,
   "metadata": {},
   "outputs": [],
   "source": [
    "df_test['num heavy atomns diff'] = df_test['ref heavy atoms'] - df_test['pred heavy atoms']"
   ]
  },
  {
   "cell_type": "code",
   "execution_count": 161,
   "metadata": {},
   "outputs": [
    {
     "data": {
      "text/plain": [
       "num heavy atomns diff\n",
       "0    195\n",
       "Name: count, dtype: int64"
      ]
     },
     "execution_count": 161,
     "metadata": {},
     "output_type": "execute_result"
    }
   ],
   "source": [
    "df_test['num heavy atomns diff'] = df_test['num heavy atomns diff'].astype(int)\n",
    "df_test['num heavy atomns diff'].value_counts()"
   ]
  },
  {
   "cell_type": "code",
   "execution_count": 162,
   "metadata": {},
   "outputs": [
    {
     "data": {
      "text/html": [
       "<pre style=\"white-space:pre;overflow-x:auto;line-height:normal;font-family:Menlo,'DejaVu Sans Mono',consolas,'Courier New',monospace\">/home/s1905547/.conda/envs/boltzswan/lib/python3.12/site-packages/rich/live.py:231: UserWarning: install \n",
       "\"ipywidgets\" for Jupyter support\n",
       "  warnings.warn('install \"ipywidgets\" for Jupyter support')\n",
       "</pre>\n"
      ],
      "text/plain": [
       "/home/s1905547/.conda/envs/boltzswan/lib/python3.12/site-packages/rich/live.py:231: UserWarning: install \n",
       "\"ipywidgets\" for Jupyter support\n",
       "  warnings.warn('install \"ipywidgets\" for Jupyter support')\n"
      ]
     },
     "metadata": {},
     "output_type": "display_data"
    },
    {
     "data": {
      "text/html": [
       "<pre style=\"white-space:pre;overflow-x:auto;line-height:normal;font-family:Menlo,'DejaVu Sans Mono',consolas,'Courier New',monospace\"><span style=\"color: #7fbfbf; text-decoration-color: #7fbfbf\">[02:03:55] </span><span style=\"color: #008000; text-decoration-color: #008000\"> Success: Submitting competition predictions</span>                                               <a href=\"file:///home/s1905547/.conda/envs/boltzswan/lib/python3.12/site-packages/polaris/utils/context.py\" target=\"_blank\"><span style=\"color: #7f7f7f; text-decoration-color: #7f7f7f\">context.py</span></a><span style=\"color: #7f7f7f; text-decoration-color: #7f7f7f\">:</span><a href=\"file:///home/s1905547/.conda/envs/boltzswan/lib/python3.12/site-packages/polaris/utils/context.py#53\" target=\"_blank\"><span style=\"color: #7f7f7f; text-decoration-color: #7f7f7f\">53</span></a>\n",
       "</pre>\n"
      ],
      "text/plain": [
       "\u001b[2;36m[02:03:55]\u001b[0m\u001b[2;36m \u001b[0m\u001b[32m Success: Submitting competition predictions\u001b[0m                                               \u001b]8;id=719755;file:///home/s1905547/.conda/envs/boltzswan/lib/python3.12/site-packages/polaris/utils/context.py\u001b\\\u001b[2mcontext.py\u001b[0m\u001b]8;;\u001b\\\u001b[2m:\u001b[0m\u001b]8;id=706559;file:///home/s1905547/.conda/envs/boltzswan/lib/python3.12/site-packages/polaris/utils/context.py#53\u001b\\\u001b[2m53\u001b[0m\u001b]8;;\u001b\\\n"
      ]
     },
     "metadata": {},
     "output_type": "display_data"
    },
    {
     "data": {
      "text/html": [
       "<pre style=\"white-space:pre;overflow-x:auto;line-height:normal;font-family:Menlo,'DejaVu Sans Mono',consolas,'Courier New',monospace\"></pre>\n"
      ],
      "text/plain": []
     },
     "metadata": {},
     "output_type": "display_data"
    }
   ],
   "source": [
    "competition.submit_predictions(\n",
    "    predictions=y_pred_serialized,\n",
    "    prediction_name=\"Pose-Prediction-Intermediate-2-Fixed-Alignment-Issue\",\n",
    "    prediction_owner=\"auro\",\n",
    "    report_url=\"https://www.example.com\", \n",
    "    # The below metadata is optional, but recommended.\n",
    "    # github_url=\"https://github.com/polaris-hub/polaris\",\n",
    "    description=\"Apologies, the last submission had alignment mistake. I am now following the latest alignment updates. Please consider this as my final intermediate leaderboard submission.\",\n",
    "    # tags=[\"tutorial\"],\n",
    "    # user_attributes={\"Framework\": \"RDKit\", \"Method\": \"Dummy Baseline\"}\n",
    ")"
   ]
  },
  {
   "cell_type": "code",
   "execution_count": 69,
   "metadata": {},
   "outputs": [],
   "source": [
    "# move the first ligand_i files from train_fasta to anothr folder\n",
    "for i in range(100):\n",
    "    try:\n",
    "        os.rename( f'train_fasta/seq_{i}.fasta',  f'train_fasta_subset/seq_{i}.fasta')\n",
    "    except:\n",
    "        print(f\"file {i} not found\")"
   ]
  },
  {
   "cell_type": "code",
   "execution_count": null,
   "metadata": {},
   "outputs": [],
   "source": []
  }
 ],
 "metadata": {
  "kernelspec": {
   "display_name": "boltzswan",
   "language": "python",
   "name": "python3"
  },
  "language_info": {
   "codemirror_mode": {
    "name": "ipython",
    "version": 3
   },
   "file_extension": ".py",
   "mimetype": "text/x-python",
   "name": "python",
   "nbconvert_exporter": "python",
   "pygments_lexer": "ipython3",
   "version": "3.12.8"
  }
 },
 "nbformat": 4,
 "nbformat_minor": 2
}
