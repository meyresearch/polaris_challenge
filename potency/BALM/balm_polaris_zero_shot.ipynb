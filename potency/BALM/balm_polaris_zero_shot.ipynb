{
 "cells": [
  {
   "cell_type": "code",
   "execution_count": 1,
   "metadata": {},
   "outputs": [],
   "source": [
    "import os\n",
    "import sys\n",
    "\n",
    "# This is to force the path to be on the same level as the dl_ba folder\n",
    "sys.path.append(\"../..\")\n",
    "\n",
    "from transformers import AutoTokenizer\n",
    "import torch\n",
    "from datasets import load_dataset\n",
    "\n",
    "import time\n",
    "\n",
    "from balm import common_utils\n",
    "from balm.models.utils import load_trained_model, load_pretrained_pkd_bounds\n",
    "from balm.configs import Configs\n",
    "from balm.models import BALM\n",
    "\n",
    "DEVICE = \"cuda\""
   ]
  },
  {
   "cell_type": "markdown",
   "metadata": {},
   "source": [
    "# Load Pretrained BindingDB BALM"
   ]
  },
  {
   "cell_type": "code",
   "execution_count": 2,
   "metadata": {},
   "outputs": [
    {
     "name": "stderr",
     "output_type": "stream",
     "text": [
      "Some weights of EsmModel were not initialized from the model checkpoint at facebook/esm2_t30_150M_UR50D and are newly initialized: ['esm.pooler.dense.bias', 'esm.pooler.dense.weight']\n",
      "You should probably TRAIN this model on a down-stream task to be able to use it for predictions and inference.\n",
      "Some weights of RobertaModel were not initialized from the model checkpoint at DeepChem/ChemBERTa-77M-MTR and are newly initialized: ['roberta.pooler.dense.bias', 'roberta.pooler.dense.weight']\n",
      "You should probably TRAIN this model on a down-stream task to be able to use it for predictions and inference.\n",
      "/home/ialibay/github/BALM/scripts/notebooks/../../balm/models/utils.py:33: FutureWarning: You are using `torch.load` with `weights_only=False` (the current default value), which uses the default pickle module implicitly. It is possible to construct malicious pickle data which will execute arbitrary code during unpickling (See https://github.com/pytorch/pytorch/blob/main/SECURITY.md#untrusted-models for more details). In a future release, the default value for `weights_only` will be flipped to `True`. This limits the functions that could be executed during unpickling. Arbitrary objects will no longer be allowed to be loaded via this mode unless they are explicitly allowlisted by the user via `torch.serialization.add_safe_globals`. We recommend you start setting `weights_only=True` for any use case where you don't have full control of the loaded file. Please open an issue on GitHub for any issues related to this experimental feature.\n",
      "  checkpoint = torch.load(\n"
     ]
    },
    {
     "name": "stdout",
     "output_type": "stream",
     "text": [
      "trainable params: 128,160 || all params: 148,923,641 || trainable%: 0.0861\n",
      "trainable params: 221,184 || all params: 3,648,624 || trainable%: 6.0621\n",
      "Loading checkpoint from BALM/bdb-cleaned-r-esm-lokr-chemberta-loha-cosinemse\n",
      "Merging protein model with its adapter\n",
      "Merging drug model with its adapter\n"
     ]
    }
   ],
   "source": [
    "config_filepath = \"../../default_configs/balm_peft.yaml\"\n",
    "configs = Configs(**common_utils.load_yaml(config_filepath))\n",
    "\n",
    "# Load the model\n",
    "model = BALM(configs.model_configs)\n",
    "model = load_trained_model(model, configs.model_configs, is_training=False)\n",
    "model.to(DEVICE)\n",
    "model.eval()\n",
    "# Pretrained pKd lower and upper bounds\n",
    "pkd_lower_bound, pkd_upper_bound = load_pretrained_pkd_bounds(configs.model_configs.checkpoint_path)\n",
    "\n",
    "# Load the tokenizers\n",
    "protein_tokenizer = AutoTokenizer.from_pretrained(\n",
    "    configs.model_configs.protein_model_name_or_path\n",
    ")\n",
    "drug_tokenizer = AutoTokenizer.from_pretrained(\n",
    "    configs.model_configs.drug_model_name_or_path\n",
    ")"
   ]
  },
  {
   "cell_type": "markdown",
   "metadata": {},
   "source": [
    "# Polaris Data Loading"
   ]
  },
  {
   "cell_type": "code",
   "execution_count": 3,
   "metadata": {},
   "outputs": [
    {
     "data": {
      "text/html": [
       "<pre style=\"white-space:pre;overflow-x:auto;line-height:normal;font-family:Menlo,'DejaVu Sans Mono',consolas,'Courier New',monospace\"><span style=\"color: #7fbfbf; text-decoration-color: #7fbfbf\">[2025-02-07 16:50:23] </span><span style=\"color: #000080; text-decoration-color: #000080\">INFO    </span> The version of Polaris that was used to create the artifact <span style=\"font-weight: bold\">(</span><span style=\"color: #008080; text-decoration-color: #008080; font-weight: bold\">0.11</span>.<span style=\"color: #008080; text-decoration-color: #008080; font-weight: bold\">0</span><span style=\"font-weight: bold\">)</span> <a href=\"file:///home/ialibay/software/mambaforge/install/envs/balm/lib/python3.10/site-packages/polaris/_artifact.py\" target=\"_blank\"><span style=\"color: #7f7f7f; text-decoration-color: #7f7f7f\">_artifact.py</span></a><span style=\"color: #7f7f7f; text-decoration-color: #7f7f7f\">:</span><a href=\"file:///home/ialibay/software/mambaforge/install/envs/balm/lib/python3.10/site-packages/polaris/_artifact.py#92\" target=\"_blank\"><span style=\"color: #7f7f7f; text-decoration-color: #7f7f7f\">92</span></a>\n",
       "<span style=\"color: #7fbfbf; text-decoration-color: #7fbfbf\">                      </span>         is different from the currently installed version of Polaris         <span style=\"color: #7f7f7f; text-decoration-color: #7f7f7f\">               </span>\n",
       "<span style=\"color: #7fbfbf; text-decoration-color: #7fbfbf\">                      </span>         <span style=\"font-weight: bold\">(</span><span style=\"color: #008080; text-decoration-color: #008080; font-weight: bold\">0.11</span>.<span style=\"color: #008080; text-decoration-color: #008080; font-weight: bold\">5</span><span style=\"font-weight: bold\">)</span>.                                                            <span style=\"color: #7f7f7f; text-decoration-color: #7f7f7f\">               </span>\n",
       "</pre>\n"
      ],
      "text/plain": [
       "\u001b[2;36m[2025-02-07 16:50:23]\u001b[0m\u001b[2;36m \u001b[0m\u001b[34mINFO    \u001b[0m The version of Polaris that was used to create the artifact \u001b[1m(\u001b[0m\u001b[1;36m0.11\u001b[0m.\u001b[1;36m0\u001b[0m\u001b[1m)\u001b[0m \u001b]8;id=436811;file:///home/ialibay/software/mambaforge/install/envs/balm/lib/python3.10/site-packages/polaris/_artifact.py\u001b\\\u001b[2m_artifact.py\u001b[0m\u001b]8;;\u001b\\\u001b[2m:\u001b[0m\u001b]8;id=933963;file:///home/ialibay/software/mambaforge/install/envs/balm/lib/python3.10/site-packages/polaris/_artifact.py#92\u001b\\\u001b[2m92\u001b[0m\u001b]8;;\u001b\\\n",
       "\u001b[2;36m                      \u001b[0m         is different from the currently installed version of Polaris         \u001b[2m               \u001b[0m\n",
       "\u001b[2;36m                      \u001b[0m         \u001b[1m(\u001b[0m\u001b[1;36m0.11\u001b[0m.\u001b[1;36m5\u001b[0m\u001b[1m)\u001b[0m.                                                            \u001b[2m               \u001b[0m\n"
      ]
     },
     "metadata": {},
     "output_type": "display_data"
    },
    {
     "data": {
      "text/html": [
       "<pre style=\"white-space:pre;overflow-x:auto;line-height:normal;font-family:Menlo,'DejaVu Sans Mono',consolas,'Courier New',monospace\"><span style=\"color: #7fbfbf; text-decoration-color: #7fbfbf\">                      </span><span style=\"color: #808000; text-decoration-color: #808000\">WARNING </span> You're loading data from a remote location. If the dataset is small     <a href=\"file:///home/ialibay/software/mambaforge/install/envs/balm/lib/python3.10/site-packages/polaris/dataset/_base.py\" target=\"_blank\"><span style=\"color: #7f7f7f; text-decoration-color: #7f7f7f\">_base.py</span></a><span style=\"color: #7f7f7f; text-decoration-color: #7f7f7f\">:</span><a href=\"file:///home/ialibay/software/mambaforge/install/envs/balm/lib/python3.10/site-packages/polaris/dataset/_base.py#182\" target=\"_blank\"><span style=\"color: #7f7f7f; text-decoration-color: #7f7f7f\">182</span></a>\n",
       "<span style=\"color: #7fbfbf; text-decoration-color: #7fbfbf\">                      </span>         enough, consider caching the dataset first using                        <span style=\"color: #7f7f7f; text-decoration-color: #7f7f7f\">            </span>\n",
       "<span style=\"color: #7fbfbf; text-decoration-color: #7fbfbf\">                      </span>         <span style=\"color: #800080; text-decoration-color: #800080; font-weight: bold\">CompetitionSpecification.cache</span><span style=\"font-weight: bold\">()</span> for more performant data access.       <span style=\"color: #7f7f7f; text-decoration-color: #7f7f7f\">            </span>\n",
       "</pre>\n"
      ],
      "text/plain": [
       "\u001b[2;36m                     \u001b[0m\u001b[2;36m \u001b[0m\u001b[33mWARNING \u001b[0m You're loading data from a remote location. If the dataset is small     \u001b]8;id=993293;file:///home/ialibay/software/mambaforge/install/envs/balm/lib/python3.10/site-packages/polaris/dataset/_base.py\u001b\\\u001b[2m_base.py\u001b[0m\u001b]8;;\u001b\\\u001b[2m:\u001b[0m\u001b]8;id=564210;file:///home/ialibay/software/mambaforge/install/envs/balm/lib/python3.10/site-packages/polaris/dataset/_base.py#182\u001b\\\u001b[2m182\u001b[0m\u001b]8;;\u001b\\\n",
       "\u001b[2;36m                      \u001b[0m         enough, consider caching the dataset first using                        \u001b[2m            \u001b[0m\n",
       "\u001b[2;36m                      \u001b[0m         \u001b[1;35mCompetitionSpecification.cache\u001b[0m\u001b[1m(\u001b[0m\u001b[1m)\u001b[0m for more performant data access.       \u001b[2m            \u001b[0m\n"
      ]
     },
     "metadata": {},
     "output_type": "display_data"
    }
   ],
   "source": [
    "import polaris as po\n",
    "\n",
    "CHALLENGE = 'antiviral-potency-2025'\n",
    "competition = po.load_competition(f\"asap-discovery/{CHALLENGE}\")\n",
    "\n",
    "train, test = competition.get_train_test_split()"
   ]
  },
  {
   "cell_type": "code",
   "execution_count": 4,
   "metadata": {},
   "outputs": [],
   "source": [
    "import numpy as np\n",
    "\n",
    "sars2_train = []\n",
    "mers_train = []\n",
    "\n",
    "for t in train:\n",
    "    if not np.isnan(t[1]['pIC50 (SARS-CoV-2 Mpro)']):\n",
    "        sars2_train.append((t[0], t[1]['pIC50 (SARS-CoV-2 Mpro)']))\n",
    "    if not np.isnan(t[1]['pIC50 (MERS-CoV Mpro)']):\n",
    "        mers_train.append((t[0], t[1]['pIC50 (MERS-CoV Mpro)']))"
   ]
  },
  {
   "cell_type": "markdown",
   "metadata": {},
   "source": [
    "# Pretrained prediction"
   ]
  },
  {
   "cell_type": "code",
   "execution_count": 21,
   "metadata": {},
   "outputs": [
    {
     "name": "stdout",
     "output_type": "stream",
     "text": [
      "Time taken for 594 predictions: 16.27002239227295\n"
     ]
    }
   ],
   "source": [
    "start = time.time()\n",
    "predictions = {'pIC50 (SARS-CoV-2 Mpro)': [], 'pIC50 (MERS-CoV Mpro)': []}\n",
    "\n",
    "sars2_chains = (\n",
    "    \"SGFRKMAFPSGKVEGCMVQVTCGTTTLNGLWLDDVVYCPRHVICTSEDMLNPNYEDLLIRKSNHNFLVQAGNVQLRVIGHSMQNCVLKLKVDTANPKTPKYKFVRIQPGQTFSVLACYNGSPSGVYQCAMRPNFTIKGSFLNGSCGSVGFNIDYDCVSFCYMHHMELPTGVHAGTDLEGNFYGPFVDRQTAQAAGTDTTITVNVLAWLYAAVINGDRWFLNRFTTTLNDFNLVAMKYNYEPLTQDHVDILGPLSAQTGIAVLDMCASLKELLQNGMNGRTILGSALLEDEFTPFDVVRQCSGVT\",\n",
    "    \"SGFRKMAFPSGKVEGCMVQVTCGTTTLNGLWLDDVVYCPRHVICTSEDMLNPNYEDLLIRKSNHNFLVQAGNVQLRVIGHSMQNCVLKLKVDTANPKTPKYKFVRIQPGQTFSVLACYNGSPSGVYQCAMRPNFTIKGSFLNGSCGSVGFNIDYDCVSFCYMHHMELPTGVHAGTDLEGNFYGPFVDRQTAQAAGTDTTITVNVLAWLYAAVINGDRWFLNRFTTTLNDFNLVAMKYNYEPLTQDHVDILGPLSAQTGIAVLDMCASLKELLQNGMNGRTILGSALLEDEFTPFDVVRQCSGVT\",\n",
    ")\n",
    "mers_chains = (\n",
    "    \"SGLVKMSHPSGDVEACMVQVTCGSMTLNGLWLDNTVWCPRHVMCPADQLSDPNYDALLISMTNHSFSVQKHIGAPANLRVVGHAMQGTLLKLTVDVANPSTPAYTFTTVKPGAAFSVLACYNGRPTGTFTVVMRPNYTIKGSFLCGSCGSVGYTKEGSVINFCYMHQMELANGTHTGSAFDGTMYGAFMDKQVHQVQLTDKYCSVNVVAWLYAAILNGCAWFVKPNRTSVVSFNEWALANQFTEFVGTQSVDMLAVKTGVAIEQLLYAIQQLYTGFQGKQILGSTMLEDEFTPEDVNMQIMGV\",\n",
    "    \"SGLVKMSHPSGDVEACMVQVTCGSMTLNGLWLDNTVWCPRHVMCPADQLSDPNYDALLISMTNHSFSVQKHIGAPANLRVVGHAMQGTLLKLTVDVANPSTPAYTFTTVKPGAAFSVLACYNGRPTGTFTVVMRPNYTIKGSFLCGSCGSVGYTKEGSVINFCYMHQMELANGTHTGSAFDGTMYGAFMDKQVHQVQLTDKYCSVNVVAWLYAAILNGCAWFVKPNRTSVVSFNEWALANQFTEFVGTQSVDMLAVKTGVAIEQLLYAIQQLYTGFQGKQILGSTMLEDEFTPEDVNMQIMGV\",\n",
    ")\n",
    "\n",
    "for entry in test:\n",
    "    # Prepare input\n",
    "    sars2_inputs = protein_tokenizer(sars2_chains[0]+sars2_chains[1], return_tensors=\"pt\").to(DEVICE)\n",
    "    mers_inputs = protein_tokenizer(mers_chains[0]+mers_chains[1], return_tensors=\"pt\").to(DEVICE)\n",
    "    drug_inputs = drug_tokenizer(entry, return_tensors=\"pt\").to(DEVICE)\n",
    "    sars2_inputs = {\n",
    "        \"protein_input_ids\": sars2_inputs[\"input_ids\"],\n",
    "        \"protein_attention_mask\": sars2_inputs[\"attention_mask\"],\n",
    "        \"drug_input_ids\": drug_inputs[\"input_ids\"],\n",
    "        \"drug_attention_mask\": drug_inputs[\"attention_mask\"],\n",
    "    }\n",
    "    mers_inputs = {\n",
    "        \"protein_input_ids\": mers_inputs[\"input_ids\"],\n",
    "        \"protein_attention_mask\": mers_inputs[\"attention_mask\"],\n",
    "        \"drug_input_ids\": drug_inputs[\"input_ids\"],\n",
    "        \"drug_attention_mask\": drug_inputs[\"attention_mask\"],\n",
    "    }\n",
    "    sars2_prediction = model(sars2_inputs)[\"cosine_similarity\"]\n",
    "    sars2_prediction = model.cosine_similarity_to_pkd(\n",
    "        sars2_prediction,\n",
    "        pkd_upper_bound=pkd_upper_bound,\n",
    "        pkd_lower_bound=pkd_lower_bound,\n",
    "    )\n",
    "    mers_prediction = model(mers_inputs)[\"cosine_similarity\"]\n",
    "    mers_prediction = model.cosine_similarity_to_pkd(\n",
    "        mers_prediction,\n",
    "        pkd_upper_bound=pkd_upper_bound,\n",
    "        pkd_lower_bound=pkd_lower_bound,\n",
    "    )\n",
    "    predictions['pIC50 (SARS-CoV-2 Mpro)'].append(sars2_prediction.item())\n",
    "    predictions['pIC50 (MERS-CoV Mpro)'].append(mers_prediction.item())\n",
    "\n",
    "print(f\"Time taken for {len(list(test))*2} predictions: {time.time() - start}\")"
   ]
  },
  {
   "cell_type": "code",
   "execution_count": 30,
   "metadata": {},
   "outputs": [
    {
     "data": {
      "application/vnd.jupyter.widget-view+json": {
       "model_id": "6803c6da5c044c22ae108e3ba623cac2",
       "version_major": 2,
       "version_minor": 0
      },
      "text/plain": [
       "Output()"
      ]
     },
     "metadata": {},
     "output_type": "display_data"
    },
    {
     "data": {
      "text/html": [
       "<pre style=\"white-space:pre;overflow-x:auto;line-height:normal;font-family:Menlo,'DejaVu Sans Mono',consolas,'Courier New',monospace\"><span style=\"color: #7fbfbf; text-decoration-color: #7fbfbf\">[17:39:50] </span><span style=\"color: #008000; text-decoration-color: #008000\"> Success: Submitting competition predictions</span>                                               <a href=\"file:///home/ialibay/software/mambaforge/install/envs/balm/lib/python3.10/site-packages/polaris/utils/context.py\" target=\"_blank\"><span style=\"color: #7f7f7f; text-decoration-color: #7f7f7f\">context.py</span></a><span style=\"color: #7f7f7f; text-decoration-color: #7f7f7f\">:</span><a href=\"file:///home/ialibay/software/mambaforge/install/envs/balm/lib/python3.10/site-packages/polaris/utils/context.py#53\" target=\"_blank\"><span style=\"color: #7f7f7f; text-decoration-color: #7f7f7f\">53</span></a>\n",
       "</pre>\n"
      ],
      "text/plain": [
       "\u001b[2;36m[17:39:50]\u001b[0m\u001b[2;36m \u001b[0m\u001b[32m Success: Submitting competition predictions\u001b[0m                                               \u001b]8;id=829528;file:///home/ialibay/software/mambaforge/install/envs/balm/lib/python3.10/site-packages/polaris/utils/context.py\u001b\\\u001b[2mcontext.py\u001b[0m\u001b]8;;\u001b\\\u001b[2m:\u001b[0m\u001b]8;id=49357;file:///home/ialibay/software/mambaforge/install/envs/balm/lib/python3.10/site-packages/polaris/utils/context.py#53\u001b\\\u001b[2m53\u001b[0m\u001b]8;;\u001b\\\n"
      ]
     },
     "metadata": {},
     "output_type": "display_data"
    },
    {
     "data": {
      "text/html": [
       "<pre style=\"white-space:pre;overflow-x:auto;line-height:normal;font-family:Menlo,'DejaVu Sans Mono',consolas,'Courier New',monospace\"></pre>\n"
      ],
      "text/plain": []
     },
     "metadata": {},
     "output_type": "display_data"
    }
   ],
   "source": [
    "competition.submit_predictions(\n",
    "    predictions=predictions,\n",
    "    prediction_name=\"BALM_potency_pretrained\",\n",
    "    prediction_owner=\"ialibay\",\n",
    "    report_url=\"https://github.com/meyresearch/polaris_challenge/tree/potency\",\n",
    "    github_url=\"https://github.com/meyresearch/polaris_challenge/tree/potency\",\n",
    "    user_attributes={\"Method\": \"BALM\"},\n",
    ")"
   ]
  },
  {
   "cell_type": "markdown",
   "metadata": {},
   "source": [
    "# Few shot training\n",
    "\n",
    "TBD"
   ]
  }
 ],
 "metadata": {
  "kernelspec": {
   "display_name": "Python 3 (ipykernel)",
   "language": "python",
   "name": "python3"
  },
  "language_info": {
   "codemirror_mode": {
    "name": "ipython",
    "version": 3
   },
   "file_extension": ".py",
   "mimetype": "text/x-python",
   "name": "python",
   "nbconvert_exporter": "python",
   "pygments_lexer": "ipython3",
   "version": "3.10.16"
  },
  "widgets": {
   "application/vnd.jupyter.widget-state+json": {
    "state": {
     "6803c6da5c044c22ae108e3ba623cac2": {
      "model_module": "@jupyter-widgets/output",
      "model_module_version": "1.0.0",
      "model_name": "OutputModel",
      "state": {
       "layout": "IPY_MODEL_d757af3305d54130ade0a0de1ea4b31f",
       "outputs": [
        {
         "data": {
          "text/html": "<pre style=\"white-space:pre;overflow-x:auto;line-height:normal;font-family:Menlo,'DejaVu Sans Mono',consolas,'Courier New',monospace\">  <span style=\"color: #800080; text-decoration-color: #800080\">Submitting competition predictions</span> <span style=\"color: #729c1f; text-decoration-color: #729c1f\">━━━━━━━━━━━━━━━━━━━━━━━━━━━━━━━━━━━━━━━━</span> <span style=\"color: #008000; text-decoration-color: #008000\">1/1</span> <span style=\"color: #808000; text-decoration-color: #808000\">0:00:00</span>\n</pre>\n",
          "text/plain": "  \u001b[35mSubmitting competition predictions\u001b[0m \u001b[38;2;114;156;31m━━━━━━━━━━━━━━━━━━━━━━━━━━━━━━━━━━━━━━━━\u001b[0m \u001b[32m1/1\u001b[0m \u001b[33m0:00:00\u001b[0m\n"
         },
         "metadata": {},
         "output_type": "display_data"
        }
       ]
      }
     },
     "d757af3305d54130ade0a0de1ea4b31f": {
      "model_module": "@jupyter-widgets/base",
      "model_module_version": "2.0.0",
      "model_name": "LayoutModel",
      "state": {}
     }
    },
    "version_major": 2,
    "version_minor": 0
   }
  }
 },
 "nbformat": 4,
 "nbformat_minor": 4
}
