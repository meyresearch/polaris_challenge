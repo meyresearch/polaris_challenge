{
 "cells": [
  {
   "cell_type": "code",
   "execution_count": 5,
   "metadata": {},
   "outputs": [],
   "source": [
    "import polaris as po\n",
    "import datamol as mo\n",
    "from splito.simpd import SIMPDSplitter\n",
    "from pathlib import Path\n",
    "import pandas as pd\n",
    "import numpy as np"
   ]
  },
  {
   "cell_type": "markdown",
   "metadata": {},
   "source": [
    "# Load data and save\n",
    "For some reason, retrieving the cached data doesn't work. So saving data to a CSV, the old school way. "
   ]
  },
  {
   "cell_type": "code",
   "execution_count": 3,
   "metadata": {},
   "outputs": [],
   "source": [
    "challenge = \"antiviral-admet-2025\"\n",
    "datadir = Path('../admet/data')\n",
    "datadir.mkdir(exist_ok=True, parents=True)\n",
    "data_fname = datadir.joinpath('train_data.csv')\n",
    "\n",
    "if data_fname.exists: \n",
    "    data = pd.read_csv(str(data_fname))\n",
    "else:\n",
    "    competition = po.load_competition(f\"asap-discovery/{challenge}\")\n",
    "    train, test = competition.get_train_test_split()\n",
    "    data = train.as_dataframe()\n",
    "    data.to_csv(datadir / 'train_data.csv', index=False)"
   ]
  },
  {
   "cell_type": "markdown",
   "metadata": {},
   "source": [
    "# Splitting algorithm\n",
    "\n",
    "## Classify target values\n",
    "\n",
    "The molecules need to be classified as active (good) / inactive (bad).  In the paper they use a cutoff for potency which give a 40/60 split (I think!). I think this is just to ensure we have an approximate fraction of good and bad molecules in the training and test set.  \n",
    "\n",
    "In general, the ideal drug will generally have: \n",
    "\n",
    "1. High solubility -> high KSOL.\n",
    "3. High CNS penetrance -> High MDR1-MDCKII \n",
    "2. Long half life -> low MLM and HLM. \n",
    "4. Low lipophilicity -> Low LogD.\n",
    "\n",
    "So let's rank the compounds, keeping the NaNs present and then take their mean rank after ignoring the NaNs.  Then we'll choose a rank which gives a 60:40 inactive/active split.\n",
    "\n",
    "If you're doing this on potency - just select a IC50 value which you think is good (20nM is the minimal value from the Target Candidate Profiles). "
   ]
  },
  {
   "cell_type": "code",
   "execution_count": null,
   "metadata": {},
   "outputs": [],
   "source": [
    "# Larger rank is better: \n",
    "data['KSOL_rank'] = data['KSOL'].rank(na_option='keep', ascending=True)\n",
    "data['LogD_rank'] = data['LogD'].rank(na_option='keep', ascending=False)\n",
    "data['MLM_rank'] = data['MLM'].rank(na_option='keep', ascending=False)\n",
    "data['HLM_rank'] = data['HLM'].rank(na_option='keep', ascending=False)\n",
    "data['MDR1-MDCKII_rank'] = data['MDR1-MDCKII'].rank(na_option='keep', ascending=True)\n",
    "data['mean_rank'] = data.filter(regex='rank', axis=1).apply(lambda x: np.mean(x.values, where=~np.isnan(x.values)), axis=1)"
   ]
  },
  {
   "cell_type": "markdown",
   "metadata": {},
   "source": [
    "Let's find the rank that gives 40% 'active': "
   ]
  },
  {
   "cell_type": "code",
   "execution_count": 23,
   "metadata": {},
   "outputs": [
    {
     "name": "stdout",
     "output_type": "stream",
     "text": [
      "190: fraction active:  43.3%\n",
      "191: fraction active:  42.4%\n",
      "192: fraction active:  42.4%\n",
      "193: fraction active:  41.7%\n",
      "194: fraction active:  41.2%\n",
      "195: fraction active:  40.3%\n",
      "196: fraction active:  40.1%\n",
      "197: fraction active:  38.9%\n",
      "198: fraction active:  38.5%\n",
      "199: fraction active:  38.5%\n"
     ]
    }
   ],
   "source": [
    "for c in np.arange(190, 200):\n",
    "    print(f\"{c}: fraction active: {np.mean(data['mean_rank'] > c): 4.1%}\")"
   ]
  },
  {
   "cell_type": "code",
   "execution_count": 24,
   "metadata": {},
   "outputs": [],
   "source": [
    "rank_cutoff = 195\n",
    "data['is_active'] = data['mean_rank'] > rank_cutoff"
   ]
  },
  {
   "cell_type": "code",
   "execution_count": null,
   "metadata": {},
   "outputs": [],
   "source": []
  }
 ],
 "metadata": {
  "kernelspec": {
   "display_name": "polaris",
   "language": "python",
   "name": "python3"
  },
  "language_info": {
   "codemirror_mode": {
    "name": "ipython",
    "version": 3
   },
   "file_extension": ".py",
   "mimetype": "text/x-python",
   "name": "python",
   "nbconvert_exporter": "python",
   "pygments_lexer": "ipython3",
   "version": "3.12.8"
  }
 },
 "nbformat": 4,
 "nbformat_minor": 2
}
