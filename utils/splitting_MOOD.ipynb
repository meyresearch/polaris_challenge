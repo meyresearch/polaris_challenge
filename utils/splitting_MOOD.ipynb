{
 "cells": [
  {
   "cell_type": "code",
   "execution_count": 12,
   "metadata": {},
   "outputs": [],
   "source": [
    "import polaris as po\n",
    "import datamol as dm\n",
    "from splito.simpd import SIMPDSplitter\n",
    "import splito\n",
    "from pathlib import Path\n",
    "import pandas as pd\n",
    "import numpy as np\n",
    "import seaborn as sns\n",
    "import matplotlib.pyplot as plt\n",
    "from splito.lohi import LoSplitter\n"
   ]
  },
  {
   "cell_type": "markdown",
   "metadata": {},
   "source": [
    "# Load data and save\n",
    "For some reason, retrieving the cached data doesn't work. So saving data to a CSV, the old school way. "
   ]
  },
  {
   "cell_type": "code",
   "execution_count": 7,
   "metadata": {},
   "outputs": [],
   "source": [
    "challenge = \"antiviral-admet-2025\"\n",
    "datadir = Path('../admet/data')\n",
    "datadir.mkdir(exist_ok=True, parents=True)\n",
    "data_fname = datadir.joinpath('train_inc_censored.csv')\n",
    "data = pd.read_csv(str(data_fname))\n",
    "test_fname = datadir.joinpath('test_data.csv')\n",
    "test = pd.read_csv(str(test_fname))\n",
    "\n"
   ]
  },
  {
   "cell_type": "markdown",
   "metadata": {},
   "source": [
    "# Splitting algorithm\n",
    "\n",
    "We'll be using the MOOD algorithm to select a splitting method. "
   ]
  },
  {
   "cell_type": "code",
   "execution_count": null,
   "metadata": {},
   "outputs": [
    {
     "ename": "TypeError",
     "evalue": "All splitters should be BaseShuffleSplit objects",
     "output_type": "error",
     "traceback": [
      "\u001b[0;31m---------------------------------------------------------------------------\u001b[0m",
      "\u001b[0;31mTypeError\u001b[0m                                 Traceback (most recent call last)",
      "Cell \u001b[0;32mIn[13], line 15\u001b[0m\n\u001b[1;32m      6\u001b[0m Y \u001b[38;5;241m=\u001b[39m data\u001b[38;5;241m.\u001b[39mLogD\n\u001b[1;32m      8\u001b[0m splitters \u001b[38;5;241m=\u001b[39m {\n\u001b[1;32m      9\u001b[0m     \u001b[38;5;124m\"\u001b[39m\u001b[38;5;124mScaffold\u001b[39m\u001b[38;5;124m\"\u001b[39m: splito\u001b[38;5;241m.\u001b[39mScaffoldSplit(data\u001b[38;5;241m.\u001b[39mCXSMILES\u001b[38;5;241m.\u001b[39mvalues),\n\u001b[1;32m     10\u001b[0m     \u001b[38;5;124m\"\u001b[39m\u001b[38;5;124mPerimeter\u001b[39m\u001b[38;5;124m\"\u001b[39m: splito\u001b[38;5;241m.\u001b[39mPerimeterSplit(),\n\u001b[1;32m     11\u001b[0m     \u001b[38;5;124m\"\u001b[39m\u001b[38;5;124mMaxDissimilarity\u001b[39m\u001b[38;5;124m\"\u001b[39m: splito\u001b[38;5;241m.\u001b[39mMaxDissimilaritySplit(),\n\u001b[1;32m     12\u001b[0m     \u001b[38;5;124m\"\u001b[39m\u001b[38;5;124mLOSplit\u001b[39m\u001b[38;5;124m\"\u001b[39m: LoSplitter()\n\u001b[1;32m     13\u001b[0m }\n\u001b[0;32m---> 15\u001b[0m splitter \u001b[38;5;241m=\u001b[39m \u001b[43msplito\u001b[49m\u001b[38;5;241;43m.\u001b[39;49m\u001b[43mMOODSplitter\u001b[49m\u001b[43m(\u001b[49m\u001b[43msplitters\u001b[49m\u001b[43m)\u001b[49m\n",
      "File \u001b[0;32m~/mamba/envs/polaris/lib/python3.12/site-packages/splito/_mood_split.py:111\u001b[0m, in \u001b[0;36mMOODSplitter.__init__\u001b[0;34m(self, candidate_splitters, metric, p, k, n_jobs)\u001b[0m\n\u001b[1;32m    109\u001b[0m \u001b[38;5;28msuper\u001b[39m()\u001b[38;5;241m.\u001b[39m\u001b[38;5;21m__init__\u001b[39m()\n\u001b[1;32m    110\u001b[0m \u001b[38;5;28;01mif\u001b[39;00m \u001b[38;5;129;01mnot\u001b[39;00m \u001b[38;5;28mall\u001b[39m(\u001b[38;5;28misinstance\u001b[39m(obj, BaseShuffleSplit) \u001b[38;5;28;01mfor\u001b[39;00m obj \u001b[38;5;129;01min\u001b[39;00m candidate_splitters\u001b[38;5;241m.\u001b[39mvalues()):\n\u001b[0;32m--> 111\u001b[0m     \u001b[38;5;28;01mraise\u001b[39;00m \u001b[38;5;167;01mTypeError\u001b[39;00m(\u001b[38;5;124m\"\u001b[39m\u001b[38;5;124mAll splitters should be BaseShuffleSplit objects\u001b[39m\u001b[38;5;124m\"\u001b[39m)\n\u001b[1;32m    113\u001b[0m n_splits_per_splitter \u001b[38;5;241m=\u001b[39m [obj\u001b[38;5;241m.\u001b[39mget_n_splits() \u001b[38;5;28;01mfor\u001b[39;00m obj \u001b[38;5;129;01min\u001b[39;00m candidate_splitters\u001b[38;5;241m.\u001b[39mvalues()]\n\u001b[1;32m    114\u001b[0m \u001b[38;5;28;01mif\u001b[39;00m \u001b[38;5;129;01mnot\u001b[39;00m \u001b[38;5;28mlen\u001b[39m(\u001b[38;5;28mset\u001b[39m(n_splits_per_splitter)) \u001b[38;5;241m==\u001b[39m \u001b[38;5;241m1\u001b[39m:\n",
      "\u001b[0;31mTypeError\u001b[0m: All splitters should be BaseShuffleSplit objects"
     ]
    }
   ],
   "source": [
    "dataset_feat = [dm.to_fp(mol) for mol in data.CXSMILES.values]\n",
    "deployment_feat = [dm.to_fp(mol) for mol in test.CXSMILES.values]\n",
    "\n",
    "dataset_feat = data.CXSMILES.values\n",
    "deployment_feat = test.CXSMILES.values\n",
    "Y = data.LogD\n",
    "\n",
    "splitters = {\n",
    "    \"Scaffold\": splito.ScaffoldSplit(data.CXSMILES.values),\n",
    "    \"Perimeter\": splito.PerimeterSplit(),\n",
    "    \"MaxDissimilarity\": splito.MaxDissimilaritySplit(),\n",
    "}\n",
    "\n",
    "splitter = splito.MOODSplitter(splitters)"
   ]
  },
  {
   "cell_type": "code",
   "execution_count": null,
   "metadata": {},
   "outputs": [
    {
     "name": "stderr",
     "output_type": "stream",
     "text": [
      "\u001b[32m2025-02-20 13:39:06.504\u001b[0m | \u001b[1mINFO    \u001b[0m | \u001b[36msplito._mood_split\u001b[0m:\u001b[36mfit\u001b[0m:\u001b[36m308\u001b[0m - \u001b[1mRanked all different splitting methods:\n",
      "              split  representativeness   best  rank\n",
      "0          Scaffold            0.767575   True   1.0\n",
      "1         Perimeter            0.407585  False   2.0\n",
      "2  MaxDissimilarity            0.305543  False   3.0\u001b[0m\n",
      "\u001b[32m2025-02-20 13:39:06.505\u001b[0m | \u001b[1mINFO    \u001b[0m | \u001b[36msplito._mood_split\u001b[0m:\u001b[36mfit\u001b[0m:\u001b[36m309\u001b[0m - \u001b[1mSelected Scaffold as the most representative splitting method\u001b[0m\n"
     ]
    },
    {
     "data": {
      "text/html": [
       "<div>\n",
       "<style scoped>\n",
       "    .dataframe tbody tr th:only-of-type {\n",
       "        vertical-align: middle;\n",
       "    }\n",
       "\n",
       "    .dataframe tbody tr th {\n",
       "        vertical-align: top;\n",
       "    }\n",
       "\n",
       "    .dataframe thead th {\n",
       "        text-align: right;\n",
       "    }\n",
       "</style>\n",
       "<table border=\"1\" class=\"dataframe\">\n",
       "  <thead>\n",
       "    <tr style=\"text-align: right;\">\n",
       "      <th></th>\n",
       "      <th>split</th>\n",
       "      <th>representativeness</th>\n",
       "      <th>best</th>\n",
       "      <th>rank</th>\n",
       "    </tr>\n",
       "  </thead>\n",
       "  <tbody>\n",
       "    <tr>\n",
       "      <th>0</th>\n",
       "      <td>Scaffold</td>\n",
       "      <td>0.767575</td>\n",
       "      <td>True</td>\n",
       "      <td>1.0</td>\n",
       "    </tr>\n",
       "    <tr>\n",
       "      <th>1</th>\n",
       "      <td>Perimeter</td>\n",
       "      <td>0.407585</td>\n",
       "      <td>False</td>\n",
       "      <td>2.0</td>\n",
       "    </tr>\n",
       "    <tr>\n",
       "      <th>2</th>\n",
       "      <td>MaxDissimilarity</td>\n",
       "      <td>0.305543</td>\n",
       "      <td>False</td>\n",
       "      <td>3.0</td>\n",
       "    </tr>\n",
       "  </tbody>\n",
       "</table>\n",
       "</div>"
      ],
      "text/plain": [
       "              split  representativeness   best  rank\n",
       "0          Scaffold            0.767575   True   1.0\n",
       "1         Perimeter            0.407585  False   2.0\n",
       "2  MaxDissimilarity            0.305543  False   3.0"
      ]
     },
     "execution_count": 11,
     "metadata": {},
     "output_type": "execute_result"
    }
   ],
   "source": [
    "splitter.fit(X=np.stack(dataset_feat), y=Y, X_deployment=np.stack(deployment_feat))\n"
   ]
  },
  {
   "cell_type": "code",
   "execution_count": null,
   "metadata": {},
   "outputs": [],
   "source": []
  },
  {
   "cell_type": "markdown",
   "metadata": {},
   "source": []
  }
 ],
 "metadata": {
  "kernelspec": {
   "display_name": "polaris",
   "language": "python",
   "name": "python3"
  },
  "language_info": {
   "codemirror_mode": {
    "name": "ipython",
    "version": 3
   },
   "file_extension": ".py",
   "mimetype": "text/x-python",
   "name": "python",
   "nbconvert_exporter": "python",
   "pygments_lexer": "ipython3",
   "version": "3.12.8"
  }
 },
 "nbformat": 4,
 "nbformat_minor": 2
}
