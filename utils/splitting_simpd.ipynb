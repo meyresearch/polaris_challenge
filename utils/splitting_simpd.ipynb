{
 "cells": [
  {
   "cell_type": "code",
   "execution_count": 2,
   "metadata": {},
   "outputs": [
    {
     "name": "stderr",
     "output_type": "stream",
     "text": [
      "/Users/robertarbon/mamba/envs/polaris/lib/python3.12/site-packages/tqdm/auto.py:21: TqdmWarning: IProgress not found. Please update jupyter and ipywidgets. See https://ipywidgets.readthedocs.io/en/stable/user_install.html\n",
      "  from .autonotebook import tqdm as notebook_tqdm\n"
     ]
    }
   ],
   "source": [
    "import polaris as po\n",
    "import datamol as mo\n",
    "from splito.simpd import SIMPDSplitter\n",
    "from pathlib import Path\n",
    "import pandas as pd\n",
    "import numpy as np\n",
    "import seaborn as sns\n",
    "import matplotlib.pyplot as plt"
   ]
  },
  {
   "cell_type": "markdown",
   "metadata": {},
   "source": [
    "# Load data and save\n",
    "For some reason, retrieving the cached data doesn't work. So saving data to a CSV, the old school way. "
   ]
  },
  {
   "cell_type": "code",
   "execution_count": 3,
   "metadata": {},
   "outputs": [],
   "source": [
    "challenge = \"antiviral-admet-2025\"\n",
    "datadir = Path('../admet/data')\n",
    "datadir.mkdir(exist_ok=True, parents=True)\n",
    "data_fname = datadir.joinpath('train_inc_censored.csv')\n",
    "\n",
    "if data_fname.exists: \n",
    "    data = pd.read_csv(str(data_fname))\n",
    "else:\n",
    "    competition = po.load_competition(f\"asap-discovery/{challenge}\")\n",
    "    train, test = competition.get_train_test_split()\n",
    "    data = train.as_dataframe()\n",
    "    data.to_csv(datadir / 'train_data.csv', index=False)"
   ]
  },
  {
   "cell_type": "markdown",
   "metadata": {},
   "source": [
    "# Splitting algorithm\n",
    "\n",
    "## Classify compounds values\n",
    "\n",
    "The molecules need to be classified as active (good) / inactive (bad).  In the paper they use a cutoff for potency which give a 40/60 split (I think!). I think this is just to ensure we have an approximate fraction of good and bad molecules in the training and test set.  \n",
    "\n",
    "In general, the ideal drug will generally have: \n",
    "\n",
    "1. High solubility -> high KSOL.\n",
    "3. High CNS penetrance -> High MDR1-MDCKII \n",
    "2. Long half life -> low MLM and HLM. \n",
    "4. Low lipophilicity -> Low LogD.\n",
    "\n",
    "So let's rank the compounds, keeping the NaNs present and then take their mean rank after ignoring the NaNs.  Then we'll choose a rank which gives a 60:40 inactive/active split.\n",
    "\n",
    "If you're doing this on potency - just select a IC50 value which you think is good (20nM is the minimal value from the Target Candidate Profiles). "
   ]
  },
  {
   "cell_type": "code",
   "execution_count": 4,
   "metadata": {},
   "outputs": [],
   "source": [
    "# Larger rank is better: \n",
    "data['KSOL_rank'] = data['KSOL'].rank(na_option='keep', ascending=True)\n",
    "data['LogD_rank'] = data['LogD'].rank(na_option='keep', ascending=False)\n",
    "data['MLM_rank'] = data['MLM'].rank(na_option='keep', ascending=False)\n",
    "data['HLM_rank'] = data['HLM'].rank(na_option='keep', ascending=False)\n",
    "data['MDR1-MDCKII_rank'] = data['MDR1-MDCKII'].rank(na_option='keep', ascending=True)\n",
    "data['mean_rank'] = data.filter(regex='rank', axis=1).apply(lambda x: np.mean(x.values, where=~np.isnan(x.values)), axis=1)"
   ]
  },
  {
   "cell_type": "markdown",
   "metadata": {},
   "source": [
    "Let's find the rank that gives 40% 'active': "
   ]
  },
  {
   "cell_type": "code",
   "execution_count": 6,
   "metadata": {},
   "outputs": [
    {
     "name": "stdout",
     "output_type": "stream",
     "text": [
      "200: fraction active:  42.9%\n",
      "201: fraction active:  42.9%\n",
      "202: fraction active:  42.2%\n",
      "203: fraction active:  41.7%\n",
      "204: fraction active:  41.5%\n",
      "205: fraction active:  41.0%\n",
      "206: fraction active:  40.8%\n",
      "207: fraction active:  40.3%\n",
      "208: fraction active:  40.1%\n",
      "209: fraction active:  39.2%\n",
      "210: fraction active:  38.5%\n",
      "211: fraction active:  38.5%\n",
      "212: fraction active:  38.2%\n",
      "213: fraction active:  37.1%\n",
      "214: fraction active:  36.6%\n",
      "215: fraction active:  36.2%\n",
      "216: fraction active:  35.7%\n",
      "217: fraction active:  35.3%\n",
      "218: fraction active:  35.0%\n",
      "219: fraction active:  35.0%\n",
      "220: fraction active:  33.9%\n",
      "221: fraction active:  33.2%\n",
      "222: fraction active:  33.2%\n",
      "223: fraction active:  32.9%\n",
      "224: fraction active:  32.7%\n",
      "225: fraction active:  32.3%\n",
      "226: fraction active:  31.8%\n",
      "227: fraction active:  31.8%\n",
      "228: fraction active:  30.6%\n",
      "229: fraction active:  29.5%\n",
      "230: fraction active:  29.3%\n",
      "231: fraction active:  28.8%\n",
      "232: fraction active:  27.9%\n",
      "233: fraction active:  27.4%\n",
      "234: fraction active:  26.7%\n",
      "235: fraction active:  26.3%\n",
      "236: fraction active:  26.0%\n",
      "237: fraction active:  25.3%\n",
      "238: fraction active:  24.9%\n",
      "239: fraction active:  24.7%\n",
      "240: fraction active:  24.7%\n",
      "241: fraction active:  24.4%\n",
      "242: fraction active:  24.0%\n",
      "243: fraction active:  23.0%\n",
      "244: fraction active:  22.6%\n",
      "245: fraction active:  21.4%\n",
      "246: fraction active:  20.7%\n",
      "247: fraction active:  20.3%\n",
      "248: fraction active:  20.3%\n",
      "249: fraction active:  20.3%\n"
     ]
    }
   ],
   "source": [
    "for c in np.arange(200, 250):\n",
    "    print(f\"{c}: fraction active: {np.mean(data['mean_rank'] > c): 4.1%}\")"
   ]
  },
  {
   "cell_type": "code",
   "execution_count": 8,
   "metadata": {},
   "outputs": [],
   "source": [
    "rank_cutoff = 208 \n",
    "data['is_active'] = data['mean_rank'] > rank_cutoff"
   ]
  },
  {
   "cell_type": "markdown",
   "metadata": {},
   "source": [
    "Let's have a look at the distribution - we'll put it on a log scale to allow easy comparison"
   ]
  },
  {
   "cell_type": "code",
   "execution_count": 9,
   "metadata": {},
   "outputs": [
    {
     "data": {
      "text/plain": [
       "<seaborn.axisgrid.FacetGrid at 0x18a9505c0>"
      ]
     },
     "execution_count": 9,
     "metadata": {},
     "output_type": "execute_result"
    },
    {
     "data": {
      "image/png": "[encoded data removed]",
      "text/plain": [
       "<Figure size 2584.88x1000 with 10 Axes>"
      ]
     },
     "metadata": {},
     "output_type": "display_data"
    }
   ],
   "source": [
    "\n",
    "for col in [\"MDR1-MDCKII\",\"KSOL\", \"MLM\", \"HLM\"]:  \n",
    "    X = data[col]\n",
    "    X_std = (X - X.min(axis=0)) / (X.max(axis=0) - X.min(axis=0))\n",
    "    X_scaled = X_std * (100 - 1) + 1\n",
    "\n",
    "    data[f'Log{col}'] = np.log(X_scaled)\n",
    "\n",
    "df = data.loc[:, [\"LogMDR1-MDCKII\", \"LogD\",\"LogKSOL\", \"LogMLM\", \"LogHLM\", \"is_active\"]].melt(id_vars='is_active')\n",
    "\n",
    "sns.displot(df, x='value', kind='hist',col='variable', row='is_active', \n",
    "            facet_kws=dict(sharey='col', sharex='col'), hue='is_active'\n",
    "            )"
   ]
  },
  {
   "cell_type": "markdown",
   "metadata": {},
   "source": [
    "## Define the GA parameters\n",
    "\n",
    "See https://jcheminf.biomedcentral.com/articles/10.1186/s13321-023-00787-9#Sec2 'Objectives' for more details and also \n",
    "https://splito-docs.datamol.io/stable/tutorials/MPO_Splitters.html"
   ]
  },
  {
   "cell_type": "code",
   "execution_count": 10,
   "metadata": {},
   "outputs": [],
   "source": [
    "args = {}\n",
    "# GA parameters\n",
    "args[\"n_splits\"] = 5\n",
    "args[\"simpd_descriptors\"] = None\n",
    "args[\"target_train_frac_active\"] = -1\n",
    "args[\"target_test_frac_active\"] = -1\n",
    "args[\"target_delta_test_frac_active\"] = None  # [0.11, 0.30] or None\n",
    "args[\"target_GF_delta_window\"] = (10, 30)\n",
    "args[\"target_G_val\"] = 70\n",
    "args[\"max_population_cluster_entropy\"] = 0.9\n",
    "args[\"pareto_weight_GF_delta\"] = 10\n",
    "args[\"pareto_weight_G\"] = 5\n",
    "\n",
    "# compute parameters\n",
    "args[\"num_threads\"] = 4\n",
    "args[\"random_seed\"] = 111\n",
    "args[\"verbose\"] = True\n",
    "args[\"verbose_pymoo\"] = True\n",
    "args[\"progress\"] = True\n",
    "args[\"progress_leave\"] = True"
   ]
  },
  {
   "cell_type": "markdown",
   "metadata": {},
   "source": [
    "Also need to put the RDKit mol objects in a column "
   ]
  },
  {
   "cell_type": "code",
   "execution_count": 11,
   "metadata": {},
   "outputs": [],
   "source": [
    "data['mol'] = [mo.to_mol(x, sanitize=True) for x in data['CXSMILES']]"
   ]
  },
  {
   "cell_type": "code",
   "execution_count": 12,
   "metadata": {},
   "outputs": [
    {
     "name": "stderr",
     "output_type": "stream",
     "text": [
      "\u001b[32m2025-02-20 13:47:55.880\u001b[0m | \u001b[1mINFO    \u001b[0m | \u001b[36msplito.simpd.preprocess\u001b[0m:\u001b[36mpreprocess_SIMPD_mols\u001b[0m:\u001b[36m55\u001b[0m - \u001b[1mCompute descriptors and fingerprint values for the molecules.\u001b[0m\n",
      "Preprocess molecules: 100%|██████████| 434/434 [00:00<00:00, 747.49it/s]\n",
      "\u001b[32m2025-02-20 13:47:56.491\u001b[0m | \u001b[1mINFO    \u001b[0m | \u001b[36msplito.simpd.preprocess\u001b[0m:\u001b[36mpreprocess_SIMPD_mols\u001b[0m:\u001b[36m78\u001b[0m - \u001b[1mCompute the distance matrix for the molecules.\u001b[0m\n",
      "\u001b[32m2025-02-20 13:47:56.724\u001b[0m | \u001b[1mINFO    \u001b[0m | \u001b[36msplito.simpd.simpd\u001b[0m:\u001b[36mrun_SIMPD\u001b[0m:\u001b[36m92\u001b[0m - \u001b[1mWorking with 434 points and picking 86\u001b[0m\n",
      "\u001b[32m2025-02-20 13:47:56.737\u001b[0m | \u001b[1mINFO    \u001b[0m | \u001b[36msplito.simpd.simpd\u001b[0m:\u001b[36mrun_SIMPD\u001b[0m:\u001b[36m108\u001b[0m - \u001b[1mClustering the starting points with a distance threshold of 0.65 and a cluster size threshold of 8.68.\u001b[0m\n",
      "\u001b[32m2025-02-20 13:47:56.737\u001b[0m | \u001b[1mINFO    \u001b[0m | \u001b[36msplito.simpd.simpd\u001b[0m:\u001b[36mrun_SIMPD\u001b[0m:\u001b[36m111\u001b[0m - \u001b[1m9 clusters have been created of size: [76, 94, 53, 41, 39, 44, 41, 24, 22]\u001b[0m\n",
      "\u001b[32m2025-02-20 13:47:56.800\u001b[0m | \u001b[1mINFO    \u001b[0m | \u001b[36msplito.simpd.simpd\u001b[0m:\u001b[36mrun_SIMPD\u001b[0m:\u001b[36m145\u001b[0m - \u001b[1mStart the optimization.\u001b[0m\n",
      "Optimization:   1%|          | 1/100 [00:00<00:33,  2.96it/s]"
     ]
    },
    {
     "name": "stdout",
     "output_type": "stream",
     "text": [
      "==========================================================================================\n",
      "n_gen  |  n_eval  | n_nds  |     cv_min    |     cv_avg    |      eps      |   indicator  \n",
      "==========================================================================================\n",
      "     1 |      136 |     30 |  0.000000E+00 |  0.000000E+00 |             - |             -\n"
     ]
    },
    {
     "name": "stderr",
     "output_type": "stream",
     "text": [
      "Optimization:   2%|▏         | 2/100 [00:01<01:16,  1.28it/s]"
     ]
    },
    {
     "name": "stdout",
     "output_type": "stream",
     "text": [
      "     2 |      636 |     44 |  0.000000E+00 |  0.0520000000 |  0.0591174022 |         ideal\n"
     ]
    },
    {
     "name": "stderr",
     "output_type": "stream",
     "text": [
      "Optimization:   3%|▎         | 3/100 [00:02<01:26,  1.12it/s]"
     ]
    },
    {
     "name": "stdout",
     "output_type": "stream",
     "text": [
      "     3 |     1136 |     67 |  0.000000E+00 |  0.000000E+00 |  0.0070710742 |         ideal\n"
     ]
    },
    {
     "name": "stderr",
     "output_type": "stream",
     "text": [
      "Optimization:   4%|▍         | 4/100 [00:03<01:29,  1.07it/s]"
     ]
    },
    {
     "name": "stdout",
     "output_type": "stream",
     "text": [
      "     4 |     1636 |     95 |  0.000000E+00 |  0.000000E+00 |  0.1809146584 |         nadir\n"
     ]
    },
    {
     "name": "stderr",
     "output_type": "stream",
     "text": [
      "Optimization:   5%|▌         | 5/100 [00:04<01:32,  1.03it/s]"
     ]
    },
    {
     "name": "stdout",
     "output_type": "stream",
     "text": [
      "     5 |     2136 |    118 |  0.000000E+00 |  0.000000E+00 |  0.0682444027 |             f\n"
     ]
    },
    {
     "name": "stderr",
     "output_type": "stream",
     "text": [
      "Optimization:   6%|▌         | 6/100 [00:05<01:31,  1.02it/s]"
     ]
    },
    {
     "name": "stdout",
     "output_type": "stream",
     "text": [
      "     6 |     2636 |    141 |  0.000000E+00 |  0.000000E+00 |  0.0500416335 |         nadir\n"
     ]
    },
    {
     "name": "stderr",
     "output_type": "stream",
     "text": [
      "Optimization:   7%|▋         | 7/100 [00:06<01:30,  1.02it/s]"
     ]
    },
    {
     "name": "stdout",
     "output_type": "stream",
     "text": [
      "     7 |     3136 |    179 |  0.000000E+00 |  0.000000E+00 |  0.0029031790 |         ideal\n"
     ]
    },
    {
     "name": "stderr",
     "output_type": "stream",
     "text": [
      "Optimization:   8%|▊         | 8/100 [00:07<01:29,  1.02it/s]"
     ]
    },
    {
     "name": "stdout",
     "output_type": "stream",
     "text": [
      "     8 |     3636 |    219 |  0.000000E+00 |  0.000000E+00 |  0.0621605311 |         nadir\n"
     ]
    },
    {
     "name": "stderr",
     "output_type": "stream",
     "text": [
      "Optimization:   9%|▉         | 9/100 [00:08<01:28,  1.02it/s]"
     ]
    },
    {
     "name": "stdout",
     "output_type": "stream",
     "text": [
      "     9 |     4136 |    212 |  0.000000E+00 |  0.000000E+00 |  0.1250000000 |         nadir\n"
     ]
    },
    {
     "name": "stderr",
     "output_type": "stream",
     "text": [
      "Optimization:  10%|█         | 10/100 [00:09<01:28,  1.02it/s]"
     ]
    },
    {
     "name": "stdout",
     "output_type": "stream",
     "text": [
      "    10 |     4636 |    238 |  0.000000E+00 |  0.000000E+00 |  0.0409065782 |         nadir\n"
     ]
    },
    {
     "name": "stderr",
     "output_type": "stream",
     "text": [
      "Optimization:  11%|█         | 11/100 [00:10<01:27,  1.02it/s]"
     ]
    },
    {
     "name": "stdout",
     "output_type": "stream",
     "text": [
      "    11 |     5136 |    265 |  0.000000E+00 |  0.000000E+00 |  0.0267318422 |             f\n"
     ]
    },
    {
     "name": "stderr",
     "output_type": "stream",
     "text": [
      "Optimization:  12%|█▏        | 12/100 [00:11<01:27,  1.01it/s]"
     ]
    },
    {
     "name": "stdout",
     "output_type": "stream",
     "text": [
      "    12 |     5636 |    278 |  0.000000E+00 |  0.000000E+00 |  0.0228965741 |             f\n"
     ]
    },
    {
     "name": "stderr",
     "output_type": "stream",
     "text": [
      "Optimization:  13%|█▎        | 13/100 [00:12<01:26,  1.00it/s]"
     ]
    },
    {
     "name": "stdout",
     "output_type": "stream",
     "text": [
      "    13 |     6136 |    311 |  0.000000E+00 |  0.000000E+00 |  0.0205844802 |             f\n"
     ]
    },
    {
     "name": "stderr",
     "output_type": "stream",
     "text": [
      "Optimization:  14%|█▍        | 14/100 [00:13<01:26,  1.01s/it]"
     ]
    },
    {
     "name": "stdout",
     "output_type": "stream",
     "text": [
      "    14 |     6636 |    326 |  0.000000E+00 |  0.000000E+00 |  0.0665343045 |         nadir\n"
     ]
    },
    {
     "name": "stderr",
     "output_type": "stream",
     "text": [
      "Optimization:  15%|█▌        | 15/100 [00:14<01:26,  1.02s/it]"
     ]
    },
    {
     "name": "stdout",
     "output_type": "stream",
     "text": [
      "    15 |     7136 |    319 |  0.000000E+00 |  0.000000E+00 |  0.0205309878 |             f\n"
     ]
    },
    {
     "name": "stderr",
     "output_type": "stream",
     "text": [
      "Optimization:  16%|█▌        | 16/100 [00:15<01:24,  1.01s/it]"
     ]
    },
    {
     "name": "stdout",
     "output_type": "stream",
     "text": [
      "    16 |     7636 |    331 |  0.000000E+00 |  0.000000E+00 |  0.0180203261 |             f\n"
     ]
    },
    {
     "name": "stderr",
     "output_type": "stream",
     "text": [
      "Optimization:  17%|█▋        | 17/100 [00:16<01:23,  1.00s/it]"
     ]
    },
    {
     "name": "stdout",
     "output_type": "stream",
     "text": [
      "    17 |     8136 |    350 |  0.000000E+00 |  0.000000E+00 |  0.3841059603 |         nadir\n"
     ]
    },
    {
     "name": "stderr",
     "output_type": "stream",
     "text": [
      "Optimization:  18%|█▊        | 18/100 [00:17<01:21,  1.00it/s]"
     ]
    },
    {
     "name": "stdout",
     "output_type": "stream",
     "text": [
      "    18 |     8636 |    341 |  0.000000E+00 |  0.000000E+00 |  0.0158445831 |             f\n"
     ]
    },
    {
     "name": "stderr",
     "output_type": "stream",
     "text": [
      "Optimization:  19%|█▉        | 19/100 [00:18<01:21,  1.00s/it]"
     ]
    },
    {
     "name": "stdout",
     "output_type": "stream",
     "text": [
      "    19 |     9136 |    354 |  0.000000E+00 |  0.000000E+00 |  0.1366470384 |         nadir\n"
     ]
    },
    {
     "name": "stderr",
     "output_type": "stream",
     "text": [
      "Optimization:  20%|██        | 20/100 [00:19<01:20,  1.01s/it]"
     ]
    },
    {
     "name": "stdout",
     "output_type": "stream",
     "text": [
      "    20 |     9636 |    377 |  0.000000E+00 |  0.000000E+00 |  0.0140336777 |             f\n"
     ]
    },
    {
     "name": "stderr",
     "output_type": "stream",
     "text": [
      "Optimization:  21%|██        | 21/100 [00:20<01:19,  1.00s/it]"
     ]
    },
    {
     "name": "stdout",
     "output_type": "stream",
     "text": [
      "    21 |    10136 |    376 |  0.000000E+00 |  0.000000E+00 |  0.0146621915 |             f\n"
     ]
    },
    {
     "name": "stderr",
     "output_type": "stream",
     "text": [
      "Optimization:  22%|██▏       | 22/100 [00:21<01:18,  1.00s/it]"
     ]
    },
    {
     "name": "stdout",
     "output_type": "stream",
     "text": [
      "    22 |    10636 |    375 |  0.000000E+00 |  0.000000E+00 |  0.0140601709 |             f\n"
     ]
    },
    {
     "name": "stderr",
     "output_type": "stream",
     "text": [
      "Optimization:  23%|██▎       | 23/100 [00:22<01:17,  1.00s/it]"
     ]
    },
    {
     "name": "stdout",
     "output_type": "stream",
     "text": [
      "    23 |    11136 |    376 |  0.000000E+00 |  0.000000E+00 |  0.0102857734 |             f\n"
     ]
    },
    {
     "name": "stderr",
     "output_type": "stream",
     "text": [
      "Optimization:  24%|██▍       | 24/100 [00:23<01:16,  1.00s/it]"
     ]
    },
    {
     "name": "stdout",
     "output_type": "stream",
     "text": [
      "    24 |    11636 |    399 |  0.000000E+00 |  0.000000E+00 |  0.0134673244 |             f\n"
     ]
    },
    {
     "name": "stderr",
     "output_type": "stream",
     "text": [
      "Optimization:  25%|██▌       | 25/100 [00:24<01:15,  1.00s/it]"
     ]
    },
    {
     "name": "stdout",
     "output_type": "stream",
     "text": [
      "    25 |    12136 |    417 |  0.000000E+00 |  0.000000E+00 |  0.0112679839 |             f\n"
     ]
    },
    {
     "name": "stderr",
     "output_type": "stream",
     "text": [
      "Optimization:  26%|██▌       | 26/100 [00:25<01:13,  1.00it/s]"
     ]
    },
    {
     "name": "stdout",
     "output_type": "stream",
     "text": [
      "    26 |    12636 |    418 |  0.000000E+00 |  0.000000E+00 |  0.1582113495 |         nadir\n"
     ]
    },
    {
     "name": "stderr",
     "output_type": "stream",
     "text": [
      "Optimization:  27%|██▋       | 27/100 [00:26<01:13,  1.01s/it]"
     ]
    },
    {
     "name": "stdout",
     "output_type": "stream",
     "text": [
      "    27 |    13136 |    430 |  0.000000E+00 |  0.000000E+00 |  0.0128349130 |             f\n"
     ]
    },
    {
     "name": "stderr",
     "output_type": "stream",
     "text": [
      "Optimization:  28%|██▊       | 28/100 [00:27<01:12,  1.00s/it]"
     ]
    },
    {
     "name": "stdout",
     "output_type": "stream",
     "text": [
      "    28 |    13636 |    442 |  0.000000E+00 |  0.000000E+00 |  0.0138500068 |             f\n"
     ]
    },
    {
     "name": "stderr",
     "output_type": "stream",
     "text": [
      "Optimization:  29%|██▉       | 29/100 [00:28<01:10,  1.00it/s]"
     ]
    },
    {
     "name": "stdout",
     "output_type": "stream",
     "text": [
      "    29 |    14136 |    468 |  0.000000E+00 |  0.000000E+00 |  0.0098374932 |             f\n"
     ]
    },
    {
     "name": "stderr",
     "output_type": "stream",
     "text": [
      "Optimization:  30%|███       | 30/100 [00:29<01:09,  1.00it/s]"
     ]
    },
    {
     "name": "stdout",
     "output_type": "stream",
     "text": [
      "    30 |    14636 |    488 |  0.000000E+00 |  0.000000E+00 |  0.3480590772 |         nadir\n"
     ]
    },
    {
     "name": "stderr",
     "output_type": "stream",
     "text": [
      "Optimization:  31%|███       | 31/100 [00:30<01:08,  1.00it/s]"
     ]
    },
    {
     "name": "stdout",
     "output_type": "stream",
     "text": [
      "    31 |    15136 |    500 |  0.000000E+00 |  0.000000E+00 |  0.1925465839 |         nadir\n"
     ]
    },
    {
     "name": "stderr",
     "output_type": "stream",
     "text": [
      "Optimization:  32%|███▏      | 32/100 [00:31<01:07,  1.00it/s]"
     ]
    },
    {
     "name": "stdout",
     "output_type": "stream",
     "text": [
      "    32 |    15636 |    500 |  0.000000E+00 |  0.000000E+00 |  0.0142976705 |             f\n"
     ]
    },
    {
     "name": "stderr",
     "output_type": "stream",
     "text": [
      "Optimization:  33%|███▎      | 33/100 [00:32<01:06,  1.00it/s]"
     ]
    },
    {
     "name": "stdout",
     "output_type": "stream",
     "text": [
      "    33 |    16136 |    438 |  0.000000E+00 |  0.000000E+00 |  0.0112562101 |             f\n"
     ]
    },
    {
     "name": "stderr",
     "output_type": "stream",
     "text": [
      "Optimization:  34%|███▍      | 34/100 [00:33<01:05,  1.01it/s]"
     ]
    },
    {
     "name": "stdout",
     "output_type": "stream",
     "text": [
      "    34 |    16636 |    454 |  0.000000E+00 |  0.000000E+00 |  0.0083828753 |             f\n"
     ]
    },
    {
     "name": "stderr",
     "output_type": "stream",
     "text": [
      "Optimization:  35%|███▌      | 35/100 [00:34<01:04,  1.01it/s]"
     ]
    },
    {
     "name": "stdout",
     "output_type": "stream",
     "text": [
      "    35 |    17136 |    422 |  0.000000E+00 |  0.000000E+00 |  0.0095450049 |             f\n"
     ]
    },
    {
     "name": "stderr",
     "output_type": "stream",
     "text": [
      "Optimization:  36%|███▌      | 36/100 [00:35<01:03,  1.01it/s]"
     ]
    },
    {
     "name": "stdout",
     "output_type": "stream",
     "text": [
      "    36 |    17636 |    436 |  0.000000E+00 |  0.000000E+00 |  0.0097361184 |             f\n"
     ]
    },
    {
     "name": "stderr",
     "output_type": "stream",
     "text": [
      "Optimization:  37%|███▋      | 37/100 [00:36<01:02,  1.01it/s]"
     ]
    },
    {
     "name": "stdout",
     "output_type": "stream",
     "text": [
      "    37 |    18136 |    438 |  0.000000E+00 |  0.000000E+00 |  0.0050788479 |             f\n"
     ]
    },
    {
     "name": "stderr",
     "output_type": "stream",
     "text": [
      "Optimization:  38%|███▊      | 38/100 [00:37<01:02,  1.01s/it]"
     ]
    },
    {
     "name": "stdout",
     "output_type": "stream",
     "text": [
      "    38 |    18636 |    455 |  0.000000E+00 |  0.000000E+00 |  0.0062600923 |             f\n"
     ]
    },
    {
     "name": "stderr",
     "output_type": "stream",
     "text": [
      "Optimization:  39%|███▉      | 39/100 [00:38<01:01,  1.01s/it]"
     ]
    },
    {
     "name": "stdout",
     "output_type": "stream",
     "text": [
      "    39 |    19136 |    467 |  0.000000E+00 |  0.000000E+00 |  0.0074995747 |             f\n"
     ]
    },
    {
     "name": "stderr",
     "output_type": "stream",
     "text": [
      "Optimization:  40%|████      | 40/100 [00:39<01:01,  1.02s/it]"
     ]
    },
    {
     "name": "stdout",
     "output_type": "stream",
     "text": [
      "    40 |    19636 |    488 |  0.000000E+00 |  0.000000E+00 |  0.0092031865 |             f\n"
     ]
    },
    {
     "name": "stderr",
     "output_type": "stream",
     "text": [
      "Optimization:  41%|████      | 41/100 [00:40<01:01,  1.04s/it]"
     ]
    },
    {
     "name": "stdout",
     "output_type": "stream",
     "text": [
      "    41 |    20136 |    500 |  0.000000E+00 |  0.000000E+00 |  0.1033666335 |         nadir\n"
     ]
    },
    {
     "name": "stderr",
     "output_type": "stream",
     "text": [
      "Optimization:  42%|████▏     | 42/100 [00:41<01:00,  1.05s/it]"
     ]
    },
    {
     "name": "stdout",
     "output_type": "stream",
     "text": [
      "    42 |    20636 |    500 |  0.000000E+00 |  0.000000E+00 |  0.0077530035 |             f\n"
     ]
    },
    {
     "name": "stderr",
     "output_type": "stream",
     "text": [
      "Optimization:  43%|████▎     | 43/100 [00:42<00:58,  1.03s/it]"
     ]
    },
    {
     "name": "stdout",
     "output_type": "stream",
     "text": [
      "    43 |    21136 |    500 |  0.000000E+00 |  0.000000E+00 |  0.1776384535 |         nadir\n"
     ]
    },
    {
     "name": "stderr",
     "output_type": "stream",
     "text": [
      "Optimization:  44%|████▍     | 44/100 [00:43<00:57,  1.03s/it]"
     ]
    },
    {
     "name": "stdout",
     "output_type": "stream",
     "text": [
      "    44 |    21636 |    480 |  0.000000E+00 |  0.000000E+00 |  0.0084412379 |             f\n"
     ]
    },
    {
     "name": "stderr",
     "output_type": "stream",
     "text": [
      "Optimization:  45%|████▌     | 45/100 [00:44<00:57,  1.04s/it]"
     ]
    },
    {
     "name": "stdout",
     "output_type": "stream",
     "text": [
      "    45 |    22136 |    499 |  0.000000E+00 |  0.000000E+00 |  0.0058497044 |             f\n"
     ]
    },
    {
     "name": "stderr",
     "output_type": "stream",
     "text": [
      "Optimization:  46%|████▌     | 46/100 [00:45<00:56,  1.04s/it]"
     ]
    },
    {
     "name": "stdout",
     "output_type": "stream",
     "text": [
      "    46 |    22636 |    474 |  0.000000E+00 |  0.000000E+00 |  0.0065630596 |             f\n"
     ]
    },
    {
     "name": "stderr",
     "output_type": "stream",
     "text": [
      "Optimization:  47%|████▋     | 47/100 [00:46<00:55,  1.05s/it]"
     ]
    },
    {
     "name": "stdout",
     "output_type": "stream",
     "text": [
      "    47 |    23136 |    494 |  0.000000E+00 |  0.000000E+00 |  0.0063206519 |             f\n"
     ]
    },
    {
     "name": "stderr",
     "output_type": "stream",
     "text": [
      "Optimization:  48%|████▊     | 48/100 [00:47<00:53,  1.03s/it]"
     ]
    },
    {
     "name": "stdout",
     "output_type": "stream",
     "text": [
      "    48 |    23636 |    500 |  0.000000E+00 |  0.000000E+00 |  0.0079654122 |             f\n"
     ]
    },
    {
     "name": "stderr",
     "output_type": "stream",
     "text": [
      "Optimization:  49%|████▉     | 49/100 [00:48<00:52,  1.03s/it]"
     ]
    },
    {
     "name": "stdout",
     "output_type": "stream",
     "text": [
      "    49 |    24136 |    500 |  0.000000E+00 |  0.000000E+00 |  0.0082935711 |             f\n"
     ]
    },
    {
     "name": "stderr",
     "output_type": "stream",
     "text": [
      "Optimization:  50%|█████     | 50/100 [00:49<00:51,  1.02s/it]"
     ]
    },
    {
     "name": "stdout",
     "output_type": "stream",
     "text": [
      "    50 |    24636 |    500 |  0.000000E+00 |  0.000000E+00 |  0.0082500707 |             f\n"
     ]
    },
    {
     "name": "stderr",
     "output_type": "stream",
     "text": [
      "Optimization:  51%|█████     | 51/100 [00:50<00:50,  1.04s/it]"
     ]
    },
    {
     "name": "stdout",
     "output_type": "stream",
     "text": [
      "    51 |    25136 |    500 |  0.000000E+00 |  0.000000E+00 |  0.0063180972 |             f\n"
     ]
    },
    {
     "name": "stderr",
     "output_type": "stream",
     "text": [
      "Optimization:  52%|█████▏    | 52/100 [00:51<00:49,  1.04s/it]"
     ]
    },
    {
     "name": "stdout",
     "output_type": "stream",
     "text": [
      "    52 |    25636 |    500 |  0.000000E+00 |  0.000000E+00 |  0.0053154870 |             f\n"
     ]
    },
    {
     "name": "stderr",
     "output_type": "stream",
     "text": [
      "Optimization:  53%|█████▎    | 53/100 [00:53<00:48,  1.03s/it]"
     ]
    },
    {
     "name": "stdout",
     "output_type": "stream",
     "text": [
      "    53 |    26136 |    500 |  0.000000E+00 |  0.000000E+00 |  0.0070916219 |             f\n"
     ]
    },
    {
     "name": "stderr",
     "output_type": "stream",
     "text": [
      "Optimization:  54%|█████▍    | 54/100 [00:54<00:47,  1.02s/it]"
     ]
    },
    {
     "name": "stdout",
     "output_type": "stream",
     "text": [
      "    54 |    26636 |    500 |  0.000000E+00 |  0.000000E+00 |  0.7440164121 |         nadir\n"
     ]
    },
    {
     "name": "stderr",
     "output_type": "stream",
     "text": [
      "Optimization:  55%|█████▌    | 55/100 [00:54<00:45,  1.01s/it]"
     ]
    },
    {
     "name": "stdout",
     "output_type": "stream",
     "text": [
      "    55 |    27136 |    500 |  0.000000E+00 |  0.000000E+00 |  0.0075998213 |             f\n"
     ]
    },
    {
     "name": "stderr",
     "output_type": "stream",
     "text": [
      "Optimization:  56%|█████▌    | 56/100 [00:55<00:44,  1.00s/it]"
     ]
    },
    {
     "name": "stdout",
     "output_type": "stream",
     "text": [
      "    56 |    27636 |    500 |  0.000000E+00 |  0.000000E+00 |  0.0094744401 |             f\n"
     ]
    },
    {
     "name": "stderr",
     "output_type": "stream",
     "text": [
      "Optimization:  57%|█████▋    | 57/100 [00:56<00:42,  1.01it/s]"
     ]
    },
    {
     "name": "stdout",
     "output_type": "stream",
     "text": [
      "    57 |    28136 |    500 |  0.000000E+00 |  0.000000E+00 |  0.0057057293 |             f\n"
     ]
    },
    {
     "name": "stderr",
     "output_type": "stream",
     "text": [
      "Optimization:  58%|█████▊    | 58/100 [00:57<00:41,  1.01it/s]"
     ]
    },
    {
     "name": "stdout",
     "output_type": "stream",
     "text": [
      "    58 |    28636 |    500 |  0.000000E+00 |  0.000000E+00 |  0.0062848692 |             f\n"
     ]
    },
    {
     "name": "stderr",
     "output_type": "stream",
     "text": [
      "Optimization:  59%|█████▉    | 59/100 [00:58<00:40,  1.02it/s]"
     ]
    },
    {
     "name": "stdout",
     "output_type": "stream",
     "text": [
      "    59 |    29136 |    500 |  0.000000E+00 |  0.000000E+00 |  0.0098135542 |             f\n"
     ]
    },
    {
     "name": "stderr",
     "output_type": "stream",
     "text": [
      "Optimization:  60%|██████    | 60/100 [00:59<00:39,  1.02it/s]"
     ]
    },
    {
     "name": "stdout",
     "output_type": "stream",
     "text": [
      "    60 |    29636 |    500 |  0.000000E+00 |  0.000000E+00 |  0.0055484707 |             f\n"
     ]
    },
    {
     "name": "stderr",
     "output_type": "stream",
     "text": [
      "Optimization:  61%|██████    | 61/100 [01:00<00:38,  1.03it/s]"
     ]
    },
    {
     "name": "stdout",
     "output_type": "stream",
     "text": [
      "    61 |    30136 |    500 |  0.000000E+00 |  0.000000E+00 |  0.0103738932 |             f\n"
     ]
    },
    {
     "name": "stderr",
     "output_type": "stream",
     "text": [
      "Optimization:  62%|██████▏   | 62/100 [01:01<00:37,  1.03it/s]"
     ]
    },
    {
     "name": "stdout",
     "output_type": "stream",
     "text": [
      "    62 |    30636 |    500 |  0.000000E+00 |  0.000000E+00 |  0.0080766548 |             f\n"
     ]
    },
    {
     "name": "stderr",
     "output_type": "stream",
     "text": [
      "Optimization:  63%|██████▎   | 63/100 [01:02<00:36,  1.02it/s]"
     ]
    },
    {
     "name": "stdout",
     "output_type": "stream",
     "text": [
      "    63 |    31136 |    500 |  0.000000E+00 |  0.000000E+00 |  0.0083032021 |             f\n"
     ]
    },
    {
     "name": "stderr",
     "output_type": "stream",
     "text": [
      "Optimization:  64%|██████▍   | 64/100 [01:03<00:35,  1.02it/s]"
     ]
    },
    {
     "name": "stdout",
     "output_type": "stream",
     "text": [
      "    64 |    31636 |    500 |  0.000000E+00 |  0.000000E+00 |  0.0081805630 |             f\n"
     ]
    },
    {
     "name": "stderr",
     "output_type": "stream",
     "text": [
      "Optimization:  65%|██████▌   | 65/100 [01:04<00:34,  1.02it/s]"
     ]
    },
    {
     "name": "stdout",
     "output_type": "stream",
     "text": [
      "    65 |    32136 |    500 |  0.000000E+00 |  0.000000E+00 |  0.0075399481 |             f\n"
     ]
    },
    {
     "name": "stderr",
     "output_type": "stream",
     "text": [
      "Optimization:  66%|██████▌   | 66/100 [01:05<00:33,  1.02it/s]"
     ]
    },
    {
     "name": "stdout",
     "output_type": "stream",
     "text": [
      "    66 |    32636 |    500 |  0.000000E+00 |  0.000000E+00 |  0.0090394474 |             f\n"
     ]
    },
    {
     "name": "stderr",
     "output_type": "stream",
     "text": [
      "Optimization:  67%|██████▋   | 67/100 [01:06<00:32,  1.02it/s]"
     ]
    },
    {
     "name": "stdout",
     "output_type": "stream",
     "text": [
      "    67 |    33136 |    500 |  0.000000E+00 |  0.000000E+00 |  0.0124588437 |             f\n"
     ]
    },
    {
     "name": "stderr",
     "output_type": "stream",
     "text": [
      "Optimization:  68%|██████▊   | 68/100 [01:07<00:31,  1.01it/s]"
     ]
    },
    {
     "name": "stdout",
     "output_type": "stream",
     "text": [
      "    68 |    33636 |    500 |  0.000000E+00 |  0.000000E+00 |  0.0088795257 |             f\n"
     ]
    },
    {
     "name": "stderr",
     "output_type": "stream",
     "text": [
      "Optimization:  69%|██████▉   | 69/100 [01:08<00:30,  1.01it/s]"
     ]
    },
    {
     "name": "stdout",
     "output_type": "stream",
     "text": [
      "    69 |    34136 |    500 |  0.000000E+00 |  0.000000E+00 |  0.0079089387 |             f\n"
     ]
    },
    {
     "name": "stderr",
     "output_type": "stream",
     "text": [
      "Optimization:  70%|███████   | 70/100 [01:09<00:29,  1.02it/s]"
     ]
    },
    {
     "name": "stdout",
     "output_type": "stream",
     "text": [
      "    70 |    34636 |    495 |  0.000000E+00 |  0.000000E+00 |  0.0106446005 |             f\n"
     ]
    },
    {
     "name": "stderr",
     "output_type": "stream",
     "text": [
      "Optimization:  71%|███████   | 71/100 [01:10<00:28,  1.02it/s]"
     ]
    },
    {
     "name": "stdout",
     "output_type": "stream",
     "text": [
      "    71 |    35136 |    500 |  0.000000E+00 |  0.000000E+00 |  0.0095628865 |             f\n"
     ]
    },
    {
     "name": "stderr",
     "output_type": "stream",
     "text": [
      "Optimization:  72%|███████▏  | 72/100 [01:11<00:27,  1.03it/s]"
     ]
    },
    {
     "name": "stdout",
     "output_type": "stream",
     "text": [
      "    72 |    35636 |    500 |  0.000000E+00 |  0.000000E+00 |  0.0877025739 |         nadir\n"
     ]
    },
    {
     "name": "stderr",
     "output_type": "stream",
     "text": [
      "Optimization:  73%|███████▎  | 73/100 [01:12<00:26,  1.03it/s]"
     ]
    },
    {
     "name": "stdout",
     "output_type": "stream",
     "text": [
      "    73 |    36136 |    500 |  0.000000E+00 |  0.000000E+00 |  0.0071386772 |             f\n"
     ]
    },
    {
     "name": "stderr",
     "output_type": "stream",
     "text": [
      "Optimization:  74%|███████▍  | 74/100 [01:13<00:25,  1.03it/s]"
     ]
    },
    {
     "name": "stdout",
     "output_type": "stream",
     "text": [
      "    74 |    36636 |    500 |  0.000000E+00 |  0.000000E+00 |  0.0067313046 |             f\n"
     ]
    },
    {
     "name": "stderr",
     "output_type": "stream",
     "text": [
      "Optimization:  75%|███████▌  | 75/100 [01:14<00:24,  1.03it/s]"
     ]
    },
    {
     "name": "stdout",
     "output_type": "stream",
     "text": [
      "    75 |    37136 |    500 |  0.000000E+00 |  0.000000E+00 |  0.0085692919 |             f\n"
     ]
    },
    {
     "name": "stderr",
     "output_type": "stream",
     "text": [
      "Optimization:  76%|███████▌  | 76/100 [01:15<00:23,  1.03it/s]"
     ]
    },
    {
     "name": "stdout",
     "output_type": "stream",
     "text": [
      "    76 |    37636 |    500 |  0.000000E+00 |  0.000000E+00 |  0.0104472283 |             f\n"
     ]
    },
    {
     "name": "stderr",
     "output_type": "stream",
     "text": [
      "Optimization:  77%|███████▋  | 77/100 [01:16<00:22,  1.02it/s]"
     ]
    },
    {
     "name": "stdout",
     "output_type": "stream",
     "text": [
      "    77 |    38136 |    500 |  0.000000E+00 |  0.000000E+00 |  0.0074292903 |             f\n"
     ]
    },
    {
     "name": "stderr",
     "output_type": "stream",
     "text": [
      "Optimization:  78%|███████▊  | 78/100 [01:17<00:21,  1.03it/s]"
     ]
    },
    {
     "name": "stdout",
     "output_type": "stream",
     "text": [
      "    78 |    38636 |    500 |  0.000000E+00 |  0.000000E+00 |  0.0073276891 |             f\n"
     ]
    },
    {
     "name": "stderr",
     "output_type": "stream",
     "text": [
      "Optimization:  79%|███████▉  | 79/100 [01:18<00:20,  1.02it/s]"
     ]
    },
    {
     "name": "stdout",
     "output_type": "stream",
     "text": [
      "    79 |    39136 |    500 |  0.000000E+00 |  0.000000E+00 |  0.0073546291 |             f\n"
     ]
    },
    {
     "name": "stderr",
     "output_type": "stream",
     "text": [
      "Optimization:  80%|████████  | 80/100 [01:19<00:19,  1.03it/s]"
     ]
    },
    {
     "name": "stdout",
     "output_type": "stream",
     "text": [
      "    80 |    39636 |    500 |  0.000000E+00 |  0.000000E+00 |  0.0085187557 |             f\n"
     ]
    },
    {
     "name": "stderr",
     "output_type": "stream",
     "text": [
      "Optimization:  81%|████████  | 81/100 [01:20<00:18,  1.01it/s]"
     ]
    },
    {
     "name": "stdout",
     "output_type": "stream",
     "text": [
      "    81 |    40136 |    500 |  0.000000E+00 |  0.000000E+00 |  0.0109065413 |             f\n"
     ]
    },
    {
     "name": "stderr",
     "output_type": "stream",
     "text": [
      "Optimization:  82%|████████▏ | 82/100 [01:21<00:17,  1.01it/s]"
     ]
    },
    {
     "name": "stdout",
     "output_type": "stream",
     "text": [
      "    82 |    40636 |    500 |  0.000000E+00 |  0.000000E+00 |  0.0080490016 |             f\n"
     ]
    },
    {
     "name": "stderr",
     "output_type": "stream",
     "text": [
      "Optimization:  83%|████████▎ | 83/100 [01:22<00:16,  1.02it/s]"
     ]
    },
    {
     "name": "stdout",
     "output_type": "stream",
     "text": [
      "    83 |    41136 |    500 |  0.000000E+00 |  0.000000E+00 |  0.0082826201 |             f\n"
     ]
    },
    {
     "name": "stderr",
     "output_type": "stream",
     "text": [
      "Optimization:  84%|████████▍ | 84/100 [01:23<00:15,  1.03it/s]"
     ]
    },
    {
     "name": "stdout",
     "output_type": "stream",
     "text": [
      "    84 |    41636 |    500 |  0.000000E+00 |  0.000000E+00 |  0.0093766086 |             f\n"
     ]
    },
    {
     "name": "stderr",
     "output_type": "stream",
     "text": [
      "Optimization:  85%|████████▌ | 85/100 [01:24<00:14,  1.03it/s]"
     ]
    },
    {
     "name": "stdout",
     "output_type": "stream",
     "text": [
      "    85 |    42136 |    500 |  0.000000E+00 |  0.000000E+00 |  0.0095903283 |             f\n"
     ]
    },
    {
     "name": "stderr",
     "output_type": "stream",
     "text": [
      "Optimization:  86%|████████▌ | 86/100 [01:25<00:13,  1.03it/s]"
     ]
    },
    {
     "name": "stdout",
     "output_type": "stream",
     "text": [
      "    86 |    42636 |    500 |  0.000000E+00 |  0.000000E+00 |  0.0091791983 |             f\n"
     ]
    },
    {
     "name": "stderr",
     "output_type": "stream",
     "text": [
      "Optimization:  87%|████████▋ | 87/100 [01:26<00:12,  1.03it/s]"
     ]
    },
    {
     "name": "stdout",
     "output_type": "stream",
     "text": [
      "    87 |    43136 |    500 |  0.000000E+00 |  0.000000E+00 |  0.0075874500 |             f\n"
     ]
    },
    {
     "name": "stderr",
     "output_type": "stream",
     "text": [
      "Optimization:  88%|████████▊ | 88/100 [01:27<00:11,  1.03it/s]"
     ]
    },
    {
     "name": "stdout",
     "output_type": "stream",
     "text": [
      "    88 |    43636 |    500 |  0.000000E+00 |  0.000000E+00 |  0.0101034565 |             f\n"
     ]
    },
    {
     "name": "stderr",
     "output_type": "stream",
     "text": [
      "Optimization:  89%|████████▉ | 89/100 [01:28<00:10,  1.04it/s]"
     ]
    },
    {
     "name": "stdout",
     "output_type": "stream",
     "text": [
      "    89 |    44136 |    500 |  0.000000E+00 |  0.000000E+00 |  0.0119859184 |             f\n"
     ]
    },
    {
     "name": "stderr",
     "output_type": "stream",
     "text": [
      "Optimization:  90%|█████████ | 90/100 [01:29<00:09,  1.03it/s]"
     ]
    },
    {
     "name": "stdout",
     "output_type": "stream",
     "text": [
      "    90 |    44636 |    500 |  0.000000E+00 |  0.000000E+00 |  0.0077592432 |             f\n"
     ]
    },
    {
     "name": "stderr",
     "output_type": "stream",
     "text": [
      "Optimization:  91%|█████████ | 91/100 [01:30<00:08,  1.03it/s]"
     ]
    },
    {
     "name": "stdout",
     "output_type": "stream",
     "text": [
      "    91 |    45136 |    500 |  0.000000E+00 |  0.000000E+00 |  0.0092548103 |             f\n"
     ]
    },
    {
     "name": "stderr",
     "output_type": "stream",
     "text": [
      "Optimization:  92%|█████████▏| 92/100 [01:31<00:07,  1.03it/s]"
     ]
    },
    {
     "name": "stdout",
     "output_type": "stream",
     "text": [
      "    92 |    45636 |    500 |  0.000000E+00 |  0.000000E+00 |  0.0102160336 |             f\n"
     ]
    },
    {
     "name": "stderr",
     "output_type": "stream",
     "text": [
      "Optimization:  93%|█████████▎| 93/100 [01:32<00:06,  1.03it/s]"
     ]
    },
    {
     "name": "stdout",
     "output_type": "stream",
     "text": [
      "    93 |    46136 |    500 |  0.000000E+00 |  0.000000E+00 |  0.0904365904 |         nadir\n"
     ]
    },
    {
     "name": "stderr",
     "output_type": "stream",
     "text": [
      "Optimization:  94%|█████████▍| 94/100 [01:33<00:05,  1.02it/s]"
     ]
    },
    {
     "name": "stdout",
     "output_type": "stream",
     "text": [
      "    94 |    46636 |    500 |  0.000000E+00 |  0.000000E+00 |  0.0097755486 |             f\n"
     ]
    },
    {
     "name": "stderr",
     "output_type": "stream",
     "text": [
      "Optimization:  95%|█████████▌| 95/100 [01:34<00:04,  1.02it/s]"
     ]
    },
    {
     "name": "stdout",
     "output_type": "stream",
     "text": [
      "    95 |    47136 |    500 |  0.000000E+00 |  0.000000E+00 |  0.0141534964 |             f\n"
     ]
    },
    {
     "name": "stderr",
     "output_type": "stream",
     "text": [
      "Optimization:  96%|█████████▌| 96/100 [01:35<00:03,  1.02it/s]"
     ]
    },
    {
     "name": "stdout",
     "output_type": "stream",
     "text": [
      "    96 |    47636 |    500 |  0.000000E+00 |  0.000000E+00 |  0.0115898441 |             f\n"
     ]
    },
    {
     "name": "stderr",
     "output_type": "stream",
     "text": [
      "Optimization:  97%|█████████▋| 97/100 [01:35<00:02,  1.03it/s]"
     ]
    },
    {
     "name": "stdout",
     "output_type": "stream",
     "text": [
      "    97 |    48136 |    451 |  0.000000E+00 |  0.000000E+00 |  0.0108939406 |             f\n"
     ]
    },
    {
     "name": "stderr",
     "output_type": "stream",
     "text": [
      "Optimization:  98%|█████████▊| 98/100 [01:36<00:01,  1.03it/s]"
     ]
    },
    {
     "name": "stdout",
     "output_type": "stream",
     "text": [
      "    98 |    48636 |    479 |  0.000000E+00 |  0.000000E+00 |  0.0084586675 |             f\n"
     ]
    },
    {
     "name": "stderr",
     "output_type": "stream",
     "text": [
      "Optimization:  99%|█████████▉| 99/100 [01:37<00:00,  1.03it/s]"
     ]
    },
    {
     "name": "stdout",
     "output_type": "stream",
     "text": [
      "    99 |    49136 |    500 |  0.000000E+00 |  0.000000E+00 |  0.0091327997 |             f\n"
     ]
    },
    {
     "name": "stderr",
     "output_type": "stream",
     "text": [
      "Optimization: 100%|██████████| 100/100 [01:38<00:00,  1.01it/s]\n",
      "\u001b[32m2025-02-20 13:49:35.717\u001b[0m | \u001b[1mINFO    \u001b[0m | \u001b[36msplito.simpd.simpd\u001b[0m:\u001b[36mrun_SIMPD\u001b[0m:\u001b[36m173\u001b[0m - \u001b[1mFound 500 solutions\u001b[0m\n",
      "\u001b[32m2025-02-20 13:49:35.718\u001b[0m | \u001b[1mINFO    \u001b[0m | \u001b[36msplito.simpd.simpd\u001b[0m:\u001b[36mrun_SIMPD\u001b[0m:\u001b[36m176\u001b[0m - \u001b[1mScoring the solutions.\u001b[0m\n",
      "\u001b[32m2025-02-20 13:49:35.721\u001b[0m | \u001b[1mINFO    \u001b[0m | \u001b[36msplito.simpd.simpd\u001b[0m:\u001b[36mrun_SIMPD\u001b[0m:\u001b[36m195\u001b[0m - \u001b[1mObjective values for the best solution: [0.52226259 0.4        0.63       0.6977561  0.01768299 0.\n",
      " 0.        ]\u001b[0m\n"
     ]
    },
    {
     "name": "stdout",
     "output_type": "stream",
     "text": [
      "   100 |    49636 |    500 |  0.000000E+00 |  0.000000E+00 |  0.0072830776 |             f\n"
     ]
    }
   ],
   "source": [
    "simpd_splitter = SIMPDSplitter(**args)\n",
    "result = simpd_splitter.fit(data['mol'].values, data['is_active'].values*1)\n"
   ]
  },
  {
   "cell_type": "markdown",
   "metadata": {},
   "source": [
    "The result object contains all results, ordered by their pareto scores. Each result is a train_idx, and test_idx. "
   ]
  },
  {
   "cell_type": "code",
   "execution_count": 13,
   "metadata": {},
   "outputs": [
    {
     "data": {
      "image/png": "[encoded data removed]",
      "text/plain": [
       "<Figure size 640x480 with 1 Axes>"
      ]
     },
     "metadata": {},
     "output_type": "display_data"
    }
   ],
   "source": [
    "plt.scatter(np.arange(result.pareto_scores.shape[0]), result.pareto_scores, ls='-', s=5)\n",
    "plt.xlabel('solution index')\n",
    "plt.ylabel('pareto score')\n",
    "plt.xlim(-1, 50)\n",
    "plt.grid()"
   ]
  },
  {
   "cell_type": "markdown",
   "metadata": {},
   "source": [
    "Ideally I'd like multiple solutions to get statistics but that is for another day. "
   ]
  },
  {
   "cell_type": "code",
   "execution_count": 15,
   "metadata": {},
   "outputs": [],
   "source": [
    "np.save('../admet/data/train_inc_censored_idx.npy', result.train_indices[0])\n",
    "np.save('../admet/data/test_inc_censored_idx.npy', result.test_indices[0])"
   ]
  },
  {
   "cell_type": "markdown",
   "metadata": {},
   "source": []
  }
 ],
 "metadata": {
  "kernelspec": {
   "display_name": "polaris",
   "language": "python",
   "name": "python3"
  },
  "language_info": {
   "codemirror_mode": {
    "name": "ipython",
    "version": 3
   },
   "file_extension": ".py",
   "mimetype": "text/x-python",
   "name": "python",
   "nbconvert_exporter": "python",
   "pygments_lexer": "ipython3",
   "version": "3.12.8"
  }
 },
 "nbformat": 4,
 "nbformat_minor": 2
}
